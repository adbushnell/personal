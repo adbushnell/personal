{
 "cells": [
  {
   "cell_type": "code",
   "execution_count": 1,
   "id": "410e4643",
   "metadata": {},
   "outputs": [
    {
     "name": "stdout",
     "output_type": "stream",
     "text": [
      "Collecting boto3\n",
      "  Downloading boto3-1.24.2-py3-none-any.whl (132 kB)\n",
      "     ------------------------------------ 132.5/132.5 kB 390.6 kB/s eta 0:00:00\n",
      "Collecting s3transfer<0.7.0,>=0.6.0\n",
      "  Downloading s3transfer-0.6.0-py3-none-any.whl (79 kB)\n",
      "     -------------------------------------- 79.6/79.6 kB 113.7 kB/s eta 0:00:00\n",
      "Collecting jmespath<2.0.0,>=0.7.1\n",
      "  Downloading jmespath-1.0.0-py3-none-any.whl (23 kB)\n",
      "Collecting botocore<1.28.0,>=1.27.2\n",
      "  Downloading botocore-1.27.2-py3-none-any.whl (8.8 MB)\n",
      "     ---------------------------------------- 8.8/8.8 MB 1.2 MB/s eta 0:00:00\n",
      "Requirement already satisfied: python-dateutil<3.0.0,>=2.1 in c:\\users\\dell5520\\pycharmprojects\\personal\\infrastructure\\venv\\lib\\site-packages (from botocore<1.28.0,>=1.27.2->boto3) (2.8.2)\n",
      "Collecting urllib3<1.27,>=1.25.4\n",
      "  Downloading urllib3-1.26.9-py2.py3-none-any.whl (138 kB)\n",
      "     -------------------------------------- 139.0/139.0 kB 1.7 MB/s eta 0:00:00\n",
      "Requirement already satisfied: six>=1.5 in c:\\users\\dell5520\\pycharmprojects\\personal\\infrastructure\\venv\\lib\\site-packages (from python-dateutil<3.0.0,>=2.1->botocore<1.28.0,>=1.27.2->boto3) (1.16.0)\n",
      "Installing collected packages: urllib3, jmespath, botocore, s3transfer, boto3\n",
      "Successfully installed boto3-1.24.2 botocore-1.27.2 jmespath-1.0.0 s3transfer-0.6.0 urllib3-1.26.9\n"
     ]
    }
   ],
   "source": [
    "!pip install boto3"
   ]
  },
  {
   "cell_type": "code",
   "execution_count": null,
   "id": "d3a7156c",
   "metadata": {},
   "outputs": [],
   "source": [
    "# need to store aws secret and access in credentials.py - not very safe"
   ]
  },
  {
   "cell_type": "code",
   "execution_count": 2,
   "id": "16327d53",
   "metadata": {},
   "outputs": [],
   "source": [
    "import boto3 as b3\n",
    "import os\n",
    "import pprint\n",
    "\n",
    "# from credentials import aws\n",
    "# access_key = aws['access']\n",
    "# secret_key = aws['secret']"
   ]
  },
  {
   "cell_type": "code",
   "execution_count": null,
   "id": "585261ec",
   "metadata": {},
   "outputs": [],
   "source": [
    "# rekognition\n",
    "\n",
    "rekog = b3.client('rekognition', region_name='eu-west-2',aws_access_key_id=access_key, aws_secret_access_key=secret_key)\n",
    "bucket = 'alexbush-kubrick'\n",
    "key = 'photo/face.jpg'\n",
    "\n",
    "response = rekog.detect_faces(\n",
    "    Image={\n",
    "        'S3Object':{'Bucket':bucket, 'Name':key}\n",
    "    },\n",
    "    Attributes=['ALL']\n",
    ")\n",
    "\n",
    "pprint.pprint(response)\n",
    "\n",
    "# this will print the emotion it thinks the photo is displaying"
   ]
  }
 ],
 "metadata": {
  "kernelspec": {
   "display_name": "Python 3 (ipykernel)",
   "language": "python",
   "name": "python3"
  },
  "language_info": {
   "codemirror_mode": {
    "name": "ipython",
    "version": 3
   },
   "file_extension": ".py",
   "mimetype": "text/x-python",
   "name": "python",
   "nbconvert_exporter": "python",
   "pygments_lexer": "ipython3",
   "version": "3.9.10"
  }
 },
 "nbformat": 4,
 "nbformat_minor": 5
}
