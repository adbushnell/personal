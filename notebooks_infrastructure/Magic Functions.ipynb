{
 "cells": [
  {
   "cell_type": "code",
   "execution_count": 1,
   "id": "7089d193",
   "metadata": {},
   "outputs": [
    {
     "name": "stdout",
     "output_type": "stream",
     "text": [
      " Volume in drive C has no label.\n",
      " Volume Serial Number is 4082-6D51\n",
      "\n",
      " Directory of C:\\Users\\Dell5520\\PycharmProjects\\personal\\infrastructure\\notebooks\n",
      "\n",
      "05/06/2022  17:53    <DIR>          .\n",
      "05/06/2022  17:53    <DIR>          ..\n",
      "05/06/2022  17:52    <DIR>          .ipynb_checkpoints\n",
      "05/06/2022  17:53             3,466 AWS.ipynb\n",
      "05/06/2022  17:52                72 Magic Functions.ipynb\n",
      "05/06/2022  17:45    <DIR>          photo\n",
      "               2 File(s)          3,538 bytes\n",
      "               4 Dir(s)  882,831,458,304 bytes free\n"
     ]
    }
   ],
   "source": [
    "%ls"
   ]
  },
  {
   "cell_type": "code",
   "execution_count": 2,
   "id": "94e792d9",
   "metadata": {},
   "outputs": [],
   "source": [
    "%mkdir example_make_directory"
   ]
  },
  {
   "cell_type": "code",
   "execution_count": 3,
   "id": "1b7ab22a",
   "metadata": {},
   "outputs": [
    {
     "name": "stdout",
     "output_type": "stream",
     "text": [
      "CPU times: total: 0 ns\n",
      "Wall time: 3 s\n"
     ]
    }
   ],
   "source": [
    "%%time\n",
    "import time\n",
    "time.sleep(3)"
   ]
  },
  {
   "cell_type": "code",
   "execution_count": null,
   "id": "8613d557",
   "metadata": {},
   "outputs": [],
   "source": []
  }
 ],
 "metadata": {
  "kernelspec": {
   "display_name": "Python 3 (ipykernel)",
   "language": "python",
   "name": "python3"
  },
  "language_info": {
   "codemirror_mode": {
    "name": "ipython",
    "version": 3
   },
   "file_extension": ".py",
   "mimetype": "text/x-python",
   "name": "python",
   "nbconvert_exporter": "python",
   "pygments_lexer": "ipython3",
   "version": "3.9.10"
  }
 },
 "nbformat": 4,
 "nbformat_minor": 5
}
