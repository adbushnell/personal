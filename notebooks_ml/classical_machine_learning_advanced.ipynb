{
 "cells": [
  {
   "cell_type": "markdown",
   "id": "f387334c",
   "metadata": {},
   "source": [
    "# Table of Contents\n",
    "\n",
    "* [kNN](#chapter1)\n",
    "    * [Model Tuning](#section_1_1)\n",
    "    * [Decision Boundary Plot](#section_1_2)\n",
    "    * [Decision Boundary k=10](#section_1_3)\n",
    "    * [ROC Curve](#section_1_4)\n",
    "    \n",
    "* [Decision Trees](#chapter2)\n",
    "    * [Model comparison: Housing Data](#section_2_1)\n",
    "    \n",
    "* [Random Forest](#chapter3)\n",
    "    * [Cross Validation](#section_3_1)\n",
    "    \n",
    "* [Gradient Boosting](#chapter4)\n",
    "    * [Tuning Learning Rate](#section_4_1)\n",
    "    \n",
    "* [Comparison of Methods I (California Housing Data)](#chapter5)\n",
    "\n",
    "* [Comparison of Methods II (Telco Data)](#chapter6)"
   ]
  },
  {
   "cell_type": "code",
   "execution_count": 2,
   "id": "82666085",
   "metadata": {},
   "outputs": [],
   "source": [
    "import os\n",
    "import matplotlib.pyplot as plt\n",
    "import numpy as np\n",
    "import pandas as pd\n",
    "from tqdm import tqdm\n",
    "import itertools as itt"
   ]
  },
  {
   "cell_type": "code",
   "execution_count": 3,
   "id": "9f20e092",
   "metadata": {},
   "outputs": [],
   "source": [
    "data_path = r'data/classical_machine_learning'"
   ]
  },
  {
   "cell_type": "code",
   "execution_count": null,
   "id": "390496fe",
   "metadata": {},
   "outputs": [],
   "source": []
  },
  {
   "cell_type": "markdown",
   "id": "24fcb0ac",
   "metadata": {},
   "source": [
    "# 1. k-Nearest Neighbours <a class=\"anchor\" id=\"chapter1\"></a>"
   ]
  },
  {
   "cell_type": "code",
   "execution_count": 3,
   "id": "0e59ec24",
   "metadata": {},
   "outputs": [],
   "source": [
    "from sklearn.metrics import accuracy_score, roc_curve, roc_auc_score\n",
    "from sklearn.neighbors import KNeighborsClassifier\n",
    "from sklearn.preprocessing import StandardScaler"
   ]
  },
  {
   "cell_type": "code",
   "execution_count": 4,
   "id": "7dfeb089",
   "metadata": {},
   "outputs": [],
   "source": [
    "# data\n",
    "\n",
    "file = 'gender_cleaned_test_train.xlsx'\n",
    "file_path = os.path.join(data_path, file)\n",
    "\n",
    "df_train = pd.read_excel(file_path, 'train')\n",
    "df_test = pd.read_excel(file_path, 'test')\n",
    "\n",
    "X_train = df_train[['Height', 'Weight']]\n",
    "y_train = df_train['IsHealthy']\n",
    "\n",
    "X_test = df_test[['Height', 'Weight']]\n",
    "y_test = df_test['IsHealthy']"
   ]
  },
  {
   "cell_type": "code",
   "execution_count": 5,
   "id": "f78c29b1",
   "metadata": {},
   "outputs": [
    {
     "name": "stdout",
     "output_type": "stream",
     "text": [
      "0.985014985014985\n"
     ]
    }
   ],
   "source": [
    "# model\n",
    "\n",
    "scaler = StandardScaler()\n",
    "X_train_norm = scaler.fit_transform(X_train)\n",
    "X_test_norm = scaler.transform(X_test)\n",
    "\n",
    "model = KNeighborsClassifier()\n",
    "model.fit(X_train_norm, y_train)\n",
    "\n",
    "y_hat_test = model.predict(X_test_norm)\n",
    "y_hatp_test = model.predict_proba(X_test_norm)[:,1]\n",
    "\n",
    "print(accuracy_score(y_test, y_hat_test))"
   ]
  },
  {
   "cell_type": "code",
   "execution_count": 6,
   "id": "f7cf50cb",
   "metadata": {},
   "outputs": [
    {
     "name": "stdout",
     "output_type": "stream",
     "text": [
      "0.985014985014985\n"
     ]
    }
   ],
   "source": [
    "# other approach\n",
    "\n",
    "from sklearn.pipeline import make_pipeline\n",
    "\n",
    "model = make_pipeline(StandardScaler(), KNeighborsClassifier())\n",
    "model.fit(X_train, y_train)\n",
    "\n",
    "y_hat_test = model.predict(X_test)\n",
    "y_hatp_test = model.predict_proba(X_test)[:,1]\n",
    "\n",
    "print(accuracy_score(y_test, y_hat_test))"
   ]
  },
  {
   "cell_type": "markdown",
   "id": "aedc9566",
   "metadata": {},
   "source": [
    "## Simple model tuning <a class=\"anchor\" id=\"section_1_1\"></a>"
   ]
  },
  {
   "cell_type": "code",
   "execution_count": 7,
   "id": "8cabfec1",
   "metadata": {},
   "outputs": [
    {
     "name": "stderr",
     "output_type": "stream",
     "text": [
      "100%|██████████████████████████████████████████████████████████████████████████| 49/49 [00:01<00:00, 26.29it/s]\n"
     ]
    }
   ],
   "source": [
    "results = {}\n",
    "\n",
    "for k in tqdm(range(1,50)):\n",
    "    \n",
    "    model = make_pipeline(StandardScaler(), KNeighborsClassifier(n_neighbors=k))\n",
    "    model.fit(X_train, y_train)\n",
    "\n",
    "    y_hat_test = model.predict(X_test)\n",
    "    acc = accuracy_score(y_test, y_hat_test)\n",
    "\n",
    "    results[k] = acc"
   ]
  },
  {
   "cell_type": "code",
   "execution_count": 8,
   "id": "e8bf47a2",
   "metadata": {},
   "outputs": [
    {
     "data": {
      "text/plain": [
       "Text(0.5, 1.0, 'Test set accuracy vs. K')"
      ]
     },
     "execution_count": 8,
     "metadata": {},
     "output_type": "execute_result"
    },
    {
     "data": {
      "image/png": "[encoded data removed]",
      "text/plain": [
       "<Figure size 432x288 with 1 Axes>"
      ]
     },
     "metadata": {
      "needs_background": "light"
     },
     "output_type": "display_data"
    }
   ],
   "source": [
    "fig, ax = plt.subplots()\n",
    "ax.plot(list(results.keys()), list(results.values()), marker='o')\n",
    "ax.grid()\n",
    "ax.set_xlabel('K')\n",
    "ax.set_ylabel('Test Accuracy')\n",
    "plt.title('Test set accuracy vs. K')"
   ]
  },
  {
   "cell_type": "markdown",
   "id": "72ccb602",
   "metadata": {},
   "source": [
    "## Decision Boundary Plot<a class=\"anchor\" id=\"section_1_2\"></a>"
   ]
  },
  {
   "cell_type": "code",
   "execution_count": 20,
   "id": "b2cddffd",
   "metadata": {},
   "outputs": [
    {
     "name": "stderr",
     "output_type": "stream",
     "text": [
      "C:\\Users\\Dell5520\\PycharmProjects\\personal\\machine_learning\\venv\\lib\\site-packages\\sklearn\\base.py:450: UserWarning: X does not have valid feature names, but KNeighborsClassifier was fitted with feature names\n",
      "  warnings.warn(\n"
     ]
    },
    {
     "data": {
      "text/plain": [
       "(-3.3894830736823476, 2.6105169263176524)"
      ]
     },
     "execution_count": 20,
     "metadata": {},
     "output_type": "execute_result"
    },
    {
     "data": {
      "image/png": "[encoded data removed]",
      "text/plain": [
       "<Figure size 432x288 with 1 Axes>"
      ]
     },
     "metadata": {
      "needs_background": "light"
     },
     "output_type": "display_data"
    }
   ],
   "source": [
    "h = 1 #mesh step size\n",
    "\n",
    "x_min, x_max = X_test_norm[:,0].min() - .5, X_test_norm[:,0].max() + .5\n",
    "y_min, y_max = X_test_norm[:,1].min() - .5, X_test_norm[:,1].max() + .5\n",
    "#plot limits\n",
    "\n",
    "xx, yy = np.meshgrid(\n",
    "    np.arange(x_min, x_max, h), \n",
    "    np.arange(y_min, y_max, h)\n",
    ")\n",
    "Z = model.predict(np.c_[xx.ravel(), yy.ravel()])\n",
    "\n",
    "Z = Z.reshape(xx.shape)\n",
    "\n",
    "\n",
    "fig, ax = plt.subplots()\n",
    "#plt.set_cmap('plasma')\n",
    "ax.pcolormesh(xx, yy, Z)\n",
    "ax.scatter(\n",
    "    X_test_norm[:,0], \n",
    "    X_test_norm[:,1],\n",
    "    c=y_test, \n",
    "    cmap='seismic',\n",
    "    alpha=0.75\n",
    ")\n",
    "ax.set_xlabel('Height')\n",
    "ax.set_ylabel('Weight')\n",
    "ax.set_title('KNN Decision Boundary')\n",
    "ax.set_xlim(xx.min(), xx.max())\n",
    "ax.set_ylim(yy.min(), yy.max())"
   ]
  },
  {
   "cell_type": "markdown",
   "id": "7c1f2b9b",
   "metadata": {},
   "source": [
    "## Decision Boundary k=10<a class=\"anchor\" id=\"section_1_3\"></a>"
   ]
  },
  {
   "cell_type": "code",
   "execution_count": 11,
   "id": "fd0b309a",
   "metadata": {},
   "outputs": [
    {
     "data": {
      "text/plain": [
       "<matplotlib.colorbar.Colorbar at 0x1a3ae4f3f40>"
      ]
     },
     "execution_count": 11,
     "metadata": {},
     "output_type": "execute_result"
    },
    {
     "data": {
      "image/png": "[encoded data removed]",
      "text/plain": [
       "<Figure size 432x288 with 2 Axes>"
      ]
     },
     "metadata": {
      "needs_background": "light"
     },
     "output_type": "display_data"
    }
   ],
   "source": [
    "k = 10\n",
    "model = KNeighborsClassifier(n_neighbors=k)\n",
    "model.fit(X_train, y_train)\n",
    "\n",
    "grid_points = 200\n",
    "weight_range = np.linspace(\n",
    "    X_test.iloc[:,1].min() - .5, \n",
    "    X_test.iloc[:,1].max() + .5, \n",
    "    grid_points\n",
    ")\n",
    "height_range = np.linspace(\n",
    "    X_test.iloc[:,0].min() - .5, \n",
    "    X_test.iloc[:,0].max() + .5, \n",
    "    grid_points\n",
    ")\n",
    "\n",
    "grid = list(itt.product(height_range, weight_range))\n",
    "#this is our mesh grid, list of coordinate points\n",
    "\n",
    "dummy_dat = pd.DataFrame(grid, columns=['Height','Weight'])\n",
    "dummy_dat['ProbIsHealthy'] = model.predict_proba(dummy_dat)[:,1]\n",
    "\n",
    "fig, ax = plt.subplots()\n",
    "scat = ax.scatter(\n",
    "    dummy_dat.iloc[:,0], \n",
    "    dummy_dat.iloc[:,1], \n",
    "    c=dummy_dat.iloc[:,2], \n",
    "    cmap='plasma'\n",
    ")\n",
    "ax.set_xlabel('Height')\n",
    "ax.set_ylabel('Weight')\n",
    "ax.set_title(f'Decision boundary for k={k} (prob of being healthy)')\n",
    "ax.grid()\n",
    "plt.colorbar(scat, ax=ax)"
   ]
  },
  {
   "cell_type": "markdown",
   "id": "c2c1fe11",
   "metadata": {},
   "source": [
    "## ROC Curve<a class=\"anchor\" id=\"section_1_4\"></a>"
   ]
  },
  {
   "cell_type": "code",
   "execution_count": 10,
   "id": "a40aaaf3",
   "metadata": {},
   "outputs": [
    {
     "data": {
      "image/png": "[encoded data removed]",
      "text/plain": [
       "<Figure size 432x288 with 1 Axes>"
      ]
     },
     "metadata": {
      "needs_background": "light"
     },
     "output_type": "display_data"
    }
   ],
   "source": [
    "def plot_roc_curve(fper, tper, auc):\n",
    "    fig, ax = plt.subplots()\n",
    "    plt.plot(fper, tper, color='green', label='ROC')\n",
    "    plt.plot([0, 1], [0, 1], color='blue', linestyle='--')\n",
    "    plt.xlabel('False Positive Rate')\n",
    "    plt.ylabel('True Positive Rate')\n",
    "    plt.text(0.65, 0.25,f'AUC : {auc}')\n",
    "    plt.title('Receiver Operating Characteristic (ROC) Curve')\n",
    "    plt.legend()\n",
    "    plt.show()\n",
    "    \n",
    "fper, tper, thresh = roc_curve(y_test, y_hatp_test) \n",
    "auc = round(roc_auc_score(y_test, y_hatp_test), 3)\n",
    "\n",
    "plot_roc_curve(fper, tper, auc)"
   ]
  },
  {
   "cell_type": "code",
   "execution_count": null,
   "id": "31671a4d",
   "metadata": {},
   "outputs": [],
   "source": []
  },
  {
   "cell_type": "markdown",
   "id": "7b5212f8",
   "metadata": {},
   "source": [
    "# 2. Decision Trees<a class=\"anchor\" id=\"chapter2\"></a>"
   ]
  },
  {
   "cell_type": "code",
   "execution_count": 21,
   "id": "2a229fda",
   "metadata": {},
   "outputs": [],
   "source": [
    "from sklearn.tree import DecisionTreeClassifier, DecisionTreeRegressor, plot_tree\n",
    "from sklearn.tree import export_text\n",
    "from sklearn.datasets import fetch_california_housing\n",
    "from sklearn.model_selection import train_test_split\n",
    "from sklearn.metrics import mean_squared_error, accuracy_score\n",
    "from sklearn.linear_model import LinearRegression\n",
    "from sklearn.linear_model import Lasso, Ridge\n",
    "from sklearn.preprocessing import StandardScaler"
   ]
  },
  {
   "cell_type": "code",
   "execution_count": 23,
   "id": "466437aa",
   "metadata": {},
   "outputs": [],
   "source": [
    "# data\n",
    "\n",
    "file = 'gender_cleaned_test_train.xlsx'\n",
    "file_path = os.path.join(data_path, file)\n",
    "\n",
    "df_train = pd.read_excel(file_path, 'train')\n",
    "df_test = pd.read_excel(file_path, 'test')\n",
    "\n",
    "df_train['BMI'] = df_train['Weight']/((df_train['Height']/100)**2)\n",
    "df_test['BMI'] = df_test['Weight']/((df_test['Height']/100)**2)\n",
    "\n",
    "X_train = df_train[['Height', 'Weight']]\n",
    "y_train = df_train['IsHealthy']\n",
    "\n",
    "X_test = df_test[['Height', 'Weight']]\n",
    "y_test = df_test['IsHealthy']"
   ]
  },
  {
   "cell_type": "code",
   "execution_count": 25,
   "id": "37150176",
   "metadata": {},
   "outputs": [
    {
     "data": {
      "text/plain": [
       "0.984015984015984"
      ]
     },
     "execution_count": 25,
     "metadata": {},
     "output_type": "execute_result"
    }
   ],
   "source": [
    "# model\n",
    "\n",
    "model = DecisionTreeClassifier()\n",
    "model.fit(X_train, y_train)\n",
    "\n",
    "y_hat_test = model.predict(X_test)\n",
    "y_hatp_test = model.predict_proba(X_test)[:,1]\n",
    "\n",
    "accuracy_score(y_test, y_hat_test)"
   ]
  },
  {
   "cell_type": "code",
   "execution_count": 27,
   "id": "14ba193c",
   "metadata": {},
   "outputs": [
    {
     "data": {
      "image/png": "[encoded data removed]",
      "text/plain": [
       "<Figure size 432x288 with 1 Axes>"
      ]
     },
     "metadata": {
      "needs_background": "light"
     },
     "output_type": "display_data"
    }
   ],
   "source": [
    "plot_tree(model,feature_names=X_train.columns);\n",
    "# ; to silence all the text prints"
   ]
  },
  {
   "cell_type": "code",
   "execution_count": 28,
   "id": "98745b8e",
   "metadata": {},
   "outputs": [
    {
     "name": "stdout",
     "output_type": "stream",
     "text": [
      "|--- Weight <= 70.28\n",
      "|   |--- Weight <= 64.11\n",
      "|   |   |--- Weight <= 39.57\n",
      "|   |   |   |--- Height <= 142.35\n",
      "|   |   |   |   |--- Height <= 140.37\n",
      "|   |   |   |   |   |--- class: 0\n",
      "|   |   |   |   |--- Height >  140.37\n",
      "|   |   |   |   |   |--- class: 1\n",
      "|   |   |   |--- Height >  142.35\n",
      "|   |   |   |   |--- class: 0\n",
      "|   |   |--- Weight >  39.57\n",
      "|   |   |   |--- Weight <= 61.12\n",
      "|   |   |   |   |--- Height <= 154.90\n",
      "|   |   |   |   |   |--- Weight <= 58.43\n",
      "|   |   |   |   |   |   |--- Weight <= 57.18\n",
      "|   |   |   |   |   |   |   |--- Weight <= 42.42\n",
      "|   |   |   |   |   |   |   |   |--- Height <= 149.97\n",
      "|   |   |   |   |   |   |   |   |   |--- Height <= 149.18\n",
      "|   |   |   |   |   |   |   |   |   |   |--- class: 1\n",
      "|   |   |   |   |   |   |   |   |   |--- Height >  149.18\n",
      "|   |   |   |   |   |   |   |   |   |   |--- Height <= 149.34\n",
      "|   |   |   |   |   |   |   |   |   |   |   |--- class: 0\n",
      "|   |   |   |   |   |   |   |   |   |   |--- Height >  149.34\n",
      "|   |   |   |   |   |   |   |   |   |   |   |--- class: 1\n",
      "|   |   |   |   |   |   |   |   |--- Height >  149.97\n",
      "|   |   |   |   |   |   |   |   |   |--- class: 0\n",
      "|   |   |   |   |   |   |   |--- Weight >  42.42\n",
      "|   |   |   |   |   |   |   |   |--- Weight <= 56.25\n",
      "|   |   |   |   |   |   |   |   |   |--- Weight <= 43.77\n",
      "|   |   |   |   |   |   |   |   |   |   |--- Height <= 153.48\n",
      "|   |   |   |   |   |   |   |   |   |   |   |--- class: 1\n",
      "|   |   |   |   |   |   |   |   |   |   |--- Height >  153.48\n",
      "|   |   |   |   |   |   |   |   |   |   |   |--- class: 0\n",
      "|   |   |   |   |   |   |   |   |   |--- Weight >  43.77\n",
      "|   |   |   |   |   |   |   |   |   |   |--- class: 1\n",
      "|   |   |   |   |   |   |   |   |--- Weight >  56.25\n",
      "|   |   |   |   |   |   |   |   |   |--- Height <= 150.49\n",
      "|   |   |   |   |   |   |   |   |   |   |--- class: 0\n",
      "|   |   |   |   |   |   |   |   |   |--- Height >  150.49\n",
      "|   |   |   |   |   |   |   |   |   |   |--- class: 1\n",
      "|   |   |   |   |   |   |--- Weight >  57.18\n",
      "|   |   |   |   |   |   |   |--- Height <= 152.23\n",
      "|   |   |   |   |   |   |   |   |--- class: 0\n",
      "|   |   |   |   |   |   |   |--- Height >  152.23\n",
      "|   |   |   |   |   |   |   |   |--- class: 1\n",
      "|   |   |   |   |   |--- Weight >  58.43\n",
      "|   |   |   |   |   |   |--- Height <= 153.95\n",
      "|   |   |   |   |   |   |   |--- class: 0\n",
      "|   |   |   |   |   |   |--- Height >  153.95\n",
      "|   |   |   |   |   |   |   |--- Weight <= 59.85\n",
      "|   |   |   |   |   |   |   |   |--- class: 1\n",
      "|   |   |   |   |   |   |   |--- Weight >  59.85\n",
      "|   |   |   |   |   |   |   |   |--- class: 0\n",
      "|   |   |   |   |--- Height >  154.90\n",
      "|   |   |   |   |   |--- Weight <= 45.96\n",
      "|   |   |   |   |   |   |--- Height <= 155.49\n",
      "|   |   |   |   |   |   |   |--- class: 1\n",
      "|   |   |   |   |   |   |--- Height >  155.49\n",
      "|   |   |   |   |   |   |   |--- Weight <= 45.64\n",
      "|   |   |   |   |   |   |   |   |--- class: 0\n",
      "|   |   |   |   |   |   |   |--- Weight >  45.64\n",
      "|   |   |   |   |   |   |   |   |--- Weight <= 45.81\n",
      "|   |   |   |   |   |   |   |   |   |--- class: 1\n",
      "|   |   |   |   |   |   |   |   |--- Weight >  45.81\n",
      "|   |   |   |   |   |   |   |   |   |--- class: 0\n",
      "|   |   |   |   |   |--- Weight >  45.96\n",
      "|   |   |   |   |   |   |--- Weight <= 46.71\n",
      "|   |   |   |   |   |   |   |--- Height <= 158.20\n",
      "|   |   |   |   |   |   |   |   |--- class: 1\n",
      "|   |   |   |   |   |   |   |--- Height >  158.20\n",
      "|   |   |   |   |   |   |   |   |--- class: 0\n",
      "|   |   |   |   |   |   |--- Weight >  46.71\n",
      "|   |   |   |   |   |   |   |--- Height <= 167.15\n",
      "|   |   |   |   |   |   |   |   |--- class: 1\n",
      "|   |   |   |   |   |   |   |--- Height >  167.15\n",
      "|   |   |   |   |   |   |   |   |--- Height <= 167.19\n",
      "|   |   |   |   |   |   |   |   |   |--- class: 0\n",
      "|   |   |   |   |   |   |   |   |--- Height >  167.19\n",
      "|   |   |   |   |   |   |   |   |   |--- class: 1\n",
      "|   |   |   |--- Weight >  61.12\n",
      "|   |   |   |   |--- Height <= 158.42\n",
      "|   |   |   |   |   |--- Height <= 157.52\n",
      "|   |   |   |   |   |   |--- Weight <= 61.20\n",
      "|   |   |   |   |   |   |   |--- Height <= 156.01\n",
      "|   |   |   |   |   |   |   |   |--- class: 0\n",
      "|   |   |   |   |   |   |   |--- Height >  156.01\n",
      "|   |   |   |   |   |   |   |   |--- class: 1\n",
      "|   |   |   |   |   |   |--- Weight >  61.20\n",
      "|   |   |   |   |   |   |   |--- Weight <= 61.60\n",
      "|   |   |   |   |   |   |   |   |--- Weight <= 61.57\n",
      "|   |   |   |   |   |   |   |   |   |--- class: 0\n",
      "|   |   |   |   |   |   |   |   |--- Weight >  61.57\n",
      "|   |   |   |   |   |   |   |   |   |--- class: 1\n",
      "|   |   |   |   |   |   |   |--- Weight >  61.60\n",
      "|   |   |   |   |   |   |   |   |--- class: 0\n",
      "|   |   |   |   |   |--- Height >  157.52\n",
      "|   |   |   |   |   |   |--- Weight <= 62.47\n",
      "|   |   |   |   |   |   |   |--- Weight <= 62.30\n",
      "|   |   |   |   |   |   |   |   |--- class: 1\n",
      "|   |   |   |   |   |   |   |--- Weight >  62.30\n",
      "|   |   |   |   |   |   |   |   |--- Height <= 157.88\n",
      "|   |   |   |   |   |   |   |   |   |--- class: 0\n",
      "|   |   |   |   |   |   |   |   |--- Height >  157.88\n",
      "|   |   |   |   |   |   |   |   |   |--- class: 1\n",
      "|   |   |   |   |   |   |--- Weight >  62.47\n",
      "|   |   |   |   |   |   |   |--- class: 0\n",
      "|   |   |   |   |--- Height >  158.42\n",
      "|   |   |   |   |   |--- Height <= 159.46\n",
      "|   |   |   |   |   |   |--- Weight <= 62.96\n",
      "|   |   |   |   |   |   |   |--- class: 1\n",
      "|   |   |   |   |   |   |--- Weight >  62.96\n",
      "|   |   |   |   |   |   |   |--- Weight <= 63.25\n",
      "|   |   |   |   |   |   |   |   |--- Height <= 158.95\n",
      "|   |   |   |   |   |   |   |   |   |--- class: 0\n",
      "|   |   |   |   |   |   |   |   |--- Height >  158.95\n",
      "|   |   |   |   |   |   |   |   |   |--- class: 1\n",
      "|   |   |   |   |   |   |   |--- Weight >  63.25\n",
      "|   |   |   |   |   |   |   |   |--- class: 0\n",
      "|   |   |   |   |   |--- Height >  159.46\n",
      "|   |   |   |   |   |   |--- Weight <= 64.09\n",
      "|   |   |   |   |   |   |   |--- class: 1\n",
      "|   |   |   |   |   |   |--- Weight >  64.09\n",
      "|   |   |   |   |   |   |   |--- Weight <= 64.09\n",
      "|   |   |   |   |   |   |   |   |--- class: 0\n",
      "|   |   |   |   |   |   |   |--- Weight >  64.09\n",
      "|   |   |   |   |   |   |   |   |--- class: 1\n",
      "|   |--- Weight >  64.11\n",
      "|   |   |--- Height <= 163.25\n",
      "|   |   |   |--- Weight <= 65.97\n",
      "|   |   |   |   |--- Height <= 160.91\n",
      "|   |   |   |   |   |--- Weight <= 64.33\n",
      "|   |   |   |   |   |   |--- Height <= 160.14\n",
      "|   |   |   |   |   |   |   |--- class: 0\n",
      "|   |   |   |   |   |   |--- Height >  160.14\n",
      "|   |   |   |   |   |   |   |--- class: 1\n",
      "|   |   |   |   |   |--- Weight >  64.33\n",
      "|   |   |   |   |   |   |--- class: 0\n",
      "|   |   |   |   |--- Height >  160.91\n",
      "|   |   |   |   |   |--- Weight <= 65.37\n",
      "|   |   |   |   |   |   |--- class: 1\n",
      "|   |   |   |   |   |--- Weight >  65.37\n",
      "|   |   |   |   |   |   |--- Height <= 162.12\n",
      "|   |   |   |   |   |   |   |--- class: 0\n",
      "|   |   |   |   |   |   |--- Height >  162.12\n",
      "|   |   |   |   |   |   |   |--- class: 1\n",
      "|   |   |   |--- Weight >  65.97\n",
      "|   |   |   |   |--- Height <= 163.10\n",
      "|   |   |   |   |   |--- Weight <= 66.06\n",
      "|   |   |   |   |   |   |--- Height <= 162.46\n",
      "|   |   |   |   |   |   |   |--- class: 0\n",
      "|   |   |   |   |   |   |--- Height >  162.46\n",
      "|   |   |   |   |   |   |   |--- class: 1\n",
      "|   |   |   |   |   |--- Weight >  66.06\n",
      "|   |   |   |   |   |   |--- class: 0\n",
      "|   |   |   |   |--- Height >  163.10\n",
      "|   |   |   |   |   |--- Weight <= 66.58\n",
      "|   |   |   |   |   |   |--- class: 1\n",
      "|   |   |   |   |   |--- Weight >  66.58\n",
      "|   |   |   |   |   |   |--- class: 0\n",
      "|   |   |--- Height >  163.25\n",
      "|   |   |   |--- Height <= 165.79\n",
      "|   |   |   |   |--- Weight <= 67.28\n",
      "|   |   |   |   |   |--- Weight <= 67.20\n",
      "|   |   |   |   |   |   |--- class: 1\n",
      "|   |   |   |   |   |--- Weight >  67.20\n",
      "|   |   |   |   |   |   |--- Height <= 164.19\n",
      "|   |   |   |   |   |   |   |--- class: 0\n",
      "|   |   |   |   |   |   |--- Height >  164.19\n",
      "|   |   |   |   |   |   |   |--- class: 1\n",
      "|   |   |   |   |--- Weight >  67.28\n",
      "|   |   |   |   |   |--- Weight <= 68.43\n",
      "|   |   |   |   |   |   |--- Height <= 164.75\n",
      "|   |   |   |   |   |   |   |--- class: 0\n",
      "|   |   |   |   |   |   |--- Height >  164.75\n",
      "|   |   |   |   |   |   |   |--- Weight <= 68.00\n",
      "|   |   |   |   |   |   |   |   |--- class: 1\n",
      "|   |   |   |   |   |   |   |--- Weight >  68.00\n",
      "|   |   |   |   |   |   |   |   |--- Height <= 165.34\n",
      "|   |   |   |   |   |   |   |   |   |--- Height <= 165.21\n",
      "|   |   |   |   |   |   |   |   |   |   |--- class: 0\n",
      "|   |   |   |   |   |   |   |   |   |--- Height >  165.21\n",
      "|   |   |   |   |   |   |   |   |   |   |--- Weight <= 68.25\n",
      "|   |   |   |   |   |   |   |   |   |   |   |--- class: 1\n",
      "|   |   |   |   |   |   |   |   |   |   |--- Weight >  68.25\n",
      "|   |   |   |   |   |   |   |   |   |   |   |--- class: 0\n",
      "|   |   |   |   |   |   |   |   |--- Height >  165.34\n",
      "|   |   |   |   |   |   |   |   |   |--- class: 1\n",
      "|   |   |   |   |   |--- Weight >  68.43\n",
      "|   |   |   |   |   |   |--- class: 0\n",
      "|   |   |   |--- Height >  165.79\n",
      "|   |   |   |   |--- Height <= 166.75\n",
      "|   |   |   |   |   |--- Weight <= 68.88\n",
      "|   |   |   |   |   |   |--- class: 1\n",
      "|   |   |   |   |   |--- Weight >  68.88\n",
      "|   |   |   |   |   |   |--- Weight <= 69.43\n",
      "|   |   |   |   |   |   |   |--- Height <= 166.52\n",
      "|   |   |   |   |   |   |   |   |--- class: 0\n",
      "|   |   |   |   |   |   |   |--- Height >  166.52\n",
      "|   |   |   |   |   |   |   |   |--- class: 1\n",
      "|   |   |   |   |   |   |--- Weight >  69.43\n",
      "|   |   |   |   |   |   |   |--- class: 0\n",
      "|   |   |   |   |--- Height >  166.75\n",
      "|   |   |   |   |   |--- class: 1\n",
      "|--- Weight >  70.28\n",
      "|   |--- Weight <= 75.48\n",
      "|   |   |--- Height <= 170.48\n",
      "|   |   |   |--- Height <= 169.00\n",
      "|   |   |   |   |--- Weight <= 70.35\n",
      "|   |   |   |   |   |--- Height <= 167.66\n",
      "|   |   |   |   |   |   |--- class: 0\n",
      "|   |   |   |   |   |--- Height >  167.66\n",
      "|   |   |   |   |   |   |--- class: 1\n",
      "|   |   |   |   |--- Weight >  70.35\n",
      "|   |   |   |   |   |--- Height <= 168.49\n",
      "|   |   |   |   |   |   |--- class: 0\n",
      "|   |   |   |   |   |--- Height >  168.49\n",
      "|   |   |   |   |   |   |--- Weight <= 71.09\n",
      "|   |   |   |   |   |   |   |--- class: 1\n",
      "|   |   |   |   |   |   |--- Weight >  71.09\n",
      "|   |   |   |   |   |   |   |--- class: 0\n",
      "|   |   |   |--- Height >  169.00\n",
      "|   |   |   |   |--- Weight <= 71.74\n",
      "|   |   |   |   |   |--- class: 1\n",
      "|   |   |   |   |--- Weight >  71.74\n",
      "|   |   |   |   |   |--- Weight <= 72.45\n",
      "|   |   |   |   |   |   |--- Height <= 169.88\n",
      "|   |   |   |   |   |   |   |--- class: 0\n",
      "|   |   |   |   |   |   |--- Height >  169.88\n",
      "|   |   |   |   |   |   |   |--- class: 1\n",
      "|   |   |   |   |   |--- Weight >  72.45\n",
      "|   |   |   |   |   |   |--- class: 0\n",
      "|   |   |--- Height >  170.48\n",
      "|   |   |   |--- Weight <= 73.74\n",
      "|   |   |   |   |--- Height <= 171.26\n",
      "|   |   |   |   |   |--- Weight <= 73.18\n",
      "|   |   |   |   |   |   |--- Weight <= 72.89\n",
      "|   |   |   |   |   |   |   |--- class: 1\n",
      "|   |   |   |   |   |   |--- Weight >  72.89\n",
      "|   |   |   |   |   |   |   |--- Weight <= 73.06\n",
      "|   |   |   |   |   |   |   |   |--- class: 0\n",
      "|   |   |   |   |   |   |   |--- Weight >  73.06\n",
      "|   |   |   |   |   |   |   |   |--- class: 1\n",
      "|   |   |   |   |   |--- Weight >  73.18\n",
      "|   |   |   |   |   |   |--- class: 0\n",
      "|   |   |   |   |--- Height >  171.26\n",
      "|   |   |   |   |   |--- class: 1\n",
      "|   |   |   |--- Weight >  73.74\n",
      "|   |   |   |   |--- Height <= 172.50\n",
      "|   |   |   |   |   |--- Height <= 172.08\n",
      "|   |   |   |   |   |   |--- class: 0\n",
      "|   |   |   |   |   |--- Height >  172.08\n",
      "|   |   |   |   |   |   |--- Weight <= 74.18\n",
      "|   |   |   |   |   |   |   |--- class: 1\n",
      "|   |   |   |   |   |   |--- Weight >  74.18\n",
      "|   |   |   |   |   |   |   |--- class: 0\n",
      "|   |   |   |   |--- Height >  172.50\n",
      "|   |   |   |   |   |--- Weight <= 75.29\n",
      "|   |   |   |   |   |   |--- class: 1\n",
      "|   |   |   |   |   |--- Weight >  75.29\n",
      "|   |   |   |   |   |   |--- Weight <= 75.31\n",
      "|   |   |   |   |   |   |   |--- class: 0\n",
      "|   |   |   |   |   |   |--- Weight >  75.31\n",
      "|   |   |   |   |   |   |   |--- class: 1\n",
      "|   |--- Weight >  75.48\n",
      "|   |   |--- Weight <= 79.92\n",
      "|   |   |   |--- Height <= 176.08\n",
      "|   |   |   |   |--- Height <= 174.72\n",
      "|   |   |   |   |   |--- Height <= 174.53\n",
      "|   |   |   |   |   |   |--- class: 0\n",
      "|   |   |   |   |   |--- Height >  174.53\n",
      "|   |   |   |   |   |   |--- Height <= 174.55\n",
      "|   |   |   |   |   |   |   |--- class: 1\n",
      "|   |   |   |   |   |   |--- Height >  174.55\n",
      "|   |   |   |   |   |   |   |--- class: 0\n",
      "|   |   |   |   |--- Height >  174.72\n",
      "|   |   |   |   |   |--- Weight <= 77.14\n",
      "|   |   |   |   |   |   |--- Weight <= 76.82\n",
      "|   |   |   |   |   |   |   |--- class: 1\n",
      "|   |   |   |   |   |   |--- Weight >  76.82\n",
      "|   |   |   |   |   |   |   |--- Weight <= 77.00\n",
      "|   |   |   |   |   |   |   |   |--- class: 0\n",
      "|   |   |   |   |   |   |   |--- Weight >  77.00\n",
      "|   |   |   |   |   |   |   |   |--- class: 1\n",
      "|   |   |   |   |   |--- Weight >  77.14\n",
      "|   |   |   |   |   |   |--- class: 0\n",
      "|   |   |   |--- Height >  176.08\n",
      "|   |   |   |   |--- Weight <= 78.19\n",
      "|   |   |   |   |   |--- Weight <= 77.62\n",
      "|   |   |   |   |   |   |--- class: 1\n",
      "|   |   |   |   |   |--- Weight >  77.62\n",
      "|   |   |   |   |   |   |--- Weight <= 77.80\n",
      "|   |   |   |   |   |   |   |--- class: 0\n",
      "|   |   |   |   |   |   |--- Weight >  77.80\n",
      "|   |   |   |   |   |   |   |--- class: 1\n",
      "|   |   |   |   |--- Weight >  78.19\n",
      "|   |   |   |   |   |--- Height <= 178.51\n",
      "|   |   |   |   |   |   |--- Weight <= 78.93\n",
      "|   |   |   |   |   |   |   |--- Height <= 177.04\n",
      "|   |   |   |   |   |   |   |   |--- class: 0\n",
      "|   |   |   |   |   |   |   |--- Height >  177.04\n",
      "|   |   |   |   |   |   |   |   |--- class: 1\n",
      "|   |   |   |   |   |   |--- Weight >  78.93\n",
      "|   |   |   |   |   |   |   |--- class: 0\n",
      "|   |   |   |   |   |--- Height >  178.51\n",
      "|   |   |   |   |   |   |--- class: 1\n",
      "|   |   |--- Weight >  79.92\n",
      "|   |   |   |--- Weight <= 83.85\n",
      "|   |   |   |   |--- Height <= 181.30\n",
      "|   |   |   |   |   |--- Height <= 179.62\n",
      "|   |   |   |   |   |   |--- class: 0\n",
      "|   |   |   |   |   |--- Height >  179.62\n",
      "|   |   |   |   |   |   |--- Weight <= 81.22\n",
      "|   |   |   |   |   |   |   |--- class: 1\n",
      "|   |   |   |   |   |   |--- Weight >  81.22\n",
      "|   |   |   |   |   |   |   |--- class: 0\n",
      "|   |   |   |   |--- Height >  181.30\n",
      "|   |   |   |   |   |--- Weight <= 83.65\n",
      "|   |   |   |   |   |   |--- class: 1\n",
      "|   |   |   |   |   |--- Weight >  83.65\n",
      "|   |   |   |   |   |   |--- Height <= 182.51\n",
      "|   |   |   |   |   |   |   |--- class: 0\n",
      "|   |   |   |   |   |   |--- Height >  182.51\n",
      "|   |   |   |   |   |   |   |--- class: 1\n",
      "|   |   |   |--- Weight >  83.85\n",
      "|   |   |   |   |--- Height <= 184.55\n",
      "|   |   |   |   |   |--- class: 0\n",
      "|   |   |   |   |--- Height >  184.55\n",
      "|   |   |   |   |   |--- Weight <= 85.27\n",
      "|   |   |   |   |   |   |--- class: 1\n",
      "|   |   |   |   |   |--- Weight >  85.27\n",
      "|   |   |   |   |   |   |--- Weight <= 88.47\n",
      "|   |   |   |   |   |   |   |--- Height <= 186.09\n",
      "|   |   |   |   |   |   |   |   |--- class: 0\n",
      "|   |   |   |   |   |   |   |--- Height >  186.09\n",
      "|   |   |   |   |   |   |   |   |--- Weight <= 86.90\n",
      "|   |   |   |   |   |   |   |   |   |--- class: 1\n",
      "|   |   |   |   |   |   |   |   |--- Weight >  86.90\n",
      "|   |   |   |   |   |   |   |   |   |--- Height <= 187.31\n",
      "|   |   |   |   |   |   |   |   |   |   |--- class: 0\n",
      "|   |   |   |   |   |   |   |   |   |--- Height >  187.31\n",
      "|   |   |   |   |   |   |   |   |   |   |--- class: 1\n",
      "|   |   |   |   |   |   |--- Weight >  88.47\n",
      "|   |   |   |   |   |   |   |--- class: 0\n",
      "\n"
     ]
    }
   ],
   "source": [
    "tree_text = export_text(model, feature_names=list(X_train.columns))\n",
    "\n",
    "print(tree_text)"
   ]
  },
  {
   "cell_type": "markdown",
   "id": "3ce85892",
   "metadata": {},
   "source": [
    "## Model comparison: Housing Data<a class=\"anchor\" id=\"section_2_1\"></a>"
   ]
  },
  {
   "cell_type": "code",
   "execution_count": 29,
   "id": "7e06aec2",
   "metadata": {},
   "outputs": [],
   "source": [
    "data = fetch_california_housing()\n",
    "\n",
    "df = pd.DataFrame(data['data'], columns=data['feature_names'])\n",
    "df['price'] = data['target']\n",
    "\n",
    "df_train, df_test = train_test_split(df, test_size=0.2, random_state=99)\n",
    "df_test = df_test.copy()\n",
    "\n",
    "X_train = df_train[['Latitude','Longitude']]\n",
    "y_train = df_train['price']\n",
    "\n",
    "X_test = df_test[['Latitude','Longitude']]\n",
    "y_test = df_test['price']"
   ]
  },
  {
   "cell_type": "code",
   "execution_count": 35,
   "id": "9a3efe21",
   "metadata": {},
   "outputs": [
    {
     "name": "stdout",
     "output_type": "stream",
     "text": [
      "Model:\tDecisionTreeRegressor\n",
      "MSE:\t0.3634784528002139\n",
      "\n",
      "Model:\tLinearRegression\n",
      "MSE:\t0.9797304576845608\n",
      "\n",
      "Model:\tRidge\n",
      "MSE:\t0.9802356772925531\n",
      "\n",
      "Model:\tLasso\n",
      "MSE:\t1.2905127283451718\n",
      "\n",
      "CPU times: total: 78.1 ms\n",
      "Wall time: 70.5 ms\n"
     ]
    }
   ],
   "source": [
    "%%time\n",
    "\n",
    "model = DecisionTreeRegressor()\n",
    "model.fit(X_train, y_train)\n",
    "\n",
    "y_hat_test = model.predict(X_test)\n",
    "\n",
    "mse = mean_squared_error(y_test, y_hat_test)\n",
    "\n",
    "print(f'Model:\\t{type(model).__name__}\\nMSE:\\t{mse}\\n')\n",
    "\n",
    "model = LinearRegression()\n",
    "model.fit(X_train, y_train)\n",
    "\n",
    "y_hat_test = model.predict(X_test)\n",
    "\n",
    "mse = mean_squared_error(y_test, y_hat_test)\n",
    "\n",
    "print(f'Model:\\t{type(model).__name__}\\nMSE:\\t{mse}\\n')\n",
    "      \n",
    "scaler = StandardScaler()\n",
    "X_train_norm = scaler.fit_transform(X_train)\n",
    "X_test_norm = scaler.fit_transform(X_test)\n",
    "\n",
    "model = Ridge()\n",
    "model.fit(X_train_norm, y_train)\n",
    "y_hat_test = model.predict(X_test_norm)\n",
    "\n",
    "mse = mean_squared_error(y_test, y_hat_test)\n",
    "      \n",
    "print(f'Model:\\t{type(model).__name__}\\nMSE:\\t{mse}\\n')\n",
    "\n",
    "model = Lasso()\n",
    "model.fit(X_train_norm, y_train)\n",
    "y_hat_test = model.predict(X_test_norm)\n",
    "\n",
    "mse = mean_squared_error(y_test, y_hat_test)\n",
    "\n",
    "print(f'Model:\\t{type(model).__name__}\\nMSE:\\t{mse}\\n')"
   ]
  },
  {
   "cell_type": "code",
   "execution_count": null,
   "id": "13cf35d0",
   "metadata": {},
   "outputs": [],
   "source": []
  },
  {
   "cell_type": "markdown",
   "id": "813c686c",
   "metadata": {},
   "source": [
    "# 3. Random Forest<a class=\"anchor\" id=\"chapter3\"></a>"
   ]
  },
  {
   "cell_type": "code",
   "execution_count": 40,
   "id": "4e074953",
   "metadata": {},
   "outputs": [],
   "source": [
    "from sklearn.tree import DecisionTreeRegressor\n",
    "from sklearn.datasets import fetch_california_housing\n",
    "from sklearn.model_selection import train_test_split\n",
    "from sklearn.metrics import mean_squared_error\n",
    "from sklearn.ensemble import RandomForestRegressor, BaggingRegressor\n",
    "from sklearn.model_selection import GridSearchCV, KFold"
   ]
  },
  {
   "cell_type": "code",
   "execution_count": 41,
   "id": "39f57047",
   "metadata": {},
   "outputs": [],
   "source": [
    "# data\n",
    "\n",
    "data = fetch_california_housing()\n",
    "\n",
    "df = pd.DataFrame(data['data'], columns=data['feature_names'])\n",
    "df['price'] = data['target']\n",
    "\n",
    "df_train, df_test = train_test_split(df, test_size=0.2, random_state=99)\n",
    "df_test = df_test.copy()\n",
    "\n",
    "X_train = df_train.drop(['price'], axis=1)\n",
    "y_train = df_train['price']\n",
    "\n",
    "X_test = df_test.drop(['price'], axis=1)\n",
    "y_test = df_test['price']"
   ]
  },
  {
   "cell_type": "code",
   "execution_count": 42,
   "id": "68eda876",
   "metadata": {},
   "outputs": [
    {
     "name": "stdout",
     "output_type": "stream",
     "text": [
      "CPU times: total: 9.98 s\n",
      "Wall time: 9.98 s\n"
     ]
    }
   ],
   "source": [
    "%%time\n",
    "\n",
    "# models\n",
    "\n",
    "mse_train = []\n",
    "mse_test = []\n",
    "\n",
    "tree_model = DecisionTreeRegressor()\n",
    "tree_model.fit(X_train, y_train)\n",
    "\n",
    "y_hat_train = tree_model.predict(X_train)\n",
    "y_hat_test = tree_model.predict(X_test)\n",
    "\n",
    "mse_train.append(mean_squared_error(y_train, y_hat_train))\n",
    "mse_test.append(mean_squared_error(y_test, y_hat_test))\n",
    "\n",
    "bag_model = BaggingRegressor()\n",
    "bag_model.fit(X_train, y_train)\n",
    "\n",
    "y_hat_train = bag_model.predict(X_train)\n",
    "y_hat_test = bag_model.predict(X_test)\n",
    "\n",
    "mse_train.append(mean_squared_error(y_train, y_hat_train))\n",
    "mse_test.append(mean_squared_error(y_test, y_hat_test))\n",
    "\n",
    "forest_model = RandomForestRegressor()\n",
    "forest_model.fit(X_train, y_train)\n",
    "\n",
    "y_hat_train = forest_model.predict(X_train)\n",
    "y_hat_test = forest_model.predict(X_test)\n",
    "\n",
    "mse_train.append(mean_squared_error(y_train, y_hat_train))\n",
    "mse_test.append(mean_squared_error(y_test, y_hat_test))"
   ]
  },
  {
   "cell_type": "code",
   "execution_count": 43,
   "id": "6c767de4",
   "metadata": {},
   "outputs": [
    {
     "data": {
      "text/plain": [
       "Tree      1.008553e-31\n",
       "Bag       5.331072e-02\n",
       "Forest    3.622816e-02\n",
       "dtype: float64"
      ]
     },
     "execution_count": 43,
     "metadata": {},
     "output_type": "execute_result"
    }
   ],
   "source": [
    "mse_train = pd.Series(mse_train, index=['Tree','Bag','Forest'])\n",
    "mse_test = pd.Series(mse_test, index=['Tree','Bag','Forest'])\n",
    "\n",
    "mse_train"
   ]
  },
  {
   "cell_type": "code",
   "execution_count": 44,
   "id": "b7dd115c",
   "metadata": {},
   "outputs": [
    {
     "data": {
      "text/plain": [
       "Tree      0.474851\n",
       "Bag       0.275164\n",
       "Forest    0.245077\n",
       "dtype: float64"
      ]
     },
     "execution_count": 44,
     "metadata": {},
     "output_type": "execute_result"
    }
   ],
   "source": [
    "mse_test"
   ]
  },
  {
   "cell_type": "code",
   "execution_count": 48,
   "id": "b84225b2",
   "metadata": {},
   "outputs": [
    {
     "data": {
      "text/plain": [
       "<AxesSubplot:xlabel='feature'>"
      ]
     },
     "execution_count": 48,
     "metadata": {},
     "output_type": "execute_result"
    },
    {
     "data": {
      "image/png": "[encoded data removed]",
      "text/plain": [
       "<Figure size 432x288 with 1 Axes>"
      ]
     },
     "metadata": {
      "needs_background": "light"
     },
     "output_type": "display_data"
    }
   ],
   "source": [
    "feature_importances_df = pd.DataFrame(\n",
    "    {\n",
    "        \"feature\": list(X_train.columns), \n",
    "        \"importance\": forest_model.feature_importances_\n",
    "    }\n",
    ").sort_values(\"importance\", ascending=False)\n",
    "\n",
    "feature_importances_df.set_index('feature').plot.bar(rot=45)"
   ]
  },
  {
   "cell_type": "markdown",
   "id": "10d3e992",
   "metadata": {},
   "source": [
    "## Cross-Validation<a class=\"anchor\" id=\"section_3_1\"></a>"
   ]
  },
  {
   "cell_type": "code",
   "execution_count": 49,
   "id": "66f95e20",
   "metadata": {},
   "outputs": [
    {
     "data": {
      "text/plain": [
       "{'max_depth': 5, 'n_estimators': 20}"
      ]
     },
     "execution_count": 49,
     "metadata": {},
     "output_type": "execute_result"
    }
   ],
   "source": [
    "# Data Setup\n",
    "\n",
    "data = fetch_california_housing()\n",
    "\n",
    "df = pd.DataFrame(data['data'], columns=data['feature_names'])\n",
    "df['price'] = data['target']\n",
    " \n",
    "# Data Setup - Split\n",
    "\n",
    "target     = 'price'\n",
    "predictors = list(set(df.columns) - set([target]))\n",
    "\n",
    "df['strata'] = pd.qcut(df[target], q=10)\n",
    "\n",
    "df_train, df_test = train_test_split(\n",
    "    df, \n",
    "    test_size=0.2, \n",
    "    stratify=df['strata'], \n",
    "    random_state=123\n",
    ")\n",
    "\n",
    "params_grid = {\n",
    "    'n_estimators':[5,10,20],\n",
    "    'max_depth':[2,3,4,5]\n",
    "}\n",
    "\n",
    "cv = KFold(n_splits=10, shuffle=True, random_state=123)\n",
    "\n",
    "cv_grid = GridSearchCV(\n",
    "    estimator=RandomForestRegressor(random_state=123),\n",
    "    param_grid=params_grid,\n",
    "    cv=cv,\n",
    "    scoring='neg_mean_squared_error' # A high score is a good thing!    \n",
    ")\n",
    "\n",
    "cv_grid.fit(X_train, y_train)\n",
    "\n",
    "results = cv_grid.cv_results_\n",
    "df_results = pd.DataFrame(results['params'])\n",
    "df_results['score'] = results['mean_test_score']\n",
    "\n",
    "cv_grid.best_params_ #best parameters"
   ]
  },
  {
   "cell_type": "code",
   "execution_count": 52,
   "id": "ae619a72",
   "metadata": {},
   "outputs": [
    {
     "data": {
      "text/html": [
       "<div>\n",
       "<style scoped>\n",
       "    .dataframe tbody tr th:only-of-type {\n",
       "        vertical-align: middle;\n",
       "    }\n",
       "\n",
       "    .dataframe tbody tr th {\n",
       "        vertical-align: top;\n",
       "    }\n",
       "\n",
       "    .dataframe thead th {\n",
       "        text-align: right;\n",
       "    }\n",
       "</style>\n",
       "<table border=\"1\" class=\"dataframe\">\n",
       "  <thead>\n",
       "    <tr style=\"text-align: right;\">\n",
       "      <th></th>\n",
       "      <th>max_depth</th>\n",
       "      <th>n_estimators</th>\n",
       "      <th>score</th>\n",
       "    </tr>\n",
       "  </thead>\n",
       "  <tbody>\n",
       "    <tr>\n",
       "      <th>0</th>\n",
       "      <td>2</td>\n",
       "      <td>5</td>\n",
       "      <td>-0.727450</td>\n",
       "    </tr>\n",
       "    <tr>\n",
       "      <th>1</th>\n",
       "      <td>2</td>\n",
       "      <td>10</td>\n",
       "      <td>-0.726425</td>\n",
       "    </tr>\n",
       "    <tr>\n",
       "      <th>2</th>\n",
       "      <td>2</td>\n",
       "      <td>20</td>\n",
       "      <td>-0.728122</td>\n",
       "    </tr>\n",
       "    <tr>\n",
       "      <th>3</th>\n",
       "      <td>3</td>\n",
       "      <td>5</td>\n",
       "      <td>-0.601237</td>\n",
       "    </tr>\n",
       "    <tr>\n",
       "      <th>4</th>\n",
       "      <td>3</td>\n",
       "      <td>10</td>\n",
       "      <td>-0.598196</td>\n",
       "    </tr>\n",
       "    <tr>\n",
       "      <th>5</th>\n",
       "      <td>3</td>\n",
       "      <td>20</td>\n",
       "      <td>-0.597418</td>\n",
       "    </tr>\n",
       "    <tr>\n",
       "      <th>6</th>\n",
       "      <td>4</td>\n",
       "      <td>5</td>\n",
       "      <td>-0.526997</td>\n",
       "    </tr>\n",
       "    <tr>\n",
       "      <th>7</th>\n",
       "      <td>4</td>\n",
       "      <td>10</td>\n",
       "      <td>-0.523705</td>\n",
       "    </tr>\n",
       "    <tr>\n",
       "      <th>8</th>\n",
       "      <td>4</td>\n",
       "      <td>20</td>\n",
       "      <td>-0.520522</td>\n",
       "    </tr>\n",
       "    <tr>\n",
       "      <th>9</th>\n",
       "      <td>5</td>\n",
       "      <td>5</td>\n",
       "      <td>-0.467498</td>\n",
       "    </tr>\n",
       "    <tr>\n",
       "      <th>10</th>\n",
       "      <td>5</td>\n",
       "      <td>10</td>\n",
       "      <td>-0.462880</td>\n",
       "    </tr>\n",
       "    <tr>\n",
       "      <th>11</th>\n",
       "      <td>5</td>\n",
       "      <td>20</td>\n",
       "      <td>-0.458710</td>\n",
       "    </tr>\n",
       "  </tbody>\n",
       "</table>\n",
       "</div>"
      ],
      "text/plain": [
       "    max_depth  n_estimators     score\n",
       "0           2             5 -0.727450\n",
       "1           2            10 -0.726425\n",
       "2           2            20 -0.728122\n",
       "3           3             5 -0.601237\n",
       "4           3            10 -0.598196\n",
       "5           3            20 -0.597418\n",
       "6           4             5 -0.526997\n",
       "7           4            10 -0.523705\n",
       "8           4            20 -0.520522\n",
       "9           5             5 -0.467498\n",
       "10          5            10 -0.462880\n",
       "11          5            20 -0.458710"
      ]
     },
     "execution_count": 52,
     "metadata": {},
     "output_type": "execute_result"
    }
   ],
   "source": [
    "# cross validation results from training data\n",
    "df_results"
   ]
  },
  {
   "cell_type": "code",
   "execution_count": 53,
   "id": "b5f78dfc",
   "metadata": {},
   "outputs": [
    {
     "data": {
      "text/plain": [
       "0.43846555038380436"
      ]
     },
     "execution_count": 53,
     "metadata": {},
     "output_type": "execute_result"
    }
   ],
   "source": [
    "# test data result\n",
    "\n",
    "y_hat = cv_grid.best_estimator_.predict(X_test)\n",
    "mean_squared_error(y_test, y_hat)"
   ]
  },
  {
   "cell_type": "code",
   "execution_count": 54,
   "id": "bb29cfcd",
   "metadata": {},
   "outputs": [
    {
     "name": "stdout",
     "output_type": "stream",
     "text": [
      "Training error:\t0.43228475904060154\n",
      "\n",
      "Testing error:\t0.43846555038380436\n",
      "\n"
     ]
    }
   ],
   "source": [
    "# retrain new model with best params - same result\n",
    "\n",
    "model = RandomForestRegressor(random_state=123, **cv_grid.best_params_)\n",
    "model.fit(X_train, y_train)\n",
    "\n",
    "y_hat_train = model.predict(X_train)\n",
    "y_hat_test = model.predict(X_test)\n",
    "\n",
    "print(f'Training error:\\t{mean_squared_error(y_train, y_hat_train)}\\n')\n",
    "print(f'Testing error:\\t{mean_squared_error(y_test, y_hat_test)}\\n')"
   ]
  },
  {
   "cell_type": "code",
   "execution_count": null,
   "id": "26853f27",
   "metadata": {},
   "outputs": [],
   "source": []
  },
  {
   "cell_type": "markdown",
   "id": "78bfc5b3",
   "metadata": {},
   "source": [
    "# 4. Gradient Boosting<a class=\"anchor\" id=\"chapter4\"></a>"
   ]
  },
  {
   "cell_type": "code",
   "execution_count": 64,
   "id": "5b36ccbf",
   "metadata": {},
   "outputs": [],
   "source": [
    "from sklearn.model_selection import train_test_split\n",
    "from sklearn.metrics import mean_squared_error\n",
    "from sklearn.ensemble import GradientBoostingRegressor\n",
    "from sklearn.datasets import fetch_california_housing"
   ]
  },
  {
   "cell_type": "code",
   "execution_count": 66,
   "id": "d0ba1b81",
   "metadata": {},
   "outputs": [],
   "source": [
    "# data\n",
    "\n",
    "data = fetch_california_housing()\n",
    "\n",
    "df = pd.DataFrame(data['data'], columns=data['feature_names'])\n",
    "df['price'] = data['target']\n",
    "\n",
    "df_train, df_test = train_test_split(df, test_size=0.2, random_state=99)\n",
    "df_test = df_test.copy()\n",
    "\n",
    "X_train = df_train.drop(['price'], axis=1)\n",
    "y_train = df_train['price']\n",
    "\n",
    "X_test = df_test.drop(['price'], axis=1)\n",
    "y_test = df_test['price']"
   ]
  },
  {
   "cell_type": "code",
   "execution_count": 67,
   "id": "e23a46be",
   "metadata": {},
   "outputs": [
    {
     "name": "stdout",
     "output_type": "stream",
     "text": [
      "Training error:\t0.26743551092947476\n",
      "\n",
      "Testing error:\t0.2656471901534154\n",
      "\n"
     ]
    }
   ],
   "source": [
    "model = GradientBoostingRegressor()\n",
    "model.fit(X_train, y_train)\n",
    "y_hat_train = model.predict(X_train)\n",
    "y_hat_test = model.predict(X_test)\n",
    "\n",
    "print(f'Training error:\\t{mean_squared_error(y_train, y_hat_train)}\\n')\n",
    "print(f'Testing error:\\t{mean_squared_error(y_test, y_hat_test)}\\n')"
   ]
  },
  {
   "cell_type": "code",
   "execution_count": 69,
   "id": "89d468ad",
   "metadata": {},
   "outputs": [
    {
     "data": {
      "text/plain": [
       "<AxesSubplot:xlabel='feature'>"
      ]
     },
     "execution_count": 69,
     "metadata": {},
     "output_type": "execute_result"
    },
    {
     "data": {
      "image/png": "[encoded data removed]",
      "text/plain": [
       "<Figure size 432x288 with 1 Axes>"
      ]
     },
     "metadata": {
      "needs_background": "light"
     },
     "output_type": "display_data"
    }
   ],
   "source": [
    "# feature importances\n",
    "\n",
    "feature_importances_df = pd.DataFrame(\n",
    "    {\"feature\": list(X_train.columns), \"importance\": model.feature_importances_}\n",
    ").sort_values(\"importance\", ascending=False)\n",
    "\n",
    "feature_importances_df.set_index('feature').plot.bar(rot=45)"
   ]
  },
  {
   "cell_type": "markdown",
   "id": "56866548",
   "metadata": {},
   "source": [
    "## Tuning Learning Rate<a class=\"anchor\" id=\"section_4_1\"></a>"
   ]
  },
  {
   "cell_type": "code",
   "execution_count": 73,
   "id": "9a73ccef",
   "metadata": {},
   "outputs": [
    {
     "name": "stdout",
     "output_type": "stream",
     "text": [
      "learning rate:  \t0.01\n",
      "training error: \t0.658\n",
      "validation error:\t0.63\n",
      "\n",
      "learning rate:  \t0.12\n",
      "training error: \t0.249\n",
      "validation error:\t0.252\n",
      "\n",
      "learning rate:  \t0.23\n",
      "training error: \t0.215\n",
      "validation error:\t0.232\n",
      "\n",
      "learning rate:  \t0.34\n",
      "training error: \t0.193\n",
      "validation error:\t0.226\n",
      "\n",
      "learning rate:  \t0.45\n",
      "training error: \t0.187\n",
      "validation error:\t0.227\n",
      "\n",
      "learning rate:  \t0.56\n",
      "training error: \t0.173\n",
      "validation error:\t0.226\n",
      "\n",
      "learning rate:  \t0.67\n",
      "training error: \t0.167\n",
      "validation error:\t0.23\n",
      "\n",
      "learning rate:  \t0.78\n",
      "training error: \t0.167\n",
      "validation error:\t0.238\n",
      "\n",
      "learning rate:  \t0.89\n",
      "training error: \t0.161\n",
      "validation error:\t0.253\n",
      "\n",
      "learning rate:  \t1.0\n",
      "training error: \t0.166\n",
      "validation error:\t0.254\n",
      "\n"
     ]
    }
   ],
   "source": [
    "lr_list = np.linspace(0.01,1,10)\n",
    "\n",
    "mse_train_list = []\n",
    "mse_test_list = []\n",
    "\n",
    "for learning_rate in lr_list:\n",
    "    \n",
    "    model = GradientBoostingRegressor(learning_rate=learning_rate)\n",
    "    model.fit(X_train, y_train)\n",
    "    \n",
    "    y_hat_train = model.predict(X_train)\n",
    "    y_hat_test = model.predict(X_test)\n",
    "\n",
    "    mse_train = mean_squared_error(y_train, y_hat_train)\n",
    "    mse_test = mean_squared_error(y_test, y_hat_test)\n",
    "    \n",
    "    mse_train_list.append(mse_train)\n",
    "    mse_test_list.append(mse_test)\n",
    "    \n",
    "    print(f\"learning rate:  \\t{learning_rate}\")\n",
    "    print(f\"training error: \\t{round(mse_train, 3)}\")\n",
    "    print(f\"validation error:\\t{round(mse_test, 3)}\\n\")"
   ]
  },
  {
   "cell_type": "code",
   "execution_count": 74,
   "id": "cac4628d",
   "metadata": {},
   "outputs": [
    {
     "data": {
      "text/plain": [
       "<AxesSubplot:xlabel='Learning Rate'>"
      ]
     },
     "execution_count": 74,
     "metadata": {},
     "output_type": "execute_result"
    },
    {
     "data": {
      "image/png": "[encoded data removed]",
      "text/plain": [
       "<Figure size 432x288 with 1 Axes>"
      ]
     },
     "metadata": {
      "needs_background": "light"
     },
     "output_type": "display_data"
    }
   ],
   "source": [
    "frame = pd.DataFrame(\n",
    "    {\n",
    "        'Learning Rate':lr_list,\n",
    "        'Train MSE': mse_train_list,\n",
    "        'Test MSE': mse_test_list\n",
    "    }\n",
    ")\n",
    "\n",
    "frame.set_index('Learning Rate').plot()"
   ]
  },
  {
   "cell_type": "code",
   "execution_count": null,
   "id": "8690c3a9",
   "metadata": {},
   "outputs": [],
   "source": []
  },
  {
   "cell_type": "markdown",
   "id": "f1e0492f",
   "metadata": {},
   "source": [
    "# 5. Full Comparison of Methods<a class=\"anchor\" id=\"chapter5\"></a>\n",
    "\n",
    "- We use the california housing data set"
   ]
  },
  {
   "cell_type": "code",
   "execution_count": 55,
   "id": "63cf97f1",
   "metadata": {},
   "outputs": [],
   "source": [
    "from sklearn.tree import DecisionTreeRegressor\n",
    "from sklearn.datasets import fetch_california_housing\n",
    "from sklearn.model_selection import train_test_split\n",
    "from sklearn.metrics import mean_squared_error\n",
    "from sklearn.linear_model import LinearRegression\n",
    "from sklearn.linear_model import Lasso, Ridge\n",
    "from sklearn.preprocessing import StandardScaler\n",
    "from sklearn.neighbors import KNeighborsRegressor\n",
    "from sklearn.ensemble import RandomForestRegressor, BaggingRegressor\n",
    "from sklearn.ensemble import GradientBoostingRegressor"
   ]
  },
  {
   "cell_type": "code",
   "execution_count": 56,
   "id": "bb038619",
   "metadata": {},
   "outputs": [],
   "source": [
    "# data\n",
    "\n",
    "data = fetch_california_housing()\n",
    "\n",
    "df = pd.DataFrame(data['data'], columns=data['feature_names'])\n",
    "df['price'] = data['target']\n",
    "\n",
    "df_train, df_test = train_test_split(df, test_size=0.2, random_state=99)\n",
    "df_test = df_test.copy()\n",
    "\n",
    "X_train = df_train.drop(['price'], axis=1)\n",
    "y_train = df_train['price']\n",
    "\n",
    "X_test = df_test.drop(['price'], axis=1)\n",
    "y_test = df_test['price']"
   ]
  },
  {
   "cell_type": "code",
   "execution_count": 75,
   "id": "d1ff438e",
   "metadata": {},
   "outputs": [
    {
     "name": "stdout",
     "output_type": "stream",
     "text": [
      "CPU times: total: 13.4 s\n",
      "Wall time: 13.4 s\n"
     ]
    }
   ],
   "source": [
    "%%time\n",
    "\n",
    "# models\n",
    "\n",
    "# %%--------------------------------------------------------------------------\n",
    "# Linear model\n",
    "# ----------------------------------------------------------------------------\n",
    "\n",
    "mse_train = []\n",
    "mse_test = []\n",
    "\n",
    "lin_model = LinearRegression()\n",
    "lin_model.fit(X_train, y_train)\n",
    "y_hat_train = lin_model.predict(X_train)\n",
    "y_hat_test = lin_model.predict(X_test)\n",
    "\n",
    "mse_train.append(mean_squared_error(y_train, y_hat_train))\n",
    "mse_test.append(mean_squared_error(y_test, y_hat_test))\n",
    "\n",
    "# %%--------------------------------------------------------------------------\n",
    "# Regularised models\n",
    "# ----------------------------------------------------------------------------\n",
    "\n",
    "scaler = StandardScaler()\n",
    "X_train_norm = scaler.fit_transform(X_train)\n",
    "X_test_norm = scaler.fit_transform(X_test)\n",
    "\n",
    "ridge_model = Ridge()\n",
    "ridge_model.fit(X_train_norm, y_train)\n",
    "y_hat_train = ridge_model.predict(X_train_norm)\n",
    "y_hat_test = ridge_model.predict(X_test_norm)\n",
    "\n",
    "mse_train.append(mean_squared_error(y_train, y_hat_train))\n",
    "mse_test.append(mean_squared_error(y_test, y_hat_test))\n",
    "\n",
    "lasso_model = Lasso()\n",
    "lasso_model.fit(X_train_norm, y_train)\n",
    "y_hat_train = lasso_model.predict(X_train_norm)\n",
    "y_hat_test = lasso_model.predict(X_test_norm)\n",
    "\n",
    "mse_train.append(mean_squared_error(y_train, y_hat_train))\n",
    "mse_test.append(mean_squared_error(y_test, y_hat_test))\n",
    "\n",
    "# %%--------------------------------------------------------------------------\n",
    "# Non-parametric models\n",
    "# ----------------------------------------------------------------------------\n",
    "\n",
    "knn_model = KNeighborsRegressor()\n",
    "knn_model.fit(X_train, y_train)\n",
    "y_hat_train = knn_model.predict(X_train)\n",
    "y_hat_test = knn_model.predict(X_test)\n",
    "\n",
    "mse_train.append(mean_squared_error(y_train, y_hat_train))\n",
    "mse_test.append(mean_squared_error(y_test, y_hat_test))\n",
    "\n",
    "tree_model = DecisionTreeRegressor()\n",
    "tree_model.fit(X_train, y_train)\n",
    "y_hat_train = tree_model.predict(X_train)\n",
    "y_hat_test = tree_model.predict(X_test)\n",
    "\n",
    "mse_train.append(mean_squared_error(y_train, y_hat_train))\n",
    "mse_test.append(mean_squared_error(y_test, y_hat_test))\n",
    "\n",
    "bag_model = BaggingRegressor()\n",
    "bag_model.fit(X_train, y_train)\n",
    "\n",
    "y_hat_train = bag_model.predict(X_train)\n",
    "y_hat_test = bag_model.predict(X_test)\n",
    "\n",
    "mse_train.append(mean_squared_error(y_train, y_hat_train))\n",
    "mse_test.append(mean_squared_error(y_test, y_hat_test))\n",
    "\n",
    "forest_model = RandomForestRegressor()\n",
    "forest_model.fit(X_train, y_train)\n",
    "\n",
    "y_hat_train = forest_model.predict(X_train)\n",
    "y_hat_test = forest_model.predict(X_test)\n",
    "\n",
    "mse_train.append(mean_squared_error(y_train, y_hat_train))\n",
    "mse_test.append(mean_squared_error(y_test, y_hat_test))\n",
    "\n",
    "model = GradientBoostingRegressor()\n",
    "model.fit(X_train, y_train)\n",
    "y_hat_train = model.predict(X_train)\n",
    "y_hat_test = model.predict(X_test)\n",
    "\n",
    "mse_train.append(mean_squared_error(y_train, y_hat_train))\n",
    "mse_test.append(mean_squared_error(y_test, y_hat_test))"
   ]
  },
  {
   "cell_type": "code",
   "execution_count": 77,
   "id": "763b04bf",
   "metadata": {},
   "outputs": [
    {
     "data": {
      "text/html": [
       "<div>\n",
       "<style scoped>\n",
       "    .dataframe tbody tr th:only-of-type {\n",
       "        vertical-align: middle;\n",
       "    }\n",
       "\n",
       "    .dataframe tbody tr th {\n",
       "        vertical-align: top;\n",
       "    }\n",
       "\n",
       "    .dataframe thead th {\n",
       "        text-align: right;\n",
       "    }\n",
       "</style>\n",
       "<table border=\"1\" class=\"dataframe\">\n",
       "  <thead>\n",
       "    <tr style=\"text-align: right;\">\n",
       "      <th></th>\n",
       "      <th>train_mse</th>\n",
       "      <th>test_mse</th>\n",
       "    </tr>\n",
       "  </thead>\n",
       "  <tbody>\n",
       "    <tr>\n",
       "      <th>forest</th>\n",
       "      <td>3.619415e-02</td>\n",
       "      <td>0.243658</td>\n",
       "    </tr>\n",
       "    <tr>\n",
       "      <th>boost</th>\n",
       "      <td>2.674355e-01</td>\n",
       "      <td>0.265618</td>\n",
       "    </tr>\n",
       "    <tr>\n",
       "      <th>bag</th>\n",
       "      <td>5.161270e-02</td>\n",
       "      <td>0.267608</td>\n",
       "    </tr>\n",
       "    <tr>\n",
       "      <th>tree</th>\n",
       "      <td>9.206468e-32</td>\n",
       "      <td>0.477973</td>\n",
       "    </tr>\n",
       "    <tr>\n",
       "      <th>ridge</th>\n",
       "      <td>5.306401e-01</td>\n",
       "      <td>0.485589</td>\n",
       "    </tr>\n",
       "    <tr>\n",
       "      <th>linear</th>\n",
       "      <td>5.306400e-01</td>\n",
       "      <td>0.499820</td>\n",
       "    </tr>\n",
       "    <tr>\n",
       "      <th>knn</th>\n",
       "      <td>7.323567e-01</td>\n",
       "      <td>1.129081</td>\n",
       "    </tr>\n",
       "    <tr>\n",
       "      <th>lasso</th>\n",
       "      <td>1.341848e+00</td>\n",
       "      <td>1.290513</td>\n",
       "    </tr>\n",
       "  </tbody>\n",
       "</table>\n",
       "</div>"
      ],
      "text/plain": [
       "           train_mse  test_mse\n",
       "forest  3.619415e-02  0.243658\n",
       "boost   2.674355e-01  0.265618\n",
       "bag     5.161270e-02  0.267608\n",
       "tree    9.206468e-32  0.477973\n",
       "ridge   5.306401e-01  0.485589\n",
       "linear  5.306400e-01  0.499820\n",
       "knn     7.323567e-01  1.129081\n",
       "lasso   1.341848e+00  1.290513"
      ]
     },
     "execution_count": 77,
     "metadata": {},
     "output_type": "execute_result"
    }
   ],
   "source": [
    "pd.DataFrame(\n",
    "    list(zip(mse_train, mse_test)),\n",
    "    columns = ['train_mse', 'test_mse'],\n",
    "    index=['linear','ridge','lasso','knn','tree', 'bag', 'forest', 'boost']\n",
    ").sort_values(by='test_mse')"
   ]
  },
  {
   "cell_type": "code",
   "execution_count": null,
   "id": "5673d754",
   "metadata": {},
   "outputs": [],
   "source": []
  },
  {
   "cell_type": "markdown",
   "id": "67ae0186",
   "metadata": {},
   "source": [
    "# 6. Comparison of Methods II<a class=\"anchor\" id=\"chapter6\"></a>\n",
    "\n",
    "Here we are using Telco data from Kaggle"
   ]
  },
  {
   "cell_type": "code",
   "execution_count": 1,
   "id": "e6579acd",
   "metadata": {},
   "outputs": [],
   "source": [
    "from sklearn.model_selection import train_test_split\n",
    "from sklearn.metrics import accuracy_score\n",
    "from sklearn.ensemble import GradientBoostingClassifier\n",
    "from sklearn.linear_model import LogisticRegression\n",
    "from sklearn.preprocessing import StandardScaler\n",
    "from sklearn.neighbors import KNeighborsClassifier\n",
    "from sklearn.ensemble import RandomForestClassifier, BaggingClassifier\n",
    "from sklearn.tree import DecisionTreeClassifier"
   ]
  },
  {
   "cell_type": "code",
   "execution_count": 19,
   "id": "a3885868",
   "metadata": {},
   "outputs": [],
   "source": [
    "file_path_train = os.path.join(data_path, 'churnTrain.csv')\n",
    "file_path_test = os.path.join(data_path, 'churnTest.csv')\n",
    "\n",
    "df_train = pd.read_csv(file_path_train)\n",
    "df_test = pd.read_csv(file_path_test)"
   ]
  },
  {
   "cell_type": "code",
   "execution_count": 20,
   "id": "0fe8269f",
   "metadata": {},
   "outputs": [
    {
     "name": "stdout",
     "output_type": "stream",
     "text": [
      "Rows from train data with NULLs: 0\n",
      "Rows from test data with NULLs: 64\n",
      "Rows from test data with NULLs: 0\n"
     ]
    }
   ],
   "source": [
    "# Rows containing NULLs\n",
    "\n",
    "print(f\"Rows from train data with NULLs: {len(df_train[df_train.isnull().any(axis=1)])}\")\n",
    "print(f\"Rows from test data with NULLs: {len(df_test[df_test.isnull().any(axis=1)])}\")\n",
    "\n",
    "# Drop rows with NULLs from dataset\n",
    "\n",
    "df_test_dropped = df_test.dropna(axis=0) # drop these rows - likely a better way of dealing with this\n",
    "print(f\"Rows from test data with NULLs: {len(df_test_dropped[df_test_dropped.isnull().any(axis=1)])}\")"
   ]
  },
  {
   "cell_type": "code",
   "execution_count": 21,
   "id": "015450af",
   "metadata": {},
   "outputs": [
    {
     "name": "stdout",
     "output_type": "stream",
     "text": [
      "Train data columns:\n",
      "['State', 'Account_Length', 'Area_Code', 'Phone_No', 'International_Plan', 'Voice_Mail_Plan', 'No_Vmail_Messages', 'Total_Day_minutes', 'Total_Day_Calls', 'Total_Day_charge', 'Total_Eve_Minutes', 'Total_Eve_Calls', 'Total_Eve_Charge', 'Total_Night_Minutes', 'Total_Night_Calls', 'Total_Night_Charge', 'Total_Intl_Minutes', 'Total_Intl_Calls', 'Total_Intl_Charge', 'No_CS_Calls', 'Churn']\n",
      "\n",
      "Test data columns:\n",
      "['State', 'Account_Length', 'Area_Code', 'Phone_No', 'International_Plan', 'Voice_Mail_Plan', 'No_Vmail_Messages', 'Total_Day_minutes', 'Total_Day_Calls', 'Total_Day_charge', 'Total_Eve_Minutes', 'Total_Eve_Calls', 'Total_Eve_Charge', 'Total_Night_Minutes', 'Total_Night_Calls', 'Total_Night_Charge', 'Total_Intl_Minutes', 'Total_Intl_Calls', 'Total_Intl_Charge', 'No_CS_Calls']\n"
     ]
    }
   ],
   "source": [
    "# Dataset columns\n",
    "\n",
    "print(f\"Train data columns:\\n{list(df_train.columns)}\\n\")\n",
    "print(f\"Test data columns:\\n{list(df_test.columns)}\") # no churn column"
   ]
  },
  {
   "cell_type": "code",
   "execution_count": 22,
   "id": "695fdf9b",
   "metadata": {},
   "outputs": [],
   "source": [
    "# prepare modelling datasets\n",
    "\n",
    "df_train = df_train.copy()\n",
    "df_test_dropped = df_test_dropped.copy()\n",
    "\n",
    "df_train.replace((' no', ' yes'), (0, 1), inplace=True) #there is whitespace infront\n",
    "df_test_dropped.replace((' no', ' yes'), (0, 1), inplace=True) \n",
    "\n",
    "df_train.replace((False, True), (0, 1), inplace=True) \n",
    "\n",
    "df_train['State'] = df_train['State'].astype('category')\n",
    "df_train['State'] = df_train['State'].cat.codes\n",
    "df_train['Area_Code'] = df_train['Area_Code'].astype('category')\n",
    "df_train['Area_Code'] = df_train['Area_Code'].cat.codes\n",
    "\n",
    "#do this for test set in real times\n",
    "\n",
    "df_train, df_valid = train_test_split(df_train, test_size=0.2, stratify=df_train['State'], random_state=99)\n",
    "df_valid = df_valid.copy()\n",
    "\n",
    "X_train = df_train.drop(['Churn'], axis=1)\n",
    "y_train = df_train['Churn']\n",
    "\n",
    "X_valid= df_valid.drop(['Churn'], axis=1)\n",
    "y_valid = df_valid['Churn']\n",
    "\n",
    "X_test = df_test"
   ]
  },
  {
   "cell_type": "code",
   "execution_count": 25,
   "id": "f901b855",
   "metadata": {},
   "outputs": [
    {
     "name": "stdout",
     "output_type": "stream",
     "text": [
      "Training accuracy:\t0.8525881470367592\n",
      "Validation accuracy:\t0.8650674662668666\n"
     ]
    }
   ],
   "source": [
    "# modelling - logistic\n",
    "\n",
    "log_model = LogisticRegression()\n",
    "log_model.fit(X_train, y_train)\n",
    "y_hat_train = log_model.predict(X_train)\n",
    "y_hat_valid = log_model.predict(X_valid)\n",
    "\n",
    "print(f'Training accuracy:\\t{accuracy_score(y_train, y_hat_train)}')\n",
    "print(f'Validation accuracy:\\t{accuracy_score(y_valid, y_hat_valid)}')"
   ]
  },
  {
   "cell_type": "code",
   "execution_count": 26,
   "id": "2f82482c",
   "metadata": {},
   "outputs": [
    {
     "name": "stdout",
     "output_type": "stream",
     "text": [
      "Training accuracy:\t0.9171042760690172\n",
      "Validation accuracy:\t0.9070464767616192\n"
     ]
    }
   ],
   "source": [
    "# modelling - knn\n",
    "\n",
    "scaler = StandardScaler()\n",
    "X_train_norm = scaler.fit_transform(X_train)\n",
    "X_valid_norm = scaler.fit_transform(X_valid)\n",
    "\n",
    "knn_model = KNeighborsClassifier()\n",
    "knn_model.fit(X_train_norm, y_train)\n",
    "\n",
    "y_hat_train = knn_model.predict(X_train_norm)\n",
    "y_hat_valid = knn_model.predict(X_valid_norm)\n",
    "\n",
    "print(f'Training accuracy:\\t{accuracy_score(y_train, y_hat_train)}')\n",
    "print(f'Validation accuracy:\\t{accuracy_score(y_valid, y_hat_valid)}')"
   ]
  },
  {
   "cell_type": "code",
   "execution_count": 27,
   "id": "d2a81a9b",
   "metadata": {},
   "outputs": [
    {
     "name": "stdout",
     "output_type": "stream",
     "text": [
      "Training accuracy:\t1.0\n",
      "Validation accuracy:\t0.9070464767616192\n"
     ]
    }
   ],
   "source": [
    "# modelling - tree\n",
    "\n",
    "tree_model = DecisionTreeClassifier()\n",
    "tree_model.fit(X_train, y_train)\n",
    "\n",
    "y_hat_train = tree_model.predict(X_train)\n",
    "y_hat_valid = tree_model.predict(X_valid)\n",
    "\n",
    "print(f'Training accuracy:\\t{accuracy_score(y_train, y_hat_train)}')\n",
    "print(f'Validation accuracy:\\t{accuracy_score(y_valid, y_hat_valid)}')"
   ]
  },
  {
   "cell_type": "code",
   "execution_count": 28,
   "id": "41ab259b",
   "metadata": {},
   "outputs": [
    {
     "name": "stdout",
     "output_type": "stream",
     "text": [
      "Training accuracy:\t0.9913728432108027\n",
      "Validation accuracy:\t0.9625187406296851\n"
     ]
    }
   ],
   "source": [
    "# modelling - bag\n",
    "\n",
    "bag_model = BaggingClassifier()\n",
    "bag_model.fit(X_train, y_train)\n",
    "\n",
    "y_hat_train = bag_model.predict(X_train)\n",
    "y_hat_valid = bag_model.predict(X_valid)\n",
    "\n",
    "print(f'Training accuracy:\\t{accuracy_score(y_train, y_hat_train)}')\n",
    "print(f'Validation accuracy:\\t{accuracy_score(y_valid, y_hat_valid)}')"
   ]
  },
  {
   "cell_type": "code",
   "execution_count": 29,
   "id": "3cb73637",
   "metadata": {},
   "outputs": [
    {
     "name": "stdout",
     "output_type": "stream",
     "text": [
      "Training accuracy:\t1.0\n",
      "Validation accuracy:\t0.9625187406296851\n"
     ]
    }
   ],
   "source": [
    "# modelling - forest\n",
    "\n",
    "forest_model = RandomForestClassifier()\n",
    "forest_model.fit(X_train, y_train)\n",
    "\n",
    "y_hat_train = forest_model.predict(X_train)\n",
    "y_hat_valid = forest_model.predict(X_valid)\n",
    "\n",
    "print(f'Training accuracy:\\t{accuracy_score(y_train, y_hat_train)}')\n",
    "print(f'Validation accuracy:\\t{accuracy_score(y_valid, y_hat_valid)}')"
   ]
  },
  {
   "cell_type": "code",
   "execution_count": 30,
   "id": "a88fb20d",
   "metadata": {},
   "outputs": [
    {
     "name": "stdout",
     "output_type": "stream",
     "text": [
      "Training accuracy:\t0.9737434358589647\n",
      "Validation accuracy:\t0.9565217391304348\n"
     ]
    }
   ],
   "source": [
    "# modelling - boost\n",
    "\n",
    "boost_model = GradientBoostingClassifier()\n",
    "boost_model.fit(X_train, y_train)\n",
    "\n",
    "y_hat_train = boost_model.predict(X_train)\n",
    "y_hat_valid = boost_model.predict(X_valid)\n",
    "\n",
    "print(f'Training accuracy:\\t{accuracy_score(y_train, y_hat_train)}')\n",
    "print(f'Validation accuracy:\\t{accuracy_score(y_valid, y_hat_valid)}')"
   ]
  },
  {
   "cell_type": "code",
   "execution_count": null,
   "id": "d24aade9",
   "metadata": {},
   "outputs": [],
   "source": []
  }
 ],
 "metadata": {
  "kernelspec": {
   "display_name": "Python 3 (ipykernel)",
   "language": "python",
   "name": "python3"
  },
  "language_info": {
   "codemirror_mode": {
    "name": "ipython",
    "version": 3
   },
   "file_extension": ".py",
   "mimetype": "text/x-python",
   "name": "python",
   "nbconvert_exporter": "python",
   "pygments_lexer": "ipython3",
   "version": "3.9.10"
  }
 },
 "nbformat": 4,
 "nbformat_minor": 5
}
