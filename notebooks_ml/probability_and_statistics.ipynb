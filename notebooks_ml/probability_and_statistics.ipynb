{
 "cells": [
  {
   "cell_type": "markdown",
   "id": "7bc48c3b",
   "metadata": {},
   "source": [
    "# Table of Contents\n",
    "\n",
    "* [Summary Statistics](#chapter1)\n",
    "\n",
    "* [Distributions](#chapter2)\n",
    "    \n",
    "* [Confidence Intervals](#chapter3)\n",
    "\n",
    "* [OLS](#chapter4)\n",
    "    \n",
    "* [Hypothesis Testing](#chapter5)\n",
    "    * [Example](#section_5_1)"
   ]
  },
  {
   "cell_type": "code",
   "execution_count": 74,
   "id": "d82ea5f2",
   "metadata": {},
   "outputs": [],
   "source": [
    "import numpy as np\n",
    "import matplotlib.pyplot as plt\n",
    "import scipy.stats as ss\n",
    "import statsmodels.api as sm\n",
    "from tqdm import tqdm\n",
    "import pandas as pd\n",
    "from sklearn.datasets import fetch_california_housing\n",
    "import statistics\n",
    "import os"
   ]
  },
  {
   "cell_type": "code",
   "execution_count": 3,
   "id": "7df7c3ad",
   "metadata": {},
   "outputs": [],
   "source": [
    "%matplotlib inline\n",
    "plt.style.use('dark_background')"
   ]
  },
  {
   "cell_type": "code",
   "execution_count": 23,
   "id": "76bb0f08",
   "metadata": {},
   "outputs": [],
   "source": [
    "data_path = os.path.join('data', 'statistics')"
   ]
  },
  {
   "cell_type": "markdown",
   "id": "1b3bbaea",
   "metadata": {},
   "source": [
    "# 1. Summary Stats<a class=\"anchor\" id=\"chapter1\"></a>"
   ]
  },
  {
   "cell_type": "code",
   "execution_count": 98,
   "id": "24db4e6d",
   "metadata": {},
   "outputs": [
    {
     "name": "stdout",
     "output_type": "stream",
     "text": [
      "Mode:\t\t2\n",
      "Median:\t\t2.0\n",
      "Mean:\t\t1.75\n",
      "Variance:\t1.929\n"
     ]
    }
   ],
   "source": [
    "# mode, median, mean and variance\n",
    "\n",
    "data = [0, 2, 2, 2, 1, 0, 4, 3]\n",
    "\n",
    "data = pd.Series(data)\n",
    "\n",
    "print(f'Mode:\\t\\t{round(statistics.mode(data), 3)}')\n",
    "print(f'Median:\\t\\t{round(data.median(), 3)}')\n",
    "print(f'Mean:\\t\\t{round(data.mean(), 3)}')\n",
    "print(f'Variance:\\t{round(data.std()**2, 3)}')"
   ]
  },
  {
   "cell_type": "code",
   "execution_count": 20,
   "id": "8df7481a",
   "metadata": {},
   "outputs": [
    {
     "name": "stdout",
     "output_type": "stream",
     "text": [
      "Mean:\n",
      "0    80.666667\n",
      "1    79.666667\n",
      "dtype: float64\n",
      "\n",
      "Covariance:\n",
      "            0           1\n",
      "0  121.333333  129.333333\n",
      "1  129.333333  165.333333\n",
      "\n",
      "Correlation:\n",
      "          0         1\n",
      "0  1.000000  0.913146\n",
      "1  0.913146  1.000000\n"
     ]
    }
   ],
   "source": [
    "# covariance and correlation\n",
    "\n",
    "data = [\n",
    "    (70,65), (80,85), (92,89)\n",
    "]\n",
    "\n",
    "data = pd.DataFrame(data)\n",
    "\n",
    "print(f'Mean:\\n{data.mean()}\\n')\n",
    "print(f'Covariance:\\n{data.cov()}\\n')\n",
    "print(f'Correlation:\\n{data.corr()}')"
   ]
  },
  {
   "cell_type": "code",
   "execution_count": 21,
   "id": "12b32479",
   "metadata": {},
   "outputs": [
    {
     "data": {
      "text/html": [
       "<div>\n",
       "<style scoped>\n",
       "    .dataframe tbody tr th:only-of-type {\n",
       "        vertical-align: middle;\n",
       "    }\n",
       "\n",
       "    .dataframe tbody tr th {\n",
       "        vertical-align: top;\n",
       "    }\n",
       "\n",
       "    .dataframe thead th {\n",
       "        text-align: right;\n",
       "    }\n",
       "</style>\n",
       "<table border=\"1\" class=\"dataframe\">\n",
       "  <thead>\n",
       "    <tr style=\"text-align: right;\">\n",
       "      <th></th>\n",
       "      <th>MedInc</th>\n",
       "      <th>HouseAge</th>\n",
       "      <th>AveRooms</th>\n",
       "      <th>AveBedrms</th>\n",
       "      <th>Population</th>\n",
       "      <th>AveOccup</th>\n",
       "      <th>Latitude</th>\n",
       "      <th>Longitude</th>\n",
       "      <th>price</th>\n",
       "    </tr>\n",
       "  </thead>\n",
       "  <tbody>\n",
       "    <tr>\n",
       "      <th>count</th>\n",
       "      <td>20640.000000</td>\n",
       "      <td>20640.000000</td>\n",
       "      <td>20640.000000</td>\n",
       "      <td>20640.000000</td>\n",
       "      <td>20640.000000</td>\n",
       "      <td>20640.000000</td>\n",
       "      <td>20640.000000</td>\n",
       "      <td>20640.000000</td>\n",
       "      <td>20640.000000</td>\n",
       "    </tr>\n",
       "    <tr>\n",
       "      <th>mean</th>\n",
       "      <td>3.870671</td>\n",
       "      <td>28.639486</td>\n",
       "      <td>5.429000</td>\n",
       "      <td>1.096675</td>\n",
       "      <td>1425.476744</td>\n",
       "      <td>3.070655</td>\n",
       "      <td>35.631861</td>\n",
       "      <td>-119.569704</td>\n",
       "      <td>2.068558</td>\n",
       "    </tr>\n",
       "    <tr>\n",
       "      <th>std</th>\n",
       "      <td>1.899822</td>\n",
       "      <td>12.585558</td>\n",
       "      <td>2.474173</td>\n",
       "      <td>0.473911</td>\n",
       "      <td>1132.462122</td>\n",
       "      <td>10.386050</td>\n",
       "      <td>2.135952</td>\n",
       "      <td>2.003532</td>\n",
       "      <td>1.153956</td>\n",
       "    </tr>\n",
       "    <tr>\n",
       "      <th>min</th>\n",
       "      <td>0.499900</td>\n",
       "      <td>1.000000</td>\n",
       "      <td>0.846154</td>\n",
       "      <td>0.333333</td>\n",
       "      <td>3.000000</td>\n",
       "      <td>0.692308</td>\n",
       "      <td>32.540000</td>\n",
       "      <td>-124.350000</td>\n",
       "      <td>0.149990</td>\n",
       "    </tr>\n",
       "    <tr>\n",
       "      <th>25%</th>\n",
       "      <td>2.563400</td>\n",
       "      <td>18.000000</td>\n",
       "      <td>4.440716</td>\n",
       "      <td>1.006079</td>\n",
       "      <td>787.000000</td>\n",
       "      <td>2.429741</td>\n",
       "      <td>33.930000</td>\n",
       "      <td>-121.800000</td>\n",
       "      <td>1.196000</td>\n",
       "    </tr>\n",
       "    <tr>\n",
       "      <th>50%</th>\n",
       "      <td>3.534800</td>\n",
       "      <td>29.000000</td>\n",
       "      <td>5.229129</td>\n",
       "      <td>1.048780</td>\n",
       "      <td>1166.000000</td>\n",
       "      <td>2.818116</td>\n",
       "      <td>34.260000</td>\n",
       "      <td>-118.490000</td>\n",
       "      <td>1.797000</td>\n",
       "    </tr>\n",
       "    <tr>\n",
       "      <th>75%</th>\n",
       "      <td>4.743250</td>\n",
       "      <td>37.000000</td>\n",
       "      <td>6.052381</td>\n",
       "      <td>1.099526</td>\n",
       "      <td>1725.000000</td>\n",
       "      <td>3.282261</td>\n",
       "      <td>37.710000</td>\n",
       "      <td>-118.010000</td>\n",
       "      <td>2.647250</td>\n",
       "    </tr>\n",
       "    <tr>\n",
       "      <th>max</th>\n",
       "      <td>15.000100</td>\n",
       "      <td>52.000000</td>\n",
       "      <td>141.909091</td>\n",
       "      <td>34.066667</td>\n",
       "      <td>35682.000000</td>\n",
       "      <td>1243.333333</td>\n",
       "      <td>41.950000</td>\n",
       "      <td>-114.310000</td>\n",
       "      <td>5.000010</td>\n",
       "    </tr>\n",
       "  </tbody>\n",
       "</table>\n",
       "</div>"
      ],
      "text/plain": [
       "             MedInc      HouseAge      AveRooms     AveBedrms    Population  \\\n",
       "count  20640.000000  20640.000000  20640.000000  20640.000000  20640.000000   \n",
       "mean       3.870671     28.639486      5.429000      1.096675   1425.476744   \n",
       "std        1.899822     12.585558      2.474173      0.473911   1132.462122   \n",
       "min        0.499900      1.000000      0.846154      0.333333      3.000000   \n",
       "25%        2.563400     18.000000      4.440716      1.006079    787.000000   \n",
       "50%        3.534800     29.000000      5.229129      1.048780   1166.000000   \n",
       "75%        4.743250     37.000000      6.052381      1.099526   1725.000000   \n",
       "max       15.000100     52.000000    141.909091     34.066667  35682.000000   \n",
       "\n",
       "           AveOccup      Latitude     Longitude         price  \n",
       "count  20640.000000  20640.000000  20640.000000  20640.000000  \n",
       "mean       3.070655     35.631861   -119.569704      2.068558  \n",
       "std       10.386050      2.135952      2.003532      1.153956  \n",
       "min        0.692308     32.540000   -124.350000      0.149990  \n",
       "25%        2.429741     33.930000   -121.800000      1.196000  \n",
       "50%        2.818116     34.260000   -118.490000      1.797000  \n",
       "75%        3.282261     37.710000   -118.010000      2.647250  \n",
       "max     1243.333333     41.950000   -114.310000      5.000010  "
      ]
     },
     "execution_count": 21,
     "metadata": {},
     "output_type": "execute_result"
    }
   ],
   "source": [
    "# descriptions\n",
    "\n",
    "data = fetch_california_housing()\n",
    "df = pd.DataFrame(data['data'], columns=data['feature_names'])\n",
    "df['price'] = data['target']\n",
    "\n",
    "df.describe()"
   ]
  },
  {
   "cell_type": "code",
   "execution_count": null,
   "id": "83621b4e",
   "metadata": {},
   "outputs": [],
   "source": []
  },
  {
   "cell_type": "markdown",
   "id": "6f9ae57f",
   "metadata": {},
   "source": [
    "# 2. Distributions<a class=\"anchor\" id=\"chapter2\"></a>"
   ]
  },
  {
   "cell_type": "code",
   "execution_count": 4,
   "id": "ba200c1f",
   "metadata": {},
   "outputs": [
    {
     "data": {
      "text/plain": [
       "[<matplotlib.lines.Line2D at 0x1e8b680b520>]"
      ]
     },
     "execution_count": 4,
     "metadata": {},
     "output_type": "execute_result"
    },
    {
     "data": {
      "image/png": "[encoded data removed]",
      "text/plain": [
       "<Figure size 432x288 with 1 Axes>"
      ]
     },
     "metadata": {},
     "output_type": "display_data"
    }
   ],
   "source": [
    "# Normal dist\n",
    "\n",
    "mean = 0\n",
    "sd = 1\n",
    "samples = 10000\n",
    "\n",
    "#samples\n",
    "norm_samples = np.random.normal(mean, sd, samples)\n",
    "\n",
    "#generate points for the pdf\n",
    "x = np.linspace(-3*sd, 3*sd, 100)\n",
    "y = ss.norm.pdf(x, mean, sd)\n",
    "\n",
    "#plot histogram\n",
    "fig, ax = plt.subplots()\n",
    "ax.hist(norm_samples, density=True, bins=50)\n",
    "ax.plot(x,y)"
   ]
  },
  {
   "cell_type": "code",
   "execution_count": 5,
   "id": "db0ea1c0",
   "metadata": {},
   "outputs": [
    {
     "name": "stdout",
     "output_type": "stream",
     "text": [
      "<class 'numpy.ndarray'>\n"
     ]
    },
    {
     "data": {
      "text/plain": [
       "[<matplotlib.lines.Line2D at 0x1e8b68e4eb0>]"
      ]
     },
     "execution_count": 5,
     "metadata": {},
     "output_type": "execute_result"
    },
    {
     "data": {
      "image/png": "[encoded data removed]",
      "text/plain": [
       "<Figure size 432x288 with 1 Axes>"
      ]
     },
     "metadata": {},
     "output_type": "display_data"
    }
   ],
   "source": [
    "# Poisson\n",
    "\n",
    "rate = 2\n",
    "samples = 10000\n",
    "\n",
    "# samples\n",
    "pois_samples = np.random.poisson(rate, samples)\n",
    "print(type(pois_samples))\n",
    "# pdf points\n",
    "x = np.linspace(0,10,11)\n",
    "# can use x=np.arange(0,10,1) instead of linspace\n",
    "y = ss.poisson.pmf(x,rate)\n",
    "\n",
    "# plot hist\n",
    "fig, ax = plt.subplots()\n",
    "custom_bins = [-0.5+i for i in range(10)]\n",
    "ax.hist(pois_samples, density=True, bins = custom_bins)\n",
    "ax.plot(x,y, c='red', zorder=50)"
   ]
  },
  {
   "cell_type": "code",
   "execution_count": 8,
   "id": "fa86b88a",
   "metadata": {},
   "outputs": [
    {
     "name": "stderr",
     "output_type": "stream",
     "text": [
      "100%|███████████████████████████████████████████████████████████████████| 10000/10000 [01:36<00:00, 103.15it/s]\n"
     ]
    },
    {
     "data": {
      "text/plain": [
       "[<matplotlib.lines.Line2D at 0x1e8b7965970>]"
      ]
     },
     "execution_count": 8,
     "metadata": {},
     "output_type": "execute_result"
    },
    {
     "data": {
      "image/png": "[encoded data removed]",
      "text/plain": [
       "<Figure size 432x288 with 1 Axes>"
      ]
     },
     "metadata": {},
     "output_type": "display_data"
    }
   ],
   "source": [
    "# Central Limit Theorem exercise\n",
    "\n",
    "rate = 5\n",
    "N = 50000\n",
    "\n",
    "draws = np.ndarray((10000,))\n",
    "\n",
    "for i in tqdm(range(10000)):\n",
    "    pois_samples = np.random.poisson(rate, N)\n",
    "    x_bar = np.mean(pois_samples)\n",
    "    draws[i] = x_bar\n",
    "\n",
    "x = np.linspace(-3, 3, 100)\n",
    "y = ss.norm.pdf(x, 0, 1)\n",
    "\n",
    "v = np.var(draws)\n",
    "    \n",
    "fig, ax = plt.subplots()\n",
    "ax.hist((draws-rate)/v**0.5, density=True)\n",
    "ax.plot(x,y)"
   ]
  },
  {
   "cell_type": "code",
   "execution_count": null,
   "id": "449cedd0",
   "metadata": {},
   "outputs": [],
   "source": []
  },
  {
   "cell_type": "markdown",
   "id": "7cd1ac3c",
   "metadata": {},
   "source": [
    "# 3. Confidence Intervals<a class=\"anchor\" id=\"chapter3\"></a>"
   ]
  },
  {
   "cell_type": "code",
   "execution_count": 48,
   "id": "67c6f39a",
   "metadata": {},
   "outputs": [
    {
     "data": {
      "text/plain": [
       "(8999, 7)"
      ]
     },
     "execution_count": 48,
     "metadata": {},
     "output_type": "execute_result"
    }
   ],
   "source": [
    "file_path = os.path.join(data_path, 'gender_cleaned_test_train.xlsx')\n",
    "\n",
    "data = pd.read_excel(file_path, sheet_name='train')\n",
    "data.shape"
   ]
  },
  {
   "cell_type": "code",
   "execution_count": 56,
   "id": "6b75323b",
   "metadata": {},
   "outputs": [
    {
     "name": "stdout",
     "output_type": "stream",
     "text": [
      "Population mean:\t168.62549585327918\n",
      "Sample mean:\t\t168.58693594991385\n"
     ]
    }
   ],
   "source": [
    "N = 100\n",
    "\n",
    "mean = data['Height'].mean()\n",
    "mu = data['Height'].sample(N).mean()\n",
    "print(f\"Population mean:\\t{mean}\")\n",
    "print(f\"Sample mean:\\t\\t{mu}\")"
   ]
  },
  {
   "cell_type": "code",
   "execution_count": 67,
   "id": "8c3ca156",
   "metadata": {},
   "outputs": [
    {
     "name": "stdout",
     "output_type": "stream",
     "text": [
      "Std. Deviation:\t9.777062357643441\n",
      "Std. Error:\t0.9777062357643441\n",
      "\n",
      "Critical value:\t1.96\n",
      "95.0% CI:\t(166.671, 170.503)\n",
      "Interval area:\t0.955000089\n"
     ]
    }
   ],
   "source": [
    "sample_std = data['Height'].std()\n",
    "std_error = sample_std / (N ** 0.5)\n",
    "conf_level = 0.95\n",
    "alpha_div_two = (1 - conf_level) / 2\n",
    "z_crit = ss.norm.ppf(conf_level + alpha_div_two)\n",
    "\n",
    "lower = mu - (z_crit * std_error)\n",
    "upper = mu + (z_crit * std_error)\n",
    "\n",
    "area = round(\n",
    "    statistics.NormalDist(mu, sigma=(sample_std ** 2) / N).cdf(upper) - \n",
    "    statistics.NormalDist(mu, sigma=(sample_std ** 2) / N).cdf(lower), 9\n",
    ")\n",
    "\n",
    "print(f'Std. Deviation:\\t{sample_std}')\n",
    "print(f'Std. Error:\\t{std_error}\\n')\n",
    "print(f'Critical value:\\t{round(z_crit, 3)}')\n",
    "\n",
    "print(f'{conf_level*100}% CI:\\t({round(lower, 3)}, {round(upper, 3)})')\n",
    "print(f'Interval area:\\t{area}')"
   ]
  },
  {
   "cell_type": "code",
   "execution_count": 41,
   "id": "d422a20d",
   "metadata": {},
   "outputs": [
    {
     "data": {
      "text/plain": [
       "(166.793, 171.023)"
      ]
     },
     "execution_count": 41,
     "metadata": {},
     "output_type": "execute_result"
    }
   ],
   "source": [
    "# this is redefined later\n",
    "\n",
    "def confidence_interval_sample_mean(data, conf_level=0.95):\n",
    "    \n",
    "    N = len(data)\n",
    "    sample_mean = data.mean()\n",
    "    sample_std = data.std()\n",
    "    std_error = sample_std/(N ** 0.5)\n",
    "    alpha_div_two = (1 - conf_level) / 2\n",
    "    z_critical = ss.norm.ppf(conf_level + alpha_div_two)\n",
    "    \n",
    "    lower = sample_mean - (z_critical * std_error)\n",
    "    upper = sample_mean + (z_critical * std_error)\n",
    "    \n",
    "    return (round(lower, 3), round(upper, 3))\n",
    "\n",
    "confidence_interval_sample_mean(data['Height'].sample(N))"
   ]
  },
  {
   "cell_type": "code",
   "execution_count": null,
   "id": "5f99fbb1",
   "metadata": {},
   "outputs": [],
   "source": []
  },
  {
   "cell_type": "code",
   "execution_count": 68,
   "id": "f07d927b",
   "metadata": {},
   "outputs": [
    {
     "data": {
      "text/plain": [
       "(40, 2)"
      ]
     },
     "execution_count": 68,
     "metadata": {},
     "output_type": "execute_result"
    }
   ],
   "source": [
    "file_path = os.path.join(data_path, 'coffee_experiment.csv')\n",
    "\n",
    "data = pd.read_csv(file_path)\n",
    "data.shape"
   ]
  },
  {
   "cell_type": "code",
   "execution_count": 69,
   "id": "e1ea1747",
   "metadata": {},
   "outputs": [
    {
     "name": "stdout",
     "output_type": "stream",
     "text": [
      "CI no coffee : (960.729, 1021.221)\n",
      "CI coffee    : (968.843, 1156.307)\n"
     ]
    },
    {
     "data": {
      "image/png": "[encoded data removed]",
      "text/plain": [
       "<Figure size 432x288 with 1 Axes>"
      ]
     },
     "metadata": {},
     "output_type": "display_data"
    },
    {
     "data": {
      "image/png": "[encoded data removed]",
      "text/plain": [
       "<Figure size 432x288 with 1 Axes>"
      ]
     },
     "metadata": {},
     "output_type": "display_data"
    }
   ],
   "source": [
    "ax = data.plot()\n",
    "ax.set_ylabel('Productivity')\n",
    "\n",
    "fig, ax = plt.subplots()\n",
    "ax.hist(data['coffee'], alpha=0.3, label = 'coffee')\n",
    "ax.hist(data['no_coffee'], alpha=0.3, label = 'no coffee')\n",
    "ax.set_xlabel('Productivity')\n",
    "ax.legend()\n",
    "\n",
    "print('CI no coffee :', confidence_interval_sample_mean(data['no_coffee']))\n",
    "print('CI coffee    :', confidence_interval_sample_mean(data['coffee']))"
   ]
  },
  {
   "cell_type": "code",
   "execution_count": null,
   "id": "d0b11df1",
   "metadata": {},
   "outputs": [],
   "source": []
  },
  {
   "cell_type": "markdown",
   "id": "9cf137c3",
   "metadata": {},
   "source": [
    "# 4. OLS<a class=\"anchor\" id=\"chapter4\"></a>"
   ]
  },
  {
   "cell_type": "code",
   "execution_count": 70,
   "id": "23b8e49f",
   "metadata": {},
   "outputs": [
    {
     "data": {
      "text/plain": [
       "(8999, 7)"
      ]
     },
     "execution_count": 70,
     "metadata": {},
     "output_type": "execute_result"
    }
   ],
   "source": [
    "file_path = os.path.join(data_path, 'gender_cleaned_test_train.xlsx')\n",
    "\n",
    "data = pd.read_excel(file_path, sheet_name='train')\n",
    "data.shape"
   ]
  },
  {
   "cell_type": "code",
   "execution_count": 78,
   "id": "46a7928c",
   "metadata": {},
   "outputs": [
    {
     "name": "stdout",
     "output_type": "stream",
     "text": [
      "\n",
      "The summary reports the following for each coefficient:\n",
      "- coefficient value\n",
      "- standard error\n",
      "- t-statistic (null hypothesis is the coefficient is zero)\n",
      "- p-value (two sided test, null hypothesis is the coefficient is zero)\n",
      "- 95% confidence interval\n",
      "\n",
      " \n",
      "\n",
      "Model Checking metrics:\n",
      "- Durbin Waton: Tests for autocorrelation. It is between 0 and 4.\n",
      "  A statistic of 2 indicates no autocorrelation.\n",
      "  A statistic substantially less than 2 indicates there is autocorrelation.\n",
      "- Jarque-Beta: Tests whether residuals have the skewness and kurtosis matching\n",
      "  that of a normal distribution.\n",
      "  The null hypothesis is that the residuals have a skewness=0, and an excess\n",
      "  kurtosis equal to 0.\n",
      "- Omnibus: Tests for normality. Null hypothesis is that the residuals are normal.\n",
      "- Condition Number: When the condition number is large (much larger than 1),\n",
      "  then computing the inverse is difficult.\n",
      "\n"
     ]
    }
   ],
   "source": [
    "string = '''\n",
    "The summary reports the following for each coefficient:\n",
    "- coefficient value\n",
    "- standard error\n",
    "- t-statistic (null hypothesis is the coefficient is zero)\n",
    "- p-value (two sided test, null hypothesis is the coefficient is zero)\n",
    "- 95% confidence interval\n",
    "\n",
    " \n",
    "\n",
    "Model Checking metrics:\n",
    "- Durbin Waton: Tests for autocorrelation. It is between 0 and 4.\n",
    "  A statistic of 2 indicates no autocorrelation.\n",
    "  A statistic substantially less than 2 indicates there is autocorrelation.\n",
    "- Jarque-Beta: Tests whether residuals have the skewness and kurtosis matching\n",
    "  that of a normal distribution.\n",
    "  The null hypothesis is that the residuals have a skewness=0, and an excess\n",
    "  kurtosis equal to 0.\n",
    "- Omnibus: Tests for normality. Null hypothesis is that the residuals are normal.\n",
    "- Condition Number: When the condition number is large (much larger than 1),\n",
    "  then computing the inverse is difficult.\n",
    "'''\n",
    "\n",
    "print(string)"
   ]
  },
  {
   "cell_type": "code",
   "execution_count": 75,
   "id": "95788a9f",
   "metadata": {},
   "outputs": [
    {
     "data": {
      "text/html": [
       "<table class=\"simpletable\">\n",
       "<caption>OLS Regression Results</caption>\n",
       "<tr>\n",
       "  <th>Dep. Variable:</th>         <td>Height</td>      <th>  R-squared:         </th> <td>   0.860</td> \n",
       "</tr>\n",
       "<tr>\n",
       "  <th>Model:</th>                   <td>OLS</td>       <th>  Adj. R-squared:    </th> <td>   0.860</td> \n",
       "</tr>\n",
       "<tr>\n",
       "  <th>Method:</th>             <td>Least Squares</td>  <th>  F-statistic:       </th> <td>2.771e+04</td>\n",
       "</tr>\n",
       "<tr>\n",
       "  <th>Date:</th>             <td>Fri, 27 May 2022</td> <th>  Prob (F-statistic):</th>  <td>  0.00</td>  \n",
       "</tr>\n",
       "<tr>\n",
       "  <th>Time:</th>                 <td>20:57:24</td>     <th>  Log-Likelihood:    </th> <td> -24428.</td> \n",
       "</tr>\n",
       "<tr>\n",
       "  <th>No. Observations:</th>      <td>  8999</td>      <th>  AIC:               </th> <td>4.886e+04</td>\n",
       "</tr>\n",
       "<tr>\n",
       "  <th>Df Residuals:</th>          <td>  8996</td>      <th>  BIC:               </th> <td>4.888e+04</td>\n",
       "</tr>\n",
       "<tr>\n",
       "  <th>Df Model:</th>              <td>     2</td>      <th>                     </th>     <td> </td>    \n",
       "</tr>\n",
       "<tr>\n",
       "  <th>Covariance Type:</th>      <td>nonrobust</td>    <th>                     </th>     <td> </td>    \n",
       "</tr>\n",
       "</table>\n",
       "<table class=\"simpletable\">\n",
       "<tr>\n",
       "     <td></td>       <th>coef</th>     <th>std err</th>      <th>t</th>      <th>P>|t|</th>  <th>[0.025</th>    <th>0.975]</th>  \n",
       "</tr>\n",
       "<tr>\n",
       "  <th>const</th>  <td>  119.4187</td> <td>    0.275</td> <td>  434.020</td> <td> 0.000</td> <td>  118.879</td> <td>  119.958</td>\n",
       "</tr>\n",
       "<tr>\n",
       "  <th>IsMale</th> <td>   -2.4149</td> <td>    0.127</td> <td>  -19.015</td> <td> 0.000</td> <td>   -2.664</td> <td>   -2.166</td>\n",
       "</tr>\n",
       "<tr>\n",
       "  <th>Weight</th> <td>    0.6872</td> <td>    0.004</td> <td>  157.461</td> <td> 0.000</td> <td>    0.679</td> <td>    0.696</td>\n",
       "</tr>\n",
       "</table>\n",
       "<table class=\"simpletable\">\n",
       "<tr>\n",
       "  <th>Omnibus:</th>       <td> 3.048</td> <th>  Durbin-Watson:     </th> <td>   2.023</td>\n",
       "</tr>\n",
       "<tr>\n",
       "  <th>Prob(Omnibus):</th> <td> 0.218</td> <th>  Jarque-Bera (JB):  </th> <td>   3.067</td>\n",
       "</tr>\n",
       "<tr>\n",
       "  <th>Skew:</th>          <td>-0.044</td> <th>  Prob(JB):          </th> <td>   0.216</td>\n",
       "</tr>\n",
       "<tr>\n",
       "  <th>Kurtosis:</th>      <td> 2.984</td> <th>  Cond. No.          </th> <td>    564.</td>\n",
       "</tr>\n",
       "</table><br/><br/>Notes:<br/>[1] Standard Errors assume that the covariance matrix of the errors is correctly specified."
      ],
      "text/plain": [
       "<class 'statsmodels.iolib.summary.Summary'>\n",
       "\"\"\"\n",
       "                            OLS Regression Results                            \n",
       "==============================================================================\n",
       "Dep. Variable:                 Height   R-squared:                       0.860\n",
       "Model:                            OLS   Adj. R-squared:                  0.860\n",
       "Method:                 Least Squares   F-statistic:                 2.771e+04\n",
       "Date:                Fri, 27 May 2022   Prob (F-statistic):               0.00\n",
       "Time:                        20:57:24   Log-Likelihood:                -24428.\n",
       "No. Observations:                8999   AIC:                         4.886e+04\n",
       "Df Residuals:                    8996   BIC:                         4.888e+04\n",
       "Df Model:                           2                                         \n",
       "Covariance Type:            nonrobust                                         \n",
       "==============================================================================\n",
       "                 coef    std err          t      P>|t|      [0.025      0.975]\n",
       "------------------------------------------------------------------------------\n",
       "const        119.4187      0.275    434.020      0.000     118.879     119.958\n",
       "IsMale        -2.4149      0.127    -19.015      0.000      -2.664      -2.166\n",
       "Weight         0.6872      0.004    157.461      0.000       0.679       0.696\n",
       "==============================================================================\n",
       "Omnibus:                        3.048   Durbin-Watson:                   2.023\n",
       "Prob(Omnibus):                  0.218   Jarque-Bera (JB):                3.067\n",
       "Skew:                          -0.044   Prob(JB):                        0.216\n",
       "Kurtosis:                       2.984   Cond. No.                         564.\n",
       "==============================================================================\n",
       "\n",
       "Notes:\n",
       "[1] Standard Errors assume that the covariance matrix of the errors is correctly specified.\n",
       "\"\"\""
      ]
     },
     "execution_count": 75,
     "metadata": {},
     "output_type": "execute_result"
    }
   ],
   "source": [
    "y = data['Height']\n",
    "X = sm.add_constant(data[['IsMale','Weight']])\n",
    "\n",
    "model = sm.OLS(y,X)\n",
    "ols_results = model.fit()\n",
    "\n",
    "ols_results.summary()"
   ]
  },
  {
   "cell_type": "code",
   "execution_count": null,
   "id": "5525caf6",
   "metadata": {},
   "outputs": [],
   "source": []
  },
  {
   "cell_type": "markdown",
   "id": "9299d867",
   "metadata": {},
   "source": [
    "# 5. Hypothesis Testing<a class=\"anchor\" id=\"chapter5\"></a>"
   ]
  },
  {
   "cell_type": "code",
   "execution_count": 89,
   "id": "81c74560",
   "metadata": {},
   "outputs": [
    {
     "data": {
      "text/plain": [
       "(40, 2)"
      ]
     },
     "execution_count": 89,
     "metadata": {},
     "output_type": "execute_result"
    }
   ],
   "source": [
    "file_path = os.path.join(data_path, 'coffee_experiment.csv')\n",
    "\n",
    "data = pd.read_csv(file_path)\n",
    "data.shape"
   ]
  },
  {
   "cell_type": "code",
   "execution_count": null,
   "id": "b35dc421",
   "metadata": {},
   "outputs": [],
   "source": [
    "# university q claims mean is 25,000\n",
    "# std dev of 10,000\n",
    "\n",
    "# We do left tailed test\n",
    "# H0: mu = 25000\n",
    "# H1: mu < 25000 "
   ]
  },
  {
   "cell_type": "code",
   "execution_count": 82,
   "id": "13ef28c5",
   "metadata": {},
   "outputs": [],
   "source": [
    "N = len(data)\n",
    "sample_mean = data['Salary'].mean()\n",
    "sample_std = data['Salary'].std()\n",
    "sample_se = sample_std / (N ** 0.5)"
   ]
  },
  {
   "cell_type": "code",
   "execution_count": 83,
   "id": "594f7f56",
   "metadata": {},
   "outputs": [],
   "source": [
    "# t-statistic\n",
    "mu = 25000\n",
    "t = (sample_mean - mu) / sample_se"
   ]
  },
  {
   "cell_type": "code",
   "execution_count": 85,
   "id": "2c4d6846",
   "metadata": {},
   "outputs": [
    {
     "name": "stdout",
     "output_type": "stream",
     "text": [
      "t statistic:\t -2.043441334871025\n",
      "p-value:\t 0.023202452391853902\n"
     ]
    }
   ],
   "source": [
    "# one sided p-value\n",
    "# this is the probability of seeing \n",
    "# a t-stat less than the sample mean assuming pop mean of 25000\n",
    "\n",
    "p_value = ss.t(df=N-1).cdf(t)\n",
    "print(f't statistic:\\t', t)\n",
    "print(f'p-value:\\t', p_value)"
   ]
  },
  {
   "cell_type": "code",
   "execution_count": 86,
   "id": "16fe9372",
   "metadata": {},
   "outputs": [
    {
     "name": "stdout",
     "output_type": "stream",
     "text": [
      "t statistic:\t -2.043441334871025\n",
      "p-value:\t 0.046404904783707804\n"
     ]
    }
   ],
   "source": [
    "# two sided p-value - this is roughly double the one sided p-value\n",
    "ttest = ss.ttest_1samp(data['Salary'], mu)\n",
    "t = ttest[0]\n",
    "p_value = ttest[1]\n",
    "print(f't statistic:\\t', t)\n",
    "print(f'p-value:\\t', p_value)"
   ]
  },
  {
   "cell_type": "code",
   "execution_count": null,
   "id": "654749b8",
   "metadata": {},
   "outputs": [],
   "source": []
  },
  {
   "cell_type": "markdown",
   "id": "7e7facd5",
   "metadata": {},
   "source": [
    "## Example<a class=\"anchor\" id=\"section_5_1\"></a>"
   ]
  },
  {
   "cell_type": "code",
   "execution_count": 90,
   "id": "416e1ed9",
   "metadata": {},
   "outputs": [
    {
     "data": {
      "text/plain": [
       "(40, 2)"
      ]
     },
     "execution_count": 90,
     "metadata": {},
     "output_type": "execute_result"
    }
   ],
   "source": [
    "file_path = os.path.join(data_path, 'coffee_experiment.csv')\n",
    "\n",
    "data = pd.read_csv(file_path)\n",
    "data.shape"
   ]
  },
  {
   "cell_type": "code",
   "execution_count": 87,
   "id": "6b520711",
   "metadata": {},
   "outputs": [],
   "source": [
    "def confidence_interval_sample_mean_norm(data, conf_level=0.95):\n",
    "    \n",
    "    N = len(data)\n",
    "    sample_mean = data.mean()\n",
    "    sample_std = data.std()\n",
    "    \n",
    "    std_error = sample_std/(N**0.5)\n",
    "    \n",
    "    alpha_div_two = (1-conf_level)/2\n",
    "    z_critical = ss.norm.ppf(conf_level+alpha_div_two)\n",
    "    \n",
    "    lower = sample_mean - (z_critical*std_error)\n",
    "    upper = sample_mean + (z_critical*std_error)\n",
    "    \n",
    "    return (lower, upper)\n",
    "\n",
    "def confidence_interval_sample_mean_t(data, conf_level=0.95):\n",
    "    \n",
    "    N = len(data)\n",
    "    sample_mean = data.mean()\n",
    "    sample_std = data.std()\n",
    "    \n",
    "    std_error = sample_std/(N**0.5)\n",
    "    \n",
    "    alpha_div_two = (1-conf_level)/2\n",
    "    t_critical = ss.t(df=N-1).ppf(conf_level+alpha_div_two)\n",
    "    \n",
    "    lower = sample_mean - (t_critical*std_error)\n",
    "    upper = sample_mean + (t_critical*std_error)\n",
    "    \n",
    "    return (lower, upper)"
   ]
  },
  {
   "cell_type": "code",
   "execution_count": 92,
   "id": "013905e4",
   "metadata": {},
   "outputs": [
    {
     "name": "stdout",
     "output_type": "stream",
     "text": [
      "Correlation : 0.3686849359249213\n"
     ]
    },
    {
     "data": {
      "text/html": [
       "<div>\n",
       "<style scoped>\n",
       "    .dataframe tbody tr th:only-of-type {\n",
       "        vertical-align: middle;\n",
       "    }\n",
       "\n",
       "    .dataframe tbody tr th {\n",
       "        vertical-align: top;\n",
       "    }\n",
       "\n",
       "    .dataframe thead th {\n",
       "        text-align: right;\n",
       "    }\n",
       "</style>\n",
       "<table border=\"1\" class=\"dataframe\">\n",
       "  <thead>\n",
       "    <tr style=\"text-align: right;\">\n",
       "      <th></th>\n",
       "      <th>no_coffee</th>\n",
       "      <th>coffee</th>\n",
       "    </tr>\n",
       "  </thead>\n",
       "  <tbody>\n",
       "    <tr>\n",
       "      <th>no_coffee</th>\n",
       "      <td>1.000000</td>\n",
       "      <td>0.368685</td>\n",
       "    </tr>\n",
       "    <tr>\n",
       "      <th>coffee</th>\n",
       "      <td>0.368685</td>\n",
       "      <td>1.000000</td>\n",
       "    </tr>\n",
       "  </tbody>\n",
       "</table>\n",
       "</div>"
      ],
      "text/plain": [
       "           no_coffee    coffee\n",
       "no_coffee   1.000000  0.368685\n",
       "coffee      0.368685  1.000000"
      ]
     },
     "execution_count": 92,
     "metadata": {},
     "output_type": "execute_result"
    }
   ],
   "source": [
    "corr = np.corrcoef(data['coffee'], data['no_coffee'])[0,1]\n",
    "print('Correlation :', corr)\n",
    "\n",
    "data.corr()"
   ]
  },
  {
   "cell_type": "code",
   "execution_count": 93,
   "id": "88743755",
   "metadata": {},
   "outputs": [
    {
     "name": "stdout",
     "output_type": "stream",
     "text": [
      "95% confidence interval: (-3187.4691865315667, 3330.6691865315665)\n"
     ]
    },
    {
     "data": {
      "text/plain": [
       "(-18.427861139134862, 161.62786113913484)"
      ]
     },
     "execution_count": 93,
     "metadata": {},
     "output_type": "execute_result"
    }
   ],
   "source": [
    "# there seems to be slight positive correlation but this is not particularly strong.\n",
    "# this could be due to coffee having different effects on productivity for different people\n",
    "# but these are the same people so the means will be correlated\n",
    "\n",
    "# q2 95% confidence interval\n",
    "\n",
    "data['diff'] = data['coffee'] - data['no_coffee']\n",
    "\n",
    "conf_level = 0.95\n",
    "alpha_div_two = (1 - conf_level) / 2\n",
    "\n",
    "t_crit = ss.t(df = N - 1).ppf(conf_level + alpha_div_two)\n",
    "\n",
    "x_bar1 = data['coffee'].mean()\n",
    "x_bar2 = data['no_coffee'].mean()\n",
    "\n",
    "x_diff = x_bar1 - x_bar2\n",
    "\n",
    "lower = x_diff - t_crit * sample_se\n",
    "upper = x_diff + t_crit * sample_se\n",
    "\n",
    "print('95% confidence interval:', (lower, upper))\n",
    "\n",
    "confidence_interval_sample_mean_norm(data['diff'])\n",
    "confidence_interval_sample_mean_t(data['diff'])\n",
    "# the normal intervals are slightly optimistic."
   ]
  },
  {
   "cell_type": "code",
   "execution_count": 95,
   "id": "0a9ba03e",
   "metadata": {},
   "outputs": [
    {
     "name": "stdout",
     "output_type": "stream",
     "text": [
      "t statistic: -560.0760418617731\n",
      "p-value: 8.845532397813573e-78\n"
     ]
    }
   ],
   "source": [
    "# q3 does the coffee make a difference?\n",
    "# H0: diff = 0\n",
    "# H1: diff != 0\n",
    "\n",
    "# a3 not enough evidence to reject null hypothesis at a 95% level\n",
    "\n",
    "# two tail test\n",
    "ttest = ss.ttest_1samp(data['diff'], mu)\n",
    "t = ttest.statistic\n",
    "p_value = ttest.pvalue\n",
    "print('t statistic:', t)\n",
    "print('p-value:', p_value)"
   ]
  },
  {
   "cell_type": "code",
   "execution_count": 97,
   "id": "88f27592",
   "metadata": {},
   "outputs": [
    {
     "name": "stdout",
     "output_type": "stream",
     "text": [
      "t statistic: 1.6086650004534166\n",
      "p-value: 0.11575600757448523\n"
     ]
    }
   ],
   "source": [
    "# q4 can we get the p_value manually?\n",
    "\n",
    "N = len(data)\n",
    "sample_mean = data['diff'].mean()\n",
    "sample_std = data['diff'].std()\n",
    "sample_se = sample_std / (N ** 0.5)\n",
    "\n",
    "mu = 0\n",
    "t = (sample_mean - mu) / sample_se\n",
    "\n",
    "p_value = 2 * (1 - ss.t(df = N - 1).cdf(t)) \n",
    "# multiply by 2 bc 2 tailed\n",
    "# 1-cdf bc cdf is probability of less or equal to\n",
    "\n",
    "print('t statistic:', t)\n",
    "print('p-value:', p_value)\n",
    "\n",
    "# q5 what if diff was not iid\n",
    "# a5 The test is not valid, standard errors will be wrong"
   ]
  },
  {
   "cell_type": "code",
   "execution_count": null,
   "id": "372bb920",
   "metadata": {},
   "outputs": [],
   "source": []
  }
 ],
 "metadata": {
  "kernelspec": {
   "display_name": "Python 3 (ipykernel)",
   "language": "python",
   "name": "python3"
  },
  "language_info": {
   "codemirror_mode": {
    "name": "ipython",
    "version": 3
   },
   "file_extension": ".py",
   "mimetype": "text/x-python",
   "name": "python",
   "nbconvert_exporter": "python",
   "pygments_lexer": "ipython3",
   "version": "3.9.10"
  }
 },
 "nbformat": 4,
 "nbformat_minor": 5
}
