{
 "cells": [
  {
   "cell_type": "markdown",
   "metadata": {},
   "source": [
    "# Web scraping"
   ]
  },
  {
   "cell_type": "code",
   "execution_count": 2,
   "metadata": {},
   "outputs": [],
   "source": [
    "import datetime as dt\n",
    "import json\n",
    "import requests\n",
    "import sys\n",
    "from bs4 import BeautifulSoup\n",
    "from PIL import Image"
   ]
  },
  {
   "cell_type": "code",
   "execution_count": 4,
   "metadata": {},
   "outputs": [
    {
     "data": {
      "text/plain": [
       "{'message': 'success',\n",
       " 'request': {'altitude': 100,\n",
       "  'datetime': 1602853978,\n",
       "  'latitude': 51.5074,\n",
       "  'longitude': 0.1278,\n",
       "  'passes': 2},\n",
       " 'response': [{'duration': 639, 'risetime': 1602855339},\n",
       "  {'duration': 508, 'risetime': 1602861169}]}"
      ]
     },
     "execution_count": 4,
     "metadata": {},
     "output_type": "execute_result"
    }
   ],
   "source": [
    "#q1\n",
    "#travels 26,440 miles per orbit\n",
    "url = r'http://api.open-notify.org/iss-pass.json?lat=51.5074&lon=0.1278&n=2'\n",
    "r = requests.get(url)\n",
    "response = json.loads(r.text)\n",
    "response"
   ]
  },
  {
   "cell_type": "code",
   "execution_count": 10,
   "metadata": {},
   "outputs": [
    {
     "data": {
      "text/plain": [
       "datetime.timedelta(seconds=5830)"
      ]
     },
     "execution_count": 10,
     "metadata": {},
     "output_type": "execute_result"
    }
   ],
   "source": [
    "times = [dt.datetime.utcfromtimestamp(i['risetime']) for i in response['response']] \n",
    "times[1]-times[0]"
   ]
  },
  {
   "cell_type": "code",
   "execution_count": 13,
   "metadata": {},
   "outputs": [
    {
     "data": {
      "text/plain": [
       "16326.586620926244"
      ]
     },
     "execution_count": 13,
     "metadata": {},
     "output_type": "execute_result"
    }
   ],
   "source": [
    "26440/(5830/3600) #going at 16,326.59 mph"
   ]
  },
  {
   "cell_type": "code",
   "execution_count": 21,
   "metadata": {},
   "outputs": [
    {
     "data": {
      "text/plain": [
       "[{'duration': 639, 'risetime': 1602855339},\n",
       " {'duration': 508, 'risetime': 1602861169}]"
      ]
     },
     "execution_count": 21,
     "metadata": {},
     "output_type": "execute_result"
    }
   ],
   "source": [
    "#endpoints\n",
    "response.keys()\n",
    "response['response']\n",
    "response['message']\n",
    "response['request']"
   ]
  },
  {
   "cell_type": "code",
   "execution_count": 32,
   "metadata": {},
   "outputs": [],
   "source": [
    "#q2\n",
    "#in prompt:\n",
    "#git clone https://github.com/resy/coinbase_python3.git\n",
    "#python3 setup.py install \n",
    "#could have put it in my anaconda folder but oh well\n",
    "sys.path.append(r'C:\\Users\\AlexBushnell\\coinbase_python3')"
   ]
  },
  {
   "cell_type": "code",
   "execution_count": 33,
   "metadata": {},
   "outputs": [],
   "source": [
    "import coinbase"
   ]
  },
  {
   "cell_type": "code",
   "execution_count": 37,
   "metadata": {
    "collapsed": true
   },
   "outputs": [
    {
     "data": {
      "text/plain": [
       "['Coinbase',\n",
       " 'CoinbaseAPIException',\n",
       " 'CoinbaseAPIKeyAuthentication',\n",
       " 'CoinbaseAuthentication',\n",
       " 'CoinbaseException',\n",
       " 'CoinbaseOAuth',\n",
       " 'CoinbaseOAuthAuthentication',\n",
       " 'CoinbaseRPC',\n",
       " '__author__',\n",
       " '__builtins__',\n",
       " '__cached__',\n",
       " '__doc__',\n",
       " '__file__',\n",
       " '__loader__',\n",
       " '__name__',\n",
       " '__package__',\n",
       " '__path__',\n",
       " '__spec__',\n",
       " 'error']"
      ]
     },
     "execution_count": 37,
     "metadata": {},
     "output_type": "execute_result"
    }
   ],
   "source": [
    "dir(coinbase)"
   ]
  },
  {
   "cell_type": "code",
   "execution_count": 38,
   "metadata": {},
   "outputs": [
    {
     "ename": "NameError",
     "evalue": "name 'coinbase_api_key' is not defined",
     "output_type": "error",
     "traceback": [
      "\u001b[1;31m---------------------------------------------------------------------------\u001b[0m",
      "\u001b[1;31mNameError\u001b[0m                                 Traceback (most recent call last)",
      "\u001b[1;32m<ipython-input-38-a6e0d1d59bc9>\u001b[0m in \u001b[0;36m<module>\u001b[1;34m\u001b[0m\n\u001b[1;32m----> 1\u001b[1;33m \u001b[0mcoinbase\u001b[0m \u001b[1;33m=\u001b[0m \u001b[0mcoinbase\u001b[0m\u001b[1;33m.\u001b[0m\u001b[0mCoinbase\u001b[0m\u001b[1;33m.\u001b[0m\u001b[0mwith_api_key\u001b[0m\u001b[1;33m(\u001b[0m\u001b[0mcoinbase_api_key\u001b[0m\u001b[1;33m,\u001b[0m \u001b[0mcoinbase_api_secret\u001b[0m\u001b[1;33m)\u001b[0m\u001b[1;33m\u001b[0m\u001b[1;33m\u001b[0m\u001b[0m\n\u001b[0m",
      "\u001b[1;31mNameError\u001b[0m: name 'coinbase_api_key' is not defined"
     ]
    }
   ],
   "source": [
    "coinbase = coinbase.Coinbase.with_api_key(coinbase_api_key, coinbase_api_secret) #couldnt create api key so leave it"
   ]
  },
  {
   "cell_type": "code",
   "execution_count": 77,
   "metadata": {
    "collapsed": true
   },
   "outputs": [
    {
     "data": {
      "text/plain": [
       "['Similar precursors',\n",
       " \"Rubik's invention\",\n",
       " '1980s Cube craze',\n",
       " '21st-century revival',\n",
       " 'Patent history',\n",
       " 'Trademarks',\n",
       " 'Permutations',\n",
       " 'Centre faces',\n",
       " 'Algorithms',\n",
       " 'Relevance and application of mathematical group theory',\n",
       " 'Move notation',\n",
       " 'Optimal solutions',\n",
       " 'Speedcubing methods',\n",
       " \"Beginners' methods\",\n",
       " \"Rubik's Cube solver program\",\n",
       " 'Speedcubing competitions',\n",
       " 'Records',\n",
       " 'Top 10 solvers by single solve[96]',\n",
       " 'Top 10 solvers by average of 5 solves[97]',\n",
       " 'Custom-built puzzles',\n",
       " \"Rubik's Cube software\",\n",
       " 'Chrome Cube Lab',\n",
       " '\\nPersonal tools\\n',\n",
       " '\\nNamespaces\\n',\n",
       " '\\nVariants\\n',\n",
       " '\\nViews\\n',\n",
       " '\\nMore\\n',\n",
       " '\\nSearch\\n',\n",
       " '\\nNavigation\\n',\n",
       " '\\nContribute\\n',\n",
       " '\\nTools\\n',\n",
       " '\\nPrint/export\\n',\n",
       " '\\nIn other projects\\n',\n",
       " '\\nLanguages\\n']"
      ]
     },
     "execution_count": 77,
     "metadata": {},
     "output_type": "execute_result"
    }
   ],
   "source": [
    "#q5\n",
    "url = r'https://en.wikipedia.org/wiki/Rubik%27s_Cube'\n",
    "r = requests.get(url)\n",
    "soup = BeautifulSoup(r.text,'html.parser')\n",
    "\n",
    "tag = 'h3' #change to h1,h2,h3,h4\n",
    "results = [i.text for i in soup.find_all(tag)]\n",
    "results"
   ]
  },
  {
   "cell_type": "code",
   "execution_count": 5,
   "metadata": {},
   "outputs": [],
   "source": [
    "def foc_folder(dest_folder):\n",
    "    '''\n",
    "    This function will check if the folder provided is a string, then check if the folder exists in the current directory.\n",
    "    If it does, a message is returned, if not, the folder is created and a message is returned.\n",
    "    '''\n",
    "    import os\n",
    "    if type(dest_folder) is str:\n",
    "        folders = os.listdir(os.getcwd())\n",
    "        if dest_folder in folders:\n",
    "            print(f'Folder {dest_folder} already exists in current directory')\n",
    "            pass\n",
    "        else:\n",
    "            os.mkdir(dest_folder)\n",
    "            print(f'Folder {dest_folder} has been created in current directory')\n",
    "    else:\n",
    "        raise Exception('Folder name must be a string')"
   ]
  },
  {
   "cell_type": "code",
   "execution_count": 6,
   "metadata": {},
   "outputs": [
    {
     "name": "stdout",
     "output_type": "stream",
     "text": [
      "Folder D9Exercise5 has been created in current directory\n"
     ]
    }
   ],
   "source": [
    "url = r'https://en.wikipedia.org/wiki/Rubik%27s_Cube'\n",
    "r = requests.get(url)\n",
    "soup = BeautifulSoup(r.text,'html.parser')\n",
    "tag = 'img' \n",
    "results = [i for i in soup.find_all(tag,{'class':'thumbimage'})]\n",
    "\n",
    "links = []  \n",
    "for i in results:\n",
    "    link = i.get('src')\n",
    "    link = 'https:' + link\n",
    "    links.append(link)\n",
    "\n",
    "foc_folder('D9Exercise5')\n",
    "    \n",
    "for l in range(len(links)):\n",
    "    r=requests.get(links[l])\n",
    "    with open(rf'D9Exercise5/pic{l}.jpg','wb') as f:\n",
    "        f.write(r.content) #haha done it"
   ]
  },
  {
   "cell_type": "code",
   "execution_count": 99,
   "metadata": {},
   "outputs": [],
   "source": []
  },
  {
   "cell_type": "code",
   "execution_count": null,
   "metadata": {},
   "outputs": [],
   "source": []
  },
  {
   "cell_type": "code",
   "execution_count": null,
   "metadata": {},
   "outputs": [],
   "source": []
  }
 ],
 "metadata": {
  "kernelspec": {
   "display_name": "Python 3",
   "language": "python",
   "name": "python3"
  },
  "language_info": {
   "codemirror_mode": {
    "name": "ipython",
    "version": 3
   },
   "file_extension": ".py",
   "mimetype": "text/x-python",
   "name": "python",
   "nbconvert_exporter": "python",
   "pygments_lexer": "ipython3",
   "version": "3.8.3"
  }
 },
 "nbformat": 4,
 "nbformat_minor": 4
}
