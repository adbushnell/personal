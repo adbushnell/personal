{
 "cells": [
  {
   "cell_type": "code",
   "execution_count": 57,
   "metadata": {},
   "outputs": [],
   "source": [
    "# q1\n",
    "import random\n",
    "\n",
    "#first arguements should probably return something\n",
    "#getting it right or running out of guesses shouldnt let me carry on playing\n",
    "\n",
    "class guessing_game:\n",
    "    \n",
    "    def __init__(self, N, guess):\n",
    "        self.number = random.randint(0,50) \n",
    "        self.max_guess = N\n",
    "        self.num_guess = 1\n",
    "        self.__guess = guess\n",
    "        \n",
    "    @property\n",
    "    def guess(self):\n",
    "        return self.__guess\n",
    "   \n",
    "    @guess.setter\n",
    "    def guess(self,value):\n",
    "        if value is None:\n",
    "            raise Exception('You did not guess, you lose')\n",
    "        if value < 0:\n",
    "            raise ValueError('Guess must be above 0')\n",
    "        if value > 50:\n",
    "            raise ValueError('Guess must be below 50')\n",
    "\n",
    "        self.__guess = value\n",
    "        self.num_guess += 1\n",
    "            \n",
    "        if self.num_guess <= self.max_guess:\n",
    "            if self.number == self.guess:\n",
    "                print(f'Congratulations!! You correctly guessed {self.number} in {self.num_guess} attempts')\n",
    "            else:\n",
    "                if self.number < self.guess:\n",
    "                    print(f'Guess too high')\n",
    "                else:\n",
    "                    print(f'Guess too low')\n",
    "        else:\n",
    "            print('You have run out of guesses')\n",
    "\n"
   ]
  },
  {
   "cell_type": "code",
   "execution_count": 58,
   "metadata": {},
   "outputs": [],
   "source": [
    "my_game = guessing_game(5,None) #probably should say something"
   ]
  },
  {
   "cell_type": "code",
   "execution_count": 59,
   "metadata": {},
   "outputs": [],
   "source": [
    "my_game = guessing_game(5,2) "
   ]
  },
  {
   "cell_type": "code",
   "execution_count": 60,
   "metadata": {},
   "outputs": [
    {
     "name": "stdout",
     "output_type": "stream",
     "text": [
      "my_game.num_guess is : 1\n",
      "my_game.guess is : 2\n"
     ]
    }
   ],
   "source": [
    "print(f'my_game.num_guess is :', my_game.num_guess) #should count the first guess\n",
    "print(f'my_game.guess is :', my_game.guess)"
   ]
  },
  {
   "cell_type": "code",
   "execution_count": 61,
   "metadata": {},
   "outputs": [
    {
     "name": "stdout",
     "output_type": "stream",
     "text": [
      "Guess too high\n",
      "my_game.num_guess is : 2\n",
      "my_game.guess is : 48\n"
     ]
    }
   ],
   "source": [
    "my_game.guess = 48\n",
    "print(f'my_game.num_guess is :', my_game.num_guess)\n",
    "print(f'my_game.guess is :', my_game.guess)  #all works after the setter"
   ]
  },
  {
   "cell_type": "code",
   "execution_count": 62,
   "metadata": {},
   "outputs": [
    {
     "name": "stdout",
     "output_type": "stream",
     "text": [
      "Guess too high\n",
      "my_game.num_guess is : 3\n",
      "my_game.guess is : 35\n"
     ]
    }
   ],
   "source": [
    "my_game.guess = 35\n",
    "print(f'my_game.num_guess is :', my_game.num_guess)\n",
    "print(f'my_game.guess is :', my_game.guess)"
   ]
  },
  {
   "cell_type": "code",
   "execution_count": 63,
   "metadata": {},
   "outputs": [
    {
     "name": "stdout",
     "output_type": "stream",
     "text": [
      "Guess too low\n",
      "my_game.num_guess is : 4\n",
      "my_game.guess is : 22\n"
     ]
    }
   ],
   "source": [
    "my_game.guess = 22\n",
    "print(f'my_game.num_guess is :', my_game.num_guess)\n",
    "print(f'my_game.guess is :', my_game.guess)"
   ]
  },
  {
   "cell_type": "code",
   "execution_count": 64,
   "metadata": {},
   "outputs": [
    {
     "name": "stdout",
     "output_type": "stream",
     "text": [
      "Guess too high\n",
      "my_game.num_guess is : 5\n",
      "my_game.guess is : 31\n"
     ]
    }
   ],
   "source": [
    "my_game.guess = 31\n",
    "print(f'my_game.num_guess is :', my_game.num_guess)\n",
    "print(f'my_game.guess is :', my_game.guess)"
   ]
  },
  {
   "cell_type": "code",
   "execution_count": 65,
   "metadata": {},
   "outputs": [
    {
     "name": "stdout",
     "output_type": "stream",
     "text": [
      "You have run out of guesses\n",
      "my_game.num_guess is : 6\n",
      "my_game.guess is : 27\n"
     ]
    }
   ],
   "source": [
    "my_game.guess = 27\n",
    "print(f'my_game.num_guess is :', my_game.num_guess)\n",
    "print(f'my_game.guess is :', my_game.guess)"
   ]
  },
  {
   "cell_type": "code",
   "execution_count": 66,
   "metadata": {},
   "outputs": [
    {
     "name": "stdout",
     "output_type": "stream",
     "text": [
      "You have run out of guesses\n",
      "my_game.num_guess is : 7\n",
      "my_game.guess is : 39\n"
     ]
    }
   ],
   "source": [
    "my_game.guess = 39\n",
    "print(f'my_game.num_guess is :', my_game.num_guess)\n",
    "print(f'my_game.guess is :', my_game.guess)"
   ]
  },
  {
   "cell_type": "code",
   "execution_count": 11,
   "metadata": {},
   "outputs": [],
   "source": [
    "#alberts solution\n",
    "import random\n",
    "\n",
    "class GuessingGame:\n",
    "    def __init__(self,N):\n",
    "        self.N = N #the number of guesses\n",
    "        self.number = random.randint(0,50) #the number we are guessing\n",
    "        self.game_over = False #game over tag to turn game on/off\n",
    "        \n",
    "    def guess(self, guess):\n",
    "        if self.game_over:\n",
    "            print('Game is already over.')\n",
    "            return \n",
    "        \n",
    "        if guess == self.number:\n",
    "            self.game_over = True\n",
    "            print('You Win!')\n",
    "        elif guess < self.number:\n",
    "            print('Guess too low')\n",
    "        else:\n",
    "            print('Guess too high')\n",
    "            \n",
    "        self.N -= 1 #decrement guesses remaining by 1\n",
    "        if self.N <= 0:\n",
    "            self.game_over = True\n",
    "            print('Game Over')\n",
    "            \n",
    "    def play(self): #this is for the input of guesses in a nice way\n",
    "        while not self.game_over:\n",
    "            user_guess = int(input('Please enter a guess:'))\n",
    "            self.guess(user_guess)"
   ]
  },
  {
   "cell_type": "code",
   "execution_count": 12,
   "metadata": {},
   "outputs": [],
   "source": [
    "#create the game\n",
    "game = GuessingGame(10)"
   ]
  },
  {
   "cell_type": "code",
   "execution_count": 13,
   "metadata": {},
   "outputs": [
    {
     "name": "stdout",
     "output_type": "stream",
     "text": [
      "Please enter a guess:10\n",
      "Guess too low\n",
      "Please enter a guess:30\n",
      "Guess too low\n",
      "Please enter a guess:50\n",
      "Guess too high\n",
      "Please enter a guess:40\n",
      "Guess too low\n",
      "Please enter a guess:45\n",
      "Guess too high\n",
      "Please enter a guess:43\n",
      "Guess too low\n",
      "Please enter a guess:44\n",
      "You Win!\n"
     ]
    }
   ],
   "source": [
    "game.play()"
   ]
  },
  {
   "cell_type": "code",
   "execution_count": 1,
   "metadata": {
    "scrolled": true
   },
   "outputs": [
    {
     "name": "stdout",
     "output_type": "stream",
     "text": [
      "Please enter some input:3\n"
     ]
    },
    {
     "data": {
      "text/plain": [
       "'3'"
      ]
     },
     "execution_count": 1,
     "metadata": {},
     "output_type": "execute_result"
    }
   ],
   "source": [
    "input('Please enter some input:') #input function"
   ]
  },
  {
   "cell_type": "code",
   "execution_count": 70,
   "metadata": {},
   "outputs": [],
   "source": [
    "# q2\n",
    "\n",
    "class standardaccount:\n",
    "    \n",
    "    def __init__(self,balance,interest):\n",
    "        self.balance = balance\n",
    "        self.interest = interest\n",
    "        \n",
    "    def withdraw(self, amount):\n",
    "        self.balance -= amount\n",
    "        \n",
    "    def deposit(self, amount):\n",
    "        self.balance += amount\n",
    "        \n",
    "    def calc_interest(self):\n",
    "        return self.balance*(1+self.interest)"
   ]
  },
  {
   "cell_type": "code",
   "execution_count": 71,
   "metadata": {},
   "outputs": [
    {
     "name": "stdout",
     "output_type": "stream",
     "text": [
      "balance : 955\n",
      "interest inclusive : 974.1\n"
     ]
    }
   ],
   "source": [
    "account = standardaccount(1000,0.02)\n",
    "account.deposit(5)\n",
    "account.withdraw(50)\n",
    "print('balance :', account.balance)\n",
    "print('interest inclusive :', account.calc_interest())"
   ]
  },
  {
   "cell_type": "code",
   "execution_count": 75,
   "metadata": {},
   "outputs": [],
   "source": [
    "class badaccount(standardaccount):\n",
    "    \n",
    "    def __init__(self,balance,fee):\n",
    "        self.balance=balance\n",
    "        standardaccount.__init__(self,self.balance,0.02)\n",
    "        self.fee = fee\n",
    "        \n",
    "    def withdraw(self,amount):\n",
    "        self.balance -= (1+self.fee)*amount"
   ]
  },
  {
   "cell_type": "code",
   "execution_count": 76,
   "metadata": {},
   "outputs": [
    {
     "name": "stdout",
     "output_type": "stream",
     "text": [
      "balance : 899.0\n",
      "interest inclusive : 916.98\n"
     ]
    }
   ],
   "source": [
    "account = badaccount(1000,0.01)\n",
    "account.withdraw(100)\n",
    "print('balance :', account.balance)\n",
    "print('interest inclusive :', account.calc_interest())"
   ]
  },
  {
   "cell_type": "code",
   "execution_count": 79,
   "metadata": {},
   "outputs": [],
   "source": [
    "class premieraccount(standardaccount):\n",
    "    \n",
    "    def __init__(self,balance,min_amount):\n",
    "        self.balance=balance\n",
    "        standardaccount.__init__(self,self.balance,0.02)\n",
    "        self.min_amount = min_amount\n",
    "        \n",
    "        self.points = 0\n",
    "        \n",
    "    def withdraw(self,amount):\n",
    "        self.balance -= amount\n",
    "        if amount > self.min_amount:\n",
    "            self.points += 1\n",
    "            \n",
    "        if self.points >= 5:\n",
    "            self.balance += 5\n",
    "            self.points = 0 "
   ]
  },
  {
   "cell_type": "code",
   "execution_count": 80,
   "metadata": {},
   "outputs": [
    {
     "name": "stdout",
     "output_type": "stream",
     "text": [
      "balance : 505\n",
      "interest inclusive : 515.1\n",
      "points : 0\n"
     ]
    }
   ],
   "source": [
    "account = premieraccount(1000,5)\n",
    "account.withdraw(100)\n",
    "account.withdraw(100)\n",
    "account.withdraw(100)\n",
    "account.withdraw(100)\n",
    "account.withdraw(100)\n",
    "print('balance :', account.balance)\n",
    "print('interest inclusive :', account.calc_interest())\n",
    "print('points :', account.points)"
   ]
  },
  {
   "cell_type": "code",
   "execution_count": null,
   "metadata": {},
   "outputs": [],
   "source": [
    "# q3 O's & X's\n",
    "\n",
    "class noughs_and_crosses:\n",
    "    def __init__(self):\n",
    "        self.board = [['-','-','-'],['-','-','-'],['-','-','-']]\n",
    "        self.player1 = 1\n",
    "        self.player2 = 2\n",
    "        \n",
    "    def draw(self): #need this code explained somehow\n",
    "        s = ' 1 2 3\\n'\n",
    "        ind = 1\n",
    "        for i in self.board:\n",
    "            s += str(ind) + \" \"\n",
    "            ind += 1\n",
    "            for j in i:\n",
    "                s += j + \" \"\n",
    "            s += '\\n'\n",
    "        print(s)\n",
    "        \n",
    "    def play(self):\n",
    "        \n",
    "        \n",
    "        \n",
    "        \n",
    "        "
   ]
  },
  {
   "cell_type": "code",
   "execution_count": null,
   "metadata": {},
   "outputs": [],
   "source": [
    "#alberts solution\n",
    "'''\n",
    "Represent the board with a list\n",
    "\n",
    "Positions are as follows:\n",
    "678\n",
    "345\n",
    "012\n",
    "\n",
    "Eg:\n",
    "[x x x o o None None None None]\n",
    "\n",
    "represents:\n",
    "---\n",
    "\n",
    "...\n",
    "oo.\n",
    "xxx\n",
    "\n",
    "---\n",
    "'''"
   ]
  },
  {
   "cell_type": "code",
   "execution_count": 26,
   "metadata": {},
   "outputs": [],
   "source": [
    "class NoughtsAndCrosses:\n",
    "    \n",
    "    winning_indexes = (\n",
    "        # Horizontals\n",
    "        (0,1,2),\n",
    "        (3,4,5),\n",
    "        (6,7,8),\n",
    "       \n",
    "        # Verticals\n",
    "        (0,3,6),\n",
    "        (1,4,7),\n",
    "        (2,5,8),\n",
    "       \n",
    "        # Diagonals\n",
    "        (0,4,8),\n",
    "        (2,4,6)\n",
    "    )\n",
    "    \n",
    "    def __init__(self):\n",
    "        #board created first here as a list of nones\n",
    "        self.board = [None, None, None, \n",
    "                      None, None, None,\n",
    "                      None, None, None]\n",
    "        \n",
    "        self.curr_player = 'x'\n",
    "        self.game_over = False #game over tag\n",
    "        \n",
    "    def check_filled(self):\n",
    "        #check if the board is filled\n",
    "        if len([i for i in self.board if i is None]) == 0:\n",
    "            print('Board filled')\n",
    "            self.game_over is True\n",
    "        \n",
    "    def check_win(self):\n",
    "        #check if a player has won\n",
    "        for i in NoughtsAndCrosses.winning_indexes:\n",
    "            if ((self.board[i[0]] == self.curr_player) and\n",
    "                (self.board[i[1]] == self.curr_player) and  \n",
    "                (self.board[i[2]] == self.curr_player)):\n",
    "                print(self.curr_player,' wins!')\n",
    "                self.game_over = True\n",
    "        \n",
    "    def render(self):\n",
    "        print(self.board[6:9])\n",
    "        print(self.board[3:6])\n",
    "        print(self.board[0:3])\n",
    "    \n",
    "    def make_move(self, position):\n",
    "        #if position is empty update the board\n",
    "        if self.board[position] is None:\n",
    "            self.board[position] = self.curr_player\n",
    "            \n",
    "        else:\n",
    "            print('Illegal move')\n",
    "            return\n",
    "        \n",
    "        self.check_filled() #see if game is over after the last move played\n",
    "        self.check_win() #check if there is a winner to the game\n",
    "        \n",
    "        #switch player if the game is not over\n",
    "        if self.curr_player == 'x':\n",
    "            self.curr_player = 'o'\n",
    "        else:\n",
    "            self.curr_player = 'x'\n",
    "        \n",
    "        \n",
    "    def play(self):\n",
    "        self.render()\n",
    "        while not self.game_over:\n",
    "            proposed_position = int(input(f'Enter a position for player {self.curr_player}:\\n'))\n",
    "            self.make_move(proposed_position)\n",
    "            self.render()"
   ]
  },
  {
   "cell_type": "code",
   "execution_count": 27,
   "metadata": {},
   "outputs": [],
   "source": [
    "game = NoughtsAndCrosses()"
   ]
  },
  {
   "cell_type": "code",
   "execution_count": 28,
   "metadata": {},
   "outputs": [
    {
     "name": "stdout",
     "output_type": "stream",
     "text": [
      "[None, None, None]\n",
      "[None, None, None]\n",
      "[None, None, None]\n",
      "Enter a position for player x:\n",
      "0\n",
      "[None, None, None]\n",
      "[None, None, None]\n",
      "['x', None, None]\n",
      "Enter a position for player o:\n",
      "3\n",
      "[None, None, None]\n",
      "['o', None, None]\n",
      "['x', None, None]\n",
      "Enter a position for player x:\n",
      "4\n",
      "[None, None, None]\n",
      "['o', 'x', None]\n",
      "['x', None, None]\n",
      "Enter a position for player o:\n",
      "7\n",
      "[None, 'o', None]\n",
      "['o', 'x', None]\n",
      "['x', None, None]\n",
      "Enter a position for player x:\n",
      "8\n",
      "x  wins!\n",
      "[None, 'o', 'x']\n",
      "['o', 'x', None]\n",
      "['x', None, None]\n"
     ]
    }
   ],
   "source": [
    "game.play()"
   ]
  },
  {
   "cell_type": "code",
   "execution_count": 20,
   "metadata": {},
   "outputs": [
    {
     "name": "stdout",
     "output_type": "stream",
     "text": [
      "Illegal move\n"
     ]
    }
   ],
   "source": [
    "game.make_move(1) #did this twice it returns illegal move"
   ]
  },
  {
   "cell_type": "code",
   "execution_count": 21,
   "metadata": {},
   "outputs": [
    {
     "name": "stdout",
     "output_type": "stream",
     "text": [
      "[None, None, None]\n",
      "[None, None, None]\n",
      "[None, 'x', None]\n"
     ]
    }
   ],
   "source": [
    "game.render() #see our position"
   ]
  },
  {
   "cell_type": "code",
   "execution_count": 22,
   "metadata": {},
   "outputs": [],
   "source": [
    "game.make_move(4)"
   ]
  },
  {
   "cell_type": "code",
   "execution_count": 23,
   "metadata": {},
   "outputs": [
    {
     "name": "stdout",
     "output_type": "stream",
     "text": [
      "[None, None, None]\n",
      "[None, 'o', None]\n",
      "[None, 'x', None]\n"
     ]
    }
   ],
   "source": [
    "game.render() #second input is an o"
   ]
  },
  {
   "cell_type": "code",
   "execution_count": null,
   "metadata": {},
   "outputs": [],
   "source": []
  }
 ],
 "metadata": {
  "kernelspec": {
   "display_name": "Python 3",
   "language": "python",
   "name": "python3"
  },
  "language_info": {
   "codemirror_mode": {
    "name": "ipython",
    "version": 3
   },
   "file_extension": ".py",
   "mimetype": "text/x-python",
   "name": "python",
   "nbconvert_exporter": "python",
   "pygments_lexer": "ipython3",
   "version": "3.8.3"
  }
 },
 "nbformat": 4,
 "nbformat_minor": 4
}
