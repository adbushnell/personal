{
 "cells": [
  {
   "cell_type": "markdown",
   "metadata": {},
   "source": [
    "# Regular expressions\n",
    "\n",
    "These are strings that defines a search pattern"
   ]
  },
  {
   "cell_type": "code",
   "execution_count": 3,
   "metadata": {},
   "outputs": [],
   "source": [
    "import re"
   ]
  },
  {
   "cell_type": "code",
   "execution_count": 28,
   "metadata": {},
   "outputs": [],
   "source": [
    "document = '''\n",
    "This document contains the contact information on the trainers at Kubrick:\n",
    " \n",
    "Mr. Albert\n",
    "07397-602-324\n",
    " \n",
    "Mr. David\n",
    "07323-234-111\n",
    " \n",
    "Mr. Lorenzo\n",
    "07392-244-112\n",
    " \n",
    "Ms. Sarah\n",
    "07221-233-222\n",
    " \n",
    "Mr. Simon Duncan\n",
    "07221 222 456\n",
    "\n",
    "Mr. Marko Cubric\n",
    "+44 7738 433 978\n",
    "\n",
    "Here are some random numbers:\n",
    "1234567890123456789012345678901234567890Mr2\n",
    "33333*333*333\n",
    " \n",
    "This is the alphabet:\n",
    "abcdefghijklmnopqrstuvwxyz\n",
    "ABCDEFGHIJKLMNOPQRSTUVWXYZ\n",
    " \n",
    "a1 b2 c3 d4\n",
    "'''"
   ]
  },
  {
   "cell_type": "code",
   "execution_count": 2,
   "metadata": {},
   "outputs": [
    {
     "data": {
      "text/plain": [
       "True"
      ]
     },
     "execution_count": 2,
     "metadata": {},
     "output_type": "execute_result"
    }
   ],
   "source": [
    "'random numbers' in document #is it in the document, but what if we want to know more"
   ]
  },
  {
   "cell_type": "code",
   "execution_count": 4,
   "metadata": {},
   "outputs": [
    {
     "data": {
      "text/plain": [
       "[<re.Match object; span=(232, 246), match='random numbers'>]"
      ]
     },
     "execution_count": 4,
     "metadata": {},
     "output_type": "execute_result"
    }
   ],
   "source": [
    "pattern = re.compile(r'random numbers')\n",
    "list(pattern.finditer(document)) #we can output all matches in a list"
   ]
  },
  {
   "cell_type": "code",
   "execution_count": 5,
   "metadata": {},
   "outputs": [
    {
     "data": {
      "text/plain": [
       "'random numbers'"
      ]
     },
     "execution_count": 5,
     "metadata": {},
     "output_type": "execute_result"
    }
   ],
   "source": [
    "document[232:246]"
   ]
  },
  {
   "cell_type": "code",
   "execution_count": 6,
   "metadata": {},
   "outputs": [
    {
     "data": {
      "text/plain": [
       "[<re.Match object; span=(248, 251), match='123'>,\n",
       " <re.Match object; span=(258, 261), match='123'>,\n",
       " <re.Match object; span=(268, 271), match='123'>,\n",
       " <re.Match object; span=(278, 281), match='123'>]"
      ]
     },
     "execution_count": 6,
     "metadata": {},
     "output_type": "execute_result"
    }
   ],
   "source": [
    "pattern = re.compile(r'123')\n",
    "list(pattern.finditer(document)) #now we get 4 matches"
   ]
  },
  {
   "cell_type": "markdown",
   "metadata": {},
   "source": [
    "## Notes on regular expressions\n",
    "---\n",
    "~~~\n",
    "General matching:\n",
    "- \\d : digit\n",
    "- \\w : word character (digits are also word characters)\n",
    "- \\s : spaces (matches tabs, newlines and other whitespace stuff also)\n",
    "\n",
    "- \\D : not digit\n",
    "- \\W : not word char\n",
    "- \\S : not space\n",
    "\n",
    "Quantifiers:\n",
    "* : 0 or more\n",
    "+ : 1 or more\n",
    "? : 0 or 1\n",
    "{5} : exactly 5\n",
    "\n",
    "Wildcard:\n",
    ". : matches anything\n",
    "\n",
    "Character sets:\n",
    "[ab]  : matches a or b\n",
    "[a-z] : matches everything from a-z\n",
    "[^a]  : matches everything but a\n",
    "~~~"
   ]
  },
  {
   "cell_type": "code",
   "execution_count": 7,
   "metadata": {
    "collapsed": true
   },
   "outputs": [
    {
     "data": {
      "text/plain": [
       "[<re.Match object; span=(89, 90), match='0'>,\n",
       " <re.Match object; span=(90, 91), match='7'>,\n",
       " <re.Match object; span=(91, 92), match='3'>,\n",
       " <re.Match object; span=(92, 93), match='9'>,\n",
       " <re.Match object; span=(93, 94), match='7'>,\n",
       " <re.Match object; span=(95, 96), match='6'>,\n",
       " <re.Match object; span=(96, 97), match='0'>,\n",
       " <re.Match object; span=(97, 98), match='2'>,\n",
       " <re.Match object; span=(99, 100), match='3'>,\n",
       " <re.Match object; span=(100, 101), match='2'>,\n",
       " <re.Match object; span=(101, 102), match='4'>,\n",
       " <re.Match object; span=(115, 116), match='0'>,\n",
       " <re.Match object; span=(116, 117), match='7'>,\n",
       " <re.Match object; span=(117, 118), match='3'>,\n",
       " <re.Match object; span=(118, 119), match='2'>,\n",
       " <re.Match object; span=(119, 120), match='3'>,\n",
       " <re.Match object; span=(121, 122), match='2'>,\n",
       " <re.Match object; span=(122, 123), match='3'>,\n",
       " <re.Match object; span=(123, 124), match='4'>,\n",
       " <re.Match object; span=(125, 126), match='1'>,\n",
       " <re.Match object; span=(126, 127), match='1'>,\n",
       " <re.Match object; span=(127, 128), match='1'>,\n",
       " <re.Match object; span=(143, 144), match='0'>,\n",
       " <re.Match object; span=(144, 145), match='7'>,\n",
       " <re.Match object; span=(145, 146), match='3'>,\n",
       " <re.Match object; span=(146, 147), match='9'>,\n",
       " <re.Match object; span=(147, 148), match='2'>,\n",
       " <re.Match object; span=(149, 150), match='2'>,\n",
       " <re.Match object; span=(150, 151), match='4'>,\n",
       " <re.Match object; span=(151, 152), match='4'>,\n",
       " <re.Match object; span=(153, 154), match='1'>,\n",
       " <re.Match object; span=(154, 155), match='1'>,\n",
       " <re.Match object; span=(155, 156), match='2'>,\n",
       " <re.Match object; span=(169, 170), match='0'>,\n",
       " <re.Match object; span=(170, 171), match='7'>,\n",
       " <re.Match object; span=(171, 172), match='2'>,\n",
       " <re.Match object; span=(172, 173), match='2'>,\n",
       " <re.Match object; span=(173, 174), match='1'>,\n",
       " <re.Match object; span=(175, 176), match='2'>,\n",
       " <re.Match object; span=(176, 177), match='3'>,\n",
       " <re.Match object; span=(177, 178), match='3'>,\n",
       " <re.Match object; span=(179, 180), match='2'>,\n",
       " <re.Match object; span=(180, 181), match='2'>,\n",
       " <re.Match object; span=(181, 182), match='2'>,\n",
       " <re.Match object; span=(202, 203), match='0'>,\n",
       " <re.Match object; span=(203, 204), match='7'>,\n",
       " <re.Match object; span=(204, 205), match='2'>,\n",
       " <re.Match object; span=(205, 206), match='2'>,\n",
       " <re.Match object; span=(206, 207), match='1'>,\n",
       " <re.Match object; span=(208, 209), match='2'>,\n",
       " <re.Match object; span=(209, 210), match='2'>,\n",
       " <re.Match object; span=(210, 211), match='2'>,\n",
       " <re.Match object; span=(212, 213), match='4'>,\n",
       " <re.Match object; span=(213, 214), match='5'>,\n",
       " <re.Match object; span=(214, 215), match='6'>,\n",
       " <re.Match object; span=(248, 249), match='1'>,\n",
       " <re.Match object; span=(249, 250), match='2'>,\n",
       " <re.Match object; span=(250, 251), match='3'>,\n",
       " <re.Match object; span=(251, 252), match='4'>,\n",
       " <re.Match object; span=(252, 253), match='5'>,\n",
       " <re.Match object; span=(253, 254), match='6'>,\n",
       " <re.Match object; span=(254, 255), match='7'>,\n",
       " <re.Match object; span=(255, 256), match='8'>,\n",
       " <re.Match object; span=(256, 257), match='9'>,\n",
       " <re.Match object; span=(257, 258), match='0'>,\n",
       " <re.Match object; span=(258, 259), match='1'>,\n",
       " <re.Match object; span=(259, 260), match='2'>,\n",
       " <re.Match object; span=(260, 261), match='3'>,\n",
       " <re.Match object; span=(261, 262), match='4'>,\n",
       " <re.Match object; span=(262, 263), match='5'>,\n",
       " <re.Match object; span=(263, 264), match='6'>,\n",
       " <re.Match object; span=(264, 265), match='7'>,\n",
       " <re.Match object; span=(265, 266), match='8'>,\n",
       " <re.Match object; span=(266, 267), match='9'>,\n",
       " <re.Match object; span=(267, 268), match='0'>,\n",
       " <re.Match object; span=(268, 269), match='1'>,\n",
       " <re.Match object; span=(269, 270), match='2'>,\n",
       " <re.Match object; span=(270, 271), match='3'>,\n",
       " <re.Match object; span=(271, 272), match='4'>,\n",
       " <re.Match object; span=(272, 273), match='5'>,\n",
       " <re.Match object; span=(273, 274), match='6'>,\n",
       " <re.Match object; span=(274, 275), match='7'>,\n",
       " <re.Match object; span=(275, 276), match='8'>,\n",
       " <re.Match object; span=(276, 277), match='9'>,\n",
       " <re.Match object; span=(277, 278), match='0'>,\n",
       " <re.Match object; span=(278, 279), match='1'>,\n",
       " <re.Match object; span=(279, 280), match='2'>,\n",
       " <re.Match object; span=(280, 281), match='3'>,\n",
       " <re.Match object; span=(281, 282), match='4'>,\n",
       " <re.Match object; span=(282, 283), match='5'>,\n",
       " <re.Match object; span=(283, 284), match='6'>,\n",
       " <re.Match object; span=(284, 285), match='7'>,\n",
       " <re.Match object; span=(285, 286), match='8'>,\n",
       " <re.Match object; span=(286, 287), match='9'>,\n",
       " <re.Match object; span=(287, 288), match='0'>,\n",
       " <re.Match object; span=(290, 291), match='2'>,\n",
       " <re.Match object; span=(292, 293), match='3'>,\n",
       " <re.Match object; span=(293, 294), match='3'>,\n",
       " <re.Match object; span=(294, 295), match='3'>,\n",
       " <re.Match object; span=(295, 296), match='3'>,\n",
       " <re.Match object; span=(296, 297), match='3'>,\n",
       " <re.Match object; span=(298, 299), match='3'>,\n",
       " <re.Match object; span=(299, 300), match='3'>,\n",
       " <re.Match object; span=(300, 301), match='3'>,\n",
       " <re.Match object; span=(302, 303), match='3'>,\n",
       " <re.Match object; span=(303, 304), match='3'>,\n",
       " <re.Match object; span=(304, 305), match='3'>,\n",
       " <re.Match object; span=(387, 388), match='1'>,\n",
       " <re.Match object; span=(390, 391), match='2'>,\n",
       " <re.Match object; span=(393, 394), match='3'>,\n",
       " <re.Match object; span=(396, 397), match='4'>]"
      ]
     },
     "execution_count": 7,
     "metadata": {},
     "output_type": "execute_result"
    }
   ],
   "source": [
    "pattern = re.compile(r'\\d')\n",
    "list(pattern.finditer(document))"
   ]
  },
  {
   "cell_type": "code",
   "execution_count": 8,
   "metadata": {
    "collapsed": true
   },
   "outputs": [
    {
     "data": {
      "text/plain": [
       "[<re.Match object; span=(1, 2), match='T'>,\n",
       " <re.Match object; span=(2, 3), match='h'>,\n",
       " <re.Match object; span=(3, 4), match='i'>,\n",
       " <re.Match object; span=(4, 5), match='s'>,\n",
       " <re.Match object; span=(6, 7), match='d'>,\n",
       " <re.Match object; span=(7, 8), match='o'>,\n",
       " <re.Match object; span=(8, 9), match='c'>,\n",
       " <re.Match object; span=(9, 10), match='u'>,\n",
       " <re.Match object; span=(10, 11), match='m'>,\n",
       " <re.Match object; span=(11, 12), match='e'>,\n",
       " <re.Match object; span=(12, 13), match='n'>,\n",
       " <re.Match object; span=(13, 14), match='t'>,\n",
       " <re.Match object; span=(15, 16), match='c'>,\n",
       " <re.Match object; span=(16, 17), match='o'>,\n",
       " <re.Match object; span=(17, 18), match='n'>,\n",
       " <re.Match object; span=(18, 19), match='t'>,\n",
       " <re.Match object; span=(19, 20), match='a'>,\n",
       " <re.Match object; span=(20, 21), match='i'>,\n",
       " <re.Match object; span=(21, 22), match='n'>,\n",
       " <re.Match object; span=(22, 23), match='s'>,\n",
       " <re.Match object; span=(24, 25), match='t'>,\n",
       " <re.Match object; span=(25, 26), match='h'>,\n",
       " <re.Match object; span=(26, 27), match='e'>,\n",
       " <re.Match object; span=(28, 29), match='c'>,\n",
       " <re.Match object; span=(29, 30), match='o'>,\n",
       " <re.Match object; span=(30, 31), match='n'>,\n",
       " <re.Match object; span=(31, 32), match='t'>,\n",
       " <re.Match object; span=(32, 33), match='a'>,\n",
       " <re.Match object; span=(33, 34), match='c'>,\n",
       " <re.Match object; span=(34, 35), match='t'>,\n",
       " <re.Match object; span=(36, 37), match='i'>,\n",
       " <re.Match object; span=(37, 38), match='n'>,\n",
       " <re.Match object; span=(38, 39), match='f'>,\n",
       " <re.Match object; span=(39, 40), match='o'>,\n",
       " <re.Match object; span=(40, 41), match='r'>,\n",
       " <re.Match object; span=(41, 42), match='m'>,\n",
       " <re.Match object; span=(42, 43), match='a'>,\n",
       " <re.Match object; span=(43, 44), match='t'>,\n",
       " <re.Match object; span=(44, 45), match='i'>,\n",
       " <re.Match object; span=(45, 46), match='o'>,\n",
       " <re.Match object; span=(46, 47), match='n'>,\n",
       " <re.Match object; span=(48, 49), match='o'>,\n",
       " <re.Match object; span=(49, 50), match='n'>,\n",
       " <re.Match object; span=(51, 52), match='t'>,\n",
       " <re.Match object; span=(52, 53), match='h'>,\n",
       " <re.Match object; span=(53, 54), match='e'>,\n",
       " <re.Match object; span=(55, 56), match='t'>,\n",
       " <re.Match object; span=(56, 57), match='r'>,\n",
       " <re.Match object; span=(57, 58), match='a'>,\n",
       " <re.Match object; span=(58, 59), match='i'>,\n",
       " <re.Match object; span=(59, 60), match='n'>,\n",
       " <re.Match object; span=(60, 61), match='e'>,\n",
       " <re.Match object; span=(61, 62), match='r'>,\n",
       " <re.Match object; span=(62, 63), match='s'>,\n",
       " <re.Match object; span=(64, 65), match='a'>,\n",
       " <re.Match object; span=(65, 66), match='t'>,\n",
       " <re.Match object; span=(67, 68), match='K'>,\n",
       " <re.Match object; span=(68, 69), match='u'>,\n",
       " <re.Match object; span=(69, 70), match='b'>,\n",
       " <re.Match object; span=(70, 71), match='r'>,\n",
       " <re.Match object; span=(71, 72), match='i'>,\n",
       " <re.Match object; span=(72, 73), match='c'>,\n",
       " <re.Match object; span=(73, 74), match='k'>,\n",
       " <re.Match object; span=(78, 79), match='M'>,\n",
       " <re.Match object; span=(79, 80), match='r'>,\n",
       " <re.Match object; span=(82, 83), match='A'>,\n",
       " <re.Match object; span=(83, 84), match='l'>,\n",
       " <re.Match object; span=(84, 85), match='b'>,\n",
       " <re.Match object; span=(85, 86), match='e'>,\n",
       " <re.Match object; span=(86, 87), match='r'>,\n",
       " <re.Match object; span=(87, 88), match='t'>,\n",
       " <re.Match object; span=(89, 90), match='0'>,\n",
       " <re.Match object; span=(90, 91), match='7'>,\n",
       " <re.Match object; span=(91, 92), match='3'>,\n",
       " <re.Match object; span=(92, 93), match='9'>,\n",
       " <re.Match object; span=(93, 94), match='7'>,\n",
       " <re.Match object; span=(95, 96), match='6'>,\n",
       " <re.Match object; span=(96, 97), match='0'>,\n",
       " <re.Match object; span=(97, 98), match='2'>,\n",
       " <re.Match object; span=(99, 100), match='3'>,\n",
       " <re.Match object; span=(100, 101), match='2'>,\n",
       " <re.Match object; span=(101, 102), match='4'>,\n",
       " <re.Match object; span=(105, 106), match='M'>,\n",
       " <re.Match object; span=(106, 107), match='r'>,\n",
       " <re.Match object; span=(109, 110), match='D'>,\n",
       " <re.Match object; span=(110, 111), match='a'>,\n",
       " <re.Match object; span=(111, 112), match='v'>,\n",
       " <re.Match object; span=(112, 113), match='i'>,\n",
       " <re.Match object; span=(113, 114), match='d'>,\n",
       " <re.Match object; span=(115, 116), match='0'>,\n",
       " <re.Match object; span=(116, 117), match='7'>,\n",
       " <re.Match object; span=(117, 118), match='3'>,\n",
       " <re.Match object; span=(118, 119), match='2'>,\n",
       " <re.Match object; span=(119, 120), match='3'>,\n",
       " <re.Match object; span=(121, 122), match='2'>,\n",
       " <re.Match object; span=(122, 123), match='3'>,\n",
       " <re.Match object; span=(123, 124), match='4'>,\n",
       " <re.Match object; span=(125, 126), match='1'>,\n",
       " <re.Match object; span=(126, 127), match='1'>,\n",
       " <re.Match object; span=(127, 128), match='1'>,\n",
       " <re.Match object; span=(131, 132), match='M'>,\n",
       " <re.Match object; span=(132, 133), match='r'>,\n",
       " <re.Match object; span=(135, 136), match='L'>,\n",
       " <re.Match object; span=(136, 137), match='o'>,\n",
       " <re.Match object; span=(137, 138), match='r'>,\n",
       " <re.Match object; span=(138, 139), match='e'>,\n",
       " <re.Match object; span=(139, 140), match='n'>,\n",
       " <re.Match object; span=(140, 141), match='z'>,\n",
       " <re.Match object; span=(141, 142), match='o'>,\n",
       " <re.Match object; span=(143, 144), match='0'>,\n",
       " <re.Match object; span=(144, 145), match='7'>,\n",
       " <re.Match object; span=(145, 146), match='3'>,\n",
       " <re.Match object; span=(146, 147), match='9'>,\n",
       " <re.Match object; span=(147, 148), match='2'>,\n",
       " <re.Match object; span=(149, 150), match='2'>,\n",
       " <re.Match object; span=(150, 151), match='4'>,\n",
       " <re.Match object; span=(151, 152), match='4'>,\n",
       " <re.Match object; span=(153, 154), match='1'>,\n",
       " <re.Match object; span=(154, 155), match='1'>,\n",
       " <re.Match object; span=(155, 156), match='2'>,\n",
       " <re.Match object; span=(159, 160), match='M'>,\n",
       " <re.Match object; span=(160, 161), match='s'>,\n",
       " <re.Match object; span=(163, 164), match='S'>,\n",
       " <re.Match object; span=(164, 165), match='a'>,\n",
       " <re.Match object; span=(165, 166), match='r'>,\n",
       " <re.Match object; span=(166, 167), match='a'>,\n",
       " <re.Match object; span=(167, 168), match='h'>,\n",
       " <re.Match object; span=(169, 170), match='0'>,\n",
       " <re.Match object; span=(170, 171), match='7'>,\n",
       " <re.Match object; span=(171, 172), match='2'>,\n",
       " <re.Match object; span=(172, 173), match='2'>,\n",
       " <re.Match object; span=(173, 174), match='1'>,\n",
       " <re.Match object; span=(175, 176), match='2'>,\n",
       " <re.Match object; span=(176, 177), match='3'>,\n",
       " <re.Match object; span=(177, 178), match='3'>,\n",
       " <re.Match object; span=(179, 180), match='2'>,\n",
       " <re.Match object; span=(180, 181), match='2'>,\n",
       " <re.Match object; span=(181, 182), match='2'>,\n",
       " <re.Match object; span=(185, 186), match='M'>,\n",
       " <re.Match object; span=(186, 187), match='r'>,\n",
       " <re.Match object; span=(189, 190), match='S'>,\n",
       " <re.Match object; span=(190, 191), match='i'>,\n",
       " <re.Match object; span=(191, 192), match='m'>,\n",
       " <re.Match object; span=(192, 193), match='o'>,\n",
       " <re.Match object; span=(193, 194), match='n'>,\n",
       " <re.Match object; span=(195, 196), match='D'>,\n",
       " <re.Match object; span=(196, 197), match='u'>,\n",
       " <re.Match object; span=(197, 198), match='n'>,\n",
       " <re.Match object; span=(198, 199), match='c'>,\n",
       " <re.Match object; span=(199, 200), match='a'>,\n",
       " <re.Match object; span=(200, 201), match='n'>,\n",
       " <re.Match object; span=(202, 203), match='0'>,\n",
       " <re.Match object; span=(203, 204), match='7'>,\n",
       " <re.Match object; span=(204, 205), match='2'>,\n",
       " <re.Match object; span=(205, 206), match='2'>,\n",
       " <re.Match object; span=(206, 207), match='1'>,\n",
       " <re.Match object; span=(208, 209), match='2'>,\n",
       " <re.Match object; span=(209, 210), match='2'>,\n",
       " <re.Match object; span=(210, 211), match='2'>,\n",
       " <re.Match object; span=(212, 213), match='4'>,\n",
       " <re.Match object; span=(213, 214), match='5'>,\n",
       " <re.Match object; span=(214, 215), match='6'>,\n",
       " <re.Match object; span=(218, 219), match='H'>,\n",
       " <re.Match object; span=(219, 220), match='e'>,\n",
       " <re.Match object; span=(220, 221), match='r'>,\n",
       " <re.Match object; span=(221, 222), match='e'>,\n",
       " <re.Match object; span=(223, 224), match='a'>,\n",
       " <re.Match object; span=(224, 225), match='r'>,\n",
       " <re.Match object; span=(225, 226), match='e'>,\n",
       " <re.Match object; span=(227, 228), match='s'>,\n",
       " <re.Match object; span=(228, 229), match='o'>,\n",
       " <re.Match object; span=(229, 230), match='m'>,\n",
       " <re.Match object; span=(230, 231), match='e'>,\n",
       " <re.Match object; span=(232, 233), match='r'>,\n",
       " <re.Match object; span=(233, 234), match='a'>,\n",
       " <re.Match object; span=(234, 235), match='n'>,\n",
       " <re.Match object; span=(235, 236), match='d'>,\n",
       " <re.Match object; span=(236, 237), match='o'>,\n",
       " <re.Match object; span=(237, 238), match='m'>,\n",
       " <re.Match object; span=(239, 240), match='n'>,\n",
       " <re.Match object; span=(240, 241), match='u'>,\n",
       " <re.Match object; span=(241, 242), match='m'>,\n",
       " <re.Match object; span=(242, 243), match='b'>,\n",
       " <re.Match object; span=(243, 244), match='e'>,\n",
       " <re.Match object; span=(244, 245), match='r'>,\n",
       " <re.Match object; span=(245, 246), match='s'>,\n",
       " <re.Match object; span=(248, 249), match='1'>,\n",
       " <re.Match object; span=(249, 250), match='2'>,\n",
       " <re.Match object; span=(250, 251), match='3'>,\n",
       " <re.Match object; span=(251, 252), match='4'>,\n",
       " <re.Match object; span=(252, 253), match='5'>,\n",
       " <re.Match object; span=(253, 254), match='6'>,\n",
       " <re.Match object; span=(254, 255), match='7'>,\n",
       " <re.Match object; span=(255, 256), match='8'>,\n",
       " <re.Match object; span=(256, 257), match='9'>,\n",
       " <re.Match object; span=(257, 258), match='0'>,\n",
       " <re.Match object; span=(258, 259), match='1'>,\n",
       " <re.Match object; span=(259, 260), match='2'>,\n",
       " <re.Match object; span=(260, 261), match='3'>,\n",
       " <re.Match object; span=(261, 262), match='4'>,\n",
       " <re.Match object; span=(262, 263), match='5'>,\n",
       " <re.Match object; span=(263, 264), match='6'>,\n",
       " <re.Match object; span=(264, 265), match='7'>,\n",
       " <re.Match object; span=(265, 266), match='8'>,\n",
       " <re.Match object; span=(266, 267), match='9'>,\n",
       " <re.Match object; span=(267, 268), match='0'>,\n",
       " <re.Match object; span=(268, 269), match='1'>,\n",
       " <re.Match object; span=(269, 270), match='2'>,\n",
       " <re.Match object; span=(270, 271), match='3'>,\n",
       " <re.Match object; span=(271, 272), match='4'>,\n",
       " <re.Match object; span=(272, 273), match='5'>,\n",
       " <re.Match object; span=(273, 274), match='6'>,\n",
       " <re.Match object; span=(274, 275), match='7'>,\n",
       " <re.Match object; span=(275, 276), match='8'>,\n",
       " <re.Match object; span=(276, 277), match='9'>,\n",
       " <re.Match object; span=(277, 278), match='0'>,\n",
       " <re.Match object; span=(278, 279), match='1'>,\n",
       " <re.Match object; span=(279, 280), match='2'>,\n",
       " <re.Match object; span=(280, 281), match='3'>,\n",
       " <re.Match object; span=(281, 282), match='4'>,\n",
       " <re.Match object; span=(282, 283), match='5'>,\n",
       " <re.Match object; span=(283, 284), match='6'>,\n",
       " <re.Match object; span=(284, 285), match='7'>,\n",
       " <re.Match object; span=(285, 286), match='8'>,\n",
       " <re.Match object; span=(286, 287), match='9'>,\n",
       " <re.Match object; span=(287, 288), match='0'>,\n",
       " <re.Match object; span=(288, 289), match='M'>,\n",
       " <re.Match object; span=(289, 290), match='r'>,\n",
       " <re.Match object; span=(290, 291), match='2'>,\n",
       " <re.Match object; span=(292, 293), match='3'>,\n",
       " <re.Match object; span=(293, 294), match='3'>,\n",
       " <re.Match object; span=(294, 295), match='3'>,\n",
       " <re.Match object; span=(295, 296), match='3'>,\n",
       " <re.Match object; span=(296, 297), match='3'>,\n",
       " <re.Match object; span=(298, 299), match='3'>,\n",
       " <re.Match object; span=(299, 300), match='3'>,\n",
       " <re.Match object; span=(300, 301), match='3'>,\n",
       " <re.Match object; span=(302, 303), match='3'>,\n",
       " <re.Match object; span=(303, 304), match='3'>,\n",
       " <re.Match object; span=(304, 305), match='3'>,\n",
       " <re.Match object; span=(308, 309), match='T'>,\n",
       " <re.Match object; span=(309, 310), match='h'>,\n",
       " <re.Match object; span=(310, 311), match='i'>,\n",
       " <re.Match object; span=(311, 312), match='s'>,\n",
       " <re.Match object; span=(313, 314), match='i'>,\n",
       " <re.Match object; span=(314, 315), match='s'>,\n",
       " <re.Match object; span=(316, 317), match='t'>,\n",
       " <re.Match object; span=(317, 318), match='h'>,\n",
       " <re.Match object; span=(318, 319), match='e'>,\n",
       " <re.Match object; span=(320, 321), match='a'>,\n",
       " <re.Match object; span=(321, 322), match='l'>,\n",
       " <re.Match object; span=(322, 323), match='p'>,\n",
       " <re.Match object; span=(323, 324), match='h'>,\n",
       " <re.Match object; span=(324, 325), match='a'>,\n",
       " <re.Match object; span=(325, 326), match='b'>,\n",
       " <re.Match object; span=(326, 327), match='e'>,\n",
       " <re.Match object; span=(327, 328), match='t'>,\n",
       " <re.Match object; span=(330, 331), match='a'>,\n",
       " <re.Match object; span=(331, 332), match='b'>,\n",
       " <re.Match object; span=(332, 333), match='c'>,\n",
       " <re.Match object; span=(333, 334), match='d'>,\n",
       " <re.Match object; span=(334, 335), match='e'>,\n",
       " <re.Match object; span=(335, 336), match='f'>,\n",
       " <re.Match object; span=(336, 337), match='g'>,\n",
       " <re.Match object; span=(337, 338), match='h'>,\n",
       " <re.Match object; span=(338, 339), match='i'>,\n",
       " <re.Match object; span=(339, 340), match='j'>,\n",
       " <re.Match object; span=(340, 341), match='k'>,\n",
       " <re.Match object; span=(341, 342), match='l'>,\n",
       " <re.Match object; span=(342, 343), match='m'>,\n",
       " <re.Match object; span=(343, 344), match='n'>,\n",
       " <re.Match object; span=(344, 345), match='o'>,\n",
       " <re.Match object; span=(345, 346), match='p'>,\n",
       " <re.Match object; span=(346, 347), match='q'>,\n",
       " <re.Match object; span=(347, 348), match='r'>,\n",
       " <re.Match object; span=(348, 349), match='s'>,\n",
       " <re.Match object; span=(349, 350), match='t'>,\n",
       " <re.Match object; span=(350, 351), match='u'>,\n",
       " <re.Match object; span=(351, 352), match='v'>,\n",
       " <re.Match object; span=(352, 353), match='w'>,\n",
       " <re.Match object; span=(353, 354), match='x'>,\n",
       " <re.Match object; span=(354, 355), match='y'>,\n",
       " <re.Match object; span=(355, 356), match='z'>,\n",
       " <re.Match object; span=(357, 358), match='A'>,\n",
       " <re.Match object; span=(358, 359), match='B'>,\n",
       " <re.Match object; span=(359, 360), match='C'>,\n",
       " <re.Match object; span=(360, 361), match='D'>,\n",
       " <re.Match object; span=(361, 362), match='E'>,\n",
       " <re.Match object; span=(362, 363), match='F'>,\n",
       " <re.Match object; span=(363, 364), match='G'>,\n",
       " <re.Match object; span=(364, 365), match='H'>,\n",
       " <re.Match object; span=(365, 366), match='I'>,\n",
       " <re.Match object; span=(366, 367), match='J'>,\n",
       " <re.Match object; span=(367, 368), match='K'>,\n",
       " <re.Match object; span=(368, 369), match='L'>,\n",
       " <re.Match object; span=(369, 370), match='M'>,\n",
       " <re.Match object; span=(370, 371), match='N'>,\n",
       " <re.Match object; span=(371, 372), match='O'>,\n",
       " <re.Match object; span=(372, 373), match='P'>,\n",
       " <re.Match object; span=(373, 374), match='Q'>,\n",
       " <re.Match object; span=(374, 375), match='R'>,\n",
       " <re.Match object; span=(375, 376), match='S'>,\n",
       " <re.Match object; span=(376, 377), match='T'>,\n",
       " <re.Match object; span=(377, 378), match='U'>,\n",
       " <re.Match object; span=(378, 379), match='V'>,\n",
       " <re.Match object; span=(379, 380), match='W'>,\n",
       " <re.Match object; span=(380, 381), match='X'>,\n",
       " <re.Match object; span=(381, 382), match='Y'>,\n",
       " <re.Match object; span=(382, 383), match='Z'>,\n",
       " <re.Match object; span=(386, 387), match='a'>,\n",
       " <re.Match object; span=(387, 388), match='1'>,\n",
       " <re.Match object; span=(389, 390), match='b'>,\n",
       " <re.Match object; span=(390, 391), match='2'>,\n",
       " <re.Match object; span=(392, 393), match='c'>,\n",
       " <re.Match object; span=(393, 394), match='3'>,\n",
       " <re.Match object; span=(395, 396), match='d'>,\n",
       " <re.Match object; span=(396, 397), match='4'>]"
      ]
     },
     "execution_count": 8,
     "metadata": {},
     "output_type": "execute_result"
    }
   ],
   "source": [
    "pattern = re.compile(r'\\w')\n",
    "list(pattern.finditer(document))"
   ]
  },
  {
   "cell_type": "code",
   "execution_count": 9,
   "metadata": {
    "collapsed": true
   },
   "outputs": [
    {
     "data": {
      "text/plain": [
       "[<re.Match object; span=(89, 91), match='07'>,\n",
       " <re.Match object; span=(91, 93), match='39'>,\n",
       " <re.Match object; span=(95, 97), match='60'>,\n",
       " <re.Match object; span=(99, 101), match='32'>,\n",
       " <re.Match object; span=(115, 117), match='07'>,\n",
       " <re.Match object; span=(117, 119), match='32'>,\n",
       " <re.Match object; span=(121, 123), match='23'>,\n",
       " <re.Match object; span=(125, 127), match='11'>,\n",
       " <re.Match object; span=(143, 145), match='07'>,\n",
       " <re.Match object; span=(145, 147), match='39'>,\n",
       " <re.Match object; span=(149, 151), match='24'>,\n",
       " <re.Match object; span=(153, 155), match='11'>,\n",
       " <re.Match object; span=(169, 171), match='07'>,\n",
       " <re.Match object; span=(171, 173), match='22'>,\n",
       " <re.Match object; span=(175, 177), match='23'>,\n",
       " <re.Match object; span=(179, 181), match='22'>,\n",
       " <re.Match object; span=(202, 204), match='07'>,\n",
       " <re.Match object; span=(204, 206), match='22'>,\n",
       " <re.Match object; span=(208, 210), match='22'>,\n",
       " <re.Match object; span=(212, 214), match='45'>,\n",
       " <re.Match object; span=(248, 250), match='12'>,\n",
       " <re.Match object; span=(250, 252), match='34'>,\n",
       " <re.Match object; span=(252, 254), match='56'>,\n",
       " <re.Match object; span=(254, 256), match='78'>,\n",
       " <re.Match object; span=(256, 258), match='90'>,\n",
       " <re.Match object; span=(258, 260), match='12'>,\n",
       " <re.Match object; span=(260, 262), match='34'>,\n",
       " <re.Match object; span=(262, 264), match='56'>,\n",
       " <re.Match object; span=(264, 266), match='78'>,\n",
       " <re.Match object; span=(266, 268), match='90'>,\n",
       " <re.Match object; span=(268, 270), match='12'>,\n",
       " <re.Match object; span=(270, 272), match='34'>,\n",
       " <re.Match object; span=(272, 274), match='56'>,\n",
       " <re.Match object; span=(274, 276), match='78'>,\n",
       " <re.Match object; span=(276, 278), match='90'>,\n",
       " <re.Match object; span=(278, 280), match='12'>,\n",
       " <re.Match object; span=(280, 282), match='34'>,\n",
       " <re.Match object; span=(282, 284), match='56'>,\n",
       " <re.Match object; span=(284, 286), match='78'>,\n",
       " <re.Match object; span=(286, 288), match='90'>,\n",
       " <re.Match object; span=(292, 294), match='33'>,\n",
       " <re.Match object; span=(294, 296), match='33'>,\n",
       " <re.Match object; span=(298, 300), match='33'>,\n",
       " <re.Match object; span=(302, 304), match='33'>]"
      ]
     },
     "execution_count": 9,
     "metadata": {},
     "output_type": "execute_result"
    }
   ],
   "source": [
    "pattern = re.compile(r'\\d\\d')\n",
    "list(pattern.finditer(document)) #two digits in a row"
   ]
  },
  {
   "cell_type": "code",
   "execution_count": 10,
   "metadata": {},
   "outputs": [
    {
     "data": {
      "text/plain": [
       "[<re.Match object; span=(89, 102), match='07397-602-324'>,\n",
       " <re.Match object; span=(115, 128), match='07323-234-111'>,\n",
       " <re.Match object; span=(143, 156), match='07392-244-112'>,\n",
       " <re.Match object; span=(169, 182), match='07221-233-222'>]"
      ]
     },
     "execution_count": 10,
     "metadata": {},
     "output_type": "execute_result"
    }
   ],
   "source": [
    "pattern = re.compile(r'\\d\\d\\d\\d\\d-\\d\\d\\d-\\d\\d\\d')\n",
    "list(pattern.finditer(document)) #phone numbers but looks a bit ugly"
   ]
  },
  {
   "cell_type": "code",
   "execution_count": 11,
   "metadata": {},
   "outputs": [
    {
     "data": {
      "text/plain": [
       "[<re.Match object; span=(89, 102), match='07397-602-324'>,\n",
       " <re.Match object; span=(115, 128), match='07323-234-111'>,\n",
       " <re.Match object; span=(143, 156), match='07392-244-112'>,\n",
       " <re.Match object; span=(169, 182), match='07221-233-222'>]"
      ]
     },
     "execution_count": 11,
     "metadata": {},
     "output_type": "execute_result"
    }
   ],
   "source": [
    "pattern = re.compile(r'\\d{5}-\\d{3}-\\d{3}')\n",
    "list(pattern.finditer(document)) #phone numbers but looks a bit ugly"
   ]
  },
  {
   "cell_type": "code",
   "execution_count": 13,
   "metadata": {},
   "outputs": [
    {
     "data": {
      "text/plain": [
       "[<re.Match object; span=(89, 102), match='07397-602-324'>,\n",
       " <re.Match object; span=(115, 128), match='07323-234-111'>,\n",
       " <re.Match object; span=(143, 156), match='07392-244-112'>,\n",
       " <re.Match object; span=(169, 182), match='07221-233-222'>,\n",
       " <re.Match object; span=(202, 215), match='07221 222 456'>]"
      ]
     },
     "execution_count": 13,
     "metadata": {},
     "output_type": "execute_result"
    }
   ],
   "source": [
    "pattern = re.compile(r'\\d{5}.\\d{3}.\\d{3}')\n",
    "list(pattern.finditer(document))\n",
    "#we get a few more results than we wanted"
   ]
  },
  {
   "cell_type": "code",
   "execution_count": 14,
   "metadata": {},
   "outputs": [
    {
     "data": {
      "text/plain": [
       "[<re.Match object; span=(89, 102), match='07397-602-324'>,\n",
       " <re.Match object; span=(115, 128), match='07323-234-111'>,\n",
       " <re.Match object; span=(143, 156), match='07392-244-112'>,\n",
       " <re.Match object; span=(169, 182), match='07221-233-222'>,\n",
       " <re.Match object; span=(202, 215), match='07221 222 456'>]"
      ]
     },
     "execution_count": 14,
     "metadata": {},
     "output_type": "execute_result"
    }
   ],
   "source": [
    "pattern = re.compile(r'\\d{5}[\\s-]\\d{3}[\\s-]\\d{3}')\n",
    "list(pattern.finditer(document)) #space is \\s, now we have the phone numbers we want"
   ]
  },
  {
   "cell_type": "code",
   "execution_count": 15,
   "metadata": {},
   "outputs": [
    {
     "data": {
      "text/plain": [
       "['07397-602-324',\n",
       " '07323-234-111',\n",
       " '07392-244-112',\n",
       " '07221-233-222',\n",
       " '07221 222 456']"
      ]
     },
     "execution_count": 15,
     "metadata": {},
     "output_type": "execute_result"
    }
   ],
   "source": [
    "match_list = list(pattern.finditer(document))\n",
    "[m.group() for m in match_list] #list of the phone numbers"
   ]
  },
  {
   "cell_type": "code",
   "execution_count": 16,
   "metadata": {},
   "outputs": [
    {
     "data": {
      "text/plain": [
       "[<re.Match object; span=(78, 88), match='Mr. Albert'>,\n",
       " <re.Match object; span=(105, 114), match='Mr. David'>,\n",
       " <re.Match object; span=(131, 142), match='Mr. Lorenzo'>,\n",
       " <re.Match object; span=(185, 194), match='Mr. Simon'>]"
      ]
     },
     "execution_count": 16,
     "metadata": {},
     "output_type": "execute_result"
    }
   ],
   "source": [
    "#lets find the names of the male staff\n",
    "pattern = re.compile(r'Mr\\. [a-zA-Z]+')\n",
    "list(pattern.finditer(document)) #we only get the surnames here, \\. so that it knows we literally mean ."
   ]
  },
  {
   "cell_type": "code",
   "execution_count": 24,
   "metadata": {},
   "outputs": [
    {
     "data": {
      "text/plain": [
       "[<re.Match object; span=(78, 88), match='Mr. Albert'>,\n",
       " <re.Match object; span=(105, 114), match='Mr. David'>,\n",
       " <re.Match object; span=(131, 142), match='Mr. Lorenzo'>,\n",
       " <re.Match object; span=(185, 201), match='Mr. Simon Duncan'>]"
      ]
     },
     "execution_count": 24,
     "metadata": {},
     "output_type": "execute_result"
    }
   ],
   "source": [
    "pattern = re.compile(r'Mr\\.\\s[a-zA-Z]+\\s?[a-zA-Z]+') #question mark means 0 or 1 spaces\n",
    "list(pattern.finditer(document)) "
   ]
  },
  {
   "cell_type": "code",
   "execution_count": 25,
   "metadata": {},
   "outputs": [
    {
     "data": {
      "text/plain": [
       "[<re.Match object; span=(159, 168), match='Ms. Sarah'>]"
      ]
     },
     "execution_count": 25,
     "metadata": {},
     "output_type": "execute_result"
    }
   ],
   "source": [
    "pattern = re.compile(r'Ms.\\s[a-zA-Z]+\\s?[a-zA-Z]+') #female staff\n",
    "list(pattern.finditer(document)) "
   ]
  },
  {
   "cell_type": "code",
   "execution_count": 1,
   "metadata": {},
   "outputs": [
    {
     "ename": "NameError",
     "evalue": "name 're' is not defined",
     "output_type": "error",
     "traceback": [
      "\u001b[1;31m---------------------------------------------------------------------------\u001b[0m",
      "\u001b[1;31mNameError\u001b[0m                                 Traceback (most recent call last)",
      "\u001b[1;32m<ipython-input-1-f0b7b962acc3>\u001b[0m in \u001b[0;36m<module>\u001b[1;34m\u001b[0m\n\u001b[1;32m----> 1\u001b[1;33m \u001b[0mpattern\u001b[0m \u001b[1;33m=\u001b[0m \u001b[0mre\u001b[0m\u001b[1;33m.\u001b[0m\u001b[0mcompile\u001b[0m\u001b[1;33m(\u001b[0m\u001b[1;34mr'M..\\s[a-zA-Z]+\\s?[a-zA-Z]+'\u001b[0m\u001b[1;33m)\u001b[0m \u001b[1;31m#all staff staff\u001b[0m\u001b[1;33m\u001b[0m\u001b[1;33m\u001b[0m\u001b[0m\n\u001b[0m\u001b[0;32m      2\u001b[0m \u001b[0mmatches\u001b[0m \u001b[1;33m=\u001b[0m \u001b[0mlist\u001b[0m\u001b[1;33m(\u001b[0m\u001b[0mpattern\u001b[0m\u001b[1;33m.\u001b[0m\u001b[0mfinditer\u001b[0m\u001b[1;33m(\u001b[0m\u001b[0mdocument\u001b[0m\u001b[1;33m)\u001b[0m\u001b[1;33m)\u001b[0m\u001b[1;33m\u001b[0m\u001b[1;33m\u001b[0m\u001b[0m\n\u001b[0;32m      3\u001b[0m \u001b[1;33m[\u001b[0m\u001b[0mm\u001b[0m\u001b[1;33m.\u001b[0m\u001b[0mgroup\u001b[0m\u001b[1;33m(\u001b[0m\u001b[1;33m)\u001b[0m \u001b[1;32mfor\u001b[0m \u001b[0mm\u001b[0m \u001b[1;32min\u001b[0m \u001b[0mmatches\u001b[0m\u001b[1;33m]\u001b[0m\u001b[1;33m\u001b[0m\u001b[1;33m\u001b[0m\u001b[0m\n",
      "\u001b[1;31mNameError\u001b[0m: name 're' is not defined"
     ]
    }
   ],
   "source": [
    "pattern = re.compile(r'M..\\s[a-zA-Z]+\\s?[a-zA-Z]+') #all staff staff\n",
    "matches = list(pattern.finditer(document))\n",
    "[m.group() for m in matches]"
   ]
  },
  {
   "cell_type": "code",
   "execution_count": 30,
   "metadata": {},
   "outputs": [
    {
     "data": {
      "text/plain": [
       "['07397-602-324',\n",
       " '07323-234-111',\n",
       " '07392-244-112',\n",
       " '07221-233-222',\n",
       " '07221 222 456',\n",
       " '+44 7738 433 978']"
      ]
     },
     "execution_count": 30,
     "metadata": {},
     "output_type": "execute_result"
    }
   ],
   "source": [
    "#we added marko to there with a +44\n",
    "pattern = re.compile(r'(0|\\+44\\s)\\d{4}[\\s-]\\d{3}[\\s-]\\d{3}') #create a group \n",
    "match_list = list(pattern.finditer(document))\n",
    "[m.group() for m in match_list]"
   ]
  },
  {
   "cell_type": "markdown",
   "metadata": {},
   "source": [
    "## Code to test if a string is a valid email address"
   ]
  },
  {
   "cell_type": "code",
   "execution_count": null,
   "metadata": {},
   "outputs": [],
   "source": [
    "import re\n",
    " \n",
    "def is_valid_email(email): \n",
    "    pattern = r'[a-z0-9]+[a-z0-9\\.]+@[a-z0-9\\.]+[a-z0-9]+'\n",
    "    if re.match(pattern,email):\n",
    "        #print('Valid Email')\n",
    "        return True\n",
    "    else: \n",
    "        #print('Invalid email')\n",
    "        return False\n",
    "    \n",
    "#this is kates that she posted"
   ]
  },
  {
   "cell_type": "code",
   "execution_count": null,
   "metadata": {},
   "outputs": [],
   "source": [
    "def is_valid_email(x):\n",
    "    import re\n",
    "    pattern = re.compile(r'^[a-z0-9]+[\\._]?[a-z0-9]+[@]\\w+[.]\\w{2,3}$')\n",
    "    match_list = list(pattern.finditer(x))\n",
    "    if len([m.group() for m in match_list]) > 0:\n",
    "        return True\n",
    "    return False\n",
    "\n",
    "#my one"
   ]
  }
 ],
 "metadata": {
  "kernelspec": {
   "display_name": "Python 3",
   "language": "python",
   "name": "python3"
  },
  "language_info": {
   "codemirror_mode": {
    "name": "ipython",
    "version": 3
   },
   "file_extension": ".py",
   "mimetype": "text/x-python",
   "name": "python",
   "nbconvert_exporter": "python",
   "pygments_lexer": "ipython3",
   "version": "3.8.3"
  }
 },
 "nbformat": 4,
 "nbformat_minor": 4
}
