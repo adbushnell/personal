{
 "cells": [
  {
   "cell_type": "markdown",
   "metadata": {},
   "source": [
    "# Day 1 - Python Introduction\n",
    "Python is an open source, general purpose programming language.\n",
    "Released in 92 it has a clear syntax and is easy for beginners.\n",
    "A big strength of pythin it is easy to get a lot done without writing a lot of code.\n",
    "\n",
    "We will use this for file processing, web scraping, data analysis, data visualsation and machine learning."
   ]
  },
  {
   "cell_type": "code",
   "execution_count": 2,
   "metadata": {},
   "outputs": [],
   "source": [
    "#blue is command mode \n",
    "#green is edit mode\n",
    "#press b in command mode adds new cells below\n",
    "#press h in command mode to get the help screen up\n",
    "#press m to enter the cell into markdown mode\n",
    "#press shift + enter to go to next cell"
   ]
  },
  {
   "cell_type": "markdown",
   "metadata": {},
   "source": [
    "## Variables and arithmetic\n",
    "We can create variables and do basic arithmetic"
   ]
  },
  {
   "cell_type": "code",
   "execution_count": 3,
   "metadata": {},
   "outputs": [
    {
     "data": {
      "text/plain": [
       "29"
      ]
     },
     "execution_count": 3,
     "metadata": {},
     "output_type": "execute_result"
    }
   ],
   "source": [
    "#basic arithmetic\n",
    "8+7*3"
   ]
  },
  {
   "cell_type": "code",
   "execution_count": 4,
   "metadata": {},
   "outputs": [],
   "source": [
    "#assign 123 to the variable value\n",
    "value = 123"
   ]
  },
  {
   "cell_type": "code",
   "execution_count": 6,
   "metadata": {},
   "outputs": [
    {
     "name": "stdout",
     "output_type": "stream",
     "text": [
      "123\n"
     ]
    }
   ],
   "source": [
    "print(value)\n",
    "#display the value of our variable"
   ]
  },
  {
   "cell_type": "code",
   "execution_count": 7,
   "metadata": {},
   "outputs": [],
   "source": [
    "a = 5\n",
    "b = 10"
   ]
  },
  {
   "cell_type": "code",
   "execution_count": 10,
   "metadata": {},
   "outputs": [
    {
     "name": "stdout",
     "output_type": "stream",
     "text": [
      "11.180339887498949\n"
     ]
    }
   ],
   "source": [
    "c = (a**2 +b**2)**0.5\n",
    "print(c)"
   ]
  },
  {
   "cell_type": "markdown",
   "metadata": {},
   "source": [
    "### Conditional statements"
   ]
  },
  {
   "cell_type": "code",
   "execution_count": 11,
   "metadata": {},
   "outputs": [
    {
     "name": "stdout",
     "output_type": "stream",
     "text": [
      "a is not smaller than b\n"
     ]
    }
   ],
   "source": [
    "a = 10\n",
    "b = 3\n",
    "\n",
    "if a<b:\n",
    "    print('a is smaller than b')\n",
    "else:\n",
    "    print('a is not smaller than b')"
   ]
  },
  {
   "cell_type": "markdown",
   "metadata": {},
   "source": [
    "### String literals\n",
    "\n"
   ]
  },
  {
   "cell_type": "code",
   "execution_count": 13,
   "metadata": {},
   "outputs": [
    {
     "name": "stdout",
     "output_type": "stream",
     "text": [
      "abc\n",
      "abc\n",
      "abc\n"
     ]
    }
   ],
   "source": [
    "#this is what you do with different quotes\n",
    "\n",
    "my_string1 = 'abc'\n",
    "my_string2 = \"abc\"\n",
    "my_string3 = '''abc'''\n",
    "\n",
    "print(my_string1)\n",
    "print(my_string2)\n",
    "print(my_string3)\n",
    "#these all work\n",
    "#you use double when there is a single quote in your string\n",
    "#vice versa for single and double\n",
    "#you have a triple for strings with both in i guess"
   ]
  },
  {
   "cell_type": "code",
   "execution_count": 14,
   "metadata": {},
   "outputs": [
    {
     "data": {
      "text/plain": [
       "'1234'"
      ]
     },
     "execution_count": 14,
     "metadata": {},
     "output_type": "execute_result"
    }
   ],
   "source": [
    "#concatenation\n",
    "s1 ='12'\n",
    "s2='34'\n",
    "s1+s2"
   ]
  },
  {
   "cell_type": "code",
   "execution_count": 15,
   "metadata": {},
   "outputs": [
    {
     "data": {
      "text/plain": [
       "46"
      ]
     },
     "execution_count": 15,
     "metadata": {},
     "output_type": "execute_result"
    }
   ],
   "source": [
    "int(s1)+int(s2)\n",
    "#change the data type"
   ]
  },
  {
   "cell_type": "markdown",
   "metadata": {},
   "source": [
    "### Formatting strings \n",
    "\n",
    "Useful when you have placeholders in your string and you would like to replace them."
   ]
  },
  {
   "cell_type": "code",
   "execution_count": 1,
   "metadata": {},
   "outputs": [
    {
     "name": "stdout",
     "output_type": "stream",
     "text": [
      "int1 is equal to 5\n",
      "int1, int2 are equal to 5,10\n",
      "int1, int2 are equal to 5,10\n"
     ]
    }
   ],
   "source": [
    "int1 = 5\n",
    "int2=10\n",
    "print('int1 is equal to {}'.format(int1)) \n",
    "print('int1, int2 are equal to {},{}'.format(int1,int2))\n",
    "print(f'int1, int2 are equal to {int1},{int2}') #this is an f string - newer way to do this"
   ]
  },
  {
   "cell_type": "markdown",
   "metadata": {},
   "source": [
    "### Concept check\n",
    "\n",
    "Here, we will write some basic code to calculate the amount in a bank account after interest.\n",
    "\n",
    " \n",
    "\n",
    "1. Create several variables and assign them values:\n",
    "- principal (the initial amount in the account)\n",
    "- rate (the yearly interest rate)\n",
    "- years (number of years to do compounding)\n",
    "\n",
    " \n",
    "\n",
    "2. Calculate the amount in the bank account if principal compounds at the specified rate' over years.\n",
    "Assign this to variable new_principal.\n",
    "\n",
    " \n",
    "\n",
    "3. Print the amount in the bank account, specifying whether the money is owed or not.\n",
    "Eg. If new_principal is -50, then print \"$50 owed\".\n",
    "    If new_principal is 50, then print \"$50 in account\"."
   ]
  },
  {
   "cell_type": "code",
   "execution_count": 30,
   "metadata": {},
   "outputs": [
    {
     "name": "stdout",
     "output_type": "stream",
     "text": [
      "$108347.06 in account\n"
     ]
    }
   ],
   "source": [
    "principal = 10000\n",
    "rate = 0.1\n",
    "years = 25\n",
    "\n",
    "new_principal = round(principal*(1+rate)**years,2)\n",
    "print('${} in account'.format(new_principal))"
   ]
  },
  {
   "cell_type": "markdown",
   "metadata": {},
   "source": [
    "### Lists"
   ]
  },
  {
   "cell_type": "code",
   "execution_count": 32,
   "metadata": {},
   "outputs": [
    {
     "data": {
      "text/plain": [
       "[1, 2, 3]"
      ]
     },
     "execution_count": 32,
     "metadata": {},
     "output_type": "execute_result"
    }
   ],
   "source": [
    "mylist = [1,2,3]\n",
    "mylist #you dont need print"
   ]
  },
  {
   "cell_type": "code",
   "execution_count": 34,
   "metadata": {},
   "outputs": [
    {
     "data": {
      "text/plain": [
       "[1, 2, 3, 4, 4]"
      ]
     },
     "execution_count": 34,
     "metadata": {},
     "output_type": "execute_result"
    }
   ],
   "source": [
    "mylist.append(4)\n",
    "mylist #i did this twice thats why there is 2 4's"
   ]
  },
  {
   "cell_type": "code",
   "execution_count": 35,
   "metadata": {},
   "outputs": [
    {
     "data": {
      "text/plain": [
       "[1, 1.5, 2, 3, 4, 4]"
      ]
     },
     "execution_count": 35,
     "metadata": {},
     "output_type": "execute_result"
    }
   ],
   "source": [
    "mylist.insert(1,1.5)\n",
    "mylist #positions begin at 0"
   ]
  },
  {
   "cell_type": "code",
   "execution_count": 36,
   "metadata": {},
   "outputs": [
    {
     "data": {
      "text/plain": [
       "1"
      ]
     },
     "execution_count": 36,
     "metadata": {},
     "output_type": "execute_result"
    }
   ],
   "source": [
    "mylist[0]"
   ]
  },
  {
   "cell_type": "code",
   "execution_count": 39,
   "metadata": {},
   "outputs": [
    {
     "data": {
      "text/plain": [
       "[1, 1.5, 2, 3, 4, 4, 9, 8, 7]"
      ]
     },
     "execution_count": 39,
     "metadata": {},
     "output_type": "execute_result"
    }
   ],
   "source": [
    "newlist=[9,8,7]\n",
    "mylist+newlist #add these together nice and easy"
   ]
  },
  {
   "cell_type": "markdown",
   "metadata": {},
   "source": [
    "### Tuple\n",
    "An immutable collection of values"
   ]
  },
  {
   "cell_type": "code",
   "execution_count": 40,
   "metadata": {},
   "outputs": [
    {
     "data": {
      "text/plain": [
       "(1, 2, 3)"
      ]
     },
     "execution_count": 40,
     "metadata": {},
     "output_type": "execute_result"
    }
   ],
   "source": [
    "#immutable means that you cant change it\n",
    "#you use round brackets instead of square ones here\n",
    "mytuple=(1,2,3)\n",
    "mytuple"
   ]
  },
  {
   "cell_type": "code",
   "execution_count": 41,
   "metadata": {},
   "outputs": [
    {
     "data": {
      "text/plain": [
       "('Alex', 'Bushnell', '07707 xxx xxx')"
      ]
     },
     "execution_count": 41,
     "metadata": {},
     "output_type": "execute_result"
    }
   ],
   "source": [
    "#these are used to group variables together\n",
    "name='Alex'\n",
    "surname='Bushnell'\n",
    "phone='07707 xxx xxx'\n",
    "\n",
    "newtuple=(name,surname,phone)\n",
    "newtuple"
   ]
  },
  {
   "cell_type": "code",
   "execution_count": 43,
   "metadata": {},
   "outputs": [
    {
     "data": {
      "text/plain": [
       "'07707 xxx xxx'"
      ]
     },
     "execution_count": 43,
     "metadata": {},
     "output_type": "execute_result"
    }
   ],
   "source": [
    "newtuple[2] #remember it starts at 0"
   ]
  },
  {
   "cell_type": "code",
   "execution_count": 45,
   "metadata": {},
   "outputs": [
    {
     "data": {
      "text/plain": [
       "(1, 2, 3, 'Alex', 'Bushnell', '07707 xxx xxx')"
      ]
     },
     "execution_count": 45,
     "metadata": {},
     "output_type": "execute_result"
    }
   ],
   "source": [
    "mytuple + newtuple #you can concatenate like with list"
   ]
  },
  {
   "cell_type": "markdown",
   "metadata": {},
   "source": [
    "### Sets\n",
    "A mutable unordered collection of unique values"
   ]
  },
  {
   "cell_type": "code",
   "execution_count": 46,
   "metadata": {},
   "outputs": [
    {
     "data": {
      "text/plain": [
       "{1, 2, 3}"
      ]
     },
     "execution_count": 46,
     "metadata": {},
     "output_type": "execute_result"
    }
   ],
   "source": [
    "set([1,2,3,3]) #notice duplicates are removed"
   ]
  },
  {
   "cell_type": "code",
   "execution_count": 47,
   "metadata": {},
   "outputs": [
    {
     "data": {
      "text/plain": [
       "{'e', 'h', 'l', 'o'}"
      ]
     },
     "execution_count": 47,
     "metadata": {},
     "output_type": "execute_result"
    }
   ],
   "source": [
    "set('hello') #no such concept of order in a set"
   ]
  },
  {
   "cell_type": "code",
   "execution_count": 48,
   "metadata": {},
   "outputs": [
    {
     "data": {
      "text/plain": [
       "{1, 2, 3, 4, 5, 6, 67}"
      ]
     },
     "execution_count": 48,
     "metadata": {},
     "output_type": "execute_result"
    }
   ],
   "source": [
    "{1,2,3,4,4,4,5,5,5,6,67} #curly brackets for sets"
   ]
  },
  {
   "cell_type": "markdown",
   "metadata": {},
   "source": [
    "### Dictionary\n",
    "One of the most optimised things in python.\n",
    "It is a mutable collection of key value pairs"
   ]
  },
  {
   "cell_type": "code",
   "execution_count": 50,
   "metadata": {},
   "outputs": [
    {
     "data": {
      "text/plain": [
       "{'name': 'GOOG', 'price': 1200}"
      ]
     },
     "execution_count": 50,
     "metadata": {},
     "output_type": "execute_result"
    }
   ],
   "source": [
    "#these are created using {}\n",
    "\n",
    "stock ={'name':'GOOG','price':1200} \n",
    "stock"
   ]
  },
  {
   "cell_type": "code",
   "execution_count": 53,
   "metadata": {},
   "outputs": [
    {
     "data": {
      "text/plain": [
       "'GOOG'"
      ]
     },
     "execution_count": 53,
     "metadata": {},
     "output_type": "execute_result"
    }
   ],
   "source": [
    "stock['name'] #you index by the key\n",
    "# stock[1] will give you an error "
   ]
  },
  {
   "cell_type": "markdown",
   "metadata": {},
   "source": [
    "## Iteration and looping"
   ]
  },
  {
   "cell_type": "code",
   "execution_count": 54,
   "metadata": {},
   "outputs": [
    {
     "name": "stdout",
     "output_type": "stream",
     "text": [
      "1\n",
      "------\n",
      "2\n",
      "------\n",
      "3\n",
      "------\n",
      "4\n",
      "------\n"
     ]
    }
   ],
   "source": [
    "mylist=[1,2,3,4]\n",
    "\n",
    "for i in mylist:\n",
    "    print(i)\n",
    "    print('------')\n"
   ]
  },
  {
   "cell_type": "markdown",
   "metadata": {},
   "source": [
    "## File I/O\n",
    "We can write and read files in python\n",
    "\n",
    "~~~\n",
    "r: read\n",
    "w: write if file doesnt exist we write a new one, if it does exist it overwrites what was previously there\n",
    "x: create if file exists here then you will get an error, else you have a new file to write in\n",
    "a: append writes at the end of the file, creates a new one if there is not one\n",
    "~~~\n",
    "\n",
    "there are some additional options\n",
    "\n",
    "~~~\n",
    "t: text\n",
    "there was one with a plus and another one too\n",
    "~~~"
   ]
  },
  {
   "cell_type": "code",
   "execution_count": 57,
   "metadata": {},
   "outputs": [],
   "source": [
    "text = \"I'm learning python\"\n",
    "file_path= r'C:\\Users\\AlexBushnell\\anaconda3\\text.txt' #r in front of the string means it's raw string\n",
    "f = open(file_path,'w') #this opens the file, f if the file handle, 'w' is for write,'r' is for read\n",
    "f.write(text) #this puts it in the anaconda3 folder\n",
    "f.close()\n",
    "#raw string allows for backslashes to be read literally, python normally reads them as a separator "
   ]
  },
  {
   "cell_type": "code",
   "execution_count": 62,
   "metadata": {},
   "outputs": [],
   "source": [
    "text=\"This should be repeated\"\n",
    "file_path= r'C:\\Users\\AlexBushnell\\anaconda3\\text.txt'\n",
    "f = open(file_path,'a') #this opens the file, f if the file handle, 'w' is for write,'r' is for read\n",
    "f.write(text) #this puts it in the anaconda3 folder\n",
    "f.close() #now the text has been appended to the end of the text"
   ]
  },
  {
   "cell_type": "code",
   "execution_count": 70,
   "metadata": {},
   "outputs": [
    {
     "name": "stdout",
     "output_type": "stream",
     "text": [
      "I'm learning pythonThis should be repeatedThis should be repeatedThis should be repeatedThis should be repeatedThis should be repeated\n"
     ]
    },
    {
     "data": {
      "text/plain": [
       "\"I'm learning pythonThis should be repeatedThis should be repeatedThis should be repeatedThis should be repeatedThis should be repeated\""
      ]
     },
     "execution_count": 70,
     "metadata": {},
     "output_type": "execute_result"
    }
   ],
   "source": [
    "file_path= r'C:\\Users\\AlexBushnell\\anaconda3\\text.txt'\n",
    "f = open(file_path,'r') #this opens the file, f if the file handle, 'w' is for write,'r' is for read\n",
    "line = f.read()\n",
    "f.close()\n",
    "\n",
    "print(line) #gets the text without quotes\n",
    "line #gets the text with quotes"
   ]
  },
  {
   "cell_type": "code",
   "execution_count": 71,
   "metadata": {},
   "outputs": [
    {
     "name": "stdout",
     "output_type": "stream",
     "text": [
      "I'm learning pythonThis should be repeatedThis should be repeatedThis should be repeatedThis should be repeatedThis should be repeated\n"
     ]
    },
    {
     "data": {
      "text/plain": [
       "\"I'm learning pythonThis should be repeatedThis should be repeatedThis should be repeatedThis should be repeatedThis should be repeated\""
      ]
     },
     "execution_count": 71,
     "metadata": {},
     "output_type": "execute_result"
    }
   ],
   "source": [
    "file_path= r'C:\\Users\\AlexBushnell\\anaconda3\\text.txt'\n",
    "with open(file_path,'r') as f:\n",
    "    line = f.read()\n",
    "                                #more advanced way of reading files\n",
    "print(line)\n",
    "line"
   ]
  },
  {
   "cell_type": "markdown",
   "metadata": {},
   "source": [
    "## Functions\n"
   ]
  },
  {
   "cell_type": "code",
   "execution_count": 72,
   "metadata": {},
   "outputs": [],
   "source": [
    "def add_three(x):\n",
    "    return x+3"
   ]
  },
  {
   "cell_type": "code",
   "execution_count": 73,
   "metadata": {},
   "outputs": [
    {
     "data": {
      "text/plain": [
       "3"
      ]
     },
     "execution_count": 73,
     "metadata": {},
     "output_type": "execute_result"
    }
   ],
   "source": [
    "add_three(0)"
   ]
  },
  {
   "cell_type": "code",
   "execution_count": 74,
   "metadata": {},
   "outputs": [
    {
     "name": "stdout",
     "output_type": "stream",
     "text": [
      "Hello Alex! You are awesome!\n"
     ]
    }
   ],
   "source": [
    "def say_hello(name):\n",
    "    print(f'Hello {name}! You are awesome!')\n",
    "    \n",
    "say_hello('Alex')"
   ]
  },
  {
   "cell_type": "code",
   "execution_count": 75,
   "metadata": {},
   "outputs": [
    {
     "data": {
      "text/plain": [
       "'\\nQuestions\\n1. Create list with 5 names\\n2. Create a loop to write to a file\\n3. Make it into a function\\n'"
      ]
     },
     "execution_count": 75,
     "metadata": {},
     "output_type": "execute_result"
    }
   ],
   "source": [
    "'''\n",
    "Questions\n",
    "1. Create list with 5 names\n",
    "2. Create a loop to write to a file\n",
    "3. Make it into a function\n",
    "'''"
   ]
  },
  {
   "cell_type": "code",
   "execution_count": 91,
   "metadata": {},
   "outputs": [],
   "source": [
    "namelist=['Alex','Jason','Albert','Ben','Toby']\n",
    "\n",
    "def add_to_text(namelist):\n",
    "\n",
    "    for name in namelist:\n",
    "        file_path= r'C:\\Users\\AlexBushnell\\Documents\\Python Scripts\\names.txt' #r in front of the string means it's raw string\n",
    "        f = open(file_path,'a') #this opens the file, f if the file handle, 'w' is for write,'r' is for read\n",
    "        text = F'{name} and '\n",
    "        f.write(text) #this puts it in the anaconda3 folder\n",
    "        f.close()\n",
    "        \n",
    "add_to_text(namelist)\n",
    "    "
   ]
  },
  {
   "cell_type": "code",
   "execution_count": 92,
   "metadata": {},
   "outputs": [],
   "source": [
    "namelist2 = ['Zain','Anna','Daniel','Matthew']\n",
    "add_to_text(namelist2) #works perfectly"
   ]
  },
  {
   "cell_type": "code",
   "execution_count": 93,
   "metadata": {},
   "outputs": [],
   "source": [
    "add_to_text('Soline') #this adds each letter individually"
   ]
  },
  {
   "cell_type": "code",
   "execution_count": 94,
   "metadata": {},
   "outputs": [],
   "source": [
    "add_to_text(['Soline']) #adds the whole name"
   ]
  },
  {
   "cell_type": "code",
   "execution_count": 95,
   "metadata": {},
   "outputs": [],
   "source": [
    "def add_to_text2(namelist):\n",
    "\n",
    "    for name in namelist:\n",
    "        file_path= r'C:\\Users\\AlexBushnell\\Documents\\Python Scripts\\names2.txt' #r in front of the string means it's raw string\n",
    "        f = open(file_path,'a') #this opens the file, f if the file handle, 'w' is for write,'r' is for read\n",
    "        text = F'{name}'\n",
    "        f.write(text + '\\n') #this puts it in the anaconda3 folder\n",
    "        f.close()"
   ]
  },
  {
   "cell_type": "code",
   "execution_count": 96,
   "metadata": {},
   "outputs": [],
   "source": [
    "add_to_text2(namelist+namelist2) #check these out in python scripts"
   ]
  },
  {
   "cell_type": "markdown",
   "metadata": {},
   "source": [
    "## Objects and classes\n",
    "Every piece of data is an object, and we can define our own types by using classes"
   ]
  },
  {
   "cell_type": "code",
   "execution_count": 99,
   "metadata": {},
   "outputs": [
    {
     "name": "stdout",
     "output_type": "stream",
     "text": [
      "<class 'list'>\n",
      "['__add__', '__class__', '__contains__', '__delattr__', '__delitem__', '__dir__', '__doc__', '__eq__', '__format__', '__ge__', '__getattribute__', '__getitem__', '__gt__', '__hash__', '__iadd__', '__imul__', '__init__', '__init_subclass__', '__iter__', '__le__', '__len__', '__lt__', '__mul__', '__ne__', '__new__', '__reduce__', '__reduce_ex__', '__repr__', '__reversed__', '__rmul__', '__setattr__', '__setitem__', '__sizeof__', '__str__', '__subclasshook__', 'append', 'clear', 'copy', 'count', 'extend', 'index', 'insert', 'pop', 'remove', 'reverse', 'sort']\n"
     ]
    },
    {
     "data": {
      "text/plain": [
       "list"
      ]
     },
     "execution_count": 99,
     "metadata": {},
     "output_type": "execute_result"
    }
   ],
   "source": [
    "items=[1,2,3,4] #this is our object\n",
    "print(type(items)) #what the object is\n",
    "print(dir(items)) #this shows you what you can do with our object and other stuff\n",
    "type(items) #what the object is"
   ]
  },
  {
   "cell_type": "markdown",
   "metadata": {},
   "source": [
    "### Define our own type using a class"
   ]
  },
  {
   "cell_type": "code",
   "execution_count": 100,
   "metadata": {},
   "outputs": [],
   "source": [
    "#The class is like a blueprint to the object\n",
    "class student:\n",
    "    def sleep_in_class(self):\n",
    "        print('Sleeping')\n",
    "        \n",
    "    def read_in_class(self):\n",
    "        print('Reading')"
   ]
  },
  {
   "cell_type": "code",
   "execution_count": 101,
   "metadata": {},
   "outputs": [],
   "source": [
    "kate=student() #kate is an instance of a student"
   ]
  },
  {
   "cell_type": "code",
   "execution_count": 104,
   "metadata": {},
   "outputs": [
    {
     "name": "stdout",
     "output_type": "stream",
     "text": [
      "Sleeping\n",
      "Reading\n"
     ]
    }
   ],
   "source": [
    "kate.sleep_in_class()\n",
    "kate.read_in_class()"
   ]
  },
  {
   "cell_type": "code",
   "execution_count": 107,
   "metadata": {},
   "outputs": [
    {
     "data": {
      "text/plain": [
       "['__class__',\n",
       " '__delattr__',\n",
       " '__dict__',\n",
       " '__dir__',\n",
       " '__doc__',\n",
       " '__eq__',\n",
       " '__format__',\n",
       " '__ge__',\n",
       " '__getattribute__',\n",
       " '__gt__',\n",
       " '__hash__',\n",
       " '__init__',\n",
       " '__init_subclass__',\n",
       " '__le__',\n",
       " '__lt__',\n",
       " '__module__',\n",
       " '__ne__',\n",
       " '__new__',\n",
       " '__reduce__',\n",
       " '__reduce_ex__',\n",
       " '__repr__',\n",
       " '__setattr__',\n",
       " '__sizeof__',\n",
       " '__str__',\n",
       " '__subclasshook__',\n",
       " '__weakref__',\n",
       " 'read_in_class',\n",
       " 'sleep_in_class']"
      ]
     },
     "execution_count": 107,
     "metadata": {},
     "output_type": "execute_result"
    }
   ],
   "source": [
    "dir(kate) #you can see the read and the sleep options at the bottom"
   ]
  },
  {
   "cell_type": "code",
   "execution_count": null,
   "metadata": {},
   "outputs": [],
   "source": []
  },
  {
   "cell_type": "markdown",
   "metadata": {},
   "source": [
    "## Exceptions"
   ]
  },
  {
   "cell_type": "code",
   "execution_count": 109,
   "metadata": {},
   "outputs": [
    {
     "ename": "FileNotFoundError",
     "evalue": "[Errno 2] No such file or directory: 'G:\\\\non_existent_file.txt'",
     "output_type": "error",
     "traceback": [
      "\u001b[1;31m---------------------------------------------------------------------------\u001b[0m",
      "\u001b[1;31mFileNotFoundError\u001b[0m                         Traceback (most recent call last)",
      "\u001b[1;32m<ipython-input-109-ecae5b0764ef>\u001b[0m in \u001b[0;36m<module>\u001b[1;34m\u001b[0m\n\u001b[0;32m      1\u001b[0m \u001b[1;31m#eg a file that doesnt exist\u001b[0m\u001b[1;33m\u001b[0m\u001b[1;33m\u001b[0m\u001b[1;33m\u001b[0m\u001b[0m\n\u001b[0;32m      2\u001b[0m \u001b[0mfile_path\u001b[0m\u001b[1;33m=\u001b[0m\u001b[1;34mr'G:\\non_existent_file.txt'\u001b[0m\u001b[1;33m\u001b[0m\u001b[1;33m\u001b[0m\u001b[0m\n\u001b[1;32m----> 3\u001b[1;33m \u001b[0mf\u001b[0m\u001b[1;33m=\u001b[0m\u001b[0mopen\u001b[0m\u001b[1;33m(\u001b[0m\u001b[0mfile_path\u001b[0m\u001b[1;33m,\u001b[0m\u001b[1;34m'r'\u001b[0m\u001b[1;33m)\u001b[0m \u001b[1;31m#error comes here\u001b[0m\u001b[1;33m\u001b[0m\u001b[1;33m\u001b[0m\u001b[0m\n\u001b[0m\u001b[0;32m      4\u001b[0m \u001b[0mlines\u001b[0m \u001b[1;33m=\u001b[0m \u001b[0mf\u001b[0m\u001b[1;33m.\u001b[0m\u001b[0mread\u001b[0m\u001b[1;33m(\u001b[0m\u001b[1;33m)\u001b[0m\u001b[1;33m\u001b[0m\u001b[1;33m\u001b[0m\u001b[0m\n\u001b[0;32m      5\u001b[0m \u001b[0mf\u001b[0m\u001b[1;33m.\u001b[0m\u001b[0mclose\u001b[0m\u001b[1;33m(\u001b[0m\u001b[1;33m)\u001b[0m\u001b[1;33m\u001b[0m\u001b[1;33m\u001b[0m\u001b[0m\n",
      "\u001b[1;31mFileNotFoundError\u001b[0m: [Errno 2] No such file or directory: 'G:\\\\non_existent_file.txt'"
     ]
    }
   ],
   "source": [
    "#eg a file that doesnt exist\n",
    "file_path=r'G:\\non_existent_file.txt'\n",
    "f=open(file_path,'r') #error comes here\n",
    "lines = f.read()\n",
    "f.close()\n",
    "lines"
   ]
  },
  {
   "cell_type": "code",
   "execution_count": 112,
   "metadata": {},
   "outputs": [
    {
     "name": "stdout",
     "output_type": "stream",
     "text": [
      "G:\\non_existent_file.txt not found\n",
      "Sort it out\n"
     ]
    }
   ],
   "source": [
    "file_path=r'G:\\non_existent_file.txt'\n",
    "\n",
    "try:\n",
    "    f=open(file_path,'r') #error comes here\n",
    "    lines = f.readlines()\n",
    "    f.close()\n",
    "except:\n",
    "    print(f'{file_path} not found')\n",
    "    \n",
    "print('Sort it out')"
   ]
  },
  {
   "cell_type": "markdown",
   "metadata": {},
   "source": [
    "## Modules and packages"
   ]
  },
  {
   "cell_type": "code",
   "execution_count": 114,
   "metadata": {},
   "outputs": [
    {
     "data": {
      "text/plain": [
       "'3.8.3 (default, Jul  2 2020, 17:30:36) [MSC v.1916 64 bit (AMD64)]'"
      ]
     },
     "execution_count": 114,
     "metadata": {},
     "output_type": "execute_result"
    }
   ],
   "source": [
    "import sys #import the sys module, module is a single python file, package is a collection of modules\n",
    "sys.version"
   ]
  },
  {
   "cell_type": "code",
   "execution_count": 118,
   "metadata": {},
   "outputs": [
    {
     "data": {
      "text/plain": [
       "6"
      ]
     },
     "execution_count": 118,
     "metadata": {},
     "output_type": "execute_result"
    }
   ],
   "source": [
    "import random #for random number generators\n",
    "random.randint(0,10) #this includes the boundaries"
   ]
  },
  {
   "cell_type": "markdown",
   "metadata": {},
   "source": [
    "## Syntax"
   ]
  },
  {
   "cell_type": "markdown",
   "metadata": {},
   "source": [
    "### Statement termination"
   ]
  },
  {
   "cell_type": "code",
   "execution_count": 119,
   "metadata": {},
   "outputs": [
    {
     "data": {
      "text/plain": [
       "3"
      ]
     },
     "execution_count": 119,
     "metadata": {},
     "output_type": "execute_result"
    }
   ],
   "source": [
    "a=1\n",
    "b=2\n",
    "#2 statements, a new line denotes a new one\n",
    "a+b"
   ]
  },
  {
   "cell_type": "code",
   "execution_count": 120,
   "metadata": {},
   "outputs": [
    {
     "data": {
      "text/plain": [
       "3"
      ]
     },
     "execution_count": 120,
     "metadata": {},
     "output_type": "execute_result"
    }
   ],
   "source": [
    "a=1;b=2;a+b #semicolon denotes end of a line"
   ]
  },
  {
   "cell_type": "markdown",
   "metadata": {},
   "source": [
    "### Indentation"
   ]
  },
  {
   "cell_type": "code",
   "execution_count": 122,
   "metadata": {},
   "outputs": [
    {
     "ename": "IndentationError",
     "evalue": "unexpected indent (<ipython-input-122-4a7d0434826e>, line 2)",
     "output_type": "error",
     "traceback": [
      "\u001b[1;36m  File \u001b[1;32m\"<ipython-input-122-4a7d0434826e>\"\u001b[1;36m, line \u001b[1;32m2\u001b[0m\n\u001b[1;33m    a=10\u001b[0m\n\u001b[1;37m    ^\u001b[0m\n\u001b[1;31mIndentationError\u001b[0m\u001b[1;31m:\u001b[0m unexpected indent\n"
     ]
    }
   ],
   "source": [
    "#unexpected indent\n",
    "    a=10 #gives an error"
   ]
  },
  {
   "cell_type": "code",
   "execution_count": 124,
   "metadata": {},
   "outputs": [
    {
     "name": "stdout",
     "output_type": "stream",
     "text": [
      "Hello\n",
      "Goodbye\n",
      "Hello\n",
      "Goodbye\n",
      "Hello\n",
      "Goodbye\n",
      "Hello\n",
      "Hello\n",
      "Hello\n",
      "Goodbye\n"
     ]
    }
   ],
   "source": [
    "#for loop eg\n",
    "for i in [1,2,3]:\n",
    "    print('Hello')\n",
    "    print('Goodbye')\n",
    "    \n",
    "#for loop eg\n",
    "for i in [1,2,3]:\n",
    "    print('Hello')\n",
    "print('Goodbye') #we see how the goodbye falls out of the loop in the second one"
   ]
  },
  {
   "cell_type": "code",
   "execution_count": 125,
   "metadata": {},
   "outputs": [
    {
     "ename": "IndentationError",
     "evalue": "expected an indented block (<ipython-input-125-b726d113bff8>, line 3)",
     "output_type": "error",
     "traceback": [
      "\u001b[1;36m  File \u001b[1;32m\"<ipython-input-125-b726d113bff8>\"\u001b[1;36m, line \u001b[1;32m3\u001b[0m\n\u001b[1;33m    print('Hello')\u001b[0m\n\u001b[1;37m    ^\u001b[0m\n\u001b[1;31mIndentationError\u001b[0m\u001b[1;31m:\u001b[0m expected an indented block\n"
     ]
    }
   ],
   "source": [
    "#for loop eg \n",
    "for i in [1,2,3]:\n",
    "print('Hello')\n",
    "print('Goodbye') #now there is nothing in the loop so there is an error"
   ]
  },
  {
   "cell_type": "code",
   "execution_count": 126,
   "metadata": {},
   "outputs": [
    {
     "name": "stdout",
     "output_type": "stream",
     "text": [
      "Hello\n",
      "Hello\n",
      "Hello\n",
      "Goodbye\n"
     ]
    }
   ],
   "source": [
    "#for loop eg\n",
    "for i in [1,2,3]:\n",
    " print('Hello')\n",
    "print('Goodbye') # a  single space is enough to indent the hello"
   ]
  },
  {
   "cell_type": "markdown",
   "metadata": {},
   "source": [
    "### Identifiers"
   ]
  },
  {
   "cell_type": "code",
   "execution_count": 128,
   "metadata": {},
   "outputs": [
    {
     "name": "stdout",
     "output_type": "stream",
     "text": [
      "Izzy\n",
      "Chris\n"
     ]
    }
   ],
   "source": [
    "#these are case sensitive like in r\n",
    "Student = 'Chris'\n",
    "student = 'Izzy'\n",
    "print(student)\n",
    "print(Student)"
   ]
  },
  {
   "cell_type": "code",
   "execution_count": 129,
   "metadata": {},
   "outputs": [
    {
     "ename": "SyntaxError",
     "evalue": "invalid syntax (<ipython-input-129-d23f98c7d47d>, line 3)",
     "output_type": "error",
     "traceback": [
      "\u001b[1;36m  File \u001b[1;32m\"<ipython-input-129-d23f98c7d47d>\"\u001b[1;36m, line \u001b[1;32m3\u001b[0m\n\u001b[1;33m    for=4\u001b[0m\n\u001b[1;37m       ^\u001b[0m\n\u001b[1;31mSyntaxError\u001b[0m\u001b[1;31m:\u001b[0m invalid syntax\n"
     ]
    }
   ],
   "source": [
    "#some words cannot be used as an identifier\n",
    "#for, class, etc...\n",
    "for=4 #nope"
   ]
  },
  {
   "cell_type": "markdown",
   "metadata": {},
   "source": [
    "## Numeric literals\n",
    "~~~\n",
    "There are 4 types:\n",
    "\n",
    "- boolean\n",
    "- integer\n",
    "- float\n",
    "- complex\n",
    "~~~"
   ]
  },
  {
   "cell_type": "code",
   "execution_count": 130,
   "metadata": {},
   "outputs": [
    {
     "data": {
      "text/plain": [
       "bool"
      ]
     },
     "execution_count": 130,
     "metadata": {},
     "output_type": "execute_result"
    }
   ],
   "source": [
    "#boolean: true or false\n",
    "myvar=True\n",
    "type(myvar)"
   ]
  },
  {
   "cell_type": "code",
   "execution_count": 131,
   "metadata": {},
   "outputs": [
    {
     "data": {
      "text/plain": [
       "int"
      ]
     },
     "execution_count": 131,
     "metadata": {},
     "output_type": "execute_result"
    }
   ],
   "source": [
    "#integer\n",
    "myvar=3\n",
    "type(myvar)"
   ]
  },
  {
   "cell_type": "code",
   "execution_count": 132,
   "metadata": {},
   "outputs": [
    {
     "data": {
      "text/plain": [
       "float"
      ]
     },
     "execution_count": 132,
     "metadata": {},
     "output_type": "execute_result"
    }
   ],
   "source": [
    "#float\n",
    "myvar=3.1415\n",
    "type(myvar)"
   ]
  },
  {
   "cell_type": "code",
   "execution_count": 135,
   "metadata": {},
   "outputs": [
    {
     "data": {
      "text/plain": [
       "complex"
      ]
     },
     "execution_count": 135,
     "metadata": {},
     "output_type": "execute_result"
    }
   ],
   "source": [
    "#complex\n",
    "myvar=3+2j #cant use i to do this\n",
    "type(myvar) "
   ]
  },
  {
   "cell_type": "markdown",
   "metadata": {},
   "source": [
    "## String literals"
   ]
  },
  {
   "cell_type": "code",
   "execution_count": 137,
   "metadata": {},
   "outputs": [
    {
     "data": {
      "text/plain": [
       "'Hello MLE lads'"
      ]
     },
     "execution_count": 137,
     "metadata": {},
     "output_type": "execute_result"
    }
   ],
   "source": [
    "# \\ denotes a special character will immediately follow (\\ is called a escape character)\n",
    "mystring='Hello MLE lads'\n",
    "mystring"
   ]
  },
  {
   "cell_type": "code",
   "execution_count": 140,
   "metadata": {},
   "outputs": [
    {
     "name": "stdout",
     "output_type": "stream",
     "text": [
      "Hello\n",
      "MLE\n",
      "lads\n"
     ]
    }
   ],
   "source": [
    "# \\ denotes a special character will immediately follow (\\ is called a escape character)\n",
    "mystring='Hello\\nMLE\\nlads'\n",
    "mystring\n",
    "print(mystring)"
   ]
  },
  {
   "cell_type": "code",
   "execution_count": 141,
   "metadata": {},
   "outputs": [
    {
     "name": "stdout",
     "output_type": "stream",
     "text": [
      "Hello\tMLE\tlads\n"
     ]
    }
   ],
   "source": [
    "# \\ denotes a special character will immediately follow (\\ is called a escape character)\n",
    "mystring='Hello\\tMLE\\tlads'\n",
    "mystring\n",
    "print(mystring)"
   ]
  },
  {
   "cell_type": "markdown",
   "metadata": {},
   "source": [
    "## Containers"
   ]
  },
  {
   "cell_type": "code",
   "execution_count": 142,
   "metadata": {},
   "outputs": [
    {
     "data": {
      "text/plain": [
       "list"
      ]
     },
     "execution_count": 142,
     "metadata": {},
     "output_type": "execute_result"
    }
   ],
   "source": [
    "#square brackets\n",
    "mycont = [1,2,3]\n",
    "type(mycont)"
   ]
  },
  {
   "cell_type": "markdown",
   "metadata": {},
   "source": [
    "## Operators\n",
    "Special symbols to perform some arithmetic or an operation"
   ]
  },
  {
   "cell_type": "code",
   "execution_count": 148,
   "metadata": {},
   "outputs": [
    {
     "data": {
      "text/plain": [
       "1"
      ]
     },
     "execution_count": 148,
     "metadata": {},
     "output_type": "execute_result"
    }
   ],
   "source": [
    "43%7 #mult *, divide /, power **, modulo % (remainder after division)"
   ]
  },
  {
   "cell_type": "markdown",
   "metadata": {},
   "source": [
    "## Documentation strings\n",
    "First statement of a function, class or module is a string then it becomes the documentation string"
   ]
  },
  {
   "cell_type": "code",
   "execution_count": 149,
   "metadata": {},
   "outputs": [
    {
     "name": "stdout",
     "output_type": "stream",
     "text": [
      "Help on built-in function sum in module builtins:\n",
      "\n",
      "sum(iterable, /, start=0)\n",
      "    Return the sum of a 'start' value (default: 0) plus an iterable of numbers\n",
      "    \n",
      "    When the iterable is empty, return the start value.\n",
      "    This function is intended specifically for use with numeric values and may\n",
      "    reject non-numeric types.\n",
      "\n"
     ]
    }
   ],
   "source": [
    "help(sum) #prints the documentation string"
   ]
  },
  {
   "cell_type": "code",
   "execution_count": 157,
   "metadata": {},
   "outputs": [
    {
     "name": "stdout",
     "output_type": "stream",
     "text": [
      "24624562 is even\n"
     ]
    }
   ],
   "source": [
    "#define a function with our own documentation string\n",
    "def myfunc(x):\n",
    "    '''\n",
    "    Function to print whether input x is even or odd\n",
    "    Arguments\n",
    "    ---------\n",
    "    x (int): the integer that we want to check is even or odd\n",
    "    ---------\n",
    "    '''\n",
    "    if (x%2) ==0:\n",
    "        print(f'{x} is even')\n",
    "    else:\n",
    "        print(f'{x} is odd')\n",
    "myfunc(24624562)"
   ]
  },
  {
   "cell_type": "code",
   "execution_count": 158,
   "metadata": {},
   "outputs": [
    {
     "name": "stdout",
     "output_type": "stream",
     "text": [
      "Help on function myfunc in module __main__:\n",
      "\n",
      "myfunc(x)\n",
      "    Function to print whether input x is even or odd\n",
      "    Arguments\n",
      "    ---------\n",
      "    x (int): the integer that we want to check is even or odd\n",
      "    ---------\n",
      "\n"
     ]
    }
   ],
   "source": [
    "help(myfunc)"
   ]
  },
  {
   "cell_type": "code",
   "execution_count": null,
   "metadata": {},
   "outputs": [],
   "source": []
  }
 ],
 "metadata": {
  "kernelspec": {
   "display_name": "Python 3",
   "language": "python",
   "name": "python3"
  },
  "language_info": {
   "codemirror_mode": {
    "name": "ipython",
    "version": 3
   },
   "file_extension": ".py",
   "mimetype": "text/x-python",
   "name": "python",
   "nbconvert_exporter": "python",
   "pygments_lexer": "ipython3",
   "version": "3.8.3"
  }
 },
 "nbformat": 4,
 "nbformat_minor": 4
}
