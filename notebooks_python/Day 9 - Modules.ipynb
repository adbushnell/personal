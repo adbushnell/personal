{
 "cells": [
  {
   "cell_type": "markdown",
   "metadata": {},
   "source": [
    "# Python program execution\n",
    "---\n",
    "~~~\n",
    "There are two ways a Python source file can be executed:\n",
    "- as a main program\n",
    "- as a module/package\n",
    "\n",
    "The top level module of the interpreter is the name __main__.\n",
    "\n",
    "Further modules and packages are imported from the main module\n",
    "\n",
    "~~~"
   ]
  },
  {
   "cell_type": "code",
   "execution_count": 1,
   "metadata": {},
   "outputs": [
    {
     "name": "stdout",
     "output_type": "stream",
     "text": [
      "__main__\n"
     ]
    }
   ],
   "source": [
    "print(__name__)"
   ]
  },
  {
   "cell_type": "markdown",
   "metadata": {},
   "source": [
    "# Modules and packages\n",
    "---\n",
    "Large python programs are organised into modules and packages\n",
    "\n",
    "This is a way of wrapping up your code.\n",
    "\n",
    "- Logic in functions can be reused in other scripts and programs\n",
    "- Better code design and separation of responsibilities4\n",
    "\n",
    "The installed modules/packages are stored in the site-packages folder:\n",
    "\n",
    ".../anaconda3/lib/site-packages"
   ]
  },
  {
   "cell_type": "markdown",
   "metadata": {},
   "source": [
    "## Modules\n",
    "--- \n",
    "Any Python source file can be used as a module. They are actually just python files imported using `import`\n",
    "    \n",
    "The following things happen when you import:\n",
    "    - Namespace created\n",
    "    - Code in the module is executed\n",
    "    - A name within the caller is created. This refers to the module namespace\n",
    "    \n",
    "To sucessfully import a module it must be on your `PATH`"
   ]
  },
  {
   "cell_type": "code",
   "execution_count": 2,
   "metadata": {},
   "outputs": [
    {
     "data": {
      "text/plain": [
       "['C:\\\\Users\\\\AlexBushnell\\\\Documents\\\\Python',\n",
       " 'C:\\\\Users\\\\AlexBushnell\\\\Anaconda3\\\\python38.zip',\n",
       " 'C:\\\\Users\\\\AlexBushnell\\\\Anaconda3\\\\DLLs',\n",
       " 'C:\\\\Users\\\\AlexBushnell\\\\Anaconda3\\\\lib',\n",
       " 'C:\\\\Users\\\\AlexBushnell\\\\Anaconda3',\n",
       " '',\n",
       " 'C:\\\\Users\\\\AlexBushnell\\\\Anaconda3\\\\lib\\\\site-packages',\n",
       " 'C:\\\\Users\\\\AlexBushnell\\\\Anaconda3\\\\lib\\\\site-packages\\\\win32',\n",
       " 'C:\\\\Users\\\\AlexBushnell\\\\Anaconda3\\\\lib\\\\site-packages\\\\win32\\\\lib',\n",
       " 'C:\\\\Users\\\\AlexBushnell\\\\Anaconda3\\\\lib\\\\site-packages\\\\Pythonwin',\n",
       " 'C:\\\\Users\\\\AlexBushnell\\\\Anaconda3\\\\lib\\\\site-packages\\\\IPython\\\\extensions',\n",
       " 'C:\\\\Users\\\\AlexBushnell\\\\.ipython']"
      ]
     },
     "execution_count": 2,
     "metadata": {},
     "output_type": "execute_result"
    }
   ],
   "source": [
    "import os\n",
    "import sys\n",
    "sys.path"
   ]
  },
  {
   "cell_type": "code",
   "execution_count": 3,
   "metadata": {},
   "outputs": [
    {
     "data": {
      "text/plain": [
       "'C:\\\\Users\\\\AlexBushnell\\\\Documents\\\\Python'"
      ]
     },
     "execution_count": 3,
     "metadata": {},
     "output_type": "execute_result"
    }
   ],
   "source": [
    "os.getcwd() #current working directory"
   ]
  },
  {
   "cell_type": "markdown",
   "metadata": {},
   "source": [
    "### Creating and importing our own module"
   ]
  },
  {
   "cell_type": "code",
   "execution_count": 4,
   "metadata": {},
   "outputs": [],
   "source": [
    "module_str = '''\n",
    "#test.module.py\n",
    "\n",
    "my_variable = 'MLE01'\n",
    "my_students = ['Isabelle','Zain','Toby']\n",
    "\n",
    "def my_function(message='Hello'):\n",
    "    print(message)\n",
    "    \n",
    "if __name__ == '__main__':\n",
    "    print('Running as a main program')\n",
    "    \n",
    "else:\n",
    "    print('Running as a module')\n",
    "\n",
    "\n",
    "'''"
   ]
  },
  {
   "cell_type": "code",
   "execution_count": 6,
   "metadata": {},
   "outputs": [],
   "source": [
    "with open('test_module.py', 'w') as f:\n",
    "    f.write(module_str) #the module is now in my current directory"
   ]
  },
  {
   "cell_type": "code",
   "execution_count": 7,
   "metadata": {},
   "outputs": [
    {
     "name": "stdout",
     "output_type": "stream",
     "text": [
      "Running as a module\n"
     ]
    }
   ],
   "source": [
    "import test_module"
   ]
  },
  {
   "cell_type": "code",
   "execution_count": 8,
   "metadata": {},
   "outputs": [
    {
     "data": {
      "text/plain": [
       "['__builtins__',\n",
       " '__cached__',\n",
       " '__doc__',\n",
       " '__file__',\n",
       " '__loader__',\n",
       " '__name__',\n",
       " '__package__',\n",
       " '__spec__',\n",
       " 'my_function',\n",
       " 'my_students',\n",
       " 'my_variable']"
      ]
     },
     "execution_count": 8,
     "metadata": {},
     "output_type": "execute_result"
    }
   ],
   "source": [
    "dir(test_module)"
   ]
  },
  {
   "cell_type": "code",
   "execution_count": 9,
   "metadata": {},
   "outputs": [
    {
     "data": {
      "text/plain": [
       "['Isabelle', 'Zain', 'Toby']"
      ]
     },
     "execution_count": 9,
     "metadata": {},
     "output_type": "execute_result"
    }
   ],
   "source": [
    "test_module.my_students"
   ]
  },
  {
   "cell_type": "markdown",
   "metadata": {},
   "source": [
    "### Importing specific names\n",
    "\n",
    " You can import specific elements from a module by using the following syntax:\n",
    " \n",
    " `from <module> import <symbol1>, <symbol2>`"
   ]
  },
  {
   "cell_type": "code",
   "execution_count": 10,
   "metadata": {},
   "outputs": [],
   "source": [
    "from test_module import my_students"
   ]
  },
  {
   "cell_type": "code",
   "execution_count": 11,
   "metadata": {},
   "outputs": [
    {
     "data": {
      "text/plain": [
       "['Isabelle', 'Zain', 'Toby']"
      ]
     },
     "execution_count": 11,
     "metadata": {},
     "output_type": "execute_result"
    }
   ],
   "source": [
    "my_students"
   ]
  },
  {
   "cell_type": "markdown",
   "metadata": {},
   "source": [
    "### Import all names into the namespace\n",
    "\n",
    "You can import all names from a module by using the following syntax:\n",
    " \n",
    "`from <module> import *`\n",
    " \n",
    "By default this imports all symbols into the current namespace. You can control which symbols are imported by defining \\_\\_all\\_\\_ within the module."
   ]
  },
  {
   "cell_type": "code",
   "execution_count": 12,
   "metadata": {},
   "outputs": [],
   "source": [
    "from test_module import * #everything in the module loads"
   ]
  },
  {
   "cell_type": "code",
   "execution_count": 13,
   "metadata": {},
   "outputs": [
    {
     "data": {
      "text/plain": [
       "'MLE01'"
      ]
     },
     "execution_count": 13,
     "metadata": {},
     "output_type": "execute_result"
    }
   ],
   "source": [
    "my_variable"
   ]
  },
  {
   "cell_type": "code",
   "execution_count": 14,
   "metadata": {},
   "outputs": [],
   "source": [
    "module_str2 = '''\n",
    "#test.module.py\n",
    "\n",
    "__all__ = ['my_variable']\n",
    "\n",
    "my_variable = 'MLE01'\n",
    "my_students = ['Isabelle','Zain','Toby']\n",
    "\n",
    "def my_function(message='Hello'):\n",
    "    print(message)\n",
    "    \n",
    "if __name__ == '__main__':\n",
    "    print('Running as a main program')\n",
    "    \n",
    "else:\n",
    "    print('Running as a module')\n",
    "\n",
    "\n",
    "'''"
   ]
  },
  {
   "cell_type": "code",
   "execution_count": 15,
   "metadata": {},
   "outputs": [],
   "source": [
    "with open('test_module2.py', 'w') as f:\n",
    "    f.write(module_str2) #the module is now in my current directory"
   ]
  },
  {
   "cell_type": "code",
   "execution_count": 17,
   "metadata": {},
   "outputs": [
    {
     "name": "stdout",
     "output_type": "stream",
     "text": [
      "Running as a module\n"
     ]
    }
   ],
   "source": [
    "from test_module2 import __all__ #we defined all as just my_variable"
   ]
  },
  {
   "cell_type": "code",
   "execution_count": 18,
   "metadata": {},
   "outputs": [
    {
     "data": {
      "text/plain": [
       "'MLE01'"
      ]
     },
     "execution_count": 18,
     "metadata": {},
     "output_type": "execute_result"
    }
   ],
   "source": [
    "my_variable"
   ]
  },
  {
   "cell_type": "markdown",
   "metadata": {},
   "source": [
    "## Concept Check\n",
    "-------------\n",
    "1. Try running your custom module on the command line using python test_module.py. What happens? Is this what you expect?\n",
    "2. Write your own custom module my_custom_module.py and save it to a location not on your PATH. How would you import this module.\n",
    "   Note that you are not allowed to move the module from its folder.\n",
    "3. Modify test_module.py to only import my_students and my_function when \"from test_module import *\"\" is called."
   ]
  },
  {
   "cell_type": "code",
   "execution_count": null,
   "metadata": {},
   "outputs": [],
   "source": [
    "#q1 it outputs running as a main program"
   ]
  },
  {
   "cell_type": "code",
   "execution_count": 21,
   "metadata": {},
   "outputs": [],
   "source": [
    "#q2\n",
    "my_module_str = '''\n",
    "#my_module.py\n",
    "\n",
    "my_variable = 'Alex'\n",
    "my_students = ['Isabelle','Zain','Toby']\n",
    "\n",
    "def my_function(message='Hello'):\n",
    "    print(message)\n",
    "    \n",
    "if __name__ == '__main__':\n",
    "    print('Running as a main program')\n",
    "    \n",
    "else:\n",
    "    print('Running as a module')\n",
    "\n",
    "\n",
    "'''"
   ]
  },
  {
   "cell_type": "code",
   "execution_count": 22,
   "metadata": {},
   "outputs": [],
   "source": [
    "with open('C:\\\\Users\\\\AlexBushnell\\\\Downloads\\\\my_module.py', 'w') as f:\n",
    "    f.write(my_module_str)"
   ]
  },
  {
   "cell_type": "code",
   "execution_count": 23,
   "metadata": {},
   "outputs": [
    {
     "ename": "ModuleNotFoundError",
     "evalue": "No module named 'my_module'",
     "output_type": "error",
     "traceback": [
      "\u001b[1;31m---------------------------------------------------------------------------\u001b[0m",
      "\u001b[1;31mModuleNotFoundError\u001b[0m                       Traceback (most recent call last)",
      "\u001b[1;32m<ipython-input-23-6f1b7cfa21b3>\u001b[0m in \u001b[0;36m<module>\u001b[1;34m\u001b[0m\n\u001b[1;32m----> 1\u001b[1;33m \u001b[1;32mimport\u001b[0m \u001b[0mmy_module\u001b[0m\u001b[1;33m\u001b[0m\u001b[1;33m\u001b[0m\u001b[0m\n\u001b[0m",
      "\u001b[1;31mModuleNotFoundError\u001b[0m: No module named 'my_module'"
     ]
    }
   ],
   "source": [
    "import my_module #not found"
   ]
  },
  {
   "cell_type": "code",
   "execution_count": 24,
   "metadata": {},
   "outputs": [
    {
     "name": "stdout",
     "output_type": "stream",
     "text": [
      "Running as a module\n"
     ]
    }
   ],
   "source": [
    "import sys\n",
    "sys.path.append('C:\\\\Users\\\\AlexBushnell\\\\Downloads')\n",
    "import my_module"
   ]
  },
  {
   "cell_type": "code",
   "execution_count": 25,
   "metadata": {},
   "outputs": [
    {
     "data": {
      "text/plain": [
       "['C:\\\\Users\\\\AlexBushnell\\\\Documents\\\\Python',\n",
       " 'C:\\\\Users\\\\AlexBushnell\\\\Anaconda3\\\\python38.zip',\n",
       " 'C:\\\\Users\\\\AlexBushnell\\\\Anaconda3\\\\DLLs',\n",
       " 'C:\\\\Users\\\\AlexBushnell\\\\Anaconda3\\\\lib',\n",
       " 'C:\\\\Users\\\\AlexBushnell\\\\Anaconda3',\n",
       " '',\n",
       " 'C:\\\\Users\\\\AlexBushnell\\\\Anaconda3\\\\lib\\\\site-packages',\n",
       " 'C:\\\\Users\\\\AlexBushnell\\\\Anaconda3\\\\lib\\\\site-packages\\\\win32',\n",
       " 'C:\\\\Users\\\\AlexBushnell\\\\Anaconda3\\\\lib\\\\site-packages\\\\win32\\\\lib',\n",
       " 'C:\\\\Users\\\\AlexBushnell\\\\Anaconda3\\\\lib\\\\site-packages\\\\Pythonwin',\n",
       " 'C:\\\\Users\\\\AlexBushnell\\\\Anaconda3\\\\lib\\\\site-packages\\\\IPython\\\\extensions',\n",
       " 'C:\\\\Users\\\\AlexBushnell\\\\.ipython',\n",
       " 'C:\\\\Users\\\\AlexBushnell\\\\Downloads']"
      ]
     },
     "execution_count": 25,
     "metadata": {},
     "output_type": "execute_result"
    }
   ],
   "source": [
    "sys.path"
   ]
  },
  {
   "cell_type": "code",
   "execution_count": 1,
   "metadata": {},
   "outputs": [],
   "source": [
    "#q3 restard kernel to test\n",
    "module_str = '''\n",
    "#test.module.py\n",
    "\n",
    "__all__ = ['my_function', 'my_students']\n",
    "\n",
    "my_variable = 'MLE01'\n",
    "my_students = ['Isabelle','Zain','Toby']\n",
    "\n",
    "def my_function(message='Hello'):\n",
    "    print(message)\n",
    "    \n",
    "if __name__ == '__main__':\n",
    "    print('Running as a main program')\n",
    "    \n",
    "else:\n",
    "    print('Running as a module')\n",
    "\n",
    "'''"
   ]
  },
  {
   "cell_type": "code",
   "execution_count": 2,
   "metadata": {},
   "outputs": [],
   "source": [
    "with open('test_module.py', 'w') as f:\n",
    "    f.write(module_str)"
   ]
  },
  {
   "cell_type": "code",
   "execution_count": 3,
   "metadata": {},
   "outputs": [
    {
     "name": "stdout",
     "output_type": "stream",
     "text": [
      "Running as a module\n"
     ]
    }
   ],
   "source": [
    "from test_module import *"
   ]
  },
  {
   "cell_type": "code",
   "execution_count": 4,
   "metadata": {},
   "outputs": [
    {
     "data": {
      "text/plain": [
       "['Isabelle', 'Zain', 'Toby']"
      ]
     },
     "execution_count": 4,
     "metadata": {},
     "output_type": "execute_result"
    }
   ],
   "source": [
    "my_students"
   ]
  },
  {
   "cell_type": "code",
   "execution_count": 5,
   "metadata": {},
   "outputs": [
    {
     "ename": "NameError",
     "evalue": "name 'my_variable' is not defined",
     "output_type": "error",
     "traceback": [
      "\u001b[1;31m---------------------------------------------------------------------------\u001b[0m",
      "\u001b[1;31mNameError\u001b[0m                                 Traceback (most recent call last)",
      "\u001b[1;32m<ipython-input-5-75dc0442333b>\u001b[0m in \u001b[0;36m<module>\u001b[1;34m\u001b[0m\n\u001b[1;32m----> 1\u001b[1;33m \u001b[0mmy_variable\u001b[0m\u001b[1;33m\u001b[0m\u001b[1;33m\u001b[0m\u001b[0m\n\u001b[0m",
      "\u001b[1;31mNameError\u001b[0m: name 'my_variable' is not defined"
     ]
    }
   ],
   "source": [
    "my_variable"
   ]
  },
  {
   "cell_type": "code",
   "execution_count": 6,
   "metadata": {},
   "outputs": [
    {
     "name": "stdout",
     "output_type": "stream",
     "text": [
      "Hello\n"
     ]
    }
   ],
   "source": [
    "my_function()"
   ]
  },
  {
   "cell_type": "markdown",
   "metadata": {},
   "source": [
    "## Packages\n",
    "---\n",
    "Collections of modules to be grouped together under a common package name\n",
    "\n",
    "Defined by creating a directory with the same name as the package, then creating `__init__.py` in the directory.\n",
    "\n",
    "Inside the directory it is possible to have additional modules and packages"
   ]
  },
  {
   "cell_type": "markdown",
   "metadata": {},
   "source": [
    "We have created:\n",
    "\n",
    "~~~\n",
    "- test_package\n",
    "    - __init__.py\n",
    "    - module1.py\n",
    "    - subpackage1\n",
    "        - __init__.py\n",
    "        - module2.py\n",
    "        - module3.py\n",
    "    - subpackage2\n",
    "        - __init__.py\n",
    "        - module4.py\n",
    "~~~"
   ]
  },
  {
   "cell_type": "code",
   "execution_count": 1,
   "metadata": {},
   "outputs": [],
   "source": [
    "import test_package"
   ]
  },
  {
   "cell_type": "code",
   "execution_count": 2,
   "metadata": {
    "collapsed": true
   },
   "outputs": [
    {
     "data": {
      "text/plain": [
       "['__builtins__',\n",
       " '__cached__',\n",
       " '__doc__',\n",
       " '__file__',\n",
       " '__loader__',\n",
       " '__name__',\n",
       " '__package__',\n",
       " '__path__',\n",
       " '__spec__',\n",
       " 'module1',\n",
       " 'subpackage1',\n",
       " 'subpackage2']"
      ]
     },
     "execution_count": 2,
     "metadata": {},
     "output_type": "execute_result"
    }
   ],
   "source": [
    "dir(test_package)"
   ]
  },
  {
   "cell_type": "code",
   "execution_count": 3,
   "metadata": {
    "collapsed": true
   },
   "outputs": [
    {
     "data": {
      "text/plain": [
       "['__all__',\n",
       " '__builtins__',\n",
       " '__cached__',\n",
       " '__doc__',\n",
       " '__file__',\n",
       " '__loader__',\n",
       " '__name__',\n",
       " '__package__',\n",
       " '__path__',\n",
       " '__spec__',\n",
       " 'module2',\n",
       " 'module3']"
      ]
     },
     "execution_count": 3,
     "metadata": {},
     "output_type": "execute_result"
    }
   ],
   "source": [
    "dir(test_package.subpackage1)"
   ]
  },
  {
   "cell_type": "code",
   "execution_count": 3,
   "metadata": {},
   "outputs": [
    {
     "data": {
      "text/plain": [
       "['__builtins__',\n",
       " '__cached__',\n",
       " '__doc__',\n",
       " '__file__',\n",
       " '__loader__',\n",
       " '__name__',\n",
       " '__package__',\n",
       " '__path__',\n",
       " '__spec__',\n",
       " 'module4']"
      ]
     },
     "execution_count": 3,
     "metadata": {},
     "output_type": "execute_result"
    }
   ],
   "source": [
    "dir(test_package.subpackage2) #the __init__ file doesnt tell it to load, i amended the init, restarted the kernel and now it works"
   ]
  },
  {
   "cell_type": "markdown",
   "metadata": {},
   "source": [
    "## Concept Check\n",
    "-------------\n",
    " \n",
    "1. Run 'from testpackage.subpackage import *'. What gets imported into the current namespace?\n",
    "2. Run 'import test_package.subpackage1 as sp1'. What is sp1 and what does it contain?\n",
    "3. Run 'import test_package.subpackage2 as sp2'. What is sp2 and what does it contain? Can you fix this?"
   ]
  },
  {
   "cell_type": "code",
   "execution_count": 5,
   "metadata": {},
   "outputs": [
    {
     "ename": "ModuleNotFoundError",
     "evalue": "No module named 'test_package.subpackage'",
     "output_type": "error",
     "traceback": [
      "\u001b[1;31m---------------------------------------------------------------------------\u001b[0m",
      "\u001b[1;31mModuleNotFoundError\u001b[0m                       Traceback (most recent call last)",
      "\u001b[1;32m<ipython-input-5-0af65ffffcf6>\u001b[0m in \u001b[0;36m<module>\u001b[1;34m\u001b[0m\n\u001b[1;32m----> 1\u001b[1;33m \u001b[1;32mfrom\u001b[0m \u001b[0mtest_package\u001b[0m\u001b[1;33m.\u001b[0m\u001b[0msubpackage\u001b[0m \u001b[1;32mimport\u001b[0m \u001b[1;33m*\u001b[0m\u001b[1;33m\u001b[0m\u001b[1;33m\u001b[0m\u001b[0m\n\u001b[0m",
      "\u001b[1;31mModuleNotFoundError\u001b[0m: No module named 'test_package.subpackage'"
     ]
    }
   ],
   "source": [
    "from test_package.subpackage import *"
   ]
  },
  {
   "cell_type": "code",
   "execution_count": 6,
   "metadata": {},
   "outputs": [],
   "source": [
    "import test_package.subpackage1 as sp1"
   ]
  },
  {
   "cell_type": "code",
   "execution_count": 9,
   "metadata": {},
   "outputs": [
    {
     "data": {
      "text/plain": [
       "<module 'test_package.subpackage1.module2' from 'C:\\\\Users\\\\AlexBushnell\\\\Documents\\\\Python\\\\test_package\\\\subpackage1\\\\module2.py'>"
      ]
     },
     "execution_count": 9,
     "metadata": {},
     "output_type": "execute_result"
    }
   ],
   "source": [
    "sp1.module2"
   ]
  },
  {
   "cell_type": "code",
   "execution_count": 10,
   "metadata": {},
   "outputs": [],
   "source": [
    "import test_package.subpackage2 as sp2"
   ]
  },
  {
   "cell_type": "code",
   "execution_count": 11,
   "metadata": {},
   "outputs": [
    {
     "data": {
      "text/plain": [
       "<module 'test_package.subpackage2.module4' from 'C:\\\\Users\\\\AlexBushnell\\\\Documents\\\\Python\\\\test_package\\\\subpackage2\\\\module4.py'>"
      ]
     },
     "execution_count": 11,
     "metadata": {},
     "output_type": "execute_result"
    }
   ],
   "source": [
    "sp2.module4"
   ]
  },
  {
   "cell_type": "code",
   "execution_count": null,
   "metadata": {},
   "outputs": [],
   "source": []
  }
 ],
 "metadata": {
  "kernelspec": {
   "display_name": "Python 3",
   "language": "python",
   "name": "python3"
  },
  "language_info": {
   "codemirror_mode": {
    "name": "ipython",
    "version": 3
   },
   "file_extension": ".py",
   "mimetype": "text/x-python",
   "name": "python",
   "nbconvert_exporter": "python",
   "pygments_lexer": "ipython3",
   "version": "3.8.3"
  }
 },
 "nbformat": 4,
 "nbformat_minor": 4
}
