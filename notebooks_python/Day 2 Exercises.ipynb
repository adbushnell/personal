{
 "cells": [
  {
   "cell_type": "code",
   "execution_count": 4,
   "metadata": {},
   "outputs": [
    {
     "name": "stdout",
     "output_type": "stream",
     "text": [
      "False\n",
      "False\n",
      "['a', 'b', 'c']\n",
      "<built-in method copy of list object at 0x000002F47022F7C0>\n"
     ]
    }
   ],
   "source": [
    "#q1\n",
    "\n",
    "my_list = ['a','b','c']\n",
    "b = my_list.copy\n",
    "print(my_list is b)\n",
    "print(my_list==b)\n",
    "print(my_list)\n",
    "print(b)"
   ]
  },
  {
   "cell_type": "code",
   "execution_count": 9,
   "metadata": {},
   "outputs": [
    {
     "name": "stdout",
     "output_type": "stream",
     "text": [
      "I am an app.\n",
      "monkzey crayonszone love\n"
     ]
    }
   ],
   "source": [
    "#q2\n",
    "\n",
    "my_string1 = 'I am an app. '\n",
    "my_string2 = ' monkzey crayonszone love'\n",
    "print(my_string1.strip())\n",
    "print(my_string2.strip())"
   ]
  },
  {
   "cell_type": "code",
   "execution_count": 12,
   "metadata": {},
   "outputs": [
    {
     "data": {
      "text/plain": [
       "'monk ey crayons one love'"
      ]
     },
     "execution_count": 12,
     "metadata": {},
     "output_type": "execute_result"
    }
   ],
   "source": [
    "my_string1 = 'I am an app. '\n",
    "my_string2 = ' monkzey crayonszone love'\n",
    "\n",
    "my_string1=my_string1.strip()\n",
    "my_string2=my_string2.strip()\n",
    "\n",
    "my_string2=my_string2.replace('z',' ')\n",
    "my_string2"
   ]
  },
  {
   "cell_type": "code",
   "execution_count": 14,
   "metadata": {},
   "outputs": [
    {
     "data": {
      "text/plain": [
       "'I am cool'"
      ]
     },
     "execution_count": 14,
     "metadata": {},
     "output_type": "execute_result"
    }
   ],
   "source": [
    "my_string3 = my_string1 + my_string2\n",
    "my_string3 = my_string3[::4]\n",
    "my_string3 "
   ]
  },
  {
   "cell_type": "code",
   "execution_count": 22,
   "metadata": {},
   "outputs": [
    {
     "data": {
      "text/plain": [
       "[1, 0, 3, 2, 5, 4, 7, 6, 9, 8]"
      ]
     },
     "execution_count": 22,
     "metadata": {},
     "output_type": "execute_result"
    }
   ],
   "source": [
    "#q3\n",
    "\n",
    "evens = [0,2,4,6,8]\n",
    "odds = [1,3,5,7,9]\n",
    "mangled = []\n",
    "\n",
    "for i in range(len(evens)):\n",
    "    mangled.append(odds[i])\n",
    "    mangled.append(evens[i])\n",
    "\n",
    "mangled"
   ]
  },
  {
   "cell_type": "code",
   "execution_count": 23,
   "metadata": {},
   "outputs": [],
   "source": [
    "#q4\n",
    "\n",
    "my_dict1 = {'name':'Alex', 'food':'chicken'}\n",
    "my_dict2 = {'name':'Hamza', 'food':'veg'}\n",
    "my_dict3 = {'name':'Jack', 'food':'sushi'}\n",
    "my_dict4 =  {'name':'Anna', 'food':'pasta'}\n",
    "my_dict5 =  {'name':'Max', 'food':'beef'}\n",
    "\n",
    "dict_list =[my_dict1, my_dict2, my_dict3, my_dict4, my_dict5 ]"
   ]
  },
  {
   "cell_type": "code",
   "execution_count": 29,
   "metadata": {},
   "outputs": [
    {
     "data": {
      "text/plain": [
       "[{'name': 'Alex', 'food': 'chicken'}, {'name': 'Anna', 'food': 'pasta'}]"
      ]
     },
     "execution_count": 29,
     "metadata": {},
     "output_type": "execute_result"
    }
   ],
   "source": [
    "new_dict_list =[]\n",
    "for i in dict_list:\n",
    "    if i['name'][0] =='A':\n",
    "        new_dict_list.append(i)\n",
    "\n",
    "new_dict_list\n",
    "\n"
   ]
  },
  {
   "cell_type": "code",
   "execution_count": 34,
   "metadata": {},
   "outputs": [
    {
     "data": {
      "text/plain": [
       "{'a': 1, 'b': 2, 'c': 3, 'd': 4, 'e': 5, 'f': 6}"
      ]
     },
     "execution_count": 34,
     "metadata": {},
     "output_type": "execute_result"
    }
   ],
   "source": [
    "#q5\n",
    "\n",
    "my_dict1 = {'a':1,'b':2}\n",
    "my_dict2 = {'c':3}\n",
    "my_dict3 = {'d':4,'e':5,'f':6}\n",
    "\n",
    "my_dict4 = dict(my_dict1,**my_dict2)\n",
    "my_dict4.update(my_dict3)\n",
    "\n",
    "my_dict4"
   ]
  },
  {
   "cell_type": "code",
   "execution_count": 36,
   "metadata": {},
   "outputs": [
    {
     "data": {
      "text/plain": [
       "['hello']"
      ]
     },
     "execution_count": 36,
     "metadata": {},
     "output_type": "execute_result"
    }
   ],
   "source": [
    "my_list1=[]\n",
    "my_list2=my_list1\n",
    "my_list1.append('hello')\n",
    "\n",
    "my_list2 #it changes! it is mutable and a copy of my_list1"
   ]
  },
  {
   "cell_type": "code",
   "execution_count": 45,
   "metadata": {},
   "outputs": [
    {
     "name": "stdout",
     "output_type": "stream",
     "text": [
      "{'a': 2, 'e': 4, 'i': 1, 'o': 1, 'u': 0}\n"
     ]
    }
   ],
   "source": [
    "#q7\n",
    "\n",
    "file=r'C:\\Users\\AlexBushnell\\Documents\\Python Scripts\\day2q7text.txt'\n",
    "\n",
    "def my_func(text_file):\n",
    "    f = open(text_file,'r')\n",
    "    line = f.read()\n",
    "    line = line.replace(' ','')\n",
    "    \n",
    "    num_a = 0\n",
    "    num_e = 0\n",
    "    num_i = 0\n",
    "    num_o = 0\n",
    "    num_u = 0\n",
    "    \n",
    "    for i in range(len(line)):\n",
    "        if line[i] == 'a':\n",
    "         num_a = num_a +1\n",
    "        if line[i] == 'e':\n",
    "         num_e = num_e +1    \n",
    "        if line[i] == 'i':\n",
    "         num_i = num_i +1       \n",
    "        if line[i] == 'o':\n",
    "         num_o = num_o +1\n",
    "        if line[i] == 'u':\n",
    "         num_u = num_u +1\n",
    "    \n",
    "    print({'a':num_a, 'e':num_e, 'i':num_i, 'o':num_o, 'u':num_u})\n",
    "    f.close()\n",
    "\n",
    "my_func(file)"
   ]
  },
  {
   "cell_type": "code",
   "execution_count": 46,
   "metadata": {},
   "outputs": [
    {
     "name": "stdout",
     "output_type": "stream",
     "text": [
      "['z', 'b', 'c']\n",
      "[['z', 'b', 'c'], ['z', 'b', 'c'], ['z', 'b', 'c']]\n",
      "[['z', 'b', 'c'], ['z', 'b', 'c'], ['z', 'b', 'c']]\n"
     ]
    }
   ],
   "source": [
    "#q8\n",
    "\n",
    "my_list=['a','b','c']\n",
    "lol1=[my_list,my_list,my_list]\n",
    "lol2=[my_list,my_list,my_list]\n",
    "lol1[0][0] = 'z'\n",
    "\n",
    "print(my_list) #z has replaced a\n",
    "print(lol1) #z has replaced a in all of the lists - i assume because they were the same list they were still sharing the object in memory\n",
    "print(lol2) #z has also replaced a in these ones, all 3 are the same object as the other list which are the same as the original list so they are all pointing to the same object"
   ]
  },
  {
   "cell_type": "code",
   "execution_count": 49,
   "metadata": {},
   "outputs": [
    {
     "data": {
      "text/plain": [
       "['a', 'b', 'c']"
      ]
     },
     "execution_count": 49,
     "metadata": {},
     "output_type": "execute_result"
    }
   ],
   "source": [
    "#q9\n",
    "\n",
    "my_list=['a','b','c']\n",
    "my_list2=my_list*1 #this essemtially creates a new copy of my_list so they are stored as different objects in memory\n",
    "my_list2 #is the same as list1\n",
    "\n",
    "my_list2[0] ='Z'\n",
    "\n",
    "my_list #this means changing one doesnt change the other"
   ]
  },
  {
   "cell_type": "code",
   "execution_count": null,
   "metadata": {},
   "outputs": [],
   "source": []
  }
 ],
 "metadata": {
  "kernelspec": {
   "display_name": "Python 3",
   "language": "python",
   "name": "python3"
  },
  "language_info": {
   "codemirror_mode": {
    "name": "ipython",
    "version": 3
   },
   "file_extension": ".py",
   "mimetype": "text/x-python",
   "name": "python",
   "nbconvert_exporter": "python",
   "pygments_lexer": "ipython3",
   "version": "3.8.3"
  }
 },
 "nbformat": 4,
 "nbformat_minor": 4
}
