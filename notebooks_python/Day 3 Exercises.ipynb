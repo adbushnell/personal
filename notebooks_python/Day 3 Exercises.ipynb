{
 "cells": [
  {
   "cell_type": "markdown",
   "metadata": {},
   "source": [
    "# Day 3 exercises"
   ]
  },
  {
   "cell_type": "code",
   "execution_count": 1,
   "metadata": {},
   "outputs": [
    {
     "name": "stdout",
     "output_type": "stream",
     "text": [
      "My name is average length\n"
     ]
    }
   ],
   "source": [
    "#q1\n",
    "\n",
    "my_name = 'AlexBushnell'\n",
    "\n",
    "if len(my_name)<10:\n",
    "    print('My name is short')\n",
    "elif len(my_name)>17:\n",
    "    print('My name is long')\n",
    "else:\n",
    "    print('My name is average length')"
   ]
  },
  {
   "cell_type": "code",
   "execution_count": 4,
   "metadata": {},
   "outputs": [
    {
     "data": {
      "text/plain": [
       "['$Recycle.Bin',\n",
       " 'Documents and Settings',\n",
       " 'hiberfil.sys',\n",
       " 'Intel',\n",
       " 'pagefile.sys',\n",
       " 'PerfLogs',\n",
       " 'Program Files',\n",
       " 'Program Files (x86)',\n",
       " 'ProgramData',\n",
       " 'Recovery',\n",
       " 'swapfile.sys',\n",
       " 'System Volume Information',\n",
       " 'Users',\n",
       " 'Windows']"
      ]
     },
     "execution_count": 4,
     "metadata": {},
     "output_type": "execute_result"
    }
   ],
   "source": [
    "#q2\n",
    "\n",
    "import os \n",
    "x = os.listdir('C:\\\\')\n",
    "my_list = []\n",
    "for i in x:\n",
    "    my_list.append(i)\n",
    "    \n",
    "my_list    "
   ]
  },
  {
   "cell_type": "code",
   "execution_count": 5,
   "metadata": {},
   "outputs": [
    {
     "data": {
      "text/plain": [
       "['$Recycle.Bin',\n",
       " 'hiberfil.sys',\n",
       " 'Intel',\n",
       " 'pagefile.sys',\n",
       " 'PerfLogs',\n",
       " 'ProgramData',\n",
       " 'Recovery',\n",
       " 'swapfile.sys',\n",
       " 'Users',\n",
       " 'Windows']"
      ]
     },
     "execution_count": 5,
     "metadata": {},
     "output_type": "execute_result"
    }
   ],
   "source": [
    "new_list=[]\n",
    "for i in my_list:\n",
    "    try:\n",
    "        i.index(' ')\n",
    "        pass \n",
    "    except:\n",
    "        new_list.append(i)\n",
    "        \n",
    "new_list"
   ]
  },
  {
   "cell_type": "code",
   "execution_count": 11,
   "metadata": {},
   "outputs": [
    {
     "name": "stdout",
     "output_type": "stream",
     "text": [
      "1\n"
     ]
    }
   ],
   "source": [
    "#q3\n",
    "import random\n",
    "\n",
    "random_no = random.randint(1,20)\n",
    "count = 0\n",
    "\n",
    "while random_no != 20:\n",
    "    count = count + 1\n",
    "    random_no = random.randint(1,20)\n",
    "print(count) #this counts the amount of draws"
   ]
  },
  {
   "cell_type": "code",
   "execution_count": 32,
   "metadata": {},
   "outputs": [
    {
     "name": "stdout",
     "output_type": "stream",
     "text": [
      "[131, 24, 15, 7, 6, 4, 20, 63, 24, 6, 2, 13, 4, 64, 16, 0, 13, 14, 3, 47, 8, 13, 16, 6, 3, 13, 51, 14, 3, 17, 6, 5, 15, 18, 1, 0, 37, 5, 36, 16, 11, 16, 66, 4, 28, 2, 33, 1, 15, 87, 8, 23, 16, 53, 1, 22, 2, 14, 4, 1, 28, 18, 23, 0, 37, 10, 0, 35, 3, 27, 16, 33, 10, 2, 0, 9, 36, 88, 10, 2, 73, 38, 23, 33, 22, 10, 3, 43, 29, 33, 19, 56, 18, 11, 19, 3, 24, 5, 5, 18]\n",
      "--------------------\n",
      "20.38\n"
     ]
    }
   ],
   "source": [
    "#q3\n",
    "import random\n",
    "import statistics\n",
    "\n",
    "random_no = random.randint(1,20)\n",
    "count = 0\n",
    "draws = []\n",
    "\n",
    "for i in range(0,100):\n",
    "    random_no = random.randint(1,20)\n",
    "    count = 0\n",
    "    while random_no != 20:\n",
    "        count = count + 1\n",
    "        random_no = random.randint(1,20)\n",
    "    draws.append(count)\n",
    "print(draws)\n",
    "print('--------------------')\n",
    "print(statistics.mean(draws)) "
   ]
  },
  {
   "cell_type": "code",
   "execution_count": 25,
   "metadata": {},
   "outputs": [
    {
     "name": "stdout",
     "output_type": "stream",
     "text": [
      "File not found error\n"
     ]
    }
   ],
   "source": [
    "# q4\n",
    "\n",
    "try:\n",
    "    f=open(r'C:\\Users\\AlexBushnell\\Documents\\Python Scripts\\names5.txt','r')\n",
    "except FileNotFoundError:\n",
    "    print('File not found error')\n",
    "except:\n",
    "    print('Who knows what is up')"
   ]
  },
  {
   "cell_type": "code",
   "execution_count": 125,
   "metadata": {},
   "outputs": [
    {
     "name": "stdout",
     "output_type": "stream",
     "text": [
      "Value error\n"
     ]
    }
   ],
   "source": [
    "# q5\n",
    "import math\n",
    "#1/0 #zerodivisionerror\n",
    "try:\n",
    "    math.log(0)\n",
    "except FileNotFoundError:\n",
    "    print('File not found error')\n",
    "except ArithmeticError:\n",
    "    print('Arithmetic error')\n",
    "except SyntaxError:\n",
    "    print('Syntax error')\n",
    "except LookupError:\n",
    "    print('Lookup error')\n",
    "except RuntimeError:\n",
    "    print('Runtime error')\n",
    "except OSError:\n",
    "    print('Syntax error')\n",
    "except LookupError:\n",
    "    print('Syntax error')\n",
    "except ValueError:\n",
    "    print('Value error')\n",
    "except:\n",
    "    print('Who knows what is up')"
   ]
  },
  {
   "cell_type": "code",
   "execution_count": 39,
   "metadata": {},
   "outputs": [
    {
     "data": {
      "text/plain": [
       "(6.123233995736766e-17+1j)"
      ]
     },
     "execution_count": 39,
     "metadata": {},
     "output_type": "execute_result"
    }
   ],
   "source": [
    "(-1)**(1/2)"
   ]
  },
  {
   "cell_type": "code",
   "execution_count": 51,
   "metadata": {},
   "outputs": [
    {
     "data": {
      "text/plain": [
       "False"
      ]
     },
     "execution_count": 51,
     "metadata": {},
     "output_type": "execute_result"
    }
   ],
   "source": [
    "# q6\n",
    "\n",
    "my_list = [0] #true\n",
    "my_tuple = (0,) #true\n",
    "my_int = 0 #false\n",
    "\n",
    "\n",
    "my_tuple2 = 0, #still true though\n",
    "\n",
    "not not my_list\n",
    "not not my_tuple\n",
    "not not my_int"
   ]
  },
  {
   "cell_type": "code",
   "execution_count": 60,
   "metadata": {},
   "outputs": [
    {
     "name": "stdout",
     "output_type": "stream",
     "text": [
      "[0.5, None, None]\n"
     ]
    }
   ],
   "source": [
    "# q7\n",
    "\n",
    "\n",
    "def elementwise_div(num,denom):\n",
    "    results=[]\n",
    "    for i in range(len(num)):\n",
    "        try:\n",
    "            results.append(num[i]/denom[i])\n",
    "        except ZeroDivisionError:\n",
    "            results.append(None)\n",
    "        except:\n",
    "            results.append(None)\n",
    "    print(results)\n",
    "    \n",
    "elementwise_div([1,'3',10],[2,5,0]) #elementwise_div([1,3,10],[2,5,0]), elementwise_div([1,3,10],[2,5,2]) \n",
    "#all work"
   ]
  },
  {
   "cell_type": "code",
   "execution_count": 83,
   "metadata": {},
   "outputs": [
    {
     "name": "stdout",
     "output_type": "stream",
     "text": [
      "1 and -3 have different sign and different magnitude\n"
     ]
    }
   ],
   "source": [
    "# q8\n",
    "\n",
    "def compare_numbers(x,y):\n",
    "    if x==y:\n",
    "        print(f'{x} and {y} have the same sign and the same magnitude')\n",
    "    elif abs(x)==abs(y):\n",
    "        print(f'{x} and {y} have different sign but the same magnitude')\n",
    "    elif x and y < 0:\n",
    "        if y and x < 0:\n",
    "            print(f'{x} and {y} have the same sign but different magnitude')\n",
    "        else:\n",
    "            print(f'{x} and {y} have different sign and different magnitude')\n",
    "        \n",
    "    elif x and y > 0:\n",
    "        if y and x > 0:\n",
    "            print(f'{x} and {y} have the same sign but different magnitude')\n",
    "        else:\n",
    "            print(f'{x} and {y} have different sign and different magnitude')\n",
    "\n",
    "compare_numbers(1,-3)"
   ]
  },
  {
   "cell_type": "code",
   "execution_count": 69,
   "metadata": {},
   "outputs": [
    {
     "data": {
      "text/plain": [
       "False"
      ]
     },
     "execution_count": 69,
     "metadata": {},
     "output_type": "execute_result"
    }
   ],
   "source": []
  },
  {
   "cell_type": "markdown",
   "metadata": {},
   "source": [
    "### Noughts and crosses"
   ]
  },
  {
   "cell_type": "code",
   "execution_count": 116,
   "metadata": {},
   "outputs": [],
   "source": [
    "import numpy \n",
    "def create_board():\n",
    "    board = numpy.zeros((3,3), dtype=int)\n",
    "    return board\n",
    "    \n",
    "\n",
    "board = create_board()"
   ]
  },
  {
   "cell_type": "code",
   "execution_count": 105,
   "metadata": {},
   "outputs": [
    {
     "name": "stdout",
     "output_type": "stream",
     "text": [
      "[[0 0 0]\n",
      " [0 0 0]\n",
      " [0 0 0]]\n"
     ]
    },
    {
     "data": {
      "text/plain": [
       "NoneType"
      ]
     },
     "execution_count": 105,
     "metadata": {},
     "output_type": "execute_result"
    }
   ],
   "source": []
  },
  {
   "cell_type": "code",
   "execution_count": 117,
   "metadata": {},
   "outputs": [
    {
     "data": {
      "text/plain": [
       "array([[1, 0, 0],\n",
       "       [0, 0, 0],\n",
       "       [0, 0, 0]])"
      ]
     },
     "execution_count": 117,
     "metadata": {},
     "output_type": "execute_result"
    }
   ],
   "source": [
    "#place you first go whereever you choose\n",
    "def place(board, player, position):\n",
    "    if board[position[0]][position[1]] == 0:\n",
    "        board[position[0]][position[1]] = player\n",
    "    else:\n",
    "        print('Invalid move')\n",
    "    return board    \n",
    "place(board,1,(0, 0))"
   ]
  },
  {
   "cell_type": "code",
   "execution_count": 121,
   "metadata": {},
   "outputs": [
    {
     "data": {
      "text/plain": [
       "2"
      ]
     },
     "execution_count": 121,
     "metadata": {},
     "output_type": "execute_result"
    }
   ],
   "source": [
    "def options(board):\n",
    "    return numpy.where(board==0)\n",
    "options(board)"
   ]
  },
  {
   "cell_type": "code",
   "execution_count": null,
   "metadata": {},
   "outputs": [],
   "source": [
    "import random\n",
    "def random_place(board,player):\n",
    "    spot = random.randint(0,9)\n",
    "    if spot - 2 < 0:\n",
    "        if board[position[0],position[spot]] == 0:\n",
    "            board[position[0],position[spot]] = player\n",
    "        else:\n",
    "            print('Position taken')\n",
    "            pass\n",
    "        \n",
    "            \n"
   ]
  },
  {
   "cell_type": "code",
   "execution_count": 124,
   "metadata": {},
   "outputs": [
    {
     "name": "stdout",
     "output_type": "stream",
     "text": [
      "4\n",
      "9\n",
      "2\n",
      "1\n",
      "7\n",
      "4\n",
      "5\n",
      "6\n",
      "7\n"
     ]
    }
   ],
   "source": [
    "for i in range(1,10):\n",
    "    r = random.randint(1,10)\n",
    "    print(r)"
   ]
  },
  {
   "cell_type": "code",
   "execution_count": 106,
   "metadata": {},
   "outputs": [
    {
     "name": "stdout",
     "output_type": "stream",
     "text": [
      "[[0 0 0]\n",
      " [0 0 0]\n",
      " [0 0 0]]\n"
     ]
    },
    {
     "data": {
      "text/plain": [
       "numpy.ndarray"
      ]
     },
     "execution_count": 106,
     "metadata": {},
     "output_type": "execute_result"
    }
   ],
   "source": []
  },
  {
   "cell_type": "code",
   "execution_count": null,
   "metadata": {},
   "outputs": [],
   "source": []
  }
 ],
 "metadata": {
  "kernelspec": {
   "display_name": "Python 3",
   "language": "python",
   "name": "python3"
  },
  "language_info": {
   "codemirror_mode": {
    "name": "ipython",
    "version": 3
   },
   "file_extension": ".py",
   "mimetype": "text/x-python",
   "name": "python",
   "nbconvert_exporter": "python",
   "pygments_lexer": "ipython3",
   "version": "3.8.3"
  }
 },
 "nbformat": 4,
 "nbformat_minor": 4
}
