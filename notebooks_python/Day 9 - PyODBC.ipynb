{
 "cells": [
  {
   "cell_type": "code",
   "execution_count": 1,
   "metadata": {},
   "outputs": [],
   "source": [
    "import pyodbc"
   ]
  },
  {
   "cell_type": "code",
   "execution_count": 2,
   "metadata": {},
   "outputs": [],
   "source": [
    "def connect():\n",
    "    conn_str = (\n",
    "        \"DRIVER={PostgreSQL Unicode};\"\n",
    "        \"DATABASE=kubrickmonster_championship_club;\"\n",
    "        \"UID=postgres;\"\n",
    "        \"PWD=kubrickmle01;\"\n",
    "        \"SERVER=kubrick-demo-db.cxnw5ozldnwq.us-east-1.rds.amazonaws.com;\"\n",
    "        \"PORT=5432;\"\n",
    "        )\n",
    "    conn = pyodbc.connect(conn_str)\n",
    "    return conn"
   ]
  },
  {
   "cell_type": "code",
   "execution_count": 3,
   "metadata": {},
   "outputs": [
    {
     "ename": "InterfaceError",
     "evalue": "('IM002', '[IM002] [Microsoft][ODBC Driver Manager] Data source name not found and no default driver specified (0) (SQLDriverConnect)')",
     "output_type": "error",
     "traceback": [
      "\u001b[1;31m---------------------------------------------------------------------------\u001b[0m",
      "\u001b[1;31mInterfaceError\u001b[0m                            Traceback (most recent call last)",
      "\u001b[1;32m<ipython-input-3-4b24e43de461>\u001b[0m in \u001b[0;36m<module>\u001b[1;34m\u001b[0m\n\u001b[1;32m----> 1\u001b[1;33m \u001b[0mconn\u001b[0m \u001b[1;33m=\u001b[0m \u001b[0mconnect\u001b[0m\u001b[1;33m(\u001b[0m\u001b[1;33m)\u001b[0m\u001b[1;33m\u001b[0m\u001b[1;33m\u001b[0m\u001b[0m\n\u001b[0m",
      "\u001b[1;32m<ipython-input-2-d063cf5dea4d>\u001b[0m in \u001b[0;36mconnect\u001b[1;34m()\u001b[0m\n\u001b[0;32m      8\u001b[0m         \u001b[1;34m\"PORT=5432;\"\u001b[0m\u001b[1;33m\u001b[0m\u001b[1;33m\u001b[0m\u001b[0m\n\u001b[0;32m      9\u001b[0m         )\n\u001b[1;32m---> 10\u001b[1;33m     \u001b[0mconn\u001b[0m \u001b[1;33m=\u001b[0m \u001b[0mpyodbc\u001b[0m\u001b[1;33m.\u001b[0m\u001b[0mconnect\u001b[0m\u001b[1;33m(\u001b[0m\u001b[0mconn_str\u001b[0m\u001b[1;33m)\u001b[0m\u001b[1;33m\u001b[0m\u001b[1;33m\u001b[0m\u001b[0m\n\u001b[0m\u001b[0;32m     11\u001b[0m     \u001b[1;32mreturn\u001b[0m \u001b[0mconn\u001b[0m\u001b[1;33m\u001b[0m\u001b[1;33m\u001b[0m\u001b[0m\n",
      "\u001b[1;31mInterfaceError\u001b[0m: ('IM002', '[IM002] [Microsoft][ODBC Driver Manager] Data source name not found and no default driver specified (0) (SQLDriverConnect)')"
     ]
    }
   ],
   "source": [
    "conn = connect()"
   ]
  },
  {
   "cell_type": "code",
   "execution_count": null,
   "metadata": {},
   "outputs": [],
   "source": [
    "[item for item in pyodbc.drivers()] #check what drivers are available"
   ]
  },
  {
   "cell_type": "code",
   "execution_count": 6,
   "metadata": {},
   "outputs": [],
   "source": [
    "#def connect():\n",
    "#    conn = pyodbc.connect(Trusted_Connection='yes',\n",
    "#                          driver='{SQL Server}',\n",
    "#                          server=<Server Name>,\n",
    "#                          database='KubrickMonster')\n",
    "#    return conn\n",
    "# use this to connect to a local sql server"
   ]
  },
  {
   "cell_type": "code",
   "execution_count": 4,
   "metadata": {},
   "outputs": [],
   "source": [
    "cursor = conn.cursor()\n",
    "# cursor is a temporary work area in system memory for when a sql statement is executed.\n",
    " \n",
    "query = '''\n",
    "create table monsters (\n",
    "    name varchar(20),\n",
    "    home varchar(20),\n",
    "    strength int\n",
    ")\n",
    "'''\n",
    "cursor.execute(query)\n",
    " \n",
    "conn.commit()\n",
    "conn.close()\n",
    "#when you go in sql electron you will see the table in kubrickmonster..., tables, public"
   ]
  },
  {
   "cell_type": "markdown",
   "metadata": {},
   "source": [
    "## Insert data"
   ]
  },
  {
   "cell_type": "code",
   "execution_count": 12,
   "metadata": {},
   "outputs": [],
   "source": [
    "conn = connect()\n",
    "cursor = conn.cursor()\n",
    "\n",
    "query = '''\n",
    "insert into\n",
    "    monsters\n",
    "values\n",
    "    ('Alphys', 'Hotland', '2'),\n",
    "    ('Undyne', 'Waterfall', '99'),\n",
    "    ('Papryus', 'Snowdin', '35')\n",
    "'''\n",
    "\n",
    "cursor.execute(query)\n",
    "conn.commit()\n",
    "conn.close()"
   ]
  },
  {
   "cell_type": "markdown",
   "metadata": {},
   "source": [
    "## Insert using ?'s"
   ]
  },
  {
   "cell_type": "code",
   "execution_count": 13,
   "metadata": {},
   "outputs": [],
   "source": [
    "conn = connect()\n",
    "cursor = conn.cursor()\n",
    "\n",
    "data = [('Toriel','Underground', 40),\n",
    "        ('Temmie','Tem Village', 40)]\n",
    "\n",
    "for d in data:\n",
    "    query = '''insert into monsters values (?,?,?)'''\n",
    "    cursor.execute(query,d[0],d[1],d[2])\n",
    "    \n",
    "cursor.commit()\n",
    "cursor.close()"
   ]
  },
  {
   "cell_type": "markdown",
   "metadata": {},
   "source": [
    "## Fetching results"
   ]
  },
  {
   "cell_type": "code",
   "execution_count": 14,
   "metadata": {},
   "outputs": [
    {
     "name": "stdout",
     "output_type": "stream",
     "text": [
      "[('Alphys', 'Hotland', 2), ('Undyne', 'Waterfall', 99), ('Papryus', 'Snowdin', 35), ('Toriel', 'Underground', 40), ('Temmie', 'Tem Village', 40)]\n"
     ]
    }
   ],
   "source": [
    "conn = connect()\n",
    "cursor = conn.cursor()\n",
    "\n",
    "query = ''' select* from monsters'''\n",
    "cursor.execute(query)\n",
    "results = cursor.fetchall()\n",
    "\n",
    "cursor.close()\n",
    "\n",
    "print(results)\n",
    "#but this will fuck up your computer if it is a large db, dont need commit here"
   ]
  },
  {
   "cell_type": "markdown",
   "metadata": {},
   "source": [
    "### Fetching one at a time"
   ]
  },
  {
   "cell_type": "code",
   "execution_count": 15,
   "metadata": {},
   "outputs": [
    {
     "name": "stdout",
     "output_type": "stream",
     "text": [
      "('Alphys', 'Hotland', 2)\n",
      "('Undyne', 'Waterfall', 99)\n",
      "('Papryus', 'Snowdin', 35)\n",
      "('Toriel', 'Underground', 40)\n",
      "('Temmie', 'Tem Village', 40)\n",
      "None\n"
     ]
    }
   ],
   "source": [
    "conn = connect()\n",
    "cursor = conn.cursor()\n",
    "\n",
    "query = ''' select* from monsters'''\n",
    "cursor.execute(query)\n",
    "result = True\n",
    "while result is not None:\n",
    "    result = cursor.fetchone()\n",
    "    print(result)"
   ]
  },
  {
   "cell_type": "code",
   "execution_count": 16,
   "metadata": {},
   "outputs": [],
   "source": [
    "cursor.close() #dont forget to close, dont need to commit here"
   ]
  },
  {
   "cell_type": "code",
   "execution_count": null,
   "metadata": {},
   "outputs": [],
   "source": []
  }
 ],
 "metadata": {
  "kernelspec": {
   "display_name": "Python 3",
   "language": "python",
   "name": "python3"
  },
  "language_info": {
   "codemirror_mode": {
    "name": "ipython",
    "version": 3
   },
   "file_extension": ".py",
   "mimetype": "text/x-python",
   "name": "python",
   "nbconvert_exporter": "python",
   "pygments_lexer": "ipython3",
   "version": "3.8.3"
  }
 },
 "nbformat": 4,
 "nbformat_minor": 4
}
