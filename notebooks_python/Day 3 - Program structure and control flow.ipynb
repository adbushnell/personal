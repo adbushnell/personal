{
 "cells": [
  {
   "cell_type": "markdown",
   "metadata": {},
   "source": [
    "# Program structure and control flow"
   ]
  },
  {
   "cell_type": "markdown",
   "metadata": {},
   "source": [
    "## Booleans\n",
    "An expression is any combination of symbols that represents a value\n",
    "A boolean expression is one that returns true or false\n",
    "~~~\n",
    "|A|B|A AND B|A OR B|NOT A|\n",
    "|-|-|-      |-     |-    |\n",
    "|F|F|F      |F     |T    |\n",
    "|F|T|F      |T     |T    |\n",
    "|T|F|F      |T     |F    |\n",
    "|T|T|T      |T     |F    |\n",
    "~~~\n",
    "\n",
    "There is some subtly different behaviour that we get out of python (see the notes)"
   ]
  },
  {
   "cell_type": "code",
   "execution_count": 2,
   "metadata": {},
   "outputs": [
    {
     "data": {
      "text/plain": [
       "True"
      ]
     },
     "execution_count": 2,
     "metadata": {},
     "output_type": "execute_result"
    }
   ],
   "source": [
    "True or False"
   ]
  },
  {
   "cell_type": "markdown",
   "metadata": {},
   "source": [
    "## Concept Check:\n",
    "--------------\n",
    "What do the following evaluate to? Why? Will they be considered True or False in a boolean expression?\n",
    "- []         : evaluates to []. has length 0 so is considered FALSE\n",
    "- ''         : evaluates to ''. has length 0 so is considered FALSE\n",
    "- [] and 100 : evaluates to []. x is false so will return x, so is considered false\n",
    "- [] or None : evaluates to None. x is false so will return y, Nones are considered false\n",
    "- None or [] : evaluates to []. x is false so will return y so is considered false\n",
    "- True and '': evaluates to ''. x is true so will return y, so is considered false\n",
    "- 1 and 2    : evaluates to 2. x is true so returns y, 2 is considered true\n",
    "- [] or 8    : evaluates to 8. x is false so returns y, 8 is considered true\n",
    "--------------"
   ]
  },
  {
   "cell_type": "code",
   "execution_count": 6,
   "metadata": {},
   "outputs": [
    {
     "data": {
      "text/plain": [
       "[]"
      ]
     },
     "execution_count": 6,
     "metadata": {},
     "output_type": "execute_result"
    }
   ],
   "source": [
    "None or [] #tested all of them in this cell"
   ]
  },
  {
   "cell_type": "markdown",
   "metadata": {},
   "source": [
    "## Conditional execution (if loops)\n",
    "\n",
    "--------------\n",
    "- if block:\n",
    "\n",
    "`if <boolean expression>:`\n",
    "        <statement>\n",
    "- if else:\n",
    "\n",
    "`if <boolean expression>:`\n",
    "        <statement>\n",
    "`else:`\n",
    "        <statement>\n",
    "- if-elif-else:\n",
    "\n",
    "`if <boolean expression>:`\n",
    "        <statement>\n",
    "`elif <boolean expression>:`\n",
    "        <statement>\n",
    "        ...\n",
    "`else:`\n",
    "       <statement>\n",
    "--------------"
   ]
  },
  {
   "cell_type": "code",
   "execution_count": 8,
   "metadata": {},
   "outputs": [
    {
     "name": "stdout",
     "output_type": "stream",
     "text": [
      "1 is less than 2\n"
     ]
    }
   ],
   "source": [
    "if []: #empty list evaluates to false\n",
    "    print('The empty list evaluated to TRUE')\n",
    "elif(0 or False): #0 false so evaluates as false\n",
    "    print('Either 0 or False evaluated to TRUE')\n",
    "elif(1<2): #this is true so evaluates\n",
    "    print('1 is less than 2')\n",
    "elif(2<3): #previous was true so this doesnt evaluate even though is true\n",
    "    print('2 is less than 3')\n",
    "else:\n",
    "    print('None of the above evaluated to TRUE')"
   ]
  },
  {
   "cell_type": "markdown",
   "metadata": {},
   "source": [
    "## While loops\n",
    "--------------\n",
    "`while <bool expression>:`\n",
    "    <statement>\n",
    "--------------"
   ]
  },
  {
   "cell_type": "code",
   "execution_count": 9,
   "metadata": {},
   "outputs": [
    {
     "name": "stdout",
     "output_type": "stream",
     "text": [
      "5\n",
      "4\n",
      "3\n",
      "2\n",
      "1\n"
     ]
    }
   ],
   "source": [
    "n=5\n",
    "while n>0:\n",
    "    print(n)\n",
    "    n=n-1"
   ]
  },
  {
   "cell_type": "code",
   "execution_count": 10,
   "metadata": {},
   "outputs": [
    {
     "name": "stdout",
     "output_type": "stream",
     "text": [
      "5\n",
      "4\n",
      "3\n",
      "2\n",
      "1\n"
     ]
    }
   ],
   "source": [
    "#using a break statement, while true\n",
    "n=5\n",
    "while True:\n",
    "    if n<=0:\n",
    "        break\n",
    "    print(n)\n",
    "    n-=1"
   ]
  },
  {
   "cell_type": "code",
   "execution_count": 22,
   "metadata": {},
   "outputs": [
    {
     "name": "stdout",
     "output_type": "stream",
     "text": [
      "18\n",
      "34\n",
      "79 is 9 too high buddy\n"
     ]
    }
   ],
   "source": [
    "#generate a number and if below 7 generate another\n",
    "import random\n",
    "\n",
    "while True:\n",
    "    n = random.randint(0,100)\n",
    "    if n>70:\n",
    "        print(f'{n} is {n-70} too high buddy')\n",
    "        break\n",
    "    print(n)    \n",
    "    "
   ]
  },
  {
   "cell_type": "markdown",
   "metadata": {},
   "source": [
    "## For loops\n",
    "--------------\n",
    "Loop through an iterable object:\n",
    "\n",
    "`for i in <iterable>:`\n",
    "    <statement>\n",
    "--------------\n"
   ]
  },
  {
   "cell_type": "code",
   "execution_count": 24,
   "metadata": {},
   "outputs": [
    {
     "name": "stdout",
     "output_type": "stream",
     "text": [
      "quiet\n",
      "loud\n",
      "truent\n"
     ]
    }
   ],
   "source": [
    "students = {'quiet':'Gabriel','loud':'Alex','truent':'Toby'}\n",
    "for i in students:\n",
    "    print(i)"
   ]
  },
  {
   "cell_type": "code",
   "execution_count": 25,
   "metadata": {},
   "outputs": [
    {
     "name": "stdout",
     "output_type": "stream",
     "text": [
      "('quiet', 'Gabriel')\n",
      "('loud', 'Alex')\n",
      "('truent', 'Toby')\n"
     ]
    }
   ],
   "source": [
    "for i in students.items():\n",
    "    print(i)"
   ]
  },
  {
   "cell_type": "code",
   "execution_count": 26,
   "metadata": {},
   "outputs": [
    {
     "name": "stdout",
     "output_type": "stream",
     "text": [
      "quiet\n",
      "Gabriel\n",
      "--------------\n",
      "loud\n",
      "Alex\n",
      "--------------\n",
      "truent\n",
      "Toby\n",
      "--------------\n"
     ]
    }
   ],
   "source": [
    "for student_type, student_name in students.items():\n",
    "    print(student_type)\n",
    "    print(student_name)\n",
    "    print('--------------')"
   ]
  },
  {
   "cell_type": "code",
   "execution_count": 27,
   "metadata": {},
   "outputs": [
    {
     "name": "stdout",
     "output_type": "stream",
     "text": [
      "v1: value2\n",
      "v2: value1\n"
     ]
    }
   ],
   "source": [
    "v1,v2={'value1','value2'}\n",
    "print('v1:',v1)\n",
    "print('v2:',v2)"
   ]
  },
  {
   "cell_type": "code",
   "execution_count": 28,
   "metadata": {},
   "outputs": [
    {
     "name": "stdout",
     "output_type": "stream",
     "text": [
      "Gabriel\n",
      "Alex\n",
      "Toby\n"
     ]
    }
   ],
   "source": [
    "for student_name in students.values():\n",
    "    print(student_name)"
   ]
  },
  {
   "cell_type": "code",
   "execution_count": 29,
   "metadata": {},
   "outputs": [
    {
     "name": "stdout",
     "output_type": "stream",
     "text": [
      "2\n",
      "4\n",
      "6\n",
      "8\n"
     ]
    }
   ],
   "source": [
    "my_seq = [1,2,3,4,5,6,7,8,9] \n",
    "\n",
    "for i in my_seq:\n",
    "    if i%2==0:\n",
    "        print(i) #prints every even number"
   ]
  },
  {
   "cell_type": "code",
   "execution_count": 31,
   "metadata": {},
   "outputs": [
    {
     "name": "stdout",
     "output_type": "stream",
     "text": [
      "1\n",
      "3\n",
      "5\n",
      "7\n",
      "9\n"
     ]
    }
   ],
   "source": [
    "for i in range(len(my_seq)):\n",
    "    if i%2==0:\n",
    "        print(my_seq[i]) #prints every second number in the sequence"
   ]
  },
  {
   "cell_type": "code",
   "execution_count": 36,
   "metadata": {},
   "outputs": [
    {
     "name": "stdout",
     "output_type": "stream",
     "text": [
      "0\n",
      "1\n",
      "2\n",
      "3\n",
      "4\n",
      "5\n",
      "6\n",
      "7\n",
      "8\n"
     ]
    }
   ],
   "source": [
    "i = 0\n",
    "while i < len(my_seq):\n",
    "    print(i)\n",
    "    i +=1"
   ]
  },
  {
   "cell_type": "code",
   "execution_count": 39,
   "metadata": {},
   "outputs": [
    {
     "name": "stdout",
     "output_type": "stream",
     "text": [
      "0\n",
      "1\n",
      "-----\n",
      "1\n",
      "2\n",
      "-----\n",
      "2\n",
      "4\n",
      "-----\n",
      "3\n",
      "8\n",
      "-----\n",
      "4\n",
      "16\n",
      "-----\n",
      "5\n",
      "32\n",
      "-----\n",
      "6\n",
      "64\n",
      "-----\n",
      "7\n",
      "128\n",
      "-----\n",
      "8\n",
      "256\n",
      "-----\n",
      "9\n",
      "512\n",
      "-----\n",
      "10\n",
      "1024\n",
      "-----\n",
      "11\n",
      "2048\n",
      "-----\n",
      "12\n",
      "4096\n",
      "-----\n",
      "13\n",
      "8192\n",
      "-----\n",
      "14\n",
      "16384\n",
      "-----\n",
      "15\n",
      "32768\n",
      "-----\n",
      "16\n",
      "65536\n",
      "-----\n",
      "17\n",
      "131072\n",
      "-----\n",
      "18\n",
      "262144\n",
      "-----\n",
      "19\n",
      "524288\n",
      "-----\n",
      "20\n",
      "1048576\n",
      "-----\n",
      "21\n",
      "2097152\n",
      "-----\n",
      "22\n",
      "4194304\n",
      "-----\n",
      "23\n",
      "8388608\n",
      "-----\n",
      "24\n",
      "16777216\n",
      "-----\n",
      "25\n",
      "33554432\n",
      "-----\n",
      "26\n",
      "67108864\n",
      "-----\n",
      "27\n",
      "134217728\n",
      "-----\n",
      "28\n",
      "268435456\n",
      "-----\n",
      "29\n",
      "536870912\n",
      "-----\n"
     ]
    }
   ],
   "source": [
    "i = 0\n",
    "j = 2**i\n",
    "while j<1000000000:\n",
    "    print(i)\n",
    "    print(j)\n",
    "    print('-----')\n",
    "    i += 1\n",
    "    j = 2**i #powers of 2 just for fun\n",
    "    "
   ]
  },
  {
   "cell_type": "markdown",
   "metadata": {},
   "source": [
    "## Raising exceptions"
   ]
  },
  {
   "cell_type": "code",
   "execution_count": 41,
   "metadata": {},
   "outputs": [
    {
     "name": "stdout",
     "output_type": "stream",
     "text": [
      "Can't divide by 0 mate\n"
     ]
    },
    {
     "ename": "Exception",
     "evalue": "",
     "output_type": "error",
     "traceback": [
      "\u001b[1;31m---------------------------------------------------------------------------\u001b[0m",
      "\u001b[1;31mException\u001b[0m                                 Traceback (most recent call last)",
      "\u001b[1;32m<ipython-input-41-32ca4660b4f6>\u001b[0m in \u001b[0;36m<module>\u001b[1;34m\u001b[0m\n\u001b[0;32m      6\u001b[0m         \u001b[1;32mreturn\u001b[0m \u001b[0mnum\u001b[0m\u001b[1;33m/\u001b[0m\u001b[0mdenom\u001b[0m\u001b[1;33m\u001b[0m\u001b[1;33m\u001b[0m\u001b[0m\n\u001b[0;32m      7\u001b[0m \u001b[1;33m\u001b[0m\u001b[0m\n\u001b[1;32m----> 8\u001b[1;33m \u001b[0mmy_divide\u001b[0m\u001b[1;33m(\u001b[0m\u001b[1;36m28\u001b[0m\u001b[1;33m,\u001b[0m\u001b[1;36m0\u001b[0m\u001b[1;33m)\u001b[0m\u001b[1;33m\u001b[0m\u001b[1;33m\u001b[0m\u001b[0m\n\u001b[0m\u001b[0;32m      9\u001b[0m \u001b[1;33m\u001b[0m\u001b[0m\n",
      "\u001b[1;32m<ipython-input-41-32ca4660b4f6>\u001b[0m in \u001b[0;36mmy_divide\u001b[1;34m(num, denom)\u001b[0m\n\u001b[0;32m      2\u001b[0m     \u001b[1;32mif\u001b[0m \u001b[0mdenom\u001b[0m \u001b[1;33m==\u001b[0m \u001b[1;36m0\u001b[0m\u001b[1;33m:\u001b[0m\u001b[1;33m\u001b[0m\u001b[1;33m\u001b[0m\u001b[0m\n\u001b[0;32m      3\u001b[0m         \u001b[0mprint\u001b[0m\u001b[1;33m(\u001b[0m\u001b[1;34m'''Can't divide by 0 mate'''\u001b[0m \u001b[1;33m)\u001b[0m\u001b[1;33m\u001b[0m\u001b[1;33m\u001b[0m\u001b[0m\n\u001b[1;32m----> 4\u001b[1;33m         \u001b[1;32mraise\u001b[0m \u001b[0mException\u001b[0m\u001b[1;33m(\u001b[0m\u001b[1;33m)\u001b[0m\u001b[1;33m\u001b[0m\u001b[1;33m\u001b[0m\u001b[0m\n\u001b[0m\u001b[0;32m      5\u001b[0m     \u001b[1;32melse\u001b[0m\u001b[1;33m:\u001b[0m\u001b[1;33m\u001b[0m\u001b[1;33m\u001b[0m\u001b[0m\n\u001b[0;32m      6\u001b[0m         \u001b[1;32mreturn\u001b[0m \u001b[0mnum\u001b[0m\u001b[1;33m/\u001b[0m\u001b[0mdenom\u001b[0m\u001b[1;33m\u001b[0m\u001b[1;33m\u001b[0m\u001b[0m\n",
      "\u001b[1;31mException\u001b[0m: "
     ]
    }
   ],
   "source": [
    "def my_divide (num, denom):\n",
    "    if denom == 0:\n",
    "        print('''Can't divide by 0 mate''' )\n",
    "        raise Exception()\n",
    "    else:\n",
    "        return num/denom\n",
    "    \n",
    "my_divide(28,0)    \n",
    "    "
   ]
  },
  {
   "cell_type": "markdown",
   "metadata": {},
   "source": [
    "### Catching and handling exceptions\n",
    "Exceptions are caught in a try except block"
   ]
  },
  {
   "cell_type": "code",
   "execution_count": 44,
   "metadata": {},
   "outputs": [
    {
     "name": "stdout",
     "output_type": "stream",
     "text": [
      "Zero division error\n"
     ]
    }
   ],
   "source": [
    "try:\n",
    "    y = 50 / 0\n",
    "except IndexError:\n",
    "    print('Index error')\n",
    "except ZeroDivisionError: #these names have to be defined in python see the hierarchy\n",
    "    print('Zero division error')\n",
    "except:\n",
    "    print('Something went wrong here')\n",
    "    \n"
   ]
  },
  {
   "attachments": {
    "4d877eea-5bf3-4c9c-b64f-4dbdfaf2d05d.jpg": {
     "image/jpeg": "[encoded data removed]"
    }
   },
   "cell_type": "markdown",
   "metadata": {},
   "source": [
    "![4d877eea-5bf3-4c9c-b64f-4dbdfaf2d05d.jpg](attachment:4d877eea-5bf3-4c9c-b64f-4dbdfaf2d05d.jpg)"
   ]
  },
  {
   "cell_type": "code",
   "execution_count": 45,
   "metadata": {},
   "outputs": [],
   "source": [
    "### the above was done by making the cell a markdown cell then dragging the image into the cell"
   ]
  },
  {
   "cell_type": "code",
   "execution_count": null,
   "metadata": {},
   "outputs": [],
   "source": []
  }
 ],
 "metadata": {
  "celltoolbar": "Raw Cell Format",
  "kernelspec": {
   "display_name": "Python 3",
   "language": "python",
   "name": "python3"
  },
  "language_info": {
   "codemirror_mode": {
    "name": "ipython",
    "version": 3
   },
   "file_extension": ".py",
   "mimetype": "text/x-python",
   "name": "python",
   "nbconvert_exporter": "python",
   "pygments_lexer": "ipython3",
   "version": "3.8.3"
  }
 },
 "nbformat": 4,
 "nbformat_minor": 4
}
