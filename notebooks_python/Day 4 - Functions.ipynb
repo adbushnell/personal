{
 "cells": [
  {
   "cell_type": "markdown",
   "metadata": {},
   "source": [
    "# Functions\n"
   ]
  },
  {
   "cell_type": "code",
   "execution_count": 1,
   "metadata": {},
   "outputs": [
    {
     "name": "stdout",
     "output_type": "stream",
     "text": [
      "10.0\n",
      "220.5\n",
      "18.0\n",
      "18.0\n"
     ]
    }
   ],
   "source": [
    "data = [(5,2),(9,7),(1,6),(4,3)]\n",
    "\n",
    "# For each data point, we want to calculate the kinetic energy.\n",
    "# kinetic_energy = 0.5 * mass * velocity**2\n",
    "\n",
    " \n",
    "mass1 = data[0][0]\n",
    "vel1  = data[0][1]\n",
    "ke1   = 0.5*mass1*vel1**2\n",
    "\n",
    "mass2 = data[1][0]\n",
    "vel2  = data[1][1]\n",
    "ke2   = 0.5*mass2*vel2**2\n",
    "\n",
    "mass3 = data[2][0]\n",
    "vel3  = data[2][1]\n",
    "ke3   = 0.5*mass3*vel3**2\n",
    "\n",
    "mass4 = data[3][0]\n",
    "vel4  = data[3][1]\n",
    "ke4   = 0.5*mass4*vel4**2\n",
    "\n",
    "print(ke1)\n",
    "print(ke2)\n",
    "print(ke3)\n",
    "print(ke4)\n",
    "\n",
    "\n",
    "\n",
    "#doing this 4x manually is bare long"
   ]
  },
  {
   "cell_type": "code",
   "execution_count": 2,
   "metadata": {},
   "outputs": [
    {
     "name": "stdout",
     "output_type": "stream",
     "text": [
      "10.0\n",
      "220.5\n",
      "18.0\n",
      "18.0\n"
     ]
    }
   ],
   "source": [
    "def ke(input_tuple):\n",
    "    mass = input_tuple[0]\n",
    "    vel = input_tuple[1]\n",
    "    return 0.5 * mass * vel**2\n",
    "\n",
    "for i in data:\n",
    "    print(ke(i))"
   ]
  },
  {
   "cell_type": "markdown",
   "metadata": {},
   "source": [
    "## Default arguments\n"
   ]
  },
  {
   "cell_type": "code",
   "execution_count": 3,
   "metadata": {},
   "outputs": [
    {
     "name": "stdout",
     "output_type": "stream",
     "text": [
      "Alex\n"
     ]
    }
   ],
   "source": [
    "def my_func(x='Alex'): #default specified\n",
    "    print(x)\n",
    "    \n",
    "my_func()"
   ]
  },
  {
   "cell_type": "code",
   "execution_count": 4,
   "metadata": {},
   "outputs": [
    {
     "name": "stdout",
     "output_type": "stream",
     "text": [
      "good: Life\n",
      "bad: Death\n"
     ]
    }
   ],
   "source": [
    "def my_func(good, bad='Death'):\n",
    "    print('good:',good)\n",
    "    print('bad:',bad)\n",
    "    \n",
    "my_func('Life')"
   ]
  },
  {
   "cell_type": "markdown",
   "metadata": {},
   "source": [
    "## Mutable default arguments\n",
    "These are created only when the function is defined\n",
    "Generally not recommended"
   ]
  },
  {
   "cell_type": "code",
   "execution_count": 5,
   "metadata": {},
   "outputs": [
    {
     "name": "stdout",
     "output_type": "stream",
     "text": [
      "[1]\n",
      "[1, 1]\n",
      "[1, 1, 1]\n",
      "--------\n",
      "[1, 1, 1]\n"
     ]
    }
   ],
   "source": [
    "def my_func(x,my_list=[]):\n",
    "        my_list.append(x)\n",
    "        print(my_list)\n",
    "        \n",
    "empty = []\n",
    "\n",
    "my_func(1,empty)\n",
    "my_func(1,empty)\n",
    "my_func(1,empty)\n",
    "print('--------')\n",
    "print(empty)"
   ]
  },
  {
   "cell_type": "code",
   "execution_count": 6,
   "metadata": {},
   "outputs": [
    {
     "name": "stdout",
     "output_type": "stream",
     "text": [
      "['Alex']\n"
     ]
    }
   ],
   "source": [
    "my_func('Alex')"
   ]
  },
  {
   "cell_type": "code",
   "execution_count": 7,
   "metadata": {},
   "outputs": [
    {
     "name": "stdout",
     "output_type": "stream",
     "text": [
      "['Alex', 'Toby']\n"
     ]
    }
   ],
   "source": [
    "my_func('Toby') #would expect only toby here, but it remembers alex"
   ]
  },
  {
   "cell_type": "markdown",
   "metadata": {},
   "source": [
    "This happens because the default is only there when the function is defined. This means the change of state will persist until the function is redefined"
   ]
  },
  {
   "cell_type": "code",
   "execution_count": 8,
   "metadata": {},
   "outputs": [
    {
     "name": "stdout",
     "output_type": "stream",
     "text": [
      "[1]\n",
      "[2]\n",
      "[3]\n",
      "[1]\n",
      "[1]\n"
     ]
    }
   ],
   "source": [
    "#try to solve this above problem\n",
    "\n",
    "def my_func(x,my_list=[]):\n",
    "        my_list.append(x)\n",
    "        print(my_list)\n",
    "        my_list.clear() #my attempt\n",
    "        \n",
    "my_func(1)\n",
    "my_func(2) #this one behaves properly because you clear the list after you have printed\n",
    "my_func(3)\n",
    "empty=[]\n",
    "my_func(1,empty)\n",
    "my_func(1,empty) #should have two 1's here!!"
   ]
  },
  {
   "cell_type": "code",
   "execution_count": 9,
   "metadata": {},
   "outputs": [
    {
     "name": "stdout",
     "output_type": "stream",
     "text": [
      "[1]\n",
      "[2]\n",
      "[3]\n",
      "[1]\n",
      "[1, 1]\n"
     ]
    }
   ],
   "source": [
    "def my_func(x,my_list=None):\n",
    "        if my_list is None:\n",
    "            my_list=[]\n",
    "        my_list.append(x)\n",
    "        print(my_list)\n",
    "        \n",
    "my_func(1)\n",
    "my_func(2) #this one behaves properly because you clear the list after you have printed\n",
    "my_func(3)\n",
    "empty=[]\n",
    "my_func(1,empty)\n",
    "my_func(1,empty) #correct"
   ]
  },
  {
   "cell_type": "code",
   "execution_count": 10,
   "metadata": {},
   "outputs": [
    {
     "data": {
      "text/plain": [
       "32.0000012266064"
      ]
     },
     "execution_count": 10,
     "metadata": {},
     "output_type": "execute_result"
    }
   ],
   "source": [
    "def f(x):\n",
    "    return  3*x**2 + 2*x - 5\n",
    "    \n",
    "def derivative(f,x,epsilon=0.00000001):\n",
    "    return((f(x+epsilon)-f(x))/epsilon)\n",
    "\n",
    "derivative(f,5)"
   ]
  },
  {
   "cell_type": "markdown",
   "metadata": {},
   "source": [
    "## Using \\*args and \\*\\*kwargs\n",
    "We can use \\*args to create a function with an arbitrary number of positional arguments"
   ]
  },
  {
   "cell_type": "code",
   "execution_count": 11,
   "metadata": {},
   "outputs": [
    {
     "name": "stdout",
     "output_type": "stream",
     "text": [
      "type(*args) <class 'tuple'>\n",
      "-------------\n",
      "1\n",
      "2\n",
      "3\n",
      "34\n",
      "4\n",
      "24\n",
      "24\n",
      "253\n",
      "553\n",
      "jk\n",
      "<function print_everything at 0x0000022DE35854C0>\n"
     ]
    }
   ],
   "source": [
    "def print_everything(*args):\n",
    "    print('type(*args)', type(args))\n",
    "    print('-------------')\n",
    "    for i in args:\n",
    "        print(i)\n",
    "        \n",
    "print_everything(1,2,3,34,4,24,24,253,553,'jk',print_everything)        \n",
    "#args type is a tuple"
   ]
  },
  {
   "cell_type": "code",
   "execution_count": 12,
   "metadata": {},
   "outputs": [
    {
     "name": "stdout",
     "output_type": "stream",
     "text": [
      "x    x\n",
      "y    y\n",
      "args ('z', 1, 3, 2, 4, 2, 5, 6, 4, 6, 8109)\n"
     ]
    }
   ],
   "source": [
    "def arg_eg(x,y,*args):\n",
    "    print('x   ',x)\n",
    "    print('y   ',y)\n",
    "    print('args',args)\n",
    "    \n",
    "arg_eg('x','y','z',1,3,2,4,2,5,6,4,6,8109)    "
   ]
  },
  {
   "cell_type": "markdown",
   "metadata": {},
   "source": [
    "We use kwargs for functions we want a variable amount of keyword arguments for"
   ]
  },
  {
   "cell_type": "code",
   "execution_count": 69,
   "metadata": {},
   "outputs": [
    {
     "name": "stdout",
     "output_type": "stream",
     "text": [
      "type(kwargs):  <class 'dict'>\n",
      "{'x': 1, 'y': 2, 'z': 3, 'python': 'fun'}\n"
     ]
    }
   ],
   "source": [
    "def kwargs_eg(**kwargs):\n",
    "    print('type(kwargs): ',type(kwargs)) #is a dict type\n",
    "    print(kwargs)\n",
    "    \n",
    "kwargs_eg(x=1,y=2,z=3,python='fun')    "
   ]
  },
  {
   "cell_type": "code",
   "execution_count": 14,
   "metadata": {},
   "outputs": [
    {
     "name": "stdout",
     "output_type": "stream",
     "text": [
      "()\n",
      "{}\n"
     ]
    }
   ],
   "source": [
    "def my_func(*args,**kwargs):\n",
    "    print(args)\n",
    "    print(kwargs)\n",
    "my_func() #empty tuple and empty dict"
   ]
  },
  {
   "cell_type": "code",
   "execution_count": 15,
   "metadata": {},
   "outputs": [
    {
     "name": "stdout",
     "output_type": "stream",
     "text": [
      "(2, 3, 4, 5)\n",
      "{'w': 2, 'y': 3}\n"
     ]
    }
   ],
   "source": [
    "def mixed_func(a,*args,x=12,**kwargs):\n",
    "    print(args)\n",
    "    print(kwargs)\n",
    "    \n",
    "mixed_func(1,2,3,4,5,x=10,w=2,y=3)    #1 doesn't show up, x doesn't show either"
   ]
  },
  {
   "cell_type": "markdown",
   "metadata": {},
   "source": [
    "## Parameter passing and return values\n",
    "Passing a mutable object will allow for modification of that object\n",
    "Functions that mutate their imputs (or other parts of the program) are know as side effects, these are generally discouraged\n",
    "\n",
    "The return statement specifies what we want the function to 'give back'"
   ]
  },
  {
   "cell_type": "code",
   "execution_count": 16,
   "metadata": {},
   "outputs": [
    {
     "data": {
      "text/plain": [
       "6"
      ]
     },
     "execution_count": 16,
     "metadata": {},
     "output_type": "execute_result"
    }
   ],
   "source": [
    "#assume x is int or float\n",
    "def add5(x):\n",
    "    return x+5\n",
    "\n",
    "add5(1) #this funxtion has no side effects (print x after to see that it is the same)"
   ]
  },
  {
   "cell_type": "code",
   "execution_count": 17,
   "metadata": {},
   "outputs": [
    {
     "data": {
      "text/plain": [
       "8"
      ]
     },
     "execution_count": 17,
     "metadata": {},
     "output_type": "execute_result"
    }
   ],
   "source": [
    "my_list=[2,4,6,8]\n",
    "my_list.pop() #takes the last element away from the list and returns it"
   ]
  },
  {
   "cell_type": "code",
   "execution_count": 18,
   "metadata": {},
   "outputs": [
    {
     "name": "stdout",
     "output_type": "stream",
     "text": [
      "8\n",
      "6\n",
      "4\n",
      "2\n"
     ]
    }
   ],
   "source": [
    "def print_list(x):\n",
    "    while x: #while x is not empty\n",
    "        value=x.pop()\n",
    "        print(value)     \n",
    "my_list=[2,4,6,8]\n",
    "print_list(my_list)"
   ]
  },
  {
   "cell_type": "code",
   "execution_count": 19,
   "metadata": {},
   "outputs": [
    {
     "name": "stdout",
     "output_type": "stream",
     "text": [
      "first print\n",
      "second print\n"
     ]
    },
    {
     "data": {
      "text/plain": [
       "100"
      ]
     },
     "execution_count": 19,
     "metadata": {},
     "output_type": "execute_result"
    }
   ],
   "source": [
    "def return_example():\n",
    "    print('first print')\n",
    "    print('second print')\n",
    "    return 100 #anything after the return wont be run\n",
    "    print('third print')\n",
    "    \n",
    "return_example()"
   ]
  },
  {
   "cell_type": "code",
   "execution_count": 20,
   "metadata": {},
   "outputs": [
    {
     "name": "stdout",
     "output_type": "stream",
     "text": [
      "first value : 100\n",
      "second value : 200\n"
     ]
    }
   ],
   "source": [
    "def multi_return():\n",
    "    value1 = 100\n",
    "    value2 = 200\n",
    "    return(value1,value2)\n",
    "multi_return()\n",
    "\n",
    "first_val, second_val = multi_return()\n",
    "print('first value :', first_val)\n",
    "print('second value :', second_val)"
   ]
  },
  {
   "cell_type": "markdown",
   "metadata": {},
   "source": [
    "## Scoping rules\n",
    "When a function is executed, we create a namespace (a local environment that contains all of the names of function params and variables)"
   ]
  },
  {
   "cell_type": "markdown",
   "metadata": {},
   "source": [
    "### Eg1. Local variables override global ones"
   ]
  },
  {
   "cell_type": "code",
   "execution_count": 21,
   "metadata": {},
   "outputs": [
    {
     "name": "stdout",
     "output_type": "stream",
     "text": [
      "5\n",
      "3\n"
     ]
    }
   ],
   "source": [
    "a=1\n",
    "b=2\n",
    "\n",
    "def my_func(a,b):\n",
    "    print(a)\n",
    "    print(b)\n",
    "\n",
    "my_func(a=5,b=3) #sees a as 5 not 1 and b as 3 not 2\n",
    "#the local a and b override the global a and b"
   ]
  },
  {
   "cell_type": "markdown",
   "metadata": {},
   "source": [
    "### Eg2. Local assignments don't change global assignments"
   ]
  },
  {
   "cell_type": "code",
   "execution_count": 22,
   "metadata": {},
   "outputs": [
    {
     "name": "stdout",
     "output_type": "stream",
     "text": [
      "value of a : 5\n",
      "   id of a : 140703185778592\n"
     ]
    }
   ],
   "source": [
    "a=10\n",
    "def my_func():\n",
    "    a=5\n",
    "    print('value of a :',a)\n",
    "    print('   id of a :',id(a))\n",
    "my_func()"
   ]
  },
  {
   "cell_type": "code",
   "execution_count": 23,
   "metadata": {},
   "outputs": [
    {
     "name": "stdout",
     "output_type": "stream",
     "text": [
      "id = 140703185778752 and value = 10\n"
     ]
    }
   ],
   "source": [
    "print(f'id = {id(a)} and value = {a}') #value and id are different"
   ]
  },
  {
   "cell_type": "markdown",
   "metadata": {},
   "source": [
    "### Eg3. Modifying variables in the global scope"
   ]
  },
  {
   "cell_type": "code",
   "execution_count": 24,
   "metadata": {},
   "outputs": [
    {
     "name": "stdout",
     "output_type": "stream",
     "text": [
      "10 20\n"
     ]
    }
   ],
   "source": [
    "a=10\n",
    "b=20\n",
    "\n",
    "def my_func():\n",
    "    a=888\n",
    "    b=999\n",
    "my_func()\n",
    "print(a,b) #returns the global ones\n"
   ]
  },
  {
   "cell_type": "code",
   "execution_count": 25,
   "metadata": {},
   "outputs": [
    {
     "name": "stdout",
     "output_type": "stream",
     "text": [
      "888 20\n"
     ]
    }
   ],
   "source": [
    "a=10\n",
    "b=20\n",
    "\n",
    "def my_func():\n",
    "    global a #change global a to the one in the function\n",
    "    a=888\n",
    "    b=999\n",
    "my_func()\n",
    "print(a,b) #returns different a now, b is the same\n",
    "#this function has side effects\n",
    "#if a doesnt exist in the global scope, the function will create a in the global scope"
   ]
  },
  {
   "cell_type": "markdown",
   "metadata": {},
   "source": [
    "### Eg4. Finding locally undefined vars"
   ]
  },
  {
   "cell_type": "code",
   "execution_count": 26,
   "metadata": {},
   "outputs": [
    {
     "name": "stdout",
     "output_type": "stream",
     "text": [
      "5\n"
     ]
    }
   ],
   "source": [
    "a=5\n",
    "def my_func():\n",
    "    print(a)\n",
    "my_func() #will look at the global scope to find a"
   ]
  },
  {
   "cell_type": "markdown",
   "metadata": {},
   "source": [
    "### Eg5. Modifying variables in the global scope"
   ]
  },
  {
   "cell_type": "code",
   "execution_count": 27,
   "metadata": {},
   "outputs": [
    {
     "data": {
      "text/plain": [
       "[1, 2, 3, 4]"
      ]
     },
     "execution_count": 27,
     "metadata": {},
     "output_type": "execute_result"
    }
   ],
   "source": [
    "a=[1,2,3]\n",
    "def f():\n",
    "    a.append(4)\n",
    "f() #has side effects\n",
    "a"
   ]
  },
  {
   "cell_type": "markdown",
   "metadata": {},
   "source": [
    "## Decorators\n",
    "These are wrappers for functions denoted with the @\n",
    "The input is a function and the output is a modified function"
   ]
  },
  {
   "cell_type": "code",
   "execution_count": 28,
   "metadata": {},
   "outputs": [],
   "source": [
    "def my_decorator(func):\n",
    "    def mod_func(*args,**kwargs):\n",
    "        print('Function is running')\n",
    "        result = func(*args,**kwargs)\n",
    "        return result\n",
    "    return mod_func\n"
   ]
  },
  {
   "cell_type": "code",
   "execution_count": 29,
   "metadata": {},
   "outputs": [
    {
     "data": {
      "text/plain": [
       "105"
      ]
     },
     "execution_count": 29,
     "metadata": {},
     "output_type": "execute_result"
    }
   ],
   "source": [
    "def add5(x):\n",
    "    return x+5\n",
    "add5(100)"
   ]
  },
  {
   "cell_type": "code",
   "execution_count": 30,
   "metadata": {},
   "outputs": [
    {
     "name": "stdout",
     "output_type": "stream",
     "text": [
      "Function is running\n"
     ]
    },
    {
     "data": {
      "text/plain": [
       "9005"
      ]
     },
     "execution_count": 30,
     "metadata": {},
     "output_type": "execute_result"
    }
   ],
   "source": [
    "@my_decorator\n",
    "def add5(x):\n",
    "    return x+5\n",
    "\n",
    "add5(9000)"
   ]
  },
  {
   "cell_type": "code",
   "execution_count": 31,
   "metadata": {},
   "outputs": [
    {
     "name": "stdout",
     "output_type": "stream",
     "text": [
      "Function is running\n"
     ]
    },
    {
     "data": {
      "text/plain": [
       "8005"
      ]
     },
     "execution_count": 31,
     "metadata": {},
     "output_type": "execute_result"
    }
   ],
   "source": [
    "def add5(x):\n",
    "    return x+5\n",
    "\n",
    "add5 = my_decorator(add5)\n",
    "\n",
    "add5(8000)\n"
   ]
  },
  {
   "cell_type": "markdown",
   "metadata": {},
   "source": [
    "### Timing functions"
   ]
  },
  {
   "cell_type": "code",
   "execution_count": 32,
   "metadata": {},
   "outputs": [
    {
     "name": "stdout",
     "output_type": "stream",
     "text": [
      "2020-10-08 13:56:53.066329\n",
      "2020-10-08 13:56:55.070456\n",
      "0:00:02.004127\n"
     ]
    }
   ],
   "source": [
    "import datetime as dt\n",
    "import time\n",
    "\n",
    "start = dt.datetime.now()\n",
    "time.sleep(2)\n",
    "end = dt.datetime.now()\n",
    "\n",
    "print(start)\n",
    "print(end)\n",
    "print(end-start)"
   ]
  },
  {
   "cell_type": "code",
   "execution_count": 33,
   "metadata": {},
   "outputs": [
    {
     "name": "stdout",
     "output_type": "stream",
     "text": [
      "1\n",
      "32768\n",
      "14348907\n",
      "1073741824\n",
      "30517578125\n",
      "470184984576\n",
      "4747561509943\n",
      "35184372088832\n",
      "2020-10-08 13:56:55.112836\n",
      "2020-10-08 13:56:57.120291\n",
      "Time elapsed : 0:00:02.007455\n"
     ]
    }
   ],
   "source": [
    "## exercise a decorator that times a function\n",
    "import datetime as dt\n",
    "import time\n",
    "\n",
    "\n",
    "def time_dec(func):\n",
    "    def mod_func(*args,**kwargs):\n",
    "        start = dt.datetime.now()\n",
    "        result = func(*args,**kwargs)\n",
    "        time.sleep(2)\n",
    "        end = dt.datetime.now()\n",
    "        print(start)\n",
    "        print(end)\n",
    "        print(f'Time elapsed : {end-start}')\n",
    "        return result\n",
    "    return mod_func\n",
    "\n",
    "def power(x,p):\n",
    "    for i in x:\n",
    "        print(i**p)\n",
    "\n",
    "power = time_dec(power)\n",
    "\n",
    "power([1,2,3,4,5,6,7,8],15)\n"
   ]
  },
  {
   "cell_type": "code",
   "execution_count": 34,
   "metadata": {},
   "outputs": [
    {
     "name": "stdout",
     "output_type": "stream",
     "text": [
      "0:00:01.506710\n"
     ]
    },
    {
     "data": {
      "text/plain": [
       "1665"
      ]
     },
     "execution_count": 34,
     "metadata": {},
     "output_type": "execute_result"
    }
   ],
   "source": [
    "#Alberts one\n",
    "\n",
    "def timer_decorator(f):\n",
    "    def timed_f(*args,**kwargs):\n",
    "        start = dt.datetime.now()\n",
    "        result = f(*args,**kwargs)\n",
    "        end = dt.datetime.now()\n",
    "        print(end-start)\n",
    "        return result\n",
    "    return timed_f\n",
    "\n",
    "@timer_decorator\n",
    "def slow_add(x,y):\n",
    "    time.sleep(1.5)\n",
    "    return x+y\n",
    "\n",
    "slow_add(888,777)"
   ]
  },
  {
   "cell_type": "code",
   "execution_count": 35,
   "metadata": {},
   "outputs": [
    {
     "name": "stdout",
     "output_type": "stream",
     "text": [
      "247 ns ± 40.9 ns per loop (mean ± std. dev. of 7 runs, 1000000 loops each)\n"
     ]
    }
   ],
   "source": [
    "def slow_add(x,y):\n",
    "    return x+y\n",
    "\n",
    "%timeit slow_add(888,777) ####USE THIS IF YOU WANT TO TIME YOUR FUNCTIONS"
   ]
  },
  {
   "cell_type": "markdown",
   "metadata": {},
   "source": [
    "## Generators\n",
    "These returns sequences of values using the yield keyword"
   ]
  },
  {
   "cell_type": "code",
   "execution_count": 36,
   "metadata": {},
   "outputs": [],
   "source": [
    "def countdown(n):\n",
    "    print('Counting down!!')\n",
    "    while n >= 0:\n",
    "        print(n)\n",
    "        yield n # yields n (we can think of this as a return)\n",
    "        n -= 1"
   ]
  },
  {
   "cell_type": "code",
   "execution_count": 37,
   "metadata": {},
   "outputs": [],
   "source": [
    "g=countdown(10) #our generator object"
   ]
  },
  {
   "cell_type": "code",
   "execution_count": 38,
   "metadata": {},
   "outputs": [
    {
     "name": "stdout",
     "output_type": "stream",
     "text": [
      "Counting down!!\n",
      "10\n"
     ]
    },
    {
     "data": {
      "text/plain": [
       "10"
      ]
     },
     "execution_count": 38,
     "metadata": {},
     "output_type": "execute_result"
    }
   ],
   "source": [
    "next(g) #we execute until we hit a yield\n",
    "#we print 10 and counting down and return 10"
   ]
  },
  {
   "cell_type": "code",
   "execution_count": 39,
   "metadata": {},
   "outputs": [
    {
     "name": "stdout",
     "output_type": "stream",
     "text": [
      "9\n"
     ]
    },
    {
     "data": {
      "text/plain": [
       "9"
      ]
     },
     "execution_count": 39,
     "metadata": {},
     "output_type": "execute_result"
    }
   ],
   "source": [
    "next(g) #counts down until 0"
   ]
  },
  {
   "cell_type": "code",
   "execution_count": 40,
   "metadata": {},
   "outputs": [
    {
     "name": "stdout",
     "output_type": "stream",
     "text": [
      "Counting down!!\n",
      "5\n",
      "4\n",
      "3\n",
      "2\n",
      "1\n",
      "0\n"
     ]
    }
   ],
   "source": [
    "g = countdown(5)\n",
    "for i in g:\n",
    "    pass #does nothing, just counts down"
   ]
  },
  {
   "cell_type": "code",
   "execution_count": 41,
   "metadata": {},
   "outputs": [
    {
     "name": "stdout",
     "output_type": "stream",
     "text": [
      "Counting down!!\n",
      "8\n",
      "7\n",
      "6\n",
      "5\n",
      "4\n",
      "3\n",
      "2\n",
      "1\n",
      "0\n",
      "[8, 7, 6, 5, 4, 3, 2, 1, 0]\n"
     ]
    }
   ],
   "source": [
    "g = countdown(8)\n",
    "g_list = list(g)\n",
    "print(g_list)"
   ]
  },
  {
   "cell_type": "code",
   "execution_count": 42,
   "metadata": {},
   "outputs": [
    {
     "name": "stdout",
     "output_type": "stream",
     "text": [
      "0\n",
      "1\n",
      "2\n",
      "3\n",
      "4\n",
      "5\n",
      "6\n",
      "7\n",
      "8\n",
      "9\n"
     ]
    }
   ],
   "source": [
    "#the range object is a generator\n",
    "for i in range(10):\n",
    "    print(i)"
   ]
  },
  {
   "cell_type": "code",
   "execution_count": 43,
   "metadata": {},
   "outputs": [
    {
     "name": "stdout",
     "output_type": "stream",
     "text": [
      "Some names\n",
      "['Alex', 'Jake', 'Dan', 'Kate', 'Neil']\n"
     ]
    }
   ],
   "source": [
    "def names_gen(name):\n",
    "    print('Some names')\n",
    "    yield(name) #this is now a generator\n",
    "    \n",
    "g=names_gen(['Alex','Jake','Dan','Kate','Neil'])\n",
    "for i in g:\n",
    "    print(i)"
   ]
  },
  {
   "cell_type": "code",
   "execution_count": 44,
   "metadata": {},
   "outputs": [],
   "source": [
    "def albert_names_gen():\n",
    "    print('Some names')\n",
    "    yield('Alex')\n",
    "    yield('Anna')\n",
    "    print('Nearly there')\n",
    "    yield('Jack')\n",
    "    yield('Max')\n",
    "    yield('Matt')\n",
    "g = albert_names_gen()    "
   ]
  },
  {
   "cell_type": "code",
   "execution_count": 45,
   "metadata": {},
   "outputs": [
    {
     "name": "stdout",
     "output_type": "stream",
     "text": [
      "Some names\n"
     ]
    },
    {
     "data": {
      "text/plain": [
       "'Alex'"
      ]
     },
     "execution_count": 45,
     "metadata": {},
     "output_type": "execute_result"
    }
   ],
   "source": [
    "next(g) #we can iterate through here"
   ]
  },
  {
   "cell_type": "code",
   "execution_count": 46,
   "metadata": {},
   "outputs": [
    {
     "name": "stdout",
     "output_type": "stream",
     "text": [
      "Some names\n",
      "Alex\n",
      "Anna\n",
      "Nearly there\n",
      "Jack\n",
      "Max\n",
      "Matt\n"
     ]
    }
   ],
   "source": [
    "for i in albert_names_gen():\n",
    "    print(i)"
   ]
  },
  {
   "cell_type": "markdown",
   "metadata": {},
   "source": [
    "## List comprehensions\n",
    "Applying a function to all elements in a list"
   ]
  },
  {
   "cell_type": "code",
   "execution_count": 47,
   "metadata": {},
   "outputs": [
    {
     "data": {
      "text/plain": [
       "[2, 4, 6]"
      ]
     },
     "execution_count": 47,
     "metadata": {},
     "output_type": "execute_result"
    }
   ],
   "source": [
    "my_list=[1,2,3]\n",
    "results=[]\n",
    "for i in my_list:\n",
    "      results.append(2*i)\n",
    "results "
   ]
  },
  {
   "cell_type": "code",
   "execution_count": 48,
   "metadata": {},
   "outputs": [
    {
     "data": {
      "text/plain": [
       "[3, 6, 9]"
      ]
     },
     "execution_count": 48,
     "metadata": {},
     "output_type": "execute_result"
    }
   ],
   "source": [
    "[3*i for i in my_list] #much quicker"
   ]
  },
  {
   "cell_type": "code",
   "execution_count": 49,
   "metadata": {},
   "outputs": [
    {
     "data": {
      "text/plain": [
       "[6]"
      ]
     },
     "execution_count": 49,
     "metadata": {},
     "output_type": "execute_result"
    }
   ],
   "source": [
    "[3*i for i in my_list if i%2==0] #a filtering condition"
   ]
  },
  {
   "cell_type": "code",
   "execution_count": 50,
   "metadata": {},
   "outputs": [
    {
     "data": {
      "text/plain": [
       "[-6, 0, 8]"
      ]
     },
     "execution_count": 50,
     "metadata": {},
     "output_type": "execute_result"
    }
   ],
   "source": [
    "def f(x): \n",
    "    return x**2 +3*x -10\n",
    "[f(i) for i in my_list] #apply a custom function to each element of the list"
   ]
  },
  {
   "cell_type": "markdown",
   "metadata": {},
   "source": [
    "## Generator comprehensions\n"
   ]
  },
  {
   "cell_type": "code",
   "execution_count": 51,
   "metadata": {},
   "outputs": [
    {
     "name": "stdout",
     "output_type": "stream",
     "text": [
      "2\n",
      "4\n",
      "6\n",
      "8\n",
      "10\n",
      "12\n"
     ]
    }
   ],
   "source": [
    "my_list=[1,2,3,4,5,6]\n",
    "g=(2*i for i in my_list)\n",
    "for i in g:\n",
    "    print(i) #these can be better for large datasets b/c they take up less memory"
   ]
  },
  {
   "cell_type": "markdown",
   "metadata": {},
   "source": [
    "## Lambda operations"
   ]
  },
  {
   "cell_type": "code",
   "execution_count": 52,
   "metadata": {},
   "outputs": [
    {
     "data": {
      "text/plain": [
       "16"
      ]
     },
     "execution_count": 52,
     "metadata": {},
     "output_type": "execute_result"
    }
   ],
   "source": [
    "square = lambda x: x**2\n",
    "square(4) #much quicker way to define functions"
   ]
  },
  {
   "cell_type": "code",
   "execution_count": 54,
   "metadata": {},
   "outputs": [
    {
     "data": {
      "text/plain": [
       "23.000000126671694"
      ]
     },
     "execution_count": 54,
     "metadata": {},
     "output_type": "execute_result"
    }
   ],
   "source": [
    "derivative(lambda x: x**3 - 4*x,3)"
   ]
  },
  {
   "cell_type": "markdown",
   "metadata": {},
   "source": [
    "## Map function\n",
    "Apply a function to each element of an iterable object\n",
    "Kind of like a genrator comprehension, does things one by one instead of filling memory all at once"
   ]
  },
  {
   "cell_type": "code",
   "execution_count": 56,
   "metadata": {},
   "outputs": [
    {
     "data": {
      "text/plain": [
       "<map at 0x22de35b8790>"
      ]
     },
     "execution_count": 56,
     "metadata": {},
     "output_type": "execute_result"
    }
   ],
   "source": [
    "my_list=[1,2,3,4,5,6]\n",
    "def square(x):\n",
    "    return x**2\n",
    "my_map = map(square, my_list)\n",
    "my_map #this is a generator object"
   ]
  },
  {
   "cell_type": "code",
   "execution_count": 57,
   "metadata": {},
   "outputs": [
    {
     "data": {
      "text/plain": [
       "[1, 4, 9, 16, 25, 36]"
      ]
     },
     "execution_count": 57,
     "metadata": {},
     "output_type": "execute_result"
    }
   ],
   "source": [
    "list(my_map) #how to get the values"
   ]
  },
  {
   "cell_type": "markdown",
   "metadata": {},
   "source": [
    "## Filter\n",
    "Used to filter an iterable object"
   ]
  },
  {
   "cell_type": "code",
   "execution_count": 59,
   "metadata": {},
   "outputs": [
    {
     "data": {
      "text/plain": [
       "[10, 15, 20, 25]"
      ]
     },
     "execution_count": 59,
     "metadata": {},
     "output_type": "execute_result"
    }
   ],
   "source": [
    "my_list=[0,5,10,15,20,25]\n",
    "my_filter=filter(lambda x: x>=10, my_list) #also a generator object\n",
    "list(my_filter) #way to see everything\n",
    "#probably can do all of this using generator comprehension"
   ]
  },
  {
   "cell_type": "markdown",
   "metadata": {},
   "source": [
    "## Zip\n",
    "Combine 2 or more collections into a collection of tuples"
   ]
  },
  {
   "cell_type": "code",
   "execution_count": 63,
   "metadata": {},
   "outputs": [],
   "source": [
    "my_keys = ['Alex','Marco','James']\n",
    "my_values = ['pasta','strawberries','apples']\n",
    "my_zip=zip(my_keys,my_values)\n",
    "my_tuple=list(my_zip)"
   ]
  },
  {
   "cell_type": "code",
   "execution_count": 64,
   "metadata": {},
   "outputs": [
    {
     "name": "stdout",
     "output_type": "stream",
     "text": [
      "Alex\n",
      "pasta\n",
      "-------\n",
      "Marco\n",
      "strawberries\n",
      "-------\n",
      "James\n",
      "apples\n",
      "-------\n"
     ]
    }
   ],
   "source": [
    "for name,food in my_tuple:\n",
    "    print(name)\n",
    "    print(food)\n",
    "    print('-------')"
   ]
  },
  {
   "cell_type": "code",
   "execution_count": 65,
   "metadata": {},
   "outputs": [
    {
     "data": {
      "text/plain": [
       "{'Alex': 'pasta', 'Marco': 'strawberries', 'James': 'apples'}"
      ]
     },
     "execution_count": 65,
     "metadata": {},
     "output_type": "execute_result"
    }
   ],
   "source": [
    "{name:food for name,food in my_tuple} #made a dictionary using dictionary comprehension"
   ]
  },
  {
   "cell_type": "code",
   "execution_count": 66,
   "metadata": {},
   "outputs": [
    {
     "data": {
      "text/plain": [
       "{'Alex': 'pasta', 'Marco': 'strawberries', 'James': 'apples'}"
      ]
     },
     "execution_count": 66,
     "metadata": {},
     "output_type": "execute_result"
    }
   ],
   "source": [
    "dict(my_tuple) #quicker way to create a dict"
   ]
  },
  {
   "cell_type": "code",
   "execution_count": 68,
   "metadata": {},
   "outputs": [
    {
     "data": {
      "text/plain": [
       "[('Alex', 'pasta', 'Bushnell'),\n",
       " ('Marco', 'strawberries', 'Joker'),\n",
       " ('James', 'apples', 'Smith')]"
      ]
     },
     "execution_count": 68,
     "metadata": {},
     "output_type": "execute_result"
    }
   ],
   "source": [
    "my_surnames = ['Bushnell','Joker','Smith']\n",
    "list(zip(my_keys,my_values,my_surnames))"
   ]
  },
  {
   "cell_type": "markdown",
   "metadata": {},
   "source": [
    "## Other built in functions\n",
    "Check out https://docs.python.org/3/library/functions.html"
   ]
  },
  {
   "cell_type": "code",
   "execution_count": null,
   "metadata": {},
   "outputs": [],
   "source": []
  }
 ],
 "metadata": {
  "kernelspec": {
   "display_name": "Python 3 (ipykernel)",
   "language": "python",
   "name": "python3"
  },
  "language_info": {
   "codemirror_mode": {
    "name": "ipython",
    "version": 3
   },
   "file_extension": ".py",
   "mimetype": "text/x-python",
   "name": "python",
   "nbconvert_exporter": "python",
   "pygments_lexer": "ipython3",
   "version": "3.9.10"
  }
 },
 "nbformat": 4,
 "nbformat_minor": 4
}
