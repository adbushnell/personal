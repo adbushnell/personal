{
 "cells": [
  {
   "cell_type": "markdown",
   "metadata": {},
   "source": [
    "# Pandas\n",
    "Python library for manipulating tabular data\n",
    "\n",
    "Provides high performance data structures and analysis tools\n",
    "\n",
    "There are two main structures:\n",
    "- Series\n",
    "- Dataframe"
   ]
  },
  {
   "cell_type": "markdown",
   "metadata": {},
   "source": [
    "## Pandas series\n",
    "---\n",
    "A 1-d array of indexed data (like a vector)\n",
    "\n",
    "- Each series has only one datatype\n",
    "- You can think of the object as a dictionary with the index being the key"
   ]
  },
  {
   "cell_type": "code",
   "execution_count": 2,
   "metadata": {},
   "outputs": [],
   "source": [
    "import pandas as pd #name comes from a concatenation of panel and data\n",
    "import datetime as dt #used in the index section\n",
    "import numpy as np #element wise operations"
   ]
  },
  {
   "cell_type": "markdown",
   "metadata": {},
   "source": [
    "### Creating a series object"
   ]
  },
  {
   "cell_type": "code",
   "execution_count": 4,
   "metadata": {},
   "outputs": [
    {
     "data": {
      "text/plain": [
       "0    1\n",
       "1    2\n",
       "2    3\n",
       "dtype: int64"
      ]
     },
     "metadata": {},
     "output_type": "display_data"
    }
   ],
   "source": [
    "s = pd.Series([1,2,3])\n",
    "display(s) #this is like print but is nicer for pandas objects"
   ]
  },
  {
   "cell_type": "code",
   "execution_count": 5,
   "metadata": {},
   "outputs": [
    {
     "data": {
      "text/plain": [
       "array([1, 2, 3], dtype=int64)"
      ]
     },
     "execution_count": 5,
     "metadata": {},
     "output_type": "execute_result"
    }
   ],
   "source": [
    "s.values  #get values"
   ]
  },
  {
   "cell_type": "code",
   "execution_count": 6,
   "metadata": {},
   "outputs": [
    {
     "data": {
      "text/plain": [
       "RangeIndex(start=0, stop=3, step=1)"
      ]
     },
     "execution_count": 6,
     "metadata": {},
     "output_type": "execute_result"
    }
   ],
   "source": [
    "s.index  #get the index"
   ]
  },
  {
   "cell_type": "code",
   "execution_count": 7,
   "metadata": {},
   "outputs": [
    {
     "data": {
      "text/plain": [
       "a    1\n",
       "b    2\n",
       "c    3\n",
       "dtype: int64"
      ]
     },
     "metadata": {},
     "output_type": "display_data"
    }
   ],
   "source": [
    "s = pd.Series([1,2,3], index=['a','b','c']) #can define the index when constructing\n",
    "display(s)"
   ]
  },
  {
   "cell_type": "code",
   "execution_count": 8,
   "metadata": {},
   "outputs": [
    {
     "data": {
      "text/plain": [
       "a    111\n",
       "b    222\n",
       "dtype: int64"
      ]
     },
     "metadata": {},
     "output_type": "display_data"
    }
   ],
   "source": [
    "s = pd.Series({'a':111, 'b':222}) #construct from a dictionary\n",
    "display(s)"
   ]
  },
  {
   "cell_type": "code",
   "execution_count": 9,
   "metadata": {},
   "outputs": [
    {
     "data": {
      "text/plain": [
       "111"
      ]
     },
     "execution_count": 9,
     "metadata": {},
     "output_type": "execute_result"
    }
   ],
   "source": [
    "s['a'] #use square brackets to call a specific value"
   ]
  },
  {
   "cell_type": "markdown",
   "metadata": {},
   "source": [
    "### Series types\n",
    "Each one has a single datatype."
   ]
  },
  {
   "cell_type": "code",
   "execution_count": 11,
   "metadata": {},
   "outputs": [
    {
     "data": {
      "text/plain": [
       "dtype('int64')"
      ]
     },
     "execution_count": 11,
     "metadata": {},
     "output_type": "execute_result"
    }
   ],
   "source": [
    "s.dtype #find the datatype"
   ]
  },
  {
   "cell_type": "code",
   "execution_count": 12,
   "metadata": {},
   "outputs": [
    {
     "data": {
      "text/plain": [
       "a    111.0\n",
       "b    222.0\n",
       "dtype: float64"
      ]
     },
     "execution_count": 12,
     "metadata": {},
     "output_type": "execute_result"
    }
   ],
   "source": [
    "#you can do something called typecasting (converting datatypes)\n",
    "s.astype(float) #this creates a new series - doesnt overwrite the old one unless explictly told to"
   ]
  },
  {
   "cell_type": "code",
   "execution_count": 13,
   "metadata": {},
   "outputs": [
    {
     "data": {
      "text/plain": [
       "numpy.ndarray"
      ]
     },
     "execution_count": 13,
     "metadata": {},
     "output_type": "execute_result"
    }
   ],
   "source": [
    "type(s.values) #behind pandas we are using NumPy"
   ]
  },
  {
   "cell_type": "markdown",
   "metadata": {},
   "source": [
    "### Shape"
   ]
  },
  {
   "cell_type": "code",
   "execution_count": 16,
   "metadata": {},
   "outputs": [
    {
     "data": {
      "text/plain": [
       "(3,)"
      ]
     },
     "execution_count": 16,
     "metadata": {},
     "output_type": "execute_result"
    }
   ],
   "source": [
    "s = pd.Series({'a':1, 'b':2, 'c':3})\n",
    "s.shape #tells us how many elements and dimensions we have: here it is 1-d with 3 elements\n",
    "#returns a tuple containing the value of 3"
   ]
  },
  {
   "cell_type": "markdown",
   "metadata": {},
   "source": [
    "## Pandas dataframes\n",
    "---\n",
    "A pandas df is a 2-d array index by rows and columns.\n",
    "\n",
    "Each column in a df corresponds to a series object."
   ]
  },
  {
   "cell_type": "code",
   "execution_count": 17,
   "metadata": {},
   "outputs": [
    {
     "data": {
      "text/html": [
       "<div>\n",
       "<style scoped>\n",
       "    .dataframe tbody tr th:only-of-type {\n",
       "        vertical-align: middle;\n",
       "    }\n",
       "\n",
       "    .dataframe tbody tr th {\n",
       "        vertical-align: top;\n",
       "    }\n",
       "\n",
       "    .dataframe thead th {\n",
       "        text-align: right;\n",
       "    }\n",
       "</style>\n",
       "<table border=\"1\" class=\"dataframe\">\n",
       "  <thead>\n",
       "    <tr style=\"text-align: right;\">\n",
       "      <th></th>\n",
       "      <th>0</th>\n",
       "    </tr>\n",
       "  </thead>\n",
       "  <tbody>\n",
       "    <tr>\n",
       "      <th>0</th>\n",
       "      <td>1</td>\n",
       "    </tr>\n",
       "    <tr>\n",
       "      <th>1</th>\n",
       "      <td>2</td>\n",
       "    </tr>\n",
       "    <tr>\n",
       "      <th>2</th>\n",
       "      <td>3</td>\n",
       "    </tr>\n",
       "    <tr>\n",
       "      <th>3</th>\n",
       "      <td>4</td>\n",
       "    </tr>\n",
       "  </tbody>\n",
       "</table>\n",
       "</div>"
      ],
      "text/plain": [
       "   0\n",
       "0  1\n",
       "1  2\n",
       "2  3\n",
       "3  4"
      ]
     },
     "metadata": {},
     "output_type": "display_data"
    }
   ],
   "source": [
    "d = pd.DataFrame([1,2,3,4])\n",
    "display(d)"
   ]
  },
  {
   "cell_type": "code",
   "execution_count": 18,
   "metadata": {},
   "outputs": [
    {
     "data": {
      "text/html": [
       "<div>\n",
       "<style scoped>\n",
       "    .dataframe tbody tr th:only-of-type {\n",
       "        vertical-align: middle;\n",
       "    }\n",
       "\n",
       "    .dataframe tbody tr th {\n",
       "        vertical-align: top;\n",
       "    }\n",
       "\n",
       "    .dataframe thead th {\n",
       "        text-align: right;\n",
       "    }\n",
       "</style>\n",
       "<table border=\"1\" class=\"dataframe\">\n",
       "  <thead>\n",
       "    <tr style=\"text-align: right;\">\n",
       "      <th></th>\n",
       "      <th>Col1</th>\n",
       "    </tr>\n",
       "  </thead>\n",
       "  <tbody>\n",
       "    <tr>\n",
       "      <th>0</th>\n",
       "      <td>1</td>\n",
       "    </tr>\n",
       "    <tr>\n",
       "      <th>1</th>\n",
       "      <td>2</td>\n",
       "    </tr>\n",
       "    <tr>\n",
       "      <th>2</th>\n",
       "      <td>3</td>\n",
       "    </tr>\n",
       "    <tr>\n",
       "      <th>3</th>\n",
       "      <td>4</td>\n",
       "    </tr>\n",
       "  </tbody>\n",
       "</table>\n",
       "</div>"
      ],
      "text/plain": [
       "   Col1\n",
       "0     1\n",
       "1     2\n",
       "2     3\n",
       "3     4"
      ]
     },
     "metadata": {},
     "output_type": "display_data"
    }
   ],
   "source": [
    "d = pd.DataFrame([1,2,3,4], columns=['Col1']) #have assigned the column a name\n",
    "display(d)"
   ]
  },
  {
   "cell_type": "code",
   "execution_count": 3,
   "metadata": {},
   "outputs": [
    {
     "data": {
      "text/plain": [
       "a    123\n",
       "b    456\n",
       "dtype: int64"
      ]
     },
     "execution_count": 3,
     "metadata": {},
     "output_type": "execute_result"
    }
   ],
   "source": [
    "s = pd.Series({'a':123, 'b':456})\n",
    "#df = pd.DataFrame(s)\n",
    "#display(df)\n",
    "s"
   ]
  },
  {
   "cell_type": "markdown",
   "metadata": {},
   "source": [
    "### Dataframes with multiple columns"
   ]
  },
  {
   "cell_type": "code",
   "execution_count": 21,
   "metadata": {},
   "outputs": [
    {
     "data": {
      "text/html": [
       "<div>\n",
       "<style scoped>\n",
       "    .dataframe tbody tr th:only-of-type {\n",
       "        vertical-align: middle;\n",
       "    }\n",
       "\n",
       "    .dataframe tbody tr th {\n",
       "        vertical-align: top;\n",
       "    }\n",
       "\n",
       "    .dataframe thead th {\n",
       "        text-align: right;\n",
       "    }\n",
       "</style>\n",
       "<table border=\"1\" class=\"dataframe\">\n",
       "  <thead>\n",
       "    <tr style=\"text-align: right;\">\n",
       "      <th></th>\n",
       "      <th>Col1</th>\n",
       "      <th>Col2</th>\n",
       "    </tr>\n",
       "  </thead>\n",
       "  <tbody>\n",
       "    <tr>\n",
       "      <th>0</th>\n",
       "      <td>1</td>\n",
       "      <td>2</td>\n",
       "    </tr>\n",
       "    <tr>\n",
       "      <th>1</th>\n",
       "      <td>3</td>\n",
       "      <td>4</td>\n",
       "    </tr>\n",
       "    <tr>\n",
       "      <th>2</th>\n",
       "      <td>5</td>\n",
       "      <td>6</td>\n",
       "    </tr>\n",
       "  </tbody>\n",
       "</table>\n",
       "</div>"
      ],
      "text/plain": [
       "   Col1  Col2\n",
       "0     1     2\n",
       "1     3     4\n",
       "2     5     6"
      ]
     },
     "metadata": {},
     "output_type": "display_data"
    }
   ],
   "source": [
    "#from a list of lists\n",
    "data =[[1,2],\n",
    "       [3,4],\n",
    "       [5,6]] #3 rows in the form of a list of list\n",
    "\n",
    "df = pd.DataFrame(data, columns=['Col1', 'Col2'])\n",
    "display(df)"
   ]
  },
  {
   "cell_type": "code",
   "execution_count": 22,
   "metadata": {},
   "outputs": [
    {
     "data": {
      "text/html": [
       "<div>\n",
       "<style scoped>\n",
       "    .dataframe tbody tr th:only-of-type {\n",
       "        vertical-align: middle;\n",
       "    }\n",
       "\n",
       "    .dataframe tbody tr th {\n",
       "        vertical-align: top;\n",
       "    }\n",
       "\n",
       "    .dataframe thead th {\n",
       "        text-align: right;\n",
       "    }\n",
       "</style>\n",
       "<table border=\"1\" class=\"dataframe\">\n",
       "  <thead>\n",
       "    <tr style=\"text-align: right;\">\n",
       "      <th></th>\n",
       "      <th>a</th>\n",
       "      <th>b</th>\n",
       "    </tr>\n",
       "  </thead>\n",
       "  <tbody>\n",
       "    <tr>\n",
       "      <th>0</th>\n",
       "      <td>111</td>\n",
       "      <td>222</td>\n",
       "    </tr>\n",
       "    <tr>\n",
       "      <th>1</th>\n",
       "      <td>333</td>\n",
       "      <td>444</td>\n",
       "    </tr>\n",
       "    <tr>\n",
       "      <th>2</th>\n",
       "      <td>555</td>\n",
       "      <td>666</td>\n",
       "    </tr>\n",
       "  </tbody>\n",
       "</table>\n",
       "</div>"
      ],
      "text/plain": [
       "     a    b\n",
       "0  111  222\n",
       "1  333  444\n",
       "2  555  666"
      ]
     },
     "metadata": {},
     "output_type": "display_data"
    }
   ],
   "source": [
    "#from a list of dictionaries\n",
    "#each key corresponds to a column name\n",
    "#each dict is a row\n",
    "\n",
    "data = [{'a':111, 'b':222},\n",
    "        {'a':333, 'b':444},\n",
    "        {'b':666, 'a':555}]\n",
    "df = pd.DataFrame(data)\n",
    "display(df)"
   ]
  },
  {
   "cell_type": "code",
   "execution_count": 23,
   "metadata": {},
   "outputs": [
    {
     "data": {
      "text/html": [
       "<div>\n",
       "<style scoped>\n",
       "    .dataframe tbody tr th:only-of-type {\n",
       "        vertical-align: middle;\n",
       "    }\n",
       "\n",
       "    .dataframe tbody tr th {\n",
       "        vertical-align: top;\n",
       "    }\n",
       "\n",
       "    .dataframe thead th {\n",
       "        text-align: right;\n",
       "    }\n",
       "</style>\n",
       "<table border=\"1\" class=\"dataframe\">\n",
       "  <thead>\n",
       "    <tr style=\"text-align: right;\">\n",
       "      <th></th>\n",
       "      <th>a</th>\n",
       "      <th>b</th>\n",
       "    </tr>\n",
       "  </thead>\n",
       "  <tbody>\n",
       "    <tr>\n",
       "      <th>0</th>\n",
       "      <td>1</td>\n",
       "      <td>5</td>\n",
       "    </tr>\n",
       "    <tr>\n",
       "      <th>1</th>\n",
       "      <td>2</td>\n",
       "      <td>6</td>\n",
       "    </tr>\n",
       "    <tr>\n",
       "      <th>2</th>\n",
       "      <td>3</td>\n",
       "      <td>7</td>\n",
       "    </tr>\n",
       "    <tr>\n",
       "      <th>3</th>\n",
       "      <td>4</td>\n",
       "      <td>8</td>\n",
       "    </tr>\n",
       "  </tbody>\n",
       "</table>\n",
       "</div>"
      ],
      "text/plain": [
       "   a  b\n",
       "0  1  5\n",
       "1  2  6\n",
       "2  3  7\n",
       "3  4  8"
      ]
     },
     "metadata": {},
     "output_type": "display_data"
    }
   ],
   "source": [
    "#from a dictionary of list values\n",
    "data = {'a':[1,2,3,4], 'b':[5,6,7,8]}\n",
    "df = pd.DataFrame(data)\n",
    "display(df)"
   ]
  },
  {
   "cell_type": "code",
   "execution_count": 24,
   "metadata": {},
   "outputs": [
    {
     "data": {
      "text/html": [
       "<div>\n",
       "<style scoped>\n",
       "    .dataframe tbody tr th:only-of-type {\n",
       "        vertical-align: middle;\n",
       "    }\n",
       "\n",
       "    .dataframe tbody tr th {\n",
       "        vertical-align: top;\n",
       "    }\n",
       "\n",
       "    .dataframe thead th {\n",
       "        text-align: right;\n",
       "    }\n",
       "</style>\n",
       "<table border=\"1\" class=\"dataframe\">\n",
       "  <thead>\n",
       "    <tr style=\"text-align: right;\">\n",
       "      <th></th>\n",
       "      <th>Series1</th>\n",
       "      <th>Series2</th>\n",
       "    </tr>\n",
       "  </thead>\n",
       "  <tbody>\n",
       "    <tr>\n",
       "      <th>a</th>\n",
       "      <td>1</td>\n",
       "      <td>3</td>\n",
       "    </tr>\n",
       "    <tr>\n",
       "      <th>b</th>\n",
       "      <td>2</td>\n",
       "      <td>4</td>\n",
       "    </tr>\n",
       "  </tbody>\n",
       "</table>\n",
       "</div>"
      ],
      "text/plain": [
       "   Series1  Series2\n",
       "a        1        3\n",
       "b        2        4"
      ]
     },
     "metadata": {},
     "output_type": "display_data"
    }
   ],
   "source": [
    "#from a dictionary of series\n",
    "s1 = pd.Series([1,2], index=['a','b'])\n",
    "s2 = pd.Series([3,4], index=['a','b'])\n",
    "data = {'Series1':s1, 'Series2':s2}\n",
    "df = pd.DataFrame(data)\n",
    "display(df)"
   ]
  },
  {
   "cell_type": "code",
   "execution_count": 25,
   "metadata": {},
   "outputs": [
    {
     "data": {
      "text/html": [
       "<div>\n",
       "<style scoped>\n",
       "    .dataframe tbody tr th:only-of-type {\n",
       "        vertical-align: middle;\n",
       "    }\n",
       "\n",
       "    .dataframe tbody tr th {\n",
       "        vertical-align: top;\n",
       "    }\n",
       "\n",
       "    .dataframe thead th {\n",
       "        text-align: right;\n",
       "    }\n",
       "</style>\n",
       "<table border=\"1\" class=\"dataframe\">\n",
       "  <thead>\n",
       "    <tr style=\"text-align: right;\">\n",
       "      <th></th>\n",
       "      <th>Series1</th>\n",
       "      <th>Series2</th>\n",
       "    </tr>\n",
       "  </thead>\n",
       "  <tbody>\n",
       "    <tr>\n",
       "      <th>a</th>\n",
       "      <td>1.0</td>\n",
       "      <td>3.0</td>\n",
       "    </tr>\n",
       "    <tr>\n",
       "      <th>b</th>\n",
       "      <td>2.0</td>\n",
       "      <td>NaN</td>\n",
       "    </tr>\n",
       "    <tr>\n",
       "      <th>c</th>\n",
       "      <td>NaN</td>\n",
       "      <td>4.0</td>\n",
       "    </tr>\n",
       "  </tbody>\n",
       "</table>\n",
       "</div>"
      ],
      "text/plain": [
       "   Series1  Series2\n",
       "a      1.0      3.0\n",
       "b      2.0      NaN\n",
       "c      NaN      4.0"
      ]
     },
     "metadata": {},
     "output_type": "display_data"
    }
   ],
   "source": [
    "s1 = pd.Series([1,2], index=['a','b'])\n",
    "s2 = pd.Series([3,4], index=['a','c'])\n",
    "data = {'Series1':s1, 'Series2':s2}\n",
    "df = pd.DataFrame(data)\n",
    "display(df) #shows NaN's here (shows index alignment)"
   ]
  },
  {
   "cell_type": "code",
   "execution_count": 27,
   "metadata": {},
   "outputs": [
    {
     "data": {
      "text/plain": [
       "Series1    float64\n",
       "Series2    float64\n",
       "dtype: object"
      ]
     },
     "execution_count": 27,
     "metadata": {},
     "output_type": "execute_result"
    }
   ],
   "source": [
    "df.dtypes #these are floats now because of the NaN's in the df"
   ]
  },
  {
   "cell_type": "markdown",
   "metadata": {},
   "source": [
    "### Getting the index, columns, values and shape"
   ]
  },
  {
   "cell_type": "code",
   "execution_count": 28,
   "metadata": {},
   "outputs": [
    {
     "data": {
      "text/plain": [
       "Index(['a', 'b', 'c'], dtype='object')"
      ]
     },
     "execution_count": 28,
     "metadata": {},
     "output_type": "execute_result"
    }
   ],
   "source": [
    "df.index"
   ]
  },
  {
   "cell_type": "code",
   "execution_count": 29,
   "metadata": {},
   "outputs": [
    {
     "data": {
      "text/plain": [
       "Index(['Series1', 'Series2'], dtype='object')"
      ]
     },
     "execution_count": 29,
     "metadata": {},
     "output_type": "execute_result"
    }
   ],
   "source": [
    "df.columns"
   ]
  },
  {
   "cell_type": "code",
   "execution_count": 30,
   "metadata": {},
   "outputs": [
    {
     "data": {
      "text/plain": [
       "array([[ 1.,  3.],\n",
       "       [ 2., nan],\n",
       "       [nan,  4.]])"
      ]
     },
     "execution_count": 30,
     "metadata": {},
     "output_type": "execute_result"
    }
   ],
   "source": [
    "df.values #these are all attributes of the df object"
   ]
  },
  {
   "cell_type": "code",
   "execution_count": 31,
   "metadata": {},
   "outputs": [
    {
     "data": {
      "text/plain": [
       "(3, 2)"
      ]
     },
     "execution_count": 31,
     "metadata": {},
     "output_type": "execute_result"
    }
   ],
   "source": [
    "df.shape"
   ]
  },
  {
   "cell_type": "markdown",
   "metadata": {},
   "source": [
    "Concept Check\n",
    "-------------\n",
    "-> What is a series object? How is it different to a DataFrame?\n",
    "\n",
    "Series: a 1-d array of indexed data, Dataframe: a 2-d array of indexed data\n",
    "\n",
    "-> How many datatypes can there be for a single series instance?\n",
    "\n",
    "Just one\n",
    "\n",
    "-> What is the data type for a column in a dataframe?\n",
    "\n",
    "It is a series\n",
    "\n",
    "-> Construct a pandas series in two different ways. (Above)\n",
    "\n",
    "-> Construct a pandas dataframe object in two different ways. (Above)\n"
   ]
  },
  {
   "cell_type": "markdown",
   "metadata": {},
   "source": [
    "## Pandas index object\n",
    "\n",
    "The series and the dataframe both have an index\n",
    "\n",
    "Can consider them an immutable list or tuple"
   ]
  },
  {
   "cell_type": "code",
   "execution_count": 34,
   "metadata": {},
   "outputs": [
    {
     "data": {
      "text/plain": [
       "Int64Index([1, 2, 3], dtype='int64')"
      ]
     },
     "execution_count": 34,
     "metadata": {},
     "output_type": "execute_result"
    }
   ],
   "source": [
    "idx = pd.Index([1,2,3])\n",
    "idx"
   ]
  },
  {
   "cell_type": "code",
   "execution_count": 38,
   "metadata": {},
   "outputs": [
    {
     "data": {
      "text/plain": [
       "DatetimeIndex(['2020-01-01', '2020-01-02'], dtype='datetime64[ns]', freq=None)"
      ]
     },
     "execution_count": 38,
     "metadata": {},
     "output_type": "execute_result"
    }
   ],
   "source": [
    "pd.Index([dt.datetime(2020,1,1), dt.datetime(2020,1,2)]) #this will be used for timeseries data"
   ]
  },
  {
   "cell_type": "markdown",
   "metadata": {},
   "source": [
    "## Series - Data indexing and selection\n",
    "---\n",
    "We can index a panda series in different ways: HINT FOR THE TEST\n",
    "- .loc and .iloc accessors: explicit vs. implicit indexing\n",
    "- slicing\n",
    "- boolean indexing\n",
    "\n"
   ]
  },
  {
   "cell_type": "markdown",
   "metadata": {},
   "source": [
    "### Implicit vs Explicit"
   ]
  },
  {
   "cell_type": "code",
   "execution_count": 39,
   "metadata": {},
   "outputs": [
    {
     "data": {
      "text/plain": [
       "1    a\n",
       "2    b\n",
       "3    c\n",
       "4    d\n",
       "dtype: object"
      ]
     },
     "metadata": {},
     "output_type": "display_data"
    }
   ],
   "source": [
    "s = pd.Series(['a','b','c','d'], index=[1,2,3,4])\n",
    "display(s)"
   ]
  },
  {
   "cell_type": "code",
   "execution_count": 40,
   "metadata": {},
   "outputs": [
    {
     "data": {
      "text/plain": [
       "'a'"
      ]
     },
     "execution_count": 40,
     "metadata": {},
     "output_type": "execute_result"
    }
   ],
   "source": [
    "s.loc[1] #explicit indexing using actual labels"
   ]
  },
  {
   "cell_type": "code",
   "execution_count": 41,
   "metadata": {},
   "outputs": [
    {
     "data": {
      "text/plain": [
       "'a'"
      ]
     },
     "execution_count": 41,
     "metadata": {},
     "output_type": "execute_result"
    }
   ],
   "source": [
    "s.iloc[0] #implicit indexing, using the position in the column"
   ]
  },
  {
   "cell_type": "code",
   "execution_count": 42,
   "metadata": {},
   "outputs": [
    {
     "data": {
      "text/plain": [
       "'a'"
      ]
     },
     "execution_count": 42,
     "metadata": {},
     "output_type": "execute_result"
    }
   ],
   "source": [
    "s[1] #unspecified indexing: if index is numeric it uses that, if strings then it uses positional -- not recommended"
   ]
  },
  {
   "cell_type": "markdown",
   "metadata": {},
   "source": [
    "### Slicing"
   ]
  },
  {
   "cell_type": "code",
   "execution_count": 45,
   "metadata": {},
   "outputs": [
    {
     "data": {
      "text/plain": [
       "1    a\n",
       "2    b\n",
       "3    c\n",
       "dtype: object"
      ]
     },
     "execution_count": 45,
     "metadata": {},
     "output_type": "execute_result"
    }
   ],
   "source": [
    "s = pd.Series(['a','b','c','d'], index=[1,2,3,4])\n",
    "s.loc[1:3] #this includes the last index - this is a feature of explicit slicing\n",
    "#this is not the same as slicing for lists and tuples\n",
    "#the reason is clearer when you have an index that is not in alphabetical order \n",
    "#for instance - there may not be a concept of 'before' the stop element of the index so it has to include it"
   ]
  },
  {
   "cell_type": "code",
   "execution_count": 46,
   "metadata": {},
   "outputs": [
    {
     "data": {
      "text/plain": [
       "1    a\n",
       "2    b\n",
       "dtype: object"
      ]
     },
     "execution_count": 46,
     "metadata": {},
     "output_type": "execute_result"
    }
   ],
   "source": [
    "s.iloc[0:2] #this is more consistent with the rest of python"
   ]
  },
  {
   "cell_type": "code",
   "execution_count": 47,
   "metadata": {},
   "outputs": [
    {
     "data": {
      "text/plain": [
       "a    1\n",
       "c    3\n",
       "e    5\n",
       "d    7\n",
       "b    9\n",
       "dtype: int64"
      ]
     },
     "metadata": {},
     "output_type": "display_data"
    }
   ],
   "source": [
    "s = pd.Series([1,3,5,7,9], index=['a','c','e','d','b'])\n",
    "display(s)"
   ]
  },
  {
   "cell_type": "code",
   "execution_count": 48,
   "metadata": {},
   "outputs": [
    {
     "name": "stdout",
     "output_type": "stream",
     "text": [
      "a    1\n",
      "c    3\n",
      "e    5\n",
      "dtype: int64\n",
      "a    1\n",
      "c    3\n",
      "e    5\n",
      "d    7\n",
      "b    9\n",
      "dtype: int64\n"
     ]
    }
   ],
   "source": [
    "print(s['a':'e'])\n",
    "print(s['a':'b']) #this is using explicit, see that it finds the stop index then wi"
   ]
  },
  {
   "cell_type": "markdown",
   "metadata": {},
   "source": [
    "### Boolean Indexing\n"
   ]
  },
  {
   "cell_type": "code",
   "execution_count": 53,
   "metadata": {},
   "outputs": [
    {
     "data": {
      "text/plain": [
       "1    a\n",
       "2    b\n",
       "3    c\n",
       "dtype: object"
      ]
     },
     "execution_count": 53,
     "metadata": {},
     "output_type": "execute_result"
    }
   ],
   "source": [
    "s = pd.Series(['a','b','c','d'], index=[1,2,3,4])\n",
    "mask = [True,True,True,False] #this can be bare long\n",
    "s[mask] #only returns that which is true"
   ]
  },
  {
   "cell_type": "code",
   "execution_count": 55,
   "metadata": {},
   "outputs": [
    {
     "data": {
      "text/plain": [
       "1    1\n",
       "2    2\n",
       "3    3\n",
       "dtype: int64"
      ]
     },
     "execution_count": 55,
     "metadata": {},
     "output_type": "execute_result"
    }
   ],
   "source": [
    "s = pd.Series([1,2,3,4])\n",
    "s <= 3\n",
    "s[s<=3] #quicker way to boolean index"
   ]
  },
  {
   "cell_type": "code",
   "execution_count": 57,
   "metadata": {},
   "outputs": [
    {
     "data": {
      "text/plain": [
       "2    2\n",
       "3    3\n",
       "dtype: int64"
      ]
     },
     "execution_count": 57,
     "metadata": {},
     "output_type": "execute_result"
    }
   ],
   "source": [
    "mask = s.isin([2,3,5]) #isin gives boolean as well\n",
    "s[mask]  #quite nice way to get it done"
   ]
  },
  {
   "cell_type": "markdown",
   "metadata": {},
   "source": [
    "### Assigning values"
   ]
  },
  {
   "cell_type": "code",
   "execution_count": 58,
   "metadata": {},
   "outputs": [
    {
     "data": {
      "text/plain": [
       "0    1\n",
       "1    2\n",
       "2    3\n",
       "3    4\n",
       "dtype: int64"
      ]
     },
     "metadata": {},
     "output_type": "display_data"
    }
   ],
   "source": [
    "s = pd.Series([1,2,3,4])\n",
    "display(s)"
   ]
  },
  {
   "cell_type": "code",
   "execution_count": 59,
   "metadata": {},
   "outputs": [
    {
     "data": {
      "text/plain": [
       "0    88462987436\n",
       "1              2\n",
       "2              3\n",
       "3              4\n",
       "dtype: int64"
      ]
     },
     "metadata": {},
     "output_type": "display_data"
    }
   ],
   "source": [
    "s.iloc[0] = 88462987436\n",
    "display(s)"
   ]
  },
  {
   "cell_type": "code",
   "execution_count": 60,
   "metadata": {},
   "outputs": [
    {
     "data": {
      "text/plain": [
       "0    88462987436\n",
       "1         826487\n",
       "2         826487\n",
       "3              4\n",
       "dtype: int64"
      ]
     },
     "metadata": {},
     "output_type": "display_data"
    }
   ],
   "source": [
    "#assign a value to a slice\n",
    "s.loc[1:2] = 826487\n",
    "display(s)"
   ]
  },
  {
   "cell_type": "code",
   "execution_count": 61,
   "metadata": {},
   "outputs": [
    {
     "data": {
      "text/plain": [
       "0    88462987436\n",
       "1         826487\n",
       "2           2020\n",
       "3           2021\n",
       "dtype: int64"
      ]
     },
     "metadata": {},
     "output_type": "display_data"
    }
   ],
   "source": [
    "#assign mulltiple values to a slice\n",
    "s.iloc[2:4] = [2020,2021] #select the two last elements; stop index not included\n",
    "display(s)"
   ]
  },
  {
   "cell_type": "markdown",
   "metadata": {},
   "source": [
    "\n",
    "Concept Checks\n",
    "--------------\n",
    "-> What are the different ways we can index a series?\n",
    "\n",
    "Implicitly, explicitly, clicing and boolean\n",
    "\n",
    "-> Suppose you a series pd.Series([1,2,3,4], index=['a','b','c','d'])\n",
    "\n",
    "-> Using implicit and explicit indexing, get the second element\n",
    "\n",
    "-> Using explicit indexing, slice the series to get the first three elements\n",
    "\n",
    "-> Using a boolean mask, select the even numbers s[s % 2 == 0]\n"
   ]
  },
  {
   "cell_type": "code",
   "execution_count": 65,
   "metadata": {},
   "outputs": [
    {
     "name": "stdout",
     "output_type": "stream",
     "text": [
      "2\n",
      "2\n",
      "----\n",
      "a    1\n",
      "b    2\n",
      "c    3\n",
      "dtype: int64\n",
      "----\n",
      "b    2\n",
      "d    4\n",
      "dtype: int64\n"
     ]
    }
   ],
   "source": [
    "s = pd.Series([1,2,3,4], index=['a','b','c','d'])\n",
    "print(s.loc['b']) #explicit\n",
    "print(s.iloc[1]) #implicit\n",
    "print('----')\n",
    "print(s.loc['a':'c']) #explicit\n",
    "print('----')\n",
    "mask = s%2 == 0\n",
    "print(s[mask])"
   ]
  },
  {
   "cell_type": "markdown",
   "metadata": {},
   "source": [
    "## Dataframe indexing and selection"
   ]
  },
  {
   "cell_type": "code",
   "execution_count": 4,
   "metadata": {},
   "outputs": [
    {
     "data": {
      "text/html": [
       "<div>\n",
       "<style scoped>\n",
       "    .dataframe tbody tr th:only-of-type {\n",
       "        vertical-align: middle;\n",
       "    }\n",
       "\n",
       "    .dataframe tbody tr th {\n",
       "        vertical-align: top;\n",
       "    }\n",
       "\n",
       "    .dataframe thead th {\n",
       "        text-align: right;\n",
       "    }\n",
       "</style>\n",
       "<table border=\"1\" class=\"dataframe\">\n",
       "  <thead>\n",
       "    <tr style=\"text-align: right;\">\n",
       "      <th></th>\n",
       "      <th>a</th>\n",
       "      <th>b</th>\n",
       "      <th>c</th>\n",
       "    </tr>\n",
       "  </thead>\n",
       "  <tbody>\n",
       "    <tr>\n",
       "      <th>5</th>\n",
       "      <td>a1</td>\n",
       "      <td>b1</td>\n",
       "      <td>c1</td>\n",
       "    </tr>\n",
       "    <tr>\n",
       "      <th>6</th>\n",
       "      <td>a2</td>\n",
       "      <td>b2</td>\n",
       "      <td>c2</td>\n",
       "    </tr>\n",
       "    <tr>\n",
       "      <th>7</th>\n",
       "      <td>a3</td>\n",
       "      <td>b3</td>\n",
       "      <td>c3</td>\n",
       "    </tr>\n",
       "    <tr>\n",
       "      <th>8</th>\n",
       "      <td>a4</td>\n",
       "      <td>b4</td>\n",
       "      <td>c4</td>\n",
       "    </tr>\n",
       "  </tbody>\n",
       "</table>\n",
       "</div>"
      ],
      "text/plain": [
       "    a   b   c\n",
       "5  a1  b1  c1\n",
       "6  a2  b2  c2\n",
       "7  a3  b3  c3\n",
       "8  a4  b4  c4"
      ]
     },
     "metadata": {},
     "output_type": "display_data"
    }
   ],
   "source": [
    "def make_df(cols,rows):\n",
    "    data = {c:[str(c)+str(r) for r in rows] for c in cols}\n",
    "    return pd.DataFrame(data)\n",
    "\n",
    "df = make_df('abc',[1,2,3,4])\n",
    "df.index = [5,6,7,8]\n",
    "display(df)"
   ]
  },
  {
   "cell_type": "markdown",
   "metadata": {},
   "source": [
    "### Implicit and explicit slicing"
   ]
  },
  {
   "cell_type": "code",
   "execution_count": 67,
   "metadata": {},
   "outputs": [
    {
     "data": {
      "text/plain": [
       "'a1'"
      ]
     },
     "execution_count": 67,
     "metadata": {},
     "output_type": "execute_result"
    }
   ],
   "source": [
    "df.iloc[0,0] #first row and first column implicit"
   ]
  },
  {
   "cell_type": "code",
   "execution_count": 68,
   "metadata": {},
   "outputs": [
    {
     "data": {
      "text/plain": [
       "'a1'"
      ]
     },
     "execution_count": 68,
     "metadata": {},
     "output_type": "execute_result"
    }
   ],
   "source": [
    "df.loc[5,'a'] #first row first column explicit"
   ]
  },
  {
   "cell_type": "code",
   "execution_count": 70,
   "metadata": {},
   "outputs": [
    {
     "data": {
      "text/plain": [
       "a    a2\n",
       "b    b2\n",
       "c    c2\n",
       "Name: 6, dtype: object"
      ]
     },
     "execution_count": 70,
     "metadata": {},
     "output_type": "execute_result"
    }
   ],
   "source": [
    "df.iloc[1,:]\n",
    "df.iloc[1] #both work"
   ]
  },
  {
   "cell_type": "code",
   "execution_count": 7,
   "metadata": {},
   "outputs": [
    {
     "data": {
      "text/html": [
       "<div>\n",
       "<style scoped>\n",
       "    .dataframe tbody tr th:only-of-type {\n",
       "        vertical-align: middle;\n",
       "    }\n",
       "\n",
       "    .dataframe tbody tr th {\n",
       "        vertical-align: top;\n",
       "    }\n",
       "\n",
       "    .dataframe thead th {\n",
       "        text-align: right;\n",
       "    }\n",
       "</style>\n",
       "<table border=\"1\" class=\"dataframe\">\n",
       "  <thead>\n",
       "    <tr style=\"text-align: right;\">\n",
       "      <th></th>\n",
       "      <th>a</th>\n",
       "      <th>c</th>\n",
       "    </tr>\n",
       "  </thead>\n",
       "  <tbody>\n",
       "    <tr>\n",
       "      <th>6</th>\n",
       "      <td>a2</td>\n",
       "      <td>c2</td>\n",
       "    </tr>\n",
       "    <tr>\n",
       "      <th>7</th>\n",
       "      <td>a3</td>\n",
       "      <td>c3</td>\n",
       "    </tr>\n",
       "  </tbody>\n",
       "</table>\n",
       "</div>"
      ],
      "text/plain": [
       "    a   c\n",
       "6  a2  c2\n",
       "7  a3  c3"
      ]
     },
     "execution_count": 7,
     "metadata": {},
     "output_type": "execute_result"
    }
   ],
   "source": [
    "df.loc[6:7,['a','c']] #includes the stop index"
   ]
  },
  {
   "cell_type": "code",
   "execution_count": 73,
   "metadata": {},
   "outputs": [
    {
     "data": {
      "text/html": [
       "<div>\n",
       "<style scoped>\n",
       "    .dataframe tbody tr th:only-of-type {\n",
       "        vertical-align: middle;\n",
       "    }\n",
       "\n",
       "    .dataframe tbody tr th {\n",
       "        vertical-align: top;\n",
       "    }\n",
       "\n",
       "    .dataframe thead th {\n",
       "        text-align: right;\n",
       "    }\n",
       "</style>\n",
       "<table border=\"1\" class=\"dataframe\">\n",
       "  <thead>\n",
       "    <tr style=\"text-align: right;\">\n",
       "      <th></th>\n",
       "      <th>a</th>\n",
       "      <th>b</th>\n",
       "      <th>c</th>\n",
       "    </tr>\n",
       "  </thead>\n",
       "  <tbody>\n",
       "    <tr>\n",
       "      <th>6</th>\n",
       "      <td>a2</td>\n",
       "      <td>b2</td>\n",
       "      <td>c2</td>\n",
       "    </tr>\n",
       "    <tr>\n",
       "      <th>7</th>\n",
       "      <td>a3</td>\n",
       "      <td>b3</td>\n",
       "      <td>c3</td>\n",
       "    </tr>\n",
       "  </tbody>\n",
       "</table>\n",
       "</div>"
      ],
      "text/plain": [
       "    a   b   c\n",
       "6  a2  b2  c2\n",
       "7  a3  b3  c3"
      ]
     },
     "execution_count": 73,
     "metadata": {},
     "output_type": "execute_result"
    }
   ],
   "source": [
    "df.iloc[1:3] #doesn't include the stop index"
   ]
  },
  {
   "cell_type": "markdown",
   "metadata": {},
   "source": [
    "### Boolean indexing"
   ]
  },
  {
   "cell_type": "code",
   "execution_count": 74,
   "metadata": {},
   "outputs": [
    {
     "data": {
      "text/html": [
       "<div>\n",
       "<style scoped>\n",
       "    .dataframe tbody tr th:only-of-type {\n",
       "        vertical-align: middle;\n",
       "    }\n",
       "\n",
       "    .dataframe tbody tr th {\n",
       "        vertical-align: top;\n",
       "    }\n",
       "\n",
       "    .dataframe thead th {\n",
       "        text-align: right;\n",
       "    }\n",
       "</style>\n",
       "<table border=\"1\" class=\"dataframe\">\n",
       "  <thead>\n",
       "    <tr style=\"text-align: right;\">\n",
       "      <th></th>\n",
       "      <th>a</th>\n",
       "      <th>b</th>\n",
       "      <th>c</th>\n",
       "    </tr>\n",
       "  </thead>\n",
       "  <tbody>\n",
       "    <tr>\n",
       "      <th>6</th>\n",
       "      <td>a2</td>\n",
       "      <td>b2</td>\n",
       "      <td>c2</td>\n",
       "    </tr>\n",
       "    <tr>\n",
       "      <th>8</th>\n",
       "      <td>a4</td>\n",
       "      <td>b4</td>\n",
       "      <td>c4</td>\n",
       "    </tr>\n",
       "  </tbody>\n",
       "</table>\n",
       "</div>"
      ],
      "text/plain": [
       "    a   b   c\n",
       "6  a2  b2  c2\n",
       "8  a4  b4  c4"
      ]
     },
     "execution_count": 74,
     "metadata": {},
     "output_type": "execute_result"
    }
   ],
   "source": [
    "mask = [False,True,False,True]\n",
    "df[mask]"
   ]
  },
  {
   "cell_type": "markdown",
   "metadata": {},
   "source": [
    "### Column selection"
   ]
  },
  {
   "cell_type": "code",
   "execution_count": 75,
   "metadata": {},
   "outputs": [
    {
     "data": {
      "text/plain": [
       "5    b1\n",
       "6    b2\n",
       "7    b3\n",
       "8    b4\n",
       "Name: b, dtype: object"
      ]
     },
     "execution_count": 75,
     "metadata": {},
     "output_type": "execute_result"
    }
   ],
   "source": [
    "df['b'] #this will pull the whole column as a series"
   ]
  },
  {
   "cell_type": "code",
   "execution_count": 76,
   "metadata": {},
   "outputs": [
    {
     "data": {
      "text/html": [
       "<div>\n",
       "<style scoped>\n",
       "    .dataframe tbody tr th:only-of-type {\n",
       "        vertical-align: middle;\n",
       "    }\n",
       "\n",
       "    .dataframe tbody tr th {\n",
       "        vertical-align: top;\n",
       "    }\n",
       "\n",
       "    .dataframe thead th {\n",
       "        text-align: right;\n",
       "    }\n",
       "</style>\n",
       "<table border=\"1\" class=\"dataframe\">\n",
       "  <thead>\n",
       "    <tr style=\"text-align: right;\">\n",
       "      <th></th>\n",
       "      <th>a</th>\n",
       "      <th>b</th>\n",
       "    </tr>\n",
       "  </thead>\n",
       "  <tbody>\n",
       "    <tr>\n",
       "      <th>5</th>\n",
       "      <td>a1</td>\n",
       "      <td>b1</td>\n",
       "    </tr>\n",
       "    <tr>\n",
       "      <th>6</th>\n",
       "      <td>a2</td>\n",
       "      <td>b2</td>\n",
       "    </tr>\n",
       "    <tr>\n",
       "      <th>7</th>\n",
       "      <td>a3</td>\n",
       "      <td>b3</td>\n",
       "    </tr>\n",
       "    <tr>\n",
       "      <th>8</th>\n",
       "      <td>a4</td>\n",
       "      <td>b4</td>\n",
       "    </tr>\n",
       "  </tbody>\n",
       "</table>\n",
       "</div>"
      ],
      "text/plain": [
       "    a   b\n",
       "5  a1  b1\n",
       "6  a2  b2\n",
       "7  a3  b3\n",
       "8  a4  b4"
      ]
     },
     "execution_count": 76,
     "metadata": {},
     "output_type": "execute_result"
    }
   ],
   "source": [
    "df[['a','b']] #have a list of the columns then subset it\n",
    "#this is still a dataframe object"
   ]
  },
  {
   "cell_type": "markdown",
   "metadata": {},
   "source": [
    "## Element-wise data operations \n",
    "Pandas leverages on NumPy's universal functions (ufuncts) to do element wise operations very fast\n",
    "\n",
    "See https://docs.scipy.org/doc/numpy/reference/ufuncs.html\n"
   ]
  },
  {
   "cell_type": "code",
   "execution_count": 5,
   "metadata": {},
   "outputs": [],
   "source": [
    "def make_df2():\n",
    "    data = np.array(range(10)).reshape(-1,2) #the -1 means any number of rows, 2 means 2 columns\n",
    "    return pd.DataFrame(data, columns=['col1','col2'])"
   ]
  },
  {
   "cell_type": "code",
   "execution_count": 82,
   "metadata": {},
   "outputs": [
    {
     "data": {
      "text/html": [
       "<div>\n",
       "<style scoped>\n",
       "    .dataframe tbody tr th:only-of-type {\n",
       "        vertical-align: middle;\n",
       "    }\n",
       "\n",
       "    .dataframe tbody tr th {\n",
       "        vertical-align: top;\n",
       "    }\n",
       "\n",
       "    .dataframe thead th {\n",
       "        text-align: right;\n",
       "    }\n",
       "</style>\n",
       "<table border=\"1\" class=\"dataframe\">\n",
       "  <thead>\n",
       "    <tr style=\"text-align: right;\">\n",
       "      <th></th>\n",
       "      <th>col1</th>\n",
       "      <th>col2</th>\n",
       "    </tr>\n",
       "  </thead>\n",
       "  <tbody>\n",
       "    <tr>\n",
       "      <th>0</th>\n",
       "      <td>0</td>\n",
       "      <td>1</td>\n",
       "    </tr>\n",
       "    <tr>\n",
       "      <th>1</th>\n",
       "      <td>2</td>\n",
       "      <td>3</td>\n",
       "    </tr>\n",
       "    <tr>\n",
       "      <th>2</th>\n",
       "      <td>4</td>\n",
       "      <td>5</td>\n",
       "    </tr>\n",
       "    <tr>\n",
       "      <th>3</th>\n",
       "      <td>6</td>\n",
       "      <td>7</td>\n",
       "    </tr>\n",
       "    <tr>\n",
       "      <th>4</th>\n",
       "      <td>8</td>\n",
       "      <td>9</td>\n",
       "    </tr>\n",
       "  </tbody>\n",
       "</table>\n",
       "</div>"
      ],
      "text/plain": [
       "   col1  col2\n",
       "0     0     1\n",
       "1     2     3\n",
       "2     4     5\n",
       "3     6     7\n",
       "4     8     9"
      ]
     },
     "metadata": {},
     "output_type": "display_data"
    }
   ],
   "source": [
    "df=make_df2()\n",
    "display(df)"
   ]
  },
  {
   "cell_type": "code",
   "execution_count": 84,
   "metadata": {},
   "outputs": [
    {
     "data": {
      "text/plain": [
       "0    900\n",
       "1    902\n",
       "2    904\n",
       "3    906\n",
       "4    908\n",
       "Name: col1, dtype: int32"
      ]
     },
     "execution_count": 84,
     "metadata": {},
     "output_type": "execute_result"
    }
   ],
   "source": [
    "df['col1'] + 900 #can add a constant"
   ]
  },
  {
   "cell_type": "code",
   "execution_count": 85,
   "metadata": {},
   "outputs": [
    {
     "data": {
      "text/plain": [
       "0     0\n",
       "1     6\n",
       "2    20\n",
       "3    42\n",
       "4    72\n",
       "dtype: int32"
      ]
     },
     "execution_count": 85,
     "metadata": {},
     "output_type": "execute_result"
    }
   ],
   "source": [
    "df['col1']*df['col2'] #can do things with multiple series"
   ]
  },
  {
   "cell_type": "code",
   "execution_count": 86,
   "metadata": {},
   "outputs": [
    {
     "data": {
      "text/plain": [
       "a    NaN\n",
       "b    6.0\n",
       "c    8.0\n",
       "d    NaN\n",
       "dtype: float64"
      ]
     },
     "execution_count": 86,
     "metadata": {},
     "output_type": "execute_result"
    }
   ],
   "source": [
    "s1 = pd.Series([1,2,3], index=['a','b','c'])\n",
    "s2 = pd.Series([4,5,6], index=['b','c','d'])\n",
    "\n",
    "s1+s2"
   ]
  },
  {
   "cell_type": "code",
   "execution_count": 88,
   "metadata": {},
   "outputs": [
    {
     "data": {
      "text/plain": [
       "a    1.0\n",
       "b    6.0\n",
       "c    8.0\n",
       "d    6.0\n",
       "dtype: float64"
      ]
     },
     "execution_count": 88,
     "metadata": {},
     "output_type": "execute_result"
    }
   ],
   "source": [
    "s1.add(s2, fill_value=0) #to escape the NaN's"
   ]
  },
  {
   "cell_type": "code",
   "execution_count": 89,
   "metadata": {},
   "outputs": [
    {
     "data": {
      "text/html": [
       "<div>\n",
       "<style scoped>\n",
       "    .dataframe tbody tr th:only-of-type {\n",
       "        vertical-align: middle;\n",
       "    }\n",
       "\n",
       "    .dataframe tbody tr th {\n",
       "        vertical-align: top;\n",
       "    }\n",
       "\n",
       "    .dataframe thead th {\n",
       "        text-align: right;\n",
       "    }\n",
       "</style>\n",
       "<table border=\"1\" class=\"dataframe\">\n",
       "  <thead>\n",
       "    <tr style=\"text-align: right;\">\n",
       "      <th></th>\n",
       "      <th>col1</th>\n",
       "      <th>col2</th>\n",
       "    </tr>\n",
       "  </thead>\n",
       "  <tbody>\n",
       "    <tr>\n",
       "      <th>0</th>\n",
       "      <td>900</td>\n",
       "      <td>901</td>\n",
       "    </tr>\n",
       "    <tr>\n",
       "      <th>1</th>\n",
       "      <td>902</td>\n",
       "      <td>903</td>\n",
       "    </tr>\n",
       "    <tr>\n",
       "      <th>2</th>\n",
       "      <td>904</td>\n",
       "      <td>905</td>\n",
       "    </tr>\n",
       "    <tr>\n",
       "      <th>3</th>\n",
       "      <td>906</td>\n",
       "      <td>907</td>\n",
       "    </tr>\n",
       "    <tr>\n",
       "      <th>4</th>\n",
       "      <td>908</td>\n",
       "      <td>909</td>\n",
       "    </tr>\n",
       "  </tbody>\n",
       "</table>\n",
       "</div>"
      ],
      "text/plain": [
       "   col1  col2\n",
       "0   900   901\n",
       "1   902   903\n",
       "2   904   905\n",
       "3   906   907\n",
       "4   908   909"
      ]
     },
     "execution_count": 89,
     "metadata": {},
     "output_type": "execute_result"
    }
   ],
   "source": [
    "df + 900"
   ]
  },
  {
   "cell_type": "code",
   "execution_count": 90,
   "metadata": {},
   "outputs": [
    {
     "data": {
      "text/html": [
       "<div>\n",
       "<style scoped>\n",
       "    .dataframe tbody tr th:only-of-type {\n",
       "        vertical-align: middle;\n",
       "    }\n",
       "\n",
       "    .dataframe tbody tr th {\n",
       "        vertical-align: top;\n",
       "    }\n",
       "\n",
       "    .dataframe thead th {\n",
       "        text-align: right;\n",
       "    }\n",
       "</style>\n",
       "<table border=\"1\" class=\"dataframe\">\n",
       "  <thead>\n",
       "    <tr style=\"text-align: right;\">\n",
       "      <th></th>\n",
       "      <th>col1</th>\n",
       "      <th>col2</th>\n",
       "    </tr>\n",
       "  </thead>\n",
       "  <tbody>\n",
       "    <tr>\n",
       "      <th>0</th>\n",
       "      <td>0</td>\n",
       "      <td>2</td>\n",
       "    </tr>\n",
       "    <tr>\n",
       "      <th>1</th>\n",
       "      <td>4</td>\n",
       "      <td>6</td>\n",
       "    </tr>\n",
       "    <tr>\n",
       "      <th>2</th>\n",
       "      <td>8</td>\n",
       "      <td>10</td>\n",
       "    </tr>\n",
       "    <tr>\n",
       "      <th>3</th>\n",
       "      <td>12</td>\n",
       "      <td>14</td>\n",
       "    </tr>\n",
       "    <tr>\n",
       "      <th>4</th>\n",
       "      <td>16</td>\n",
       "      <td>18</td>\n",
       "    </tr>\n",
       "  </tbody>\n",
       "</table>\n",
       "</div>"
      ],
      "text/plain": [
       "   col1  col2\n",
       "0     0     2\n",
       "1     4     6\n",
       "2     8    10\n",
       "3    12    14\n",
       "4    16    18"
      ]
     },
     "execution_count": 90,
     "metadata": {},
     "output_type": "execute_result"
    }
   ],
   "source": [
    "df + df"
   ]
  },
  {
   "cell_type": "code",
   "execution_count": 92,
   "metadata": {},
   "outputs": [
    {
     "data": {
      "text/html": [
       "<div>\n",
       "<style scoped>\n",
       "    .dataframe tbody tr th:only-of-type {\n",
       "        vertical-align: middle;\n",
       "    }\n",
       "\n",
       "    .dataframe tbody tr th {\n",
       "        vertical-align: top;\n",
       "    }\n",
       "\n",
       "    .dataframe thead th {\n",
       "        text-align: right;\n",
       "    }\n",
       "</style>\n",
       "<table border=\"1\" class=\"dataframe\">\n",
       "  <thead>\n",
       "    <tr style=\"text-align: right;\">\n",
       "      <th></th>\n",
       "      <th>col1</th>\n",
       "      <th>col2</th>\n",
       "    </tr>\n",
       "  </thead>\n",
       "  <tbody>\n",
       "    <tr>\n",
       "      <th>0</th>\n",
       "      <td>1</td>\n",
       "      <td>3</td>\n",
       "    </tr>\n",
       "    <tr>\n",
       "      <th>1</th>\n",
       "      <td>3</td>\n",
       "      <td>5</td>\n",
       "    </tr>\n",
       "    <tr>\n",
       "      <th>2</th>\n",
       "      <td>5</td>\n",
       "      <td>7</td>\n",
       "    </tr>\n",
       "    <tr>\n",
       "      <th>3</th>\n",
       "      <td>7</td>\n",
       "      <td>9</td>\n",
       "    </tr>\n",
       "    <tr>\n",
       "      <th>4</th>\n",
       "      <td>9</td>\n",
       "      <td>11</td>\n",
       "    </tr>\n",
       "  </tbody>\n",
       "</table>\n",
       "</div>"
      ],
      "text/plain": [
       "   col1  col2\n",
       "0     1     3\n",
       "1     3     5\n",
       "2     5     7\n",
       "3     7     9\n",
       "4     9    11"
      ]
     },
     "execution_count": 92,
     "metadata": {},
     "output_type": "execute_result"
    }
   ],
   "source": [
    "df + [1,2] #adds 1 to all in col 1 and 2 to all in col 2"
   ]
  },
  {
   "cell_type": "markdown",
   "metadata": {},
   "source": [
    "## .apply() method\n",
    "Applies a function element wise to a series or dataframe"
   ]
  },
  {
   "cell_type": "code",
   "execution_count": 94,
   "metadata": {},
   "outputs": [
    {
     "data": {
      "text/plain": [
       "0     0\n",
       "1     4\n",
       "2    16\n",
       "3    36\n",
       "4    64\n",
       "Name: col1, dtype: int64"
      ]
     },
     "execution_count": 94,
     "metadata": {},
     "output_type": "execute_result"
    }
   ],
   "source": [
    "df['col1'].apply(lambda x: x**2) #if there are no supported ufunc then we can use this, but is slow like a for loop\n",
    "#best used for crazy functions that you want to apply to every row in a df"
   ]
  },
  {
   "cell_type": "code",
   "execution_count": 95,
   "metadata": {},
   "outputs": [
    {
     "data": {
      "text/html": [
       "<div>\n",
       "<style scoped>\n",
       "    .dataframe tbody tr th:only-of-type {\n",
       "        vertical-align: middle;\n",
       "    }\n",
       "\n",
       "    .dataframe tbody tr th {\n",
       "        vertical-align: top;\n",
       "    }\n",
       "\n",
       "    .dataframe thead th {\n",
       "        text-align: right;\n",
       "    }\n",
       "</style>\n",
       "<table border=\"1\" class=\"dataframe\">\n",
       "  <thead>\n",
       "    <tr style=\"text-align: right;\">\n",
       "      <th></th>\n",
       "      <th>col1</th>\n",
       "      <th>col2</th>\n",
       "    </tr>\n",
       "  </thead>\n",
       "  <tbody>\n",
       "    <tr>\n",
       "      <th>0</th>\n",
       "      <td>0</td>\n",
       "      <td>1</td>\n",
       "    </tr>\n",
       "    <tr>\n",
       "      <th>1</th>\n",
       "      <td>8</td>\n",
       "      <td>27</td>\n",
       "    </tr>\n",
       "    <tr>\n",
       "      <th>2</th>\n",
       "      <td>64</td>\n",
       "      <td>125</td>\n",
       "    </tr>\n",
       "    <tr>\n",
       "      <th>3</th>\n",
       "      <td>216</td>\n",
       "      <td>343</td>\n",
       "    </tr>\n",
       "    <tr>\n",
       "      <th>4</th>\n",
       "      <td>512</td>\n",
       "      <td>729</td>\n",
       "    </tr>\n",
       "  </tbody>\n",
       "</table>\n",
       "</div>"
      ],
      "text/plain": [
       "   col1  col2\n",
       "0     0     1\n",
       "1     8    27\n",
       "2    64   125\n",
       "3   216   343\n",
       "4   512   729"
      ]
     },
     "execution_count": 95,
     "metadata": {},
     "output_type": "execute_result"
    }
   ],
   "source": [
    "df.apply(lambda x: x**3)"
   ]
  },
  {
   "cell_type": "code",
   "execution_count": 97,
   "metadata": {},
   "outputs": [
    {
     "data": {
      "text/plain": [
       "0     2\n",
       "1     8\n",
       "2    14\n",
       "3    20\n",
       "4    26\n",
       "dtype: int64"
      ]
     },
     "execution_count": 97,
     "metadata": {},
     "output_type": "execute_result"
    }
   ],
   "source": [
    "#using apply for row by row application\n",
    "#we will do df['col1']+ 2*df['col2']\n",
    "df.apply(lambda row: row['col1'] + 2*row['col2'],axis=1)\n",
    "#apply across rows = 1, columns = 0"
   ]
  },
  {
   "cell_type": "code",
   "execution_count": 98,
   "metadata": {},
   "outputs": [
    {
     "data": {
      "text/plain": [
       "col1    20\n",
       "col2    25\n",
       "dtype: int64"
      ]
     },
     "execution_count": 98,
     "metadata": {},
     "output_type": "execute_result"
    }
   ],
   "source": [
    "df.apply(lambda col: sum(col), axis=0)"
   ]
  },
  {
   "cell_type": "markdown",
   "metadata": {},
   "source": [
    "Concept Check\n",
    "\n",
    "1 -> If you use df.apply(..., axis=0), what is the shape of the output? Suppose df.shape = (10,5) a series, length 5\n",
    "\n",
    "2 -> If you use df.apply(..., axis=1), what is the shape of the output? Suppose df.shape = (10,5) a series, length 10\n",
    "\n",
    "3 -> Use .apply on a series. The input to the function is x. If x is even, return 0. Else, return x.\n",
    "   Eg. pd.Series([1,2,3,4,5]) -> [1,0,3,0,5]\n",
    "\n",
    "4 -> Suppose you had a dataframe df = pd.DataFrame({'currency':['USD','AUD','USD'], 'amount':[100,200,300]})\n",
    "   Use the apply method to get a column with the amounts in GBP.\n",
    "   To go from AUD to GBP, multiply by 1.94.\n",
    "   To go from USD to GBP, multiply by 1.32.\n",
    "\n",
    "5 -> Compare the time it takes to use apply vs a ufunc. Use %timeit.\n"
   ]
  },
  {
   "cell_type": "code",
   "execution_count": 102,
   "metadata": {},
   "outputs": [
    {
     "data": {
      "text/plain": [
       "0    1\n",
       "1    0\n",
       "2    3\n",
       "3    0\n",
       "4    5\n",
       "dtype: int64"
      ]
     },
     "execution_count": 102,
     "metadata": {},
     "output_type": "execute_result"
    }
   ],
   "source": [
    "#q3\n",
    "\n",
    "q3 = pd.Series([1,2,3,4,5]).apply(lambda x: x%2 * x)\n",
    "q3"
   ]
  },
  {
   "cell_type": "code",
   "execution_count": 116,
   "metadata": {},
   "outputs": [
    {
     "data": {
      "text/plain": [
       "0    132.0\n",
       "1    388.0\n",
       "2    396.0\n",
       "dtype: float64"
      ]
     },
     "execution_count": 116,
     "metadata": {},
     "output_type": "execute_result"
    }
   ],
   "source": [
    "## q4\n",
    "df = pd.DataFrame({'currency':['USD','AUD','USD'], 'amount':[100,200,300]})\n",
    "        \n",
    "df.apply(lambda x: x.iloc[1]*1.32 if x.iloc[0]=='USD' else x.iloc[1]*1.94, axis=1)\n"
   ]
  },
  {
   "cell_type": "code",
   "execution_count": 117,
   "metadata": {},
   "outputs": [
    {
     "name": "stdout",
     "output_type": "stream",
     "text": [
      "9.65 ms ± 859 µs per loop (mean ± std. dev. of 7 runs, 100 loops each)\n"
     ]
    }
   ],
   "source": [
    "# q5\n",
    "\n",
    "s=pd.Series(range(10000))\n",
    "%timeit s.apply(lambda x: x*10)\n",
    "    "
   ]
  },
  {
   "cell_type": "code",
   "execution_count": 118,
   "metadata": {},
   "outputs": [
    {
     "name": "stdout",
     "output_type": "stream",
     "text": [
      "358 µs ± 30.1 µs per loop (mean ± std. dev. of 7 runs, 1000 loops each)\n"
     ]
    }
   ],
   "source": [
    "%timeit s*10 #this is like 10/20x faster: use u functs where you can"
   ]
  },
  {
   "cell_type": "code",
   "execution_count": 120,
   "metadata": {},
   "outputs": [
    {
     "name": "stdout",
     "output_type": "stream",
     "text": [
      "3.82 ms ± 249 µs per loop (mean ± std. dev. of 7 runs, 100 loops each)\n"
     ]
    }
   ],
   "source": [
    "%timeit for i in s: i*10"
   ]
  },
  {
   "cell_type": "markdown",
   "metadata": {},
   "source": [
    "## Missing data"
   ]
  },
  {
   "cell_type": "code",
   "execution_count": 121,
   "metadata": {},
   "outputs": [],
   "source": [
    "def make_df3():\n",
    "    data = np.array(range(24)).reshape(-1,3)\n",
    "    df   = pd.DataFrame(data, columns=['col1', 'col2', 'col3'])\n",
    "    df.iloc[0,1] = np.nan\n",
    "    df.iloc[4,1] = np.nan\n",
    "    df.iloc[6,0] = np.nan\n",
    "    return df"
   ]
  },
  {
   "cell_type": "code",
   "execution_count": 134,
   "metadata": {},
   "outputs": [
    {
     "data": {
      "text/html": [
       "<div>\n",
       "<style scoped>\n",
       "    .dataframe tbody tr th:only-of-type {\n",
       "        vertical-align: middle;\n",
       "    }\n",
       "\n",
       "    .dataframe tbody tr th {\n",
       "        vertical-align: top;\n",
       "    }\n",
       "\n",
       "    .dataframe thead th {\n",
       "        text-align: right;\n",
       "    }\n",
       "</style>\n",
       "<table border=\"1\" class=\"dataframe\">\n",
       "  <thead>\n",
       "    <tr style=\"text-align: right;\">\n",
       "      <th></th>\n",
       "      <th>col1</th>\n",
       "      <th>col2</th>\n",
       "      <th>col3</th>\n",
       "    </tr>\n",
       "  </thead>\n",
       "  <tbody>\n",
       "    <tr>\n",
       "      <th>0</th>\n",
       "      <td>0.0</td>\n",
       "      <td>NaN</td>\n",
       "      <td>2</td>\n",
       "    </tr>\n",
       "    <tr>\n",
       "      <th>1</th>\n",
       "      <td>3.0</td>\n",
       "      <td>4.0</td>\n",
       "      <td>5</td>\n",
       "    </tr>\n",
       "    <tr>\n",
       "      <th>2</th>\n",
       "      <td>6.0</td>\n",
       "      <td>7.0</td>\n",
       "      <td>8</td>\n",
       "    </tr>\n",
       "    <tr>\n",
       "      <th>3</th>\n",
       "      <td>9.0</td>\n",
       "      <td>10.0</td>\n",
       "      <td>11</td>\n",
       "    </tr>\n",
       "    <tr>\n",
       "      <th>4</th>\n",
       "      <td>12.0</td>\n",
       "      <td>NaN</td>\n",
       "      <td>14</td>\n",
       "    </tr>\n",
       "    <tr>\n",
       "      <th>5</th>\n",
       "      <td>15.0</td>\n",
       "      <td>16.0</td>\n",
       "      <td>17</td>\n",
       "    </tr>\n",
       "    <tr>\n",
       "      <th>6</th>\n",
       "      <td>NaN</td>\n",
       "      <td>19.0</td>\n",
       "      <td>20</td>\n",
       "    </tr>\n",
       "    <tr>\n",
       "      <th>7</th>\n",
       "      <td>21.0</td>\n",
       "      <td>22.0</td>\n",
       "      <td>23</td>\n",
       "    </tr>\n",
       "  </tbody>\n",
       "</table>\n",
       "</div>"
      ],
      "text/plain": [
       "   col1  col2  col3\n",
       "0   0.0   NaN     2\n",
       "1   3.0   4.0     5\n",
       "2   6.0   7.0     8\n",
       "3   9.0  10.0    11\n",
       "4  12.0   NaN    14\n",
       "5  15.0  16.0    17\n",
       "6   NaN  19.0    20\n",
       "7  21.0  22.0    23"
      ]
     },
     "metadata": {},
     "output_type": "display_data"
    }
   ],
   "source": [
    "df = make_df3()\n",
    "display(df)"
   ]
  },
  {
   "cell_type": "code",
   "execution_count": 124,
   "metadata": {},
   "outputs": [
    {
     "data": {
      "text/html": [
       "<div>\n",
       "<style scoped>\n",
       "    .dataframe tbody tr th:only-of-type {\n",
       "        vertical-align: middle;\n",
       "    }\n",
       "\n",
       "    .dataframe tbody tr th {\n",
       "        vertical-align: top;\n",
       "    }\n",
       "\n",
       "    .dataframe thead th {\n",
       "        text-align: right;\n",
       "    }\n",
       "</style>\n",
       "<table border=\"1\" class=\"dataframe\">\n",
       "  <thead>\n",
       "    <tr style=\"text-align: right;\">\n",
       "      <th></th>\n",
       "      <th>col1</th>\n",
       "      <th>col2</th>\n",
       "      <th>col3</th>\n",
       "    </tr>\n",
       "  </thead>\n",
       "  <tbody>\n",
       "    <tr>\n",
       "      <th>1</th>\n",
       "      <td>3.0</td>\n",
       "      <td>4.0</td>\n",
       "      <td>5</td>\n",
       "    </tr>\n",
       "    <tr>\n",
       "      <th>2</th>\n",
       "      <td>6.0</td>\n",
       "      <td>7.0</td>\n",
       "      <td>8</td>\n",
       "    </tr>\n",
       "    <tr>\n",
       "      <th>3</th>\n",
       "      <td>9.0</td>\n",
       "      <td>10.0</td>\n",
       "      <td>11</td>\n",
       "    </tr>\n",
       "    <tr>\n",
       "      <th>5</th>\n",
       "      <td>15.0</td>\n",
       "      <td>16.0</td>\n",
       "      <td>17</td>\n",
       "    </tr>\n",
       "    <tr>\n",
       "      <th>7</th>\n",
       "      <td>21.0</td>\n",
       "      <td>22.0</td>\n",
       "      <td>23</td>\n",
       "    </tr>\n",
       "  </tbody>\n",
       "</table>\n",
       "</div>"
      ],
      "text/plain": [
       "   col1  col2  col3\n",
       "1   3.0   4.0     5\n",
       "2   6.0   7.0     8\n",
       "3   9.0  10.0    11\n",
       "5  15.0  16.0    17\n",
       "7  21.0  22.0    23"
      ]
     },
     "execution_count": 124,
     "metadata": {},
     "output_type": "execute_result"
    }
   ],
   "source": [
    "df.dropna(axis=0) #this creates a new dataframe df.dropna(axis=0, inplace=True) will change the actual dataframe"
   ]
  },
  {
   "cell_type": "code",
   "execution_count": 125,
   "metadata": {},
   "outputs": [
    {
     "data": {
      "text/html": [
       "<div>\n",
       "<style scoped>\n",
       "    .dataframe tbody tr th:only-of-type {\n",
       "        vertical-align: middle;\n",
       "    }\n",
       "\n",
       "    .dataframe tbody tr th {\n",
       "        vertical-align: top;\n",
       "    }\n",
       "\n",
       "    .dataframe thead th {\n",
       "        text-align: right;\n",
       "    }\n",
       "</style>\n",
       "<table border=\"1\" class=\"dataframe\">\n",
       "  <thead>\n",
       "    <tr style=\"text-align: right;\">\n",
       "      <th></th>\n",
       "      <th>col3</th>\n",
       "    </tr>\n",
       "  </thead>\n",
       "  <tbody>\n",
       "    <tr>\n",
       "      <th>0</th>\n",
       "      <td>2</td>\n",
       "    </tr>\n",
       "    <tr>\n",
       "      <th>1</th>\n",
       "      <td>5</td>\n",
       "    </tr>\n",
       "    <tr>\n",
       "      <th>2</th>\n",
       "      <td>8</td>\n",
       "    </tr>\n",
       "    <tr>\n",
       "      <th>3</th>\n",
       "      <td>11</td>\n",
       "    </tr>\n",
       "    <tr>\n",
       "      <th>4</th>\n",
       "      <td>14</td>\n",
       "    </tr>\n",
       "    <tr>\n",
       "      <th>5</th>\n",
       "      <td>17</td>\n",
       "    </tr>\n",
       "    <tr>\n",
       "      <th>6</th>\n",
       "      <td>20</td>\n",
       "    </tr>\n",
       "    <tr>\n",
       "      <th>7</th>\n",
       "      <td>23</td>\n",
       "    </tr>\n",
       "  </tbody>\n",
       "</table>\n",
       "</div>"
      ],
      "text/plain": [
       "   col3\n",
       "0     2\n",
       "1     5\n",
       "2     8\n",
       "3    11\n",
       "4    14\n",
       "5    17\n",
       "6    20\n",
       "7    23"
      ]
     },
     "execution_count": 125,
     "metadata": {},
     "output_type": "execute_result"
    }
   ],
   "source": [
    "df.dropna(axis=1) #dropped the columns instead - you wont do this really"
   ]
  },
  {
   "cell_type": "code",
   "execution_count": 126,
   "metadata": {},
   "outputs": [
    {
     "data": {
      "text/html": [
       "<div>\n",
       "<style scoped>\n",
       "    .dataframe tbody tr th:only-of-type {\n",
       "        vertical-align: middle;\n",
       "    }\n",
       "\n",
       "    .dataframe tbody tr th {\n",
       "        vertical-align: top;\n",
       "    }\n",
       "\n",
       "    .dataframe thead th {\n",
       "        text-align: right;\n",
       "    }\n",
       "</style>\n",
       "<table border=\"1\" class=\"dataframe\">\n",
       "  <thead>\n",
       "    <tr style=\"text-align: right;\">\n",
       "      <th></th>\n",
       "      <th>col1</th>\n",
       "      <th>col2</th>\n",
       "      <th>col3</th>\n",
       "    </tr>\n",
       "  </thead>\n",
       "  <tbody>\n",
       "    <tr>\n",
       "      <th>0</th>\n",
       "      <td>False</td>\n",
       "      <td>True</td>\n",
       "      <td>False</td>\n",
       "    </tr>\n",
       "    <tr>\n",
       "      <th>1</th>\n",
       "      <td>False</td>\n",
       "      <td>False</td>\n",
       "      <td>False</td>\n",
       "    </tr>\n",
       "    <tr>\n",
       "      <th>2</th>\n",
       "      <td>False</td>\n",
       "      <td>False</td>\n",
       "      <td>False</td>\n",
       "    </tr>\n",
       "    <tr>\n",
       "      <th>3</th>\n",
       "      <td>False</td>\n",
       "      <td>False</td>\n",
       "      <td>False</td>\n",
       "    </tr>\n",
       "    <tr>\n",
       "      <th>4</th>\n",
       "      <td>False</td>\n",
       "      <td>True</td>\n",
       "      <td>False</td>\n",
       "    </tr>\n",
       "    <tr>\n",
       "      <th>5</th>\n",
       "      <td>False</td>\n",
       "      <td>False</td>\n",
       "      <td>False</td>\n",
       "    </tr>\n",
       "    <tr>\n",
       "      <th>6</th>\n",
       "      <td>True</td>\n",
       "      <td>False</td>\n",
       "      <td>False</td>\n",
       "    </tr>\n",
       "    <tr>\n",
       "      <th>7</th>\n",
       "      <td>False</td>\n",
       "      <td>False</td>\n",
       "      <td>False</td>\n",
       "    </tr>\n",
       "  </tbody>\n",
       "</table>\n",
       "</div>"
      ],
      "text/plain": [
       "    col1   col2   col3\n",
       "0  False   True  False\n",
       "1  False  False  False\n",
       "2  False  False  False\n",
       "3  False  False  False\n",
       "4  False   True  False\n",
       "5  False  False  False\n",
       "6   True  False  False\n",
       "7  False  False  False"
      ]
     },
     "execution_count": 126,
     "metadata": {},
     "output_type": "execute_result"
    }
   ],
   "source": [
    "df.isnull() #booleans with True indicating NaN's"
   ]
  },
  {
   "cell_type": "code",
   "execution_count": 139,
   "metadata": {},
   "outputs": [
    {
     "data": {
      "text/html": [
       "<div>\n",
       "<style scoped>\n",
       "    .dataframe tbody tr th:only-of-type {\n",
       "        vertical-align: middle;\n",
       "    }\n",
       "\n",
       "    .dataframe tbody tr th {\n",
       "        vertical-align: top;\n",
       "    }\n",
       "\n",
       "    .dataframe thead th {\n",
       "        text-align: right;\n",
       "    }\n",
       "</style>\n",
       "<table border=\"1\" class=\"dataframe\">\n",
       "  <thead>\n",
       "    <tr style=\"text-align: right;\">\n",
       "      <th></th>\n",
       "      <th>col1</th>\n",
       "      <th>col2</th>\n",
       "      <th>col3</th>\n",
       "    </tr>\n",
       "  </thead>\n",
       "  <tbody>\n",
       "    <tr>\n",
       "      <th>0</th>\n",
       "      <td>0.0</td>\n",
       "      <td>NaN</td>\n",
       "      <td>2</td>\n",
       "    </tr>\n",
       "    <tr>\n",
       "      <th>1</th>\n",
       "      <td>3.0</td>\n",
       "      <td>4.0</td>\n",
       "      <td>5</td>\n",
       "    </tr>\n",
       "    <tr>\n",
       "      <th>2</th>\n",
       "      <td>6.0</td>\n",
       "      <td>7.0</td>\n",
       "      <td>8</td>\n",
       "    </tr>\n",
       "    <tr>\n",
       "      <th>3</th>\n",
       "      <td>9.0</td>\n",
       "      <td>10.0</td>\n",
       "      <td>11</td>\n",
       "    </tr>\n",
       "    <tr>\n",
       "      <th>4</th>\n",
       "      <td>12.0</td>\n",
       "      <td>NaN</td>\n",
       "      <td>14</td>\n",
       "    </tr>\n",
       "    <tr>\n",
       "      <th>5</th>\n",
       "      <td>15.0</td>\n",
       "      <td>16.0</td>\n",
       "      <td>17</td>\n",
       "    </tr>\n",
       "    <tr>\n",
       "      <th>6</th>\n",
       "      <td>9484.0</td>\n",
       "      <td>19.0</td>\n",
       "      <td>20</td>\n",
       "    </tr>\n",
       "    <tr>\n",
       "      <th>7</th>\n",
       "      <td>21.0</td>\n",
       "      <td>22.0</td>\n",
       "      <td>23</td>\n",
       "    </tr>\n",
       "  </tbody>\n",
       "</table>\n",
       "</div>"
      ],
      "text/plain": [
       "     col1  col2  col3\n",
       "0     0.0   NaN     2\n",
       "1     3.0   4.0     5\n",
       "2     6.0   7.0     8\n",
       "3     9.0  10.0    11\n",
       "4    12.0   NaN    14\n",
       "5    15.0  16.0    17\n",
       "6  9484.0  19.0    20\n",
       "7    21.0  22.0    23"
      ]
     },
     "metadata": {},
     "output_type": "display_data"
    }
   ],
   "source": [
    "mask = df['col1'].isnull()\n",
    "df.loc[mask,'col1'] = 9484\n",
    "display(df)"
   ]
  },
  {
   "cell_type": "code",
   "execution_count": 140,
   "metadata": {},
   "outputs": [
    {
     "data": {
      "text/html": [
       "<div>\n",
       "<style scoped>\n",
       "    .dataframe tbody tr th:only-of-type {\n",
       "        vertical-align: middle;\n",
       "    }\n",
       "\n",
       "    .dataframe tbody tr th {\n",
       "        vertical-align: top;\n",
       "    }\n",
       "\n",
       "    .dataframe thead th {\n",
       "        text-align: right;\n",
       "    }\n",
       "</style>\n",
       "<table border=\"1\" class=\"dataframe\">\n",
       "  <thead>\n",
       "    <tr style=\"text-align: right;\">\n",
       "      <th></th>\n",
       "      <th>col1</th>\n",
       "      <th>col2</th>\n",
       "      <th>col3</th>\n",
       "    </tr>\n",
       "  </thead>\n",
       "  <tbody>\n",
       "    <tr>\n",
       "      <th>0</th>\n",
       "      <td>0.0</td>\n",
       "      <td>456.0</td>\n",
       "      <td>2</td>\n",
       "    </tr>\n",
       "    <tr>\n",
       "      <th>1</th>\n",
       "      <td>3.0</td>\n",
       "      <td>4.0</td>\n",
       "      <td>5</td>\n",
       "    </tr>\n",
       "    <tr>\n",
       "      <th>2</th>\n",
       "      <td>6.0</td>\n",
       "      <td>7.0</td>\n",
       "      <td>8</td>\n",
       "    </tr>\n",
       "    <tr>\n",
       "      <th>3</th>\n",
       "      <td>9.0</td>\n",
       "      <td>10.0</td>\n",
       "      <td>11</td>\n",
       "    </tr>\n",
       "    <tr>\n",
       "      <th>4</th>\n",
       "      <td>12.0</td>\n",
       "      <td>456.0</td>\n",
       "      <td>14</td>\n",
       "    </tr>\n",
       "    <tr>\n",
       "      <th>5</th>\n",
       "      <td>15.0</td>\n",
       "      <td>16.0</td>\n",
       "      <td>17</td>\n",
       "    </tr>\n",
       "    <tr>\n",
       "      <th>6</th>\n",
       "      <td>123.0</td>\n",
       "      <td>19.0</td>\n",
       "      <td>20</td>\n",
       "    </tr>\n",
       "    <tr>\n",
       "      <th>7</th>\n",
       "      <td>21.0</td>\n",
       "      <td>22.0</td>\n",
       "      <td>23</td>\n",
       "    </tr>\n",
       "  </tbody>\n",
       "</table>\n",
       "</div>"
      ],
      "text/plain": [
       "    col1   col2  col3\n",
       "0    0.0  456.0     2\n",
       "1    3.0    4.0     5\n",
       "2    6.0    7.0     8\n",
       "3    9.0   10.0    11\n",
       "4   12.0  456.0    14\n",
       "5   15.0   16.0    17\n",
       "6  123.0   19.0    20\n",
       "7   21.0   22.0    23"
      ]
     },
     "execution_count": 140,
     "metadata": {},
     "output_type": "execute_result"
    }
   ],
   "source": [
    "df=make_df3()\n",
    "df.fillna({'col1':123, 'col2':456})"
   ]
  },
  {
   "cell_type": "code",
   "execution_count": 141,
   "metadata": {},
   "outputs": [
    {
     "data": {
      "text/html": [
       "<div>\n",
       "<style scoped>\n",
       "    .dataframe tbody tr th:only-of-type {\n",
       "        vertical-align: middle;\n",
       "    }\n",
       "\n",
       "    .dataframe tbody tr th {\n",
       "        vertical-align: top;\n",
       "    }\n",
       "\n",
       "    .dataframe thead th {\n",
       "        text-align: right;\n",
       "    }\n",
       "</style>\n",
       "<table border=\"1\" class=\"dataframe\">\n",
       "  <thead>\n",
       "    <tr style=\"text-align: right;\">\n",
       "      <th></th>\n",
       "      <th>col1</th>\n",
       "      <th>col2</th>\n",
       "      <th>col3</th>\n",
       "    </tr>\n",
       "  </thead>\n",
       "  <tbody>\n",
       "    <tr>\n",
       "      <th>0</th>\n",
       "      <td>0.0</td>\n",
       "      <td>NaN</td>\n",
       "      <td>2</td>\n",
       "    </tr>\n",
       "    <tr>\n",
       "      <th>1</th>\n",
       "      <td>3.0</td>\n",
       "      <td>4.0</td>\n",
       "      <td>5</td>\n",
       "    </tr>\n",
       "    <tr>\n",
       "      <th>2</th>\n",
       "      <td>6.0</td>\n",
       "      <td>7.0</td>\n",
       "      <td>8</td>\n",
       "    </tr>\n",
       "    <tr>\n",
       "      <th>3</th>\n",
       "      <td>9.0</td>\n",
       "      <td>10.0</td>\n",
       "      <td>11</td>\n",
       "    </tr>\n",
       "    <tr>\n",
       "      <th>4</th>\n",
       "      <td>12.0</td>\n",
       "      <td>10.0</td>\n",
       "      <td>14</td>\n",
       "    </tr>\n",
       "    <tr>\n",
       "      <th>5</th>\n",
       "      <td>15.0</td>\n",
       "      <td>16.0</td>\n",
       "      <td>17</td>\n",
       "    </tr>\n",
       "    <tr>\n",
       "      <th>6</th>\n",
       "      <td>15.0</td>\n",
       "      <td>19.0</td>\n",
       "      <td>20</td>\n",
       "    </tr>\n",
       "    <tr>\n",
       "      <th>7</th>\n",
       "      <td>21.0</td>\n",
       "      <td>22.0</td>\n",
       "      <td>23</td>\n",
       "    </tr>\n",
       "  </tbody>\n",
       "</table>\n",
       "</div>"
      ],
      "text/plain": [
       "   col1  col2  col3\n",
       "0   0.0   NaN     2\n",
       "1   3.0   4.0     5\n",
       "2   6.0   7.0     8\n",
       "3   9.0  10.0    11\n",
       "4  12.0  10.0    14\n",
       "5  15.0  16.0    17\n",
       "6  15.0  19.0    20\n",
       "7  21.0  22.0    23"
      ]
     },
     "execution_count": 141,
     "metadata": {},
     "output_type": "execute_result"
    }
   ],
   "source": [
    "df.fillna(method='ffill')"
   ]
  },
  {
   "cell_type": "code",
   "execution_count": 142,
   "metadata": {},
   "outputs": [
    {
     "data": {
      "text/html": [
       "<div>\n",
       "<style scoped>\n",
       "    .dataframe tbody tr th:only-of-type {\n",
       "        vertical-align: middle;\n",
       "    }\n",
       "\n",
       "    .dataframe tbody tr th {\n",
       "        vertical-align: top;\n",
       "    }\n",
       "\n",
       "    .dataframe thead th {\n",
       "        text-align: right;\n",
       "    }\n",
       "</style>\n",
       "<table border=\"1\" class=\"dataframe\">\n",
       "  <thead>\n",
       "    <tr style=\"text-align: right;\">\n",
       "      <th></th>\n",
       "      <th>col1</th>\n",
       "      <th>col2</th>\n",
       "      <th>col3</th>\n",
       "    </tr>\n",
       "  </thead>\n",
       "  <tbody>\n",
       "    <tr>\n",
       "      <th>0</th>\n",
       "      <td>0.0</td>\n",
       "      <td>4.0</td>\n",
       "      <td>2</td>\n",
       "    </tr>\n",
       "    <tr>\n",
       "      <th>1</th>\n",
       "      <td>3.0</td>\n",
       "      <td>4.0</td>\n",
       "      <td>5</td>\n",
       "    </tr>\n",
       "    <tr>\n",
       "      <th>2</th>\n",
       "      <td>6.0</td>\n",
       "      <td>7.0</td>\n",
       "      <td>8</td>\n",
       "    </tr>\n",
       "    <tr>\n",
       "      <th>3</th>\n",
       "      <td>9.0</td>\n",
       "      <td>10.0</td>\n",
       "      <td>11</td>\n",
       "    </tr>\n",
       "    <tr>\n",
       "      <th>4</th>\n",
       "      <td>12.0</td>\n",
       "      <td>16.0</td>\n",
       "      <td>14</td>\n",
       "    </tr>\n",
       "    <tr>\n",
       "      <th>5</th>\n",
       "      <td>15.0</td>\n",
       "      <td>16.0</td>\n",
       "      <td>17</td>\n",
       "    </tr>\n",
       "    <tr>\n",
       "      <th>6</th>\n",
       "      <td>21.0</td>\n",
       "      <td>19.0</td>\n",
       "      <td>20</td>\n",
       "    </tr>\n",
       "    <tr>\n",
       "      <th>7</th>\n",
       "      <td>21.0</td>\n",
       "      <td>22.0</td>\n",
       "      <td>23</td>\n",
       "    </tr>\n",
       "  </tbody>\n",
       "</table>\n",
       "</div>"
      ],
      "text/plain": [
       "   col1  col2  col3\n",
       "0   0.0   4.0     2\n",
       "1   3.0   4.0     5\n",
       "2   6.0   7.0     8\n",
       "3   9.0  10.0    11\n",
       "4  12.0  16.0    14\n",
       "5  15.0  16.0    17\n",
       "6  21.0  19.0    20\n",
       "7  21.0  22.0    23"
      ]
     },
     "execution_count": 142,
     "metadata": {},
     "output_type": "execute_result"
    }
   ],
   "source": [
    "df.fillna(method='bfill')"
   ]
  },
  {
   "cell_type": "code",
   "execution_count": 143,
   "metadata": {},
   "outputs": [
    {
     "data": {
      "text/html": [
       "<div>\n",
       "<style scoped>\n",
       "    .dataframe tbody tr th:only-of-type {\n",
       "        vertical-align: middle;\n",
       "    }\n",
       "\n",
       "    .dataframe tbody tr th {\n",
       "        vertical-align: top;\n",
       "    }\n",
       "\n",
       "    .dataframe thead th {\n",
       "        text-align: right;\n",
       "    }\n",
       "</style>\n",
       "<table border=\"1\" class=\"dataframe\">\n",
       "  <thead>\n",
       "    <tr style=\"text-align: right;\">\n",
       "      <th></th>\n",
       "      <th>col1</th>\n",
       "      <th>col2</th>\n",
       "      <th>col3</th>\n",
       "    </tr>\n",
       "  </thead>\n",
       "  <tbody>\n",
       "    <tr>\n",
       "      <th>0</th>\n",
       "      <td>0.0</td>\n",
       "      <td>NaN</td>\n",
       "      <td>2</td>\n",
       "    </tr>\n",
       "    <tr>\n",
       "      <th>1</th>\n",
       "      <td>3.0</td>\n",
       "      <td>4.0</td>\n",
       "      <td>5</td>\n",
       "    </tr>\n",
       "    <tr>\n",
       "      <th>2</th>\n",
       "      <td>6.0</td>\n",
       "      <td>7.0</td>\n",
       "      <td>8</td>\n",
       "    </tr>\n",
       "    <tr>\n",
       "      <th>3</th>\n",
       "      <td>9.0</td>\n",
       "      <td>10.0</td>\n",
       "      <td>11</td>\n",
       "    </tr>\n",
       "    <tr>\n",
       "      <th>4</th>\n",
       "      <td>12.0</td>\n",
       "      <td>NaN</td>\n",
       "      <td>14</td>\n",
       "    </tr>\n",
       "    <tr>\n",
       "      <th>5</th>\n",
       "      <td>15.0</td>\n",
       "      <td>16.0</td>\n",
       "      <td>17</td>\n",
       "    </tr>\n",
       "    <tr>\n",
       "      <th>6</th>\n",
       "      <td>NaN</td>\n",
       "      <td>19.0</td>\n",
       "      <td>20</td>\n",
       "    </tr>\n",
       "    <tr>\n",
       "      <th>7</th>\n",
       "      <td>21.0</td>\n",
       "      <td>22.0</td>\n",
       "      <td>23</td>\n",
       "    </tr>\n",
       "  </tbody>\n",
       "</table>\n",
       "</div>"
      ],
      "text/plain": [
       "   col1  col2  col3\n",
       "0   0.0   NaN     2\n",
       "1   3.0   4.0     5\n",
       "2   6.0   7.0     8\n",
       "3   9.0  10.0    11\n",
       "4  12.0   NaN    14\n",
       "5  15.0  16.0    17\n",
       "6   NaN  19.0    20\n",
       "7  21.0  22.0    23"
      ]
     },
     "execution_count": 143,
     "metadata": {},
     "output_type": "execute_result"
    }
   ],
   "source": [
    "df"
   ]
  },
  {
   "cell_type": "code",
   "execution_count": 144,
   "metadata": {},
   "outputs": [
    {
     "data": {
      "text/html": [
       "<div>\n",
       "<style scoped>\n",
       "    .dataframe tbody tr th:only-of-type {\n",
       "        vertical-align: middle;\n",
       "    }\n",
       "\n",
       "    .dataframe tbody tr th {\n",
       "        vertical-align: top;\n",
       "    }\n",
       "\n",
       "    .dataframe thead th {\n",
       "        text-align: right;\n",
       "    }\n",
       "</style>\n",
       "<table border=\"1\" class=\"dataframe\">\n",
       "  <thead>\n",
       "    <tr style=\"text-align: right;\">\n",
       "      <th></th>\n",
       "      <th>col1</th>\n",
       "      <th>col2</th>\n",
       "      <th>col3</th>\n",
       "    </tr>\n",
       "  </thead>\n",
       "  <tbody>\n",
       "    <tr>\n",
       "      <th>0</th>\n",
       "      <td>0.000000</td>\n",
       "      <td>13.0</td>\n",
       "      <td>2</td>\n",
       "    </tr>\n",
       "    <tr>\n",
       "      <th>1</th>\n",
       "      <td>3.000000</td>\n",
       "      <td>4.0</td>\n",
       "      <td>5</td>\n",
       "    </tr>\n",
       "    <tr>\n",
       "      <th>2</th>\n",
       "      <td>6.000000</td>\n",
       "      <td>7.0</td>\n",
       "      <td>8</td>\n",
       "    </tr>\n",
       "    <tr>\n",
       "      <th>3</th>\n",
       "      <td>9.000000</td>\n",
       "      <td>10.0</td>\n",
       "      <td>11</td>\n",
       "    </tr>\n",
       "    <tr>\n",
       "      <th>4</th>\n",
       "      <td>12.000000</td>\n",
       "      <td>13.0</td>\n",
       "      <td>14</td>\n",
       "    </tr>\n",
       "    <tr>\n",
       "      <th>5</th>\n",
       "      <td>15.000000</td>\n",
       "      <td>16.0</td>\n",
       "      <td>17</td>\n",
       "    </tr>\n",
       "    <tr>\n",
       "      <th>6</th>\n",
       "      <td>9.428571</td>\n",
       "      <td>19.0</td>\n",
       "      <td>20</td>\n",
       "    </tr>\n",
       "    <tr>\n",
       "      <th>7</th>\n",
       "      <td>21.000000</td>\n",
       "      <td>22.0</td>\n",
       "      <td>23</td>\n",
       "    </tr>\n",
       "  </tbody>\n",
       "</table>\n",
       "</div>"
      ],
      "text/plain": [
       "        col1  col2  col3\n",
       "0   0.000000  13.0     2\n",
       "1   3.000000   4.0     5\n",
       "2   6.000000   7.0     8\n",
       "3   9.000000  10.0    11\n",
       "4  12.000000  13.0    14\n",
       "5  15.000000  16.0    17\n",
       "6   9.428571  19.0    20\n",
       "7  21.000000  22.0    23"
      ]
     },
     "execution_count": 144,
     "metadata": {},
     "output_type": "execute_result"
    }
   ],
   "source": [
    "df.fillna(df.mean()) #impute the mean of a column"
   ]
  },
  {
   "cell_type": "code",
   "execution_count": 145,
   "metadata": {},
   "outputs": [
    {
     "data": {
      "text/html": [
       "<div>\n",
       "<style scoped>\n",
       "    .dataframe tbody tr th:only-of-type {\n",
       "        vertical-align: middle;\n",
       "    }\n",
       "\n",
       "    .dataframe tbody tr th {\n",
       "        vertical-align: top;\n",
       "    }\n",
       "\n",
       "    .dataframe thead th {\n",
       "        text-align: right;\n",
       "    }\n",
       "</style>\n",
       "<table border=\"1\" class=\"dataframe\">\n",
       "  <thead>\n",
       "    <tr style=\"text-align: right;\">\n",
       "      <th></th>\n",
       "      <th>col1</th>\n",
       "      <th>col2</th>\n",
       "      <th>col3</th>\n",
       "    </tr>\n",
       "  </thead>\n",
       "  <tbody>\n",
       "    <tr>\n",
       "      <th>0</th>\n",
       "      <td>0.0</td>\n",
       "      <td>NaN</td>\n",
       "      <td>2</td>\n",
       "    </tr>\n",
       "    <tr>\n",
       "      <th>1</th>\n",
       "      <td>3.0</td>\n",
       "      <td>4.0</td>\n",
       "      <td>5</td>\n",
       "    </tr>\n",
       "    <tr>\n",
       "      <th>2</th>\n",
       "      <td>6.0</td>\n",
       "      <td>7.0</td>\n",
       "      <td>8</td>\n",
       "    </tr>\n",
       "    <tr>\n",
       "      <th>3</th>\n",
       "      <td>9.0</td>\n",
       "      <td>10.0</td>\n",
       "      <td>11</td>\n",
       "    </tr>\n",
       "    <tr>\n",
       "      <th>4</th>\n",
       "      <td>12.0</td>\n",
       "      <td>13.0</td>\n",
       "      <td>14</td>\n",
       "    </tr>\n",
       "    <tr>\n",
       "      <th>5</th>\n",
       "      <td>15.0</td>\n",
       "      <td>16.0</td>\n",
       "      <td>17</td>\n",
       "    </tr>\n",
       "    <tr>\n",
       "      <th>6</th>\n",
       "      <td>18.0</td>\n",
       "      <td>19.0</td>\n",
       "      <td>20</td>\n",
       "    </tr>\n",
       "    <tr>\n",
       "      <th>7</th>\n",
       "      <td>21.0</td>\n",
       "      <td>22.0</td>\n",
       "      <td>23</td>\n",
       "    </tr>\n",
       "  </tbody>\n",
       "</table>\n",
       "</div>"
      ],
      "text/plain": [
       "   col1  col2  col3\n",
       "0   0.0   NaN     2\n",
       "1   3.0   4.0     5\n",
       "2   6.0   7.0     8\n",
       "3   9.0  10.0    11\n",
       "4  12.0  13.0    14\n",
       "5  15.0  16.0    17\n",
       "6  18.0  19.0    20\n",
       "7  21.0  22.0    23"
      ]
     },
     "execution_count": 145,
     "metadata": {},
     "output_type": "execute_result"
    }
   ],
   "source": [
    "df.fillna(df.interpolate()) #interpolate the missing values"
   ]
  },
  {
   "cell_type": "code",
   "execution_count": 146,
   "metadata": {},
   "outputs": [
    {
     "data": {
      "text/plain": [
       "0      1.000000\n",
       "1    167.333333\n",
       "2    333.666667\n",
       "3    500.000000\n",
       "dtype: float64"
      ]
     },
     "execution_count": 146,
     "metadata": {},
     "output_type": "execute_result"
    }
   ],
   "source": [
    "pd.Series([1,np.nan,np.nan,500]).interpolate() #it will work regardless of the amount of missing values but will always do linear"
   ]
  },
  {
   "cell_type": "markdown",
   "metadata": {},
   "source": [
    "## Combining dataframes\n"
   ]
  },
  {
   "cell_type": "markdown",
   "metadata": {},
   "source": [
    "### Concatenate and append"
   ]
  },
  {
   "cell_type": "code",
   "execution_count": 147,
   "metadata": {},
   "outputs": [
    {
     "name": "stdout",
     "output_type": "stream",
     "text": [
      "   a  b\n",
      "0  1  2\n",
      "1  3  4\n",
      "   a  b\n",
      "0  5  6\n",
      "1  7  8\n"
     ]
    }
   ],
   "source": [
    "df1 = pd.DataFrame([[1,2],[3,4]], columns=['a','b'])\n",
    "df2 = pd.DataFrame([[5,6],[7,8]], columns=['a','b'])\n",
    "\n",
    "print(df1)\n",
    "print(df2)"
   ]
  },
  {
   "cell_type": "code",
   "execution_count": 148,
   "metadata": {},
   "outputs": [
    {
     "data": {
      "text/html": [
       "<div>\n",
       "<style scoped>\n",
       "    .dataframe tbody tr th:only-of-type {\n",
       "        vertical-align: middle;\n",
       "    }\n",
       "\n",
       "    .dataframe tbody tr th {\n",
       "        vertical-align: top;\n",
       "    }\n",
       "\n",
       "    .dataframe thead th {\n",
       "        text-align: right;\n",
       "    }\n",
       "</style>\n",
       "<table border=\"1\" class=\"dataframe\">\n",
       "  <thead>\n",
       "    <tr style=\"text-align: right;\">\n",
       "      <th></th>\n",
       "      <th>a</th>\n",
       "      <th>b</th>\n",
       "    </tr>\n",
       "  </thead>\n",
       "  <tbody>\n",
       "    <tr>\n",
       "      <th>0</th>\n",
       "      <td>1</td>\n",
       "      <td>2</td>\n",
       "    </tr>\n",
       "    <tr>\n",
       "      <th>1</th>\n",
       "      <td>3</td>\n",
       "      <td>4</td>\n",
       "    </tr>\n",
       "    <tr>\n",
       "      <th>0</th>\n",
       "      <td>5</td>\n",
       "      <td>6</td>\n",
       "    </tr>\n",
       "    <tr>\n",
       "      <th>1</th>\n",
       "      <td>7</td>\n",
       "      <td>8</td>\n",
       "    </tr>\n",
       "  </tbody>\n",
       "</table>\n",
       "</div>"
      ],
      "text/plain": [
       "   a  b\n",
       "0  1  2\n",
       "1  3  4\n",
       "0  5  6\n",
       "1  7  8"
      ]
     },
     "execution_count": 148,
     "metadata": {},
     "output_type": "execute_result"
    }
   ],
   "source": [
    "pd.concat([df1,df2], axis=0) #but the index is not unique anymore"
   ]
  },
  {
   "cell_type": "code",
   "execution_count": 149,
   "metadata": {},
   "outputs": [
    {
     "data": {
      "text/html": [
       "<div>\n",
       "<style scoped>\n",
       "    .dataframe tbody tr th:only-of-type {\n",
       "        vertical-align: middle;\n",
       "    }\n",
       "\n",
       "    .dataframe tbody tr th {\n",
       "        vertical-align: top;\n",
       "    }\n",
       "\n",
       "    .dataframe thead th {\n",
       "        text-align: right;\n",
       "    }\n",
       "</style>\n",
       "<table border=\"1\" class=\"dataframe\">\n",
       "  <thead>\n",
       "    <tr style=\"text-align: right;\">\n",
       "      <th></th>\n",
       "      <th>a</th>\n",
       "      <th>b</th>\n",
       "      <th>a</th>\n",
       "      <th>b</th>\n",
       "    </tr>\n",
       "  </thead>\n",
       "  <tbody>\n",
       "    <tr>\n",
       "      <th>0</th>\n",
       "      <td>1</td>\n",
       "      <td>2</td>\n",
       "      <td>5</td>\n",
       "      <td>6</td>\n",
       "    </tr>\n",
       "    <tr>\n",
       "      <th>1</th>\n",
       "      <td>3</td>\n",
       "      <td>4</td>\n",
       "      <td>7</td>\n",
       "      <td>8</td>\n",
       "    </tr>\n",
       "  </tbody>\n",
       "</table>\n",
       "</div>"
      ],
      "text/plain": [
       "   a  b  a  b\n",
       "0  1  2  5  6\n",
       "1  3  4  7  8"
      ]
     },
     "execution_count": 149,
     "metadata": {},
     "output_type": "execute_result"
    }
   ],
   "source": [
    "pd.concat([df1,df2], axis=1) "
   ]
  },
  {
   "cell_type": "code",
   "execution_count": 152,
   "metadata": {},
   "outputs": [
    {
     "data": {
      "text/html": [
       "<div>\n",
       "<style scoped>\n",
       "    .dataframe tbody tr th:only-of-type {\n",
       "        vertical-align: middle;\n",
       "    }\n",
       "\n",
       "    .dataframe tbody tr th {\n",
       "        vertical-align: top;\n",
       "    }\n",
       "\n",
       "    .dataframe thead th {\n",
       "        text-align: right;\n",
       "    }\n",
       "</style>\n",
       "<table border=\"1\" class=\"dataframe\">\n",
       "  <thead>\n",
       "    <tr style=\"text-align: right;\">\n",
       "      <th></th>\n",
       "      <th>a</th>\n",
       "      <th>b</th>\n",
       "      <th>c</th>\n",
       "    </tr>\n",
       "  </thead>\n",
       "  <tbody>\n",
       "    <tr>\n",
       "      <th>0</th>\n",
       "      <td>1.0</td>\n",
       "      <td>2</td>\n",
       "      <td>NaN</td>\n",
       "    </tr>\n",
       "    <tr>\n",
       "      <th>1</th>\n",
       "      <td>3.0</td>\n",
       "      <td>4</td>\n",
       "      <td>NaN</td>\n",
       "    </tr>\n",
       "    <tr>\n",
       "      <th>0</th>\n",
       "      <td>NaN</td>\n",
       "      <td>6</td>\n",
       "      <td>5.0</td>\n",
       "    </tr>\n",
       "    <tr>\n",
       "      <th>1</th>\n",
       "      <td>NaN</td>\n",
       "      <td>8</td>\n",
       "      <td>7.0</td>\n",
       "    </tr>\n",
       "  </tbody>\n",
       "</table>\n",
       "</div>"
      ],
      "text/plain": [
       "     a  b    c\n",
       "0  1.0  2  NaN\n",
       "1  3.0  4  NaN\n",
       "0  NaN  6  5.0\n",
       "1  NaN  8  7.0"
      ]
     },
     "execution_count": 152,
     "metadata": {},
     "output_type": "execute_result"
    }
   ],
   "source": [
    "df1 = pd.DataFrame([[1,2],[3,4]], columns=['a','b'])\n",
    "df2 = pd.DataFrame([[5,6],[7,8]], columns=['c','b'])\n",
    "\n",
    "pd.concat([df1,df2], axis=0)"
   ]
  },
  {
   "cell_type": "code",
   "execution_count": 153,
   "metadata": {},
   "outputs": [
    {
     "data": {
      "text/html": [
       "<div>\n",
       "<style scoped>\n",
       "    .dataframe tbody tr th:only-of-type {\n",
       "        vertical-align: middle;\n",
       "    }\n",
       "\n",
       "    .dataframe tbody tr th {\n",
       "        vertical-align: top;\n",
       "    }\n",
       "\n",
       "    .dataframe thead th {\n",
       "        text-align: right;\n",
       "    }\n",
       "</style>\n",
       "<table border=\"1\" class=\"dataframe\">\n",
       "  <thead>\n",
       "    <tr style=\"text-align: right;\">\n",
       "      <th></th>\n",
       "      <th>a</th>\n",
       "      <th>b</th>\n",
       "      <th>c</th>\n",
       "    </tr>\n",
       "  </thead>\n",
       "  <tbody>\n",
       "    <tr>\n",
       "      <th>0</th>\n",
       "      <td>1.0</td>\n",
       "      <td>2</td>\n",
       "      <td>NaN</td>\n",
       "    </tr>\n",
       "    <tr>\n",
       "      <th>1</th>\n",
       "      <td>3.0</td>\n",
       "      <td>4</td>\n",
       "      <td>NaN</td>\n",
       "    </tr>\n",
       "    <tr>\n",
       "      <th>0</th>\n",
       "      <td>NaN</td>\n",
       "      <td>6</td>\n",
       "      <td>5.0</td>\n",
       "    </tr>\n",
       "    <tr>\n",
       "      <th>1</th>\n",
       "      <td>NaN</td>\n",
       "      <td>8</td>\n",
       "      <td>7.0</td>\n",
       "    </tr>\n",
       "  </tbody>\n",
       "</table>\n",
       "</div>"
      ],
      "text/plain": [
       "     a  b    c\n",
       "0  1.0  2  NaN\n",
       "1  3.0  4  NaN\n",
       "0  NaN  6  5.0\n",
       "1  NaN  8  7.0"
      ]
     },
     "execution_count": 153,
     "metadata": {},
     "output_type": "execute_result"
    }
   ],
   "source": [
    "df1.append(df2) #append method"
   ]
  },
  {
   "cell_type": "markdown",
   "metadata": {},
   "source": [
    "### Mergers and joins"
   ]
  },
  {
   "cell_type": "code",
   "execution_count": 154,
   "metadata": {},
   "outputs": [],
   "source": [
    "df1 = pd.DataFrame([[1,2],[3,4]], columns=['a','b'])\n",
    "df2 = pd.DataFrame([[1,11,12],[2,1,15],[2,1,18]], columns=['a','c','d'])"
   ]
  },
  {
   "cell_type": "code",
   "execution_count": 155,
   "metadata": {},
   "outputs": [
    {
     "data": {
      "text/html": [
       "<div>\n",
       "<style scoped>\n",
       "    .dataframe tbody tr th:only-of-type {\n",
       "        vertical-align: middle;\n",
       "    }\n",
       "\n",
       "    .dataframe tbody tr th {\n",
       "        vertical-align: top;\n",
       "    }\n",
       "\n",
       "    .dataframe thead th {\n",
       "        text-align: right;\n",
       "    }\n",
       "</style>\n",
       "<table border=\"1\" class=\"dataframe\">\n",
       "  <thead>\n",
       "    <tr style=\"text-align: right;\">\n",
       "      <th></th>\n",
       "      <th>a</th>\n",
       "      <th>b</th>\n",
       "      <th>c</th>\n",
       "      <th>d</th>\n",
       "    </tr>\n",
       "  </thead>\n",
       "  <tbody>\n",
       "    <tr>\n",
       "      <th>0</th>\n",
       "      <td>1</td>\n",
       "      <td>2</td>\n",
       "      <td>11</td>\n",
       "      <td>12</td>\n",
       "    </tr>\n",
       "  </tbody>\n",
       "</table>\n",
       "</div>"
      ],
      "text/plain": [
       "   a  b   c   d\n",
       "0  1  2  11  12"
      ]
     },
     "execution_count": 155,
     "metadata": {},
     "output_type": "execute_result"
    }
   ],
   "source": [
    "pd.merge(df1,df2,on='a',how='inner')"
   ]
  },
  {
   "cell_type": "code",
   "execution_count": 157,
   "metadata": {},
   "outputs": [
    {
     "data": {
      "text/html": [
       "<div>\n",
       "<style scoped>\n",
       "    .dataframe tbody tr th:only-of-type {\n",
       "        vertical-align: middle;\n",
       "    }\n",
       "\n",
       "    .dataframe tbody tr th {\n",
       "        vertical-align: top;\n",
       "    }\n",
       "\n",
       "    .dataframe thead th {\n",
       "        text-align: right;\n",
       "    }\n",
       "</style>\n",
       "<table border=\"1\" class=\"dataframe\">\n",
       "  <thead>\n",
       "    <tr style=\"text-align: right;\">\n",
       "      <th></th>\n",
       "      <th>a</th>\n",
       "      <th>b</th>\n",
       "      <th>c</th>\n",
       "      <th>d</th>\n",
       "    </tr>\n",
       "  </thead>\n",
       "  <tbody>\n",
       "    <tr>\n",
       "      <th>0</th>\n",
       "      <td>1</td>\n",
       "      <td>2.0</td>\n",
       "      <td>11.0</td>\n",
       "      <td>12.0</td>\n",
       "    </tr>\n",
       "    <tr>\n",
       "      <th>1</th>\n",
       "      <td>3</td>\n",
       "      <td>4.0</td>\n",
       "      <td>NaN</td>\n",
       "      <td>NaN</td>\n",
       "    </tr>\n",
       "    <tr>\n",
       "      <th>2</th>\n",
       "      <td>2</td>\n",
       "      <td>NaN</td>\n",
       "      <td>1.0</td>\n",
       "      <td>15.0</td>\n",
       "    </tr>\n",
       "    <tr>\n",
       "      <th>3</th>\n",
       "      <td>2</td>\n",
       "      <td>NaN</td>\n",
       "      <td>1.0</td>\n",
       "      <td>18.0</td>\n",
       "    </tr>\n",
       "  </tbody>\n",
       "</table>\n",
       "</div>"
      ],
      "text/plain": [
       "   a    b     c     d\n",
       "0  1  2.0  11.0  12.0\n",
       "1  3  4.0   NaN   NaN\n",
       "2  2  NaN   1.0  15.0\n",
       "3  2  NaN   1.0  18.0"
      ]
     },
     "execution_count": 157,
     "metadata": {},
     "output_type": "execute_result"
    }
   ],
   "source": [
    "pd.merge(df1,df2,on='a',how='outer')"
   ]
  },
  {
   "cell_type": "code",
   "execution_count": 158,
   "metadata": {},
   "outputs": [
    {
     "data": {
      "text/html": [
       "<div>\n",
       "<style scoped>\n",
       "    .dataframe tbody tr th:only-of-type {\n",
       "        vertical-align: middle;\n",
       "    }\n",
       "\n",
       "    .dataframe tbody tr th {\n",
       "        vertical-align: top;\n",
       "    }\n",
       "\n",
       "    .dataframe thead th {\n",
       "        text-align: right;\n",
       "    }\n",
       "</style>\n",
       "<table border=\"1\" class=\"dataframe\">\n",
       "  <thead>\n",
       "    <tr style=\"text-align: right;\">\n",
       "      <th></th>\n",
       "      <th>a</th>\n",
       "      <th>b</th>\n",
       "      <th>c</th>\n",
       "      <th>d</th>\n",
       "    </tr>\n",
       "  </thead>\n",
       "  <tbody>\n",
       "    <tr>\n",
       "      <th>0</th>\n",
       "      <td>1</td>\n",
       "      <td>2.0</td>\n",
       "      <td>11</td>\n",
       "      <td>12</td>\n",
       "    </tr>\n",
       "    <tr>\n",
       "      <th>1</th>\n",
       "      <td>2</td>\n",
       "      <td>NaN</td>\n",
       "      <td>1</td>\n",
       "      <td>15</td>\n",
       "    </tr>\n",
       "    <tr>\n",
       "      <th>2</th>\n",
       "      <td>2</td>\n",
       "      <td>NaN</td>\n",
       "      <td>1</td>\n",
       "      <td>18</td>\n",
       "    </tr>\n",
       "  </tbody>\n",
       "</table>\n",
       "</div>"
      ],
      "text/plain": [
       "   a    b   c   d\n",
       "0  1  2.0  11  12\n",
       "1  2  NaN   1  15\n",
       "2  2  NaN   1  18"
      ]
     },
     "execution_count": 158,
     "metadata": {},
     "output_type": "execute_result"
    }
   ],
   "source": [
    "pd.merge(df1,df2,on='a',how='right')"
   ]
  },
  {
   "cell_type": "code",
   "execution_count": 159,
   "metadata": {},
   "outputs": [
    {
     "data": {
      "text/html": [
       "<div>\n",
       "<style scoped>\n",
       "    .dataframe tbody tr th:only-of-type {\n",
       "        vertical-align: middle;\n",
       "    }\n",
       "\n",
       "    .dataframe tbody tr th {\n",
       "        vertical-align: top;\n",
       "    }\n",
       "\n",
       "    .dataframe thead th {\n",
       "        text-align: right;\n",
       "    }\n",
       "</style>\n",
       "<table border=\"1\" class=\"dataframe\">\n",
       "  <thead>\n",
       "    <tr style=\"text-align: right;\">\n",
       "      <th></th>\n",
       "      <th>a</th>\n",
       "      <th>b</th>\n",
       "      <th>c</th>\n",
       "      <th>d</th>\n",
       "    </tr>\n",
       "  </thead>\n",
       "  <tbody>\n",
       "    <tr>\n",
       "      <th>0</th>\n",
       "      <td>1</td>\n",
       "      <td>2</td>\n",
       "      <td>11.0</td>\n",
       "      <td>12.0</td>\n",
       "    </tr>\n",
       "    <tr>\n",
       "      <th>1</th>\n",
       "      <td>3</td>\n",
       "      <td>4</td>\n",
       "      <td>NaN</td>\n",
       "      <td>NaN</td>\n",
       "    </tr>\n",
       "  </tbody>\n",
       "</table>\n",
       "</div>"
      ],
      "text/plain": [
       "   a  b     c     d\n",
       "0  1  2  11.0  12.0\n",
       "1  3  4   NaN   NaN"
      ]
     },
     "execution_count": 159,
     "metadata": {},
     "output_type": "execute_result"
    }
   ],
   "source": [
    "pd.merge(df1,df2,on='a',how='left')"
   ]
  },
  {
   "cell_type": "markdown",
   "metadata": {},
   "source": [
    "### Aggregation of series"
   ]
  },
  {
   "cell_type": "code",
   "execution_count": 3,
   "metadata": {},
   "outputs": [
    {
     "name": "stdout",
     "output_type": "stream",
     "text": [
      "3.0\n",
      "3.0\n",
      "1\n",
      "5\n",
      "1.5811388300841898\n"
     ]
    }
   ],
   "source": [
    "s = pd.Series([1,2,3,4,5])\n",
    "print(s.mean())\n",
    "print(s.median())\n",
    "print(s.min())\n",
    "print(s.max())\n",
    "print(s.std())"
   ]
  },
  {
   "cell_type": "code",
   "execution_count": 6,
   "metadata": {},
   "outputs": [
    {
     "data": {
      "text/html": [
       "<div>\n",
       "<style scoped>\n",
       "    .dataframe tbody tr th:only-of-type {\n",
       "        vertical-align: middle;\n",
       "    }\n",
       "\n",
       "    .dataframe tbody tr th {\n",
       "        vertical-align: top;\n",
       "    }\n",
       "\n",
       "    .dataframe thead th {\n",
       "        text-align: right;\n",
       "    }\n",
       "</style>\n",
       "<table border=\"1\" class=\"dataframe\">\n",
       "  <thead>\n",
       "    <tr style=\"text-align: right;\">\n",
       "      <th></th>\n",
       "      <th>col1</th>\n",
       "      <th>col2</th>\n",
       "    </tr>\n",
       "  </thead>\n",
       "  <tbody>\n",
       "    <tr>\n",
       "      <th>0</th>\n",
       "      <td>0</td>\n",
       "      <td>1</td>\n",
       "    </tr>\n",
       "    <tr>\n",
       "      <th>1</th>\n",
       "      <td>2</td>\n",
       "      <td>3</td>\n",
       "    </tr>\n",
       "    <tr>\n",
       "      <th>2</th>\n",
       "      <td>4</td>\n",
       "      <td>5</td>\n",
       "    </tr>\n",
       "    <tr>\n",
       "      <th>3</th>\n",
       "      <td>6</td>\n",
       "      <td>7</td>\n",
       "    </tr>\n",
       "    <tr>\n",
       "      <th>4</th>\n",
       "      <td>8</td>\n",
       "      <td>9</td>\n",
       "    </tr>\n",
       "  </tbody>\n",
       "</table>\n",
       "</div>"
      ],
      "text/plain": [
       "   col1  col2\n",
       "0     0     1\n",
       "1     2     3\n",
       "2     4     5\n",
       "3     6     7\n",
       "4     8     9"
      ]
     },
     "execution_count": 6,
     "metadata": {},
     "output_type": "execute_result"
    }
   ],
   "source": [
    "df = make_df2()\n",
    "df"
   ]
  },
  {
   "cell_type": "code",
   "execution_count": 7,
   "metadata": {},
   "outputs": [
    {
     "data": {
      "text/plain": [
       "col1    20\n",
       "col2    25\n",
       "dtype: int64"
      ]
     },
     "execution_count": 7,
     "metadata": {},
     "output_type": "execute_result"
    }
   ],
   "source": [
    "df.sum() #sums over columns"
   ]
  },
  {
   "cell_type": "code",
   "execution_count": 8,
   "metadata": {},
   "outputs": [
    {
     "data": {
      "text/plain": [
       "0     1\n",
       "1     5\n",
       "2     9\n",
       "3    13\n",
       "4    17\n",
       "dtype: int64"
      ]
     },
     "execution_count": 8,
     "metadata": {},
     "output_type": "execute_result"
    }
   ],
   "source": [
    "df.sum(axis=1) #sum over rows"
   ]
  },
  {
   "cell_type": "code",
   "execution_count": 9,
   "metadata": {},
   "outputs": [
    {
     "data": {
      "text/html": [
       "<div>\n",
       "<style scoped>\n",
       "    .dataframe tbody tr th:only-of-type {\n",
       "        vertical-align: middle;\n",
       "    }\n",
       "\n",
       "    .dataframe tbody tr th {\n",
       "        vertical-align: top;\n",
       "    }\n",
       "\n",
       "    .dataframe thead th {\n",
       "        text-align: right;\n",
       "    }\n",
       "</style>\n",
       "<table border=\"1\" class=\"dataframe\">\n",
       "  <thead>\n",
       "    <tr style=\"text-align: right;\">\n",
       "      <th></th>\n",
       "      <th>col1</th>\n",
       "      <th>col2</th>\n",
       "    </tr>\n",
       "  </thead>\n",
       "  <tbody>\n",
       "    <tr>\n",
       "      <th>count</th>\n",
       "      <td>5.000000</td>\n",
       "      <td>5.000000</td>\n",
       "    </tr>\n",
       "    <tr>\n",
       "      <th>mean</th>\n",
       "      <td>4.000000</td>\n",
       "      <td>5.000000</td>\n",
       "    </tr>\n",
       "    <tr>\n",
       "      <th>std</th>\n",
       "      <td>3.162278</td>\n",
       "      <td>3.162278</td>\n",
       "    </tr>\n",
       "    <tr>\n",
       "      <th>min</th>\n",
       "      <td>0.000000</td>\n",
       "      <td>1.000000</td>\n",
       "    </tr>\n",
       "    <tr>\n",
       "      <th>25%</th>\n",
       "      <td>2.000000</td>\n",
       "      <td>3.000000</td>\n",
       "    </tr>\n",
       "    <tr>\n",
       "      <th>50%</th>\n",
       "      <td>4.000000</td>\n",
       "      <td>5.000000</td>\n",
       "    </tr>\n",
       "    <tr>\n",
       "      <th>75%</th>\n",
       "      <td>6.000000</td>\n",
       "      <td>7.000000</td>\n",
       "    </tr>\n",
       "    <tr>\n",
       "      <th>max</th>\n",
       "      <td>8.000000</td>\n",
       "      <td>9.000000</td>\n",
       "    </tr>\n",
       "  </tbody>\n",
       "</table>\n",
       "</div>"
      ],
      "text/plain": [
       "           col1      col2\n",
       "count  5.000000  5.000000\n",
       "mean   4.000000  5.000000\n",
       "std    3.162278  3.162278\n",
       "min    0.000000  1.000000\n",
       "25%    2.000000  3.000000\n",
       "50%    4.000000  5.000000\n",
       "75%    6.000000  7.000000\n",
       "max    8.000000  9.000000"
      ]
     },
     "execution_count": 9,
     "metadata": {},
     "output_type": "execute_result"
    }
   ],
   "source": [
    "df.describe() #get summary values"
   ]
  },
  {
   "cell_type": "code",
   "execution_count": 10,
   "metadata": {},
   "outputs": [
    {
     "data": {
      "text/plain": [
       "col1    5\n",
       "col2    5\n",
       "dtype: int64"
      ]
     },
     "execution_count": 10,
     "metadata": {},
     "output_type": "execute_result"
    }
   ],
   "source": [
    "df.count()"
   ]
  },
  {
   "cell_type": "markdown",
   "metadata": {},
   "source": [
    "### Split, apply, combine"
   ]
  },
  {
   "cell_type": "code",
   "execution_count": 10,
   "metadata": {},
   "outputs": [
    {
     "data": {
      "text/html": [
       "<div>\n",
       "<style scoped>\n",
       "    .dataframe tbody tr th:only-of-type {\n",
       "        vertical-align: middle;\n",
       "    }\n",
       "\n",
       "    .dataframe tbody tr th {\n",
       "        vertical-align: top;\n",
       "    }\n",
       "\n",
       "    .dataframe thead th {\n",
       "        text-align: right;\n",
       "    }\n",
       "</style>\n",
       "<table border=\"1\" class=\"dataframe\">\n",
       "  <thead>\n",
       "    <tr style=\"text-align: right;\">\n",
       "      <th></th>\n",
       "      <th>key</th>\n",
       "      <th>value</th>\n",
       "      <th>mle01</th>\n",
       "    </tr>\n",
       "  </thead>\n",
       "  <tbody>\n",
       "    <tr>\n",
       "      <th>0</th>\n",
       "      <td>a</td>\n",
       "      <td>1</td>\n",
       "      <td>10</td>\n",
       "    </tr>\n",
       "    <tr>\n",
       "      <th>1</th>\n",
       "      <td>b</td>\n",
       "      <td>2</td>\n",
       "      <td>20</td>\n",
       "    </tr>\n",
       "    <tr>\n",
       "      <th>2</th>\n",
       "      <td>c</td>\n",
       "      <td>3</td>\n",
       "      <td>30</td>\n",
       "    </tr>\n",
       "    <tr>\n",
       "      <th>3</th>\n",
       "      <td>a</td>\n",
       "      <td>4</td>\n",
       "      <td>40</td>\n",
       "    </tr>\n",
       "    <tr>\n",
       "      <th>4</th>\n",
       "      <td>b</td>\n",
       "      <td>5</td>\n",
       "      <td>50</td>\n",
       "    </tr>\n",
       "    <tr>\n",
       "      <th>5</th>\n",
       "      <td>c</td>\n",
       "      <td>6</td>\n",
       "      <td>60</td>\n",
       "    </tr>\n",
       "  </tbody>\n",
       "</table>\n",
       "</div>"
      ],
      "text/plain": [
       "  key  value  mle01\n",
       "0   a      1     10\n",
       "1   b      2     20\n",
       "2   c      3     30\n",
       "3   a      4     40\n",
       "4   b      5     50\n",
       "5   c      6     60"
      ]
     },
     "execution_count": 10,
     "metadata": {},
     "output_type": "execute_result"
    }
   ],
   "source": [
    "import pandas as pd\n",
    "import numpy as np\n",
    "df = pd.DataFrame({'key':['a','b','c','a','b','c'],\n",
    "                   'value':[1,2,3,4,5,6],\n",
    "                   'mle01':[10,20,30,40,50,60]})\n",
    "df"
   ]
  },
  {
   "cell_type": "code",
   "execution_count": 5,
   "metadata": {},
   "outputs": [
    {
     "data": {
      "text/plain": [
       "<pandas.core.groupby.generic.DataFrameGroupBy object at 0x000002819F58B0D0>"
      ]
     },
     "execution_count": 5,
     "metadata": {},
     "output_type": "execute_result"
    }
   ],
   "source": [
    "df.groupby('key')"
   ]
  },
  {
   "cell_type": "code",
   "execution_count": 13,
   "metadata": {},
   "outputs": [
    {
     "data": {
      "text/html": [
       "<div>\n",
       "<style scoped>\n",
       "    .dataframe tbody tr th:only-of-type {\n",
       "        vertical-align: middle;\n",
       "    }\n",
       "\n",
       "    .dataframe tbody tr th {\n",
       "        vertical-align: top;\n",
       "    }\n",
       "\n",
       "    .dataframe thead th {\n",
       "        text-align: right;\n",
       "    }\n",
       "</style>\n",
       "<table border=\"1\" class=\"dataframe\">\n",
       "  <thead>\n",
       "    <tr style=\"text-align: right;\">\n",
       "      <th></th>\n",
       "      <th>value</th>\n",
       "      <th>mle01</th>\n",
       "    </tr>\n",
       "    <tr>\n",
       "      <th>key</th>\n",
       "      <th></th>\n",
       "      <th></th>\n",
       "    </tr>\n",
       "  </thead>\n",
       "  <tbody>\n",
       "    <tr>\n",
       "      <th>a</th>\n",
       "      <td>5</td>\n",
       "      <td>50</td>\n",
       "    </tr>\n",
       "    <tr>\n",
       "      <th>b</th>\n",
       "      <td>7</td>\n",
       "      <td>70</td>\n",
       "    </tr>\n",
       "    <tr>\n",
       "      <th>c</th>\n",
       "      <td>9</td>\n",
       "      <td>90</td>\n",
       "    </tr>\n",
       "  </tbody>\n",
       "</table>\n",
       "</div>"
      ],
      "text/plain": [
       "     value  mle01\n",
       "key              \n",
       "a        5     50\n",
       "b        7     70\n",
       "c        9     90"
      ]
     },
     "execution_count": 13,
     "metadata": {},
     "output_type": "execute_result"
    }
   ],
   "source": [
    "df.groupby('key').sum()"
   ]
  },
  {
   "cell_type": "code",
   "execution_count": 14,
   "metadata": {},
   "outputs": [
    {
     "data": {
      "text/plain": [
       "key\n",
       "a    5\n",
       "b    7\n",
       "c    9\n",
       "Name: value, dtype: int64"
      ]
     },
     "execution_count": 14,
     "metadata": {},
     "output_type": "execute_result"
    }
   ],
   "source": [
    "df.groupby('key')['value'].sum()"
   ]
  },
  {
   "cell_type": "code",
   "execution_count": 15,
   "metadata": {},
   "outputs": [
    {
     "data": {
      "text/html": [
       "<div>\n",
       "<style scoped>\n",
       "    .dataframe tbody tr th:only-of-type {\n",
       "        vertical-align: middle;\n",
       "    }\n",
       "\n",
       "    .dataframe tbody tr th {\n",
       "        vertical-align: top;\n",
       "    }\n",
       "\n",
       "    .dataframe thead th {\n",
       "        text-align: right;\n",
       "    }\n",
       "</style>\n",
       "<table border=\"1\" class=\"dataframe\">\n",
       "  <thead>\n",
       "    <tr style=\"text-align: right;\">\n",
       "      <th></th>\n",
       "      <th>value</th>\n",
       "    </tr>\n",
       "    <tr>\n",
       "      <th>key</th>\n",
       "      <th></th>\n",
       "    </tr>\n",
       "  </thead>\n",
       "  <tbody>\n",
       "    <tr>\n",
       "      <th>a</th>\n",
       "      <td>5</td>\n",
       "    </tr>\n",
       "    <tr>\n",
       "      <th>b</th>\n",
       "      <td>7</td>\n",
       "    </tr>\n",
       "    <tr>\n",
       "      <th>c</th>\n",
       "      <td>9</td>\n",
       "    </tr>\n",
       "  </tbody>\n",
       "</table>\n",
       "</div>"
      ],
      "text/plain": [
       "     value\n",
       "key       \n",
       "a        5\n",
       "b        7\n",
       "c        9"
      ]
     },
     "execution_count": 15,
     "metadata": {},
     "output_type": "execute_result"
    }
   ],
   "source": [
    "df.groupby('key')[['value']].sum() #this is a dataframe object now"
   ]
  },
  {
   "cell_type": "code",
   "execution_count": 16,
   "metadata": {},
   "outputs": [
    {
     "data": {
      "text/html": [
       "<div>\n",
       "<style scoped>\n",
       "    .dataframe tbody tr th:only-of-type {\n",
       "        vertical-align: middle;\n",
       "    }\n",
       "\n",
       "    .dataframe tbody tr th {\n",
       "        vertical-align: top;\n",
       "    }\n",
       "\n",
       "    .dataframe thead tr th {\n",
       "        text-align: left;\n",
       "    }\n",
       "\n",
       "    .dataframe thead tr:last-of-type th {\n",
       "        text-align: right;\n",
       "    }\n",
       "</style>\n",
       "<table border=\"1\" class=\"dataframe\">\n",
       "  <thead>\n",
       "    <tr>\n",
       "      <th></th>\n",
       "      <th colspan=\"2\" halign=\"left\">value</th>\n",
       "      <th colspan=\"2\" halign=\"left\">mle01</th>\n",
       "    </tr>\n",
       "    <tr>\n",
       "      <th></th>\n",
       "      <th>sum</th>\n",
       "      <th>mean</th>\n",
       "      <th>sum</th>\n",
       "      <th>mean</th>\n",
       "    </tr>\n",
       "    <tr>\n",
       "      <th>key</th>\n",
       "      <th></th>\n",
       "      <th></th>\n",
       "      <th></th>\n",
       "      <th></th>\n",
       "    </tr>\n",
       "  </thead>\n",
       "  <tbody>\n",
       "    <tr>\n",
       "      <th>a</th>\n",
       "      <td>5</td>\n",
       "      <td>2.5</td>\n",
       "      <td>50</td>\n",
       "      <td>25</td>\n",
       "    </tr>\n",
       "    <tr>\n",
       "      <th>b</th>\n",
       "      <td>7</td>\n",
       "      <td>3.5</td>\n",
       "      <td>70</td>\n",
       "      <td>35</td>\n",
       "    </tr>\n",
       "    <tr>\n",
       "      <th>c</th>\n",
       "      <td>9</td>\n",
       "      <td>4.5</td>\n",
       "      <td>90</td>\n",
       "      <td>45</td>\n",
       "    </tr>\n",
       "  </tbody>\n",
       "</table>\n",
       "</div>"
      ],
      "text/plain": [
       "    value      mle01     \n",
       "      sum mean   sum mean\n",
       "key                      \n",
       "a       5  2.5    50   25\n",
       "b       7  3.5    70   35\n",
       "c       9  4.5    90   45"
      ]
     },
     "execution_count": 16,
     "metadata": {},
     "output_type": "execute_result"
    }
   ],
   "source": [
    "df.groupby('key').agg([np.sum,np.mean]) #apply multiple aggregation functs"
   ]
  },
  {
   "cell_type": "code",
   "execution_count": 18,
   "metadata": {},
   "outputs": [
    {
     "data": {
      "text/html": [
       "<div>\n",
       "<style scoped>\n",
       "    .dataframe tbody tr th:only-of-type {\n",
       "        vertical-align: middle;\n",
       "    }\n",
       "\n",
       "    .dataframe tbody tr th {\n",
       "        vertical-align: top;\n",
       "    }\n",
       "\n",
       "    .dataframe thead th {\n",
       "        text-align: right;\n",
       "    }\n",
       "</style>\n",
       "<table border=\"1\" class=\"dataframe\">\n",
       "  <thead>\n",
       "    <tr style=\"text-align: right;\">\n",
       "      <th></th>\n",
       "      <th>value</th>\n",
       "      <th>mle01</th>\n",
       "    </tr>\n",
       "    <tr>\n",
       "      <th>key</th>\n",
       "      <th></th>\n",
       "      <th></th>\n",
       "    </tr>\n",
       "  </thead>\n",
       "  <tbody>\n",
       "    <tr>\n",
       "      <th>a</th>\n",
       "      <td>5</td>\n",
       "      <td>10</td>\n",
       "    </tr>\n",
       "    <tr>\n",
       "      <th>b</th>\n",
       "      <td>7</td>\n",
       "      <td>20</td>\n",
       "    </tr>\n",
       "    <tr>\n",
       "      <th>c</th>\n",
       "      <td>9</td>\n",
       "      <td>30</td>\n",
       "    </tr>\n",
       "  </tbody>\n",
       "</table>\n",
       "</div>"
      ],
      "text/plain": [
       "     value  mle01\n",
       "key              \n",
       "a        5     10\n",
       "b        7     20\n",
       "c        9     30"
      ]
     },
     "execution_count": 18,
     "metadata": {},
     "output_type": "execute_result"
    }
   ],
   "source": [
    "df.groupby('key').agg({'value':np.sum, 'mle01':min}) #different kinds of aggregation"
   ]
  },
  {
   "cell_type": "markdown",
   "metadata": {},
   "source": [
    "#### Filtering"
   ]
  },
  {
   "cell_type": "code",
   "execution_count": 8,
   "metadata": {},
   "outputs": [
    {
     "data": {
      "text/html": [
       "<div>\n",
       "<style scoped>\n",
       "    .dataframe tbody tr th:only-of-type {\n",
       "        vertical-align: middle;\n",
       "    }\n",
       "\n",
       "    .dataframe tbody tr th {\n",
       "        vertical-align: top;\n",
       "    }\n",
       "\n",
       "    .dataframe thead th {\n",
       "        text-align: right;\n",
       "    }\n",
       "</style>\n",
       "<table border=\"1\" class=\"dataframe\">\n",
       "  <thead>\n",
       "    <tr style=\"text-align: right;\">\n",
       "      <th></th>\n",
       "      <th>key</th>\n",
       "      <th>value</th>\n",
       "      <th>mle01</th>\n",
       "    </tr>\n",
       "  </thead>\n",
       "  <tbody>\n",
       "    <tr>\n",
       "      <th>1</th>\n",
       "      <td>b</td>\n",
       "      <td>2</td>\n",
       "      <td>20</td>\n",
       "    </tr>\n",
       "    <tr>\n",
       "      <th>2</th>\n",
       "      <td>c</td>\n",
       "      <td>3</td>\n",
       "      <td>30</td>\n",
       "    </tr>\n",
       "    <tr>\n",
       "      <th>4</th>\n",
       "      <td>b</td>\n",
       "      <td>5</td>\n",
       "      <td>50</td>\n",
       "    </tr>\n",
       "    <tr>\n",
       "      <th>5</th>\n",
       "      <td>c</td>\n",
       "      <td>6</td>\n",
       "      <td>60</td>\n",
       "    </tr>\n",
       "  </tbody>\n",
       "</table>\n",
       "</div>"
      ],
      "text/plain": [
       "  key  value  mle01\n",
       "1   b      2     20\n",
       "2   c      3     30\n",
       "4   b      5     50\n",
       "5   c      6     60"
      ]
     },
     "execution_count": 8,
     "metadata": {},
     "output_type": "execute_result"
    }
   ],
   "source": [
    "df.groupby('key').filter(lambda x: max(x['value']) >= 5) #group by key then filter"
   ]
  },
  {
   "cell_type": "code",
   "execution_count": 23,
   "metadata": {},
   "outputs": [
    {
     "data": {
      "text/html": [
       "<div>\n",
       "<style scoped>\n",
       "    .dataframe tbody tr th:only-of-type {\n",
       "        vertical-align: middle;\n",
       "    }\n",
       "\n",
       "    .dataframe tbody tr th {\n",
       "        vertical-align: top;\n",
       "    }\n",
       "\n",
       "    .dataframe thead th {\n",
       "        text-align: right;\n",
       "    }\n",
       "</style>\n",
       "<table border=\"1\" class=\"dataframe\">\n",
       "  <thead>\n",
       "    <tr style=\"text-align: right;\">\n",
       "      <th></th>\n",
       "      <th>gender</th>\n",
       "      <th>happiness</th>\n",
       "    </tr>\n",
       "  </thead>\n",
       "  <tbody>\n",
       "    <tr>\n",
       "      <th>0</th>\n",
       "      <td>f</td>\n",
       "      <td>10</td>\n",
       "    </tr>\n",
       "    <tr>\n",
       "      <th>1</th>\n",
       "      <td>f</td>\n",
       "      <td>12</td>\n",
       "    </tr>\n",
       "    <tr>\n",
       "      <th>2</th>\n",
       "      <td>f</td>\n",
       "      <td>11</td>\n",
       "    </tr>\n",
       "    <tr>\n",
       "      <th>3</th>\n",
       "      <td>m</td>\n",
       "      <td>9</td>\n",
       "    </tr>\n",
       "    <tr>\n",
       "      <th>4</th>\n",
       "      <td>m</td>\n",
       "      <td>10</td>\n",
       "    </tr>\n",
       "  </tbody>\n",
       "</table>\n",
       "</div>"
      ],
      "text/plain": [
       "  gender  happiness\n",
       "0      f         10\n",
       "1      f         12\n",
       "2      f         11\n",
       "3      m          9\n",
       "4      m         10"
      ]
     },
     "execution_count": 23,
     "metadata": {},
     "output_type": "execute_result"
    }
   ],
   "source": [
    "df = pd.DataFrame({'gender':['f','f','f','m','m'], 'happiness':[10,12,11,9,10]})\n",
    "df"
   ]
  },
  {
   "cell_type": "code",
   "execution_count": 24,
   "metadata": {},
   "outputs": [
    {
     "data": {
      "text/plain": [
       "0    11.0\n",
       "1    11.0\n",
       "2    11.0\n",
       "3     9.5\n",
       "4     9.5\n",
       "Name: happiness, dtype: float64"
      ]
     },
     "execution_count": 24,
     "metadata": {},
     "output_type": "execute_result"
    }
   ],
   "source": [
    "df.groupby('gender')['happiness'].transform(np.mean)"
   ]
  },
  {
   "cell_type": "code",
   "execution_count": 26,
   "metadata": {},
   "outputs": [
    {
     "data": {
      "text/html": [
       "<div>\n",
       "<style scoped>\n",
       "    .dataframe tbody tr th:only-of-type {\n",
       "        vertical-align: middle;\n",
       "    }\n",
       "\n",
       "    .dataframe tbody tr th {\n",
       "        vertical-align: top;\n",
       "    }\n",
       "\n",
       "    .dataframe thead th {\n",
       "        text-align: right;\n",
       "    }\n",
       "</style>\n",
       "<table border=\"1\" class=\"dataframe\">\n",
       "  <thead>\n",
       "    <tr style=\"text-align: right;\">\n",
       "      <th></th>\n",
       "      <th>gender</th>\n",
       "      <th>happiness</th>\n",
       "      <th>gender happiness</th>\n",
       "    </tr>\n",
       "  </thead>\n",
       "  <tbody>\n",
       "    <tr>\n",
       "      <th>0</th>\n",
       "      <td>f</td>\n",
       "      <td>10</td>\n",
       "      <td>11.0</td>\n",
       "    </tr>\n",
       "    <tr>\n",
       "      <th>1</th>\n",
       "      <td>f</td>\n",
       "      <td>12</td>\n",
       "      <td>11.0</td>\n",
       "    </tr>\n",
       "    <tr>\n",
       "      <th>2</th>\n",
       "      <td>f</td>\n",
       "      <td>11</td>\n",
       "      <td>11.0</td>\n",
       "    </tr>\n",
       "    <tr>\n",
       "      <th>3</th>\n",
       "      <td>m</td>\n",
       "      <td>9</td>\n",
       "      <td>9.5</td>\n",
       "    </tr>\n",
       "    <tr>\n",
       "      <th>4</th>\n",
       "      <td>m</td>\n",
       "      <td>10</td>\n",
       "      <td>9.5</td>\n",
       "    </tr>\n",
       "  </tbody>\n",
       "</table>\n",
       "</div>"
      ],
      "text/plain": [
       "  gender  happiness  gender happiness\n",
       "0      f         10              11.0\n",
       "1      f         12              11.0\n",
       "2      f         11              11.0\n",
       "3      m          9               9.5\n",
       "4      m         10               9.5"
      ]
     },
     "execution_count": 26,
     "metadata": {},
     "output_type": "execute_result"
    }
   ],
   "source": [
    "df['gender happiness'] = df.groupby('gender')['happiness'].transform(np.mean)\n",
    "df #has been combined with the original data"
   ]
  },
  {
   "cell_type": "markdown",
   "metadata": {},
   "source": [
    "### Pivot tables\n",
    "\n",
    "Similar to group by but in two dimensions"
   ]
  },
  {
   "cell_type": "code",
   "execution_count": 27,
   "metadata": {},
   "outputs": [
    {
     "data": {
      "text/html": [
       "<div>\n",
       "<style scoped>\n",
       "    .dataframe tbody tr th:only-of-type {\n",
       "        vertical-align: middle;\n",
       "    }\n",
       "\n",
       "    .dataframe tbody tr th {\n",
       "        vertical-align: top;\n",
       "    }\n",
       "\n",
       "    .dataframe thead th {\n",
       "        text-align: right;\n",
       "    }\n",
       "</style>\n",
       "<table border=\"1\" class=\"dataframe\">\n",
       "  <thead>\n",
       "    <tr style=\"text-align: right;\">\n",
       "      <th></th>\n",
       "      <th>gender</th>\n",
       "      <th>is_child</th>\n",
       "      <th>height</th>\n",
       "    </tr>\n",
       "  </thead>\n",
       "  <tbody>\n",
       "    <tr>\n",
       "      <th>0</th>\n",
       "      <td>m</td>\n",
       "      <td>True</td>\n",
       "      <td>100</td>\n",
       "    </tr>\n",
       "    <tr>\n",
       "      <th>1</th>\n",
       "      <td>m</td>\n",
       "      <td>True</td>\n",
       "      <td>90</td>\n",
       "    </tr>\n",
       "    <tr>\n",
       "      <th>2</th>\n",
       "      <td>m</td>\n",
       "      <td>False</td>\n",
       "      <td>180</td>\n",
       "    </tr>\n",
       "    <tr>\n",
       "      <th>3</th>\n",
       "      <td>f</td>\n",
       "      <td>True</td>\n",
       "      <td>70</td>\n",
       "    </tr>\n",
       "    <tr>\n",
       "      <th>4</th>\n",
       "      <td>f</td>\n",
       "      <td>True</td>\n",
       "      <td>105</td>\n",
       "    </tr>\n",
       "    <tr>\n",
       "      <th>5</th>\n",
       "      <td>f</td>\n",
       "      <td>False</td>\n",
       "      <td>160</td>\n",
       "    </tr>\n",
       "    <tr>\n",
       "      <th>6</th>\n",
       "      <td>f</td>\n",
       "      <td>False</td>\n",
       "      <td>140</td>\n",
       "    </tr>\n",
       "  </tbody>\n",
       "</table>\n",
       "</div>"
      ],
      "text/plain": [
       "  gender  is_child  height\n",
       "0      m      True     100\n",
       "1      m      True      90\n",
       "2      m     False     180\n",
       "3      f      True      70\n",
       "4      f      True     105\n",
       "5      f     False     160\n",
       "6      f     False     140"
      ]
     },
     "execution_count": 27,
     "metadata": {},
     "output_type": "execute_result"
    }
   ],
   "source": [
    "df = pd.DataFrame({'gender':['m','m','m','f','f','f','f'],\n",
    "                   'is_child':[True, True, False, True, True, False, False],\n",
    "                   'height':[100,90,180,70,105,160,140]})\n",
    "df"
   ]
  },
  {
   "cell_type": "code",
   "execution_count": 29,
   "metadata": {},
   "outputs": [
    {
     "data": {
      "text/html": [
       "<div>\n",
       "<style scoped>\n",
       "    .dataframe tbody tr th:only-of-type {\n",
       "        vertical-align: middle;\n",
       "    }\n",
       "\n",
       "    .dataframe tbody tr th {\n",
       "        vertical-align: top;\n",
       "    }\n",
       "\n",
       "    .dataframe thead th {\n",
       "        text-align: right;\n",
       "    }\n",
       "</style>\n",
       "<table border=\"1\" class=\"dataframe\">\n",
       "  <thead>\n",
       "    <tr style=\"text-align: right;\">\n",
       "      <th>is_child</th>\n",
       "      <th>False</th>\n",
       "      <th>True</th>\n",
       "    </tr>\n",
       "    <tr>\n",
       "      <th>gender</th>\n",
       "      <th></th>\n",
       "      <th></th>\n",
       "    </tr>\n",
       "  </thead>\n",
       "  <tbody>\n",
       "    <tr>\n",
       "      <th>f</th>\n",
       "      <td>150.0</td>\n",
       "      <td>87.5</td>\n",
       "    </tr>\n",
       "    <tr>\n",
       "      <th>m</th>\n",
       "      <td>180.0</td>\n",
       "      <td>95.0</td>\n",
       "    </tr>\n",
       "  </tbody>\n",
       "</table>\n",
       "</div>"
      ],
      "text/plain": [
       "is_child  False  True \n",
       "gender                \n",
       "f         150.0   87.5\n",
       "m         180.0   95.0"
      ]
     },
     "execution_count": 29,
     "metadata": {},
     "output_type": "execute_result"
    }
   ],
   "source": [
    "df.pivot_table(index='gender', columns='is_child', values='height', aggfunc=np.mean)\n",
    "# Grouping by gender and is_child, aggregate on height.\n",
    "# index   = column in df for the row in the pivot table\n",
    "# columns = column in df for the columns in the pivot table\n",
    "# values  = column in df for which you want to aggregate\n",
    "# Note that the index and column together define the group."
   ]
  },
  {
   "cell_type": "code",
   "execution_count": 30,
   "metadata": {},
   "outputs": [
    {
     "data": {
      "text/html": [
       "<div>\n",
       "<style scoped>\n",
       "    .dataframe tbody tr th:only-of-type {\n",
       "        vertical-align: middle;\n",
       "    }\n",
       "\n",
       "    .dataframe tbody tr th {\n",
       "        vertical-align: top;\n",
       "    }\n",
       "\n",
       "    .dataframe thead th {\n",
       "        text-align: right;\n",
       "    }\n",
       "</style>\n",
       "<table border=\"1\" class=\"dataframe\">\n",
       "  <thead>\n",
       "    <tr style=\"text-align: right;\">\n",
       "      <th></th>\n",
       "      <th>gender</th>\n",
       "      <th>is_child</th>\n",
       "      <th>height</th>\n",
       "    </tr>\n",
       "  </thead>\n",
       "  <tbody>\n",
       "    <tr>\n",
       "      <th>0</th>\n",
       "      <td>m</td>\n",
       "      <td>True</td>\n",
       "      <td>100</td>\n",
       "    </tr>\n",
       "    <tr>\n",
       "      <th>1</th>\n",
       "      <td>m</td>\n",
       "      <td>True</td>\n",
       "      <td>90</td>\n",
       "    </tr>\n",
       "    <tr>\n",
       "      <th>2</th>\n",
       "      <td>m</td>\n",
       "      <td>False</td>\n",
       "      <td>180</td>\n",
       "    </tr>\n",
       "    <tr>\n",
       "      <th>3</th>\n",
       "      <td>f</td>\n",
       "      <td>True</td>\n",
       "      <td>70</td>\n",
       "    </tr>\n",
       "    <tr>\n",
       "      <th>4</th>\n",
       "      <td>f</td>\n",
       "      <td>True</td>\n",
       "      <td>105</td>\n",
       "    </tr>\n",
       "    <tr>\n",
       "      <th>5</th>\n",
       "      <td>f</td>\n",
       "      <td>False</td>\n",
       "      <td>160</td>\n",
       "    </tr>\n",
       "    <tr>\n",
       "      <th>6</th>\n",
       "      <td>f</td>\n",
       "      <td>False</td>\n",
       "      <td>140</td>\n",
       "    </tr>\n",
       "  </tbody>\n",
       "</table>\n",
       "</div>"
      ],
      "text/plain": [
       "  gender  is_child  height\n",
       "0      m      True     100\n",
       "1      m      True      90\n",
       "2      m     False     180\n",
       "3      f      True      70\n",
       "4      f      True     105\n",
       "5      f     False     160\n",
       "6      f     False     140"
      ]
     },
     "execution_count": 30,
     "metadata": {},
     "output_type": "execute_result"
    }
   ],
   "source": [
    "df"
   ]
  },
  {
   "cell_type": "code",
   "execution_count": 33,
   "metadata": {},
   "outputs": [
    {
     "data": {
      "text/html": [
       "<div>\n",
       "<style scoped>\n",
       "    .dataframe tbody tr th:only-of-type {\n",
       "        vertical-align: middle;\n",
       "    }\n",
       "\n",
       "    .dataframe tbody tr th {\n",
       "        vertical-align: top;\n",
       "    }\n",
       "\n",
       "    .dataframe thead th {\n",
       "        text-align: right;\n",
       "    }\n",
       "</style>\n",
       "<table border=\"1\" class=\"dataframe\">\n",
       "  <thead>\n",
       "    <tr style=\"text-align: right;\">\n",
       "      <th></th>\n",
       "      <th>gender</th>\n",
       "      <th>is_child</th>\n",
       "      <th>height</th>\n",
       "    </tr>\n",
       "  </thead>\n",
       "  <tbody>\n",
       "    <tr>\n",
       "      <th>0</th>\n",
       "      <td>m</td>\n",
       "      <td>True</td>\n",
       "      <td>100</td>\n",
       "    </tr>\n",
       "    <tr>\n",
       "      <th>1</th>\n",
       "      <td>m</td>\n",
       "      <td>True</td>\n",
       "      <td>90</td>\n",
       "    </tr>\n",
       "    <tr>\n",
       "      <th>2</th>\n",
       "      <td>m</td>\n",
       "      <td>False</td>\n",
       "      <td>180</td>\n",
       "    </tr>\n",
       "    <tr>\n",
       "      <th>3</th>\n",
       "      <td>f</td>\n",
       "      <td>True</td>\n",
       "      <td>70</td>\n",
       "    </tr>\n",
       "    <tr>\n",
       "      <th>4</th>\n",
       "      <td>f</td>\n",
       "      <td>True</td>\n",
       "      <td>105</td>\n",
       "    </tr>\n",
       "    <tr>\n",
       "      <th>5</th>\n",
       "      <td>f</td>\n",
       "      <td>False</td>\n",
       "      <td>160</td>\n",
       "    </tr>\n",
       "    <tr>\n",
       "      <th>6</th>\n",
       "      <td>f</td>\n",
       "      <td>False</td>\n",
       "      <td>140</td>\n",
       "    </tr>\n",
       "  </tbody>\n",
       "</table>\n",
       "</div>"
      ],
      "text/plain": [
       "  gender  is_child  height\n",
       "0      m      True     100\n",
       "1      m      True      90\n",
       "2      m     False     180\n",
       "3      f      True      70\n",
       "4      f      True     105\n",
       "5      f     False     160\n",
       "6      f     False     140"
      ]
     },
     "execution_count": 33,
     "metadata": {},
     "output_type": "execute_result"
    }
   ],
   "source": [
    "df\n"
   ]
  },
  {
   "cell_type": "markdown",
   "metadata": {},
   "source": [
    "## Time series"
   ]
  },
  {
   "cell_type": "code",
   "execution_count": 35,
   "metadata": {},
   "outputs": [],
   "source": [
    "# pip install yahoofinancials into anaconda prompt"
   ]
  },
  {
   "cell_type": "code",
   "execution_count": 1,
   "metadata": {},
   "outputs": [],
   "source": [
    "from yahoofinancials import YahooFinancials as YF"
   ]
  },
  {
   "cell_type": "code",
   "execution_count": 2,
   "metadata": {},
   "outputs": [
    {
     "name": "stdout",
     "output_type": "stream",
     "text": [
      "{'AAPL': {'eventsData': {'dividends': {'2019-11-07': {'amount': 0.1925, 'date': 1573137000, 'formatted_date': '2019-11-07'}, '2020-02-07': {'amount': 0.1925, 'date': 1581085800, 'formatted_date': '2020-02-07'}, '2020-05-08': {'amount': 0.205, 'date': 1588944600, 'formatted_date': '2020-05-08'}, '2020-08-07': {'amount': 0.205, 'date': 1596807000, 'formatted_date': '2020-08-07'}}, 'splits': {'2020-08-31': {'date': 1598880600, 'numerator': 4, 'denominator': 1, 'splitRatio': '4:1', 'formatted_date': '2020-08-31'}}}, 'firstTradeDate': {'formatted_date': '1980-12-12', 'date': 345479400}, 'currency': 'USD', 'instrumentType': 'EQUITY', 'timeZone': {'gmtOffset': -14400}, 'prices': [{'date': 1569936600, 'high': 57.05500030517578, 'low': 56.04999923706055, 'open': 56.26750183105469, 'close': 56.147499084472656, 'volume': 139223200, 'adjclose': 55.59588623046875, 'formatted_date': '2019-10-01'}, {'date': 1570023000, 'high': 55.89500045776367, 'low': 54.48249816894531, 'open': 55.76499938964844, 'close': 54.7400016784668, 'volume': 138449200, 'adjclose': 54.202213287353516, 'formatted_date': '2019-10-02'}, {'date': 1570109400, 'high': 55.2400016784668, 'low': 53.782501220703125, 'open': 54.60749816894531, 'close': 55.20500183105469, 'volume': 114426000, 'adjclose': 54.66264343261719, 'formatted_date': '2019-10-03'}, {'date': 1570195800, 'high': 56.872501373291016, 'low': 55.97249984741211, 'open': 56.40999984741211, 'close': 56.752498626708984, 'volume': 138478800, 'adjclose': 56.194942474365234, 'formatted_date': '2019-10-04'}, {'date': 1570455000, 'high': 57.48249816894531, 'low': 56.459999084472656, 'open': 56.567501068115234, 'close': 56.76499938964844, 'volume': 122306000, 'adjclose': 56.20731735229492, 'formatted_date': '2019-10-07'}, {'date': 1570541400, 'high': 57.01499938964844, 'low': 56.08250045776367, 'open': 56.45500183105469, 'close': 56.099998474121094, 'volume': 111820000, 'adjclose': 55.548851013183594, 'formatted_date': '2019-10-08'}, {'date': 1570627800, 'high': 56.9474983215332, 'low': 56.40999984741211, 'open': 56.75749969482422, 'close': 56.75749969482422, 'volume': 74770400, 'adjclose': 56.199893951416016, 'formatted_date': '2019-10-09'}, {'date': 1570714200, 'high': 57.61000061035156, 'low': 56.82500076293945, 'open': 56.98249816894531, 'close': 57.522499084472656, 'volume': 113013600, 'adjclose': 56.957374572753906, 'formatted_date': '2019-10-10'}, {'date': 1570800600, 'high': 59.40999984741211, 'low': 58.07749938964844, 'open': 58.23749923706055, 'close': 59.0525016784668, 'volume': 166795600, 'adjclose': 58.47234344482422, 'formatted_date': '2019-10-11'}, {'date': 1571059800, 'high': 59.532501220703125, 'low': 58.66749954223633, 'open': 58.724998474121094, 'close': 58.967498779296875, 'volume': 96427600, 'adjclose': 58.388179779052734, 'formatted_date': '2019-10-14'}, {'date': 1571146200, 'high': 59.412498474121094, 'low': 58.720001220703125, 'open': 59.09749984741211, 'close': 58.83000183105469, 'volume': 87360000, 'adjclose': 58.25203323364258, 'formatted_date': '2019-10-15'}, {'date': 1571232600, 'high': 58.810001373291016, 'low': 58.29999923706055, 'open': 58.342498779296875, 'close': 58.592498779296875, 'volume': 73903200, 'adjclose': 58.01686096191406, 'formatted_date': '2019-10-16'}, {'date': 1571319000, 'high': 59.037498474121094, 'low': 58.380001068115234, 'open': 58.772499084472656, 'close': 58.81999969482422, 'volume': 67585200, 'adjclose': 58.242130279541016, 'formatted_date': '2019-10-17'}, {'date': 1571405400, 'high': 59.39500045776367, 'low': 58.5724983215332, 'open': 58.647499084472656, 'close': 59.102500915527344, 'volume': 97433600, 'adjclose': 58.52185821533203, 'formatted_date': '2019-10-18'}, {'date': 1571664600, 'high': 60.247501373291016, 'low': 59.33000183105469, 'open': 59.380001068115234, 'close': 60.127498626708984, 'volume': 87247200, 'adjclose': 59.536781311035156, 'formatted_date': '2019-10-21'}, {'date': 1571751000, 'high': 60.54999923706055, 'low': 59.904998779296875, 'open': 60.290000915527344, 'close': 59.9900016784668, 'volume': 82293600, 'adjclose': 59.400634765625, 'formatted_date': '2019-10-22'}, {'date': 1571837400, 'high': 60.810001373291016, 'low': 60.30500030517578, 'open': 60.525001525878906, 'close': 60.79499816894531, 'volume': 75828800, 'adjclose': 60.19772720336914, 'formatted_date': '2019-10-23'}, {'date': 1571923800, 'high': 61.20000076293945, 'low': 60.45249938964844, 'open': 61.127498626708984, 'close': 60.89500045776367, 'volume': 69275200, 'adjclose': 60.2967414855957, 'formatted_date': '2019-10-24'}, {'date': 1572010200, 'high': 61.682498931884766, 'low': 60.720001220703125, 'open': 60.790000915527344, 'close': 61.64500045776367, 'volume': 73477200, 'adjclose': 61.03937530517578, 'formatted_date': '2019-10-25'}, {'date': 1572269400, 'high': 62.3125, 'low': 61.68000030517578, 'open': 61.85499954223633, 'close': 62.26250076293945, 'volume': 96572800, 'adjclose': 61.65081024169922, 'formatted_date': '2019-10-28'}, {'date': 1572355800, 'high': 62.4375, 'low': 60.64250183105469, 'open': 62.24250030517578, 'close': 60.8224983215332, 'volume': 142839600, 'adjclose': 60.224952697753906, 'formatted_date': '2019-10-29'}, {'date': 1572442200, 'high': 61.32500076293945, 'low': 60.3025016784668, 'open': 61.189998626708984, 'close': 60.814998626708984, 'volume': 124522000, 'adjclose': 60.217525482177734, 'formatted_date': '2019-10-30'}, {'date': 1572528600, 'high': 62.29249954223633, 'low': 59.314998626708984, 'open': 61.810001373291016, 'close': 62.189998626708984, 'volume': 139162000, 'adjclose': 61.57902145385742, 'formatted_date': '2019-10-31'}, {'date': 1572615000, 'high': 63.98249816894531, 'low': 62.290000915527344, 'open': 62.3849983215332, 'close': 63.95500183105469, 'volume': 151125200, 'adjclose': 63.326683044433594, 'formatted_date': '2019-11-01'}, {'date': 1572877800, 'high': 64.4625015258789, 'low': 63.845001220703125, 'open': 64.3324966430664, 'close': 64.375, 'volume': 103272000, 'adjclose': 63.7425537109375, 'formatted_date': '2019-11-04'}, {'date': 1572964200, 'high': 64.54750061035156, 'low': 64.08000183105469, 'open': 64.26249694824219, 'close': 64.28250122070312, 'volume': 79897600, 'adjclose': 63.650970458984375, 'formatted_date': '2019-11-05'}, {'date': 1573050600, 'high': 64.37249755859375, 'low': 63.842498779296875, 'open': 64.19249725341797, 'close': 64.30999755859375, 'volume': 75864400, 'adjclose': 63.678192138671875, 'formatted_date': '2019-11-06'}, {'date': 1573137000, 'high': 65.0875015258789, 'low': 64.52749633789062, 'open': 64.68499755859375, 'close': 64.85749816894531, 'volume': 94940400, 'adjclose': 64.41311645507812, 'formatted_date': '2019-11-07'}, {'date': 1573223400, 'high': 65.11000061035156, 'low': 64.2125015258789, 'open': 64.67250061035156, 'close': 65.03500366210938, 'volume': 69986400, 'adjclose': 64.58940887451172, 'formatted_date': '2019-11-08'}, {'date': 1573482600, 'high': 65.61750030517578, 'low': 64.56999969482422, 'open': 64.57499694824219, 'close': 65.55000305175781, 'volume': 81821200, 'adjclose': 65.10087585449219, 'formatted_date': '2019-11-11'}, {'date': 1573569000, 'high': 65.69750213623047, 'low': 65.2300033569336, 'open': 65.38749694824219, 'close': 65.48999786376953, 'volume': 87388800, 'adjclose': 65.0412826538086, 'formatted_date': '2019-11-12'}, {'date': 1573655400, 'high': 66.19499969482422, 'low': 65.26750183105469, 'open': 65.28250122070312, 'close': 66.11750030517578, 'volume': 102734400, 'adjclose': 65.66448974609375, 'formatted_date': '2019-11-13'}, {'date': 1573741800, 'high': 66.22000122070312, 'low': 65.5250015258789, 'open': 65.9375, 'close': 65.66000366210938, 'volume': 89182800, 'adjclose': 65.21012115478516, 'formatted_date': '2019-11-14'}, {'date': 1573828200, 'high': 66.44499969482422, 'low': 65.75250244140625, 'open': 65.91999816894531, 'close': 66.44000244140625, 'volume': 100206400, 'adjclose': 65.98477935791016, 'formatted_date': '2019-11-15'}, {'date': 1574087400, 'high': 66.85749816894531, 'low': 66.05750274658203, 'open': 66.44999694824219, 'close': 66.7750015258789, 'volume': 86703200, 'adjclose': 66.31748962402344, 'formatted_date': '2019-11-18'}, {'date': 1574173800, 'high': 67.0, 'low': 66.34750366210938, 'open': 66.9749984741211, 'close': 66.57250213623047, 'volume': 76167200, 'adjclose': 66.11637115478516, 'formatted_date': '2019-11-19'}, {'date': 1574260200, 'high': 66.5199966430664, 'low': 65.0999984741211, 'open': 66.38500213623047, 'close': 65.79750061035156, 'volume': 106234400, 'adjclose': 65.34668731689453, 'formatted_date': '2019-11-20'}, {'date': 1574346600, 'high': 66.00250244140625, 'low': 65.29499816894531, 'open': 65.92250061035156, 'close': 65.50250244140625, 'volume': 121395200, 'adjclose': 65.05370330810547, 'formatted_date': '2019-11-21'}, {'date': 1574433000, 'high': 65.79499816894531, 'low': 65.20999908447266, 'open': 65.64749908447266, 'close': 65.44499969482422, 'volume': 65325200, 'adjclose': 64.99659729003906, 'formatted_date': '2019-11-22'}, {'date': 1574692200, 'high': 66.61000061035156, 'low': 65.62999725341797, 'open': 65.67749786376953, 'close': 66.59249877929688, 'volume': 84020400, 'adjclose': 66.13623046875, 'formatted_date': '2019-11-25'}, {'date': 1574778600, 'high': 66.79000091552734, 'low': 65.625, 'open': 66.73500061035156, 'close': 66.07250213623047, 'volume': 105207600, 'adjclose': 65.61978912353516, 'formatted_date': '2019-11-26'}, {'date': 1574865000, 'high': 66.99500274658203, 'low': 66.32749938964844, 'open': 66.3949966430664, 'close': 66.95999908447266, 'volume': 65235600, 'adjclose': 66.50121307373047, 'formatted_date': '2019-11-27'}, {'date': 1575037800, 'high': 67.0, 'low': 66.4749984741211, 'open': 66.6500015258789, 'close': 66.8125, 'volume': 46617600, 'adjclose': 66.35472869873047, 'formatted_date': '2019-11-29'}, {'date': 1575297000, 'high': 67.0625, 'low': 65.86250305175781, 'open': 66.81749725341797, 'close': 66.04000091552734, 'volume': 94487200, 'adjclose': 65.58751678466797, 'formatted_date': '2019-12-02'}, {'date': 1575383400, 'high': 64.88249969482422, 'low': 64.07250213623047, 'open': 64.57749938964844, 'close': 64.86250305175781, 'volume': 114430400, 'adjclose': 64.4180908203125, 'formatted_date': '2019-12-03'}, {'date': 1575469800, 'high': 65.82749938964844, 'low': 65.16999816894531, 'open': 65.26750183105469, 'close': 65.43499755859375, 'volume': 67181600, 'adjclose': 64.98666381835938, 'formatted_date': '2019-12-04'}, {'date': 1575556200, 'high': 66.47250366210938, 'low': 65.68250274658203, 'open': 65.94750213623047, 'close': 66.3949966430664, 'volume': 74424400, 'adjclose': 65.9400863647461, 'formatted_date': '2019-12-05'}, {'date': 1575642600, 'high': 67.75, 'low': 66.82499694824219, 'open': 66.87000274658203, 'close': 67.67749786376953, 'volume': 106075600, 'adjclose': 67.21379852294922, 'formatted_date': '2019-12-06'}, {'date': 1575901800, 'high': 67.69999694824219, 'low': 66.22750091552734, 'open': 67.5, 'close': 66.7300033569336, 'volume': 128042400, 'adjclose': 66.27278900146484, 'formatted_date': '2019-12-09'}, {'date': 1575988200, 'high': 67.51750183105469, 'low': 66.46499633789062, 'open': 67.1500015258789, 'close': 67.12000274658203, 'volume': 90420400, 'adjclose': 66.66012573242188, 'formatted_date': '2019-12-10'}, {'date': 1576074600, 'high': 67.7750015258789, 'low': 67.125, 'open': 67.20249938964844, 'close': 67.69249725341797, 'volume': 78756800, 'adjclose': 67.22869873046875, 'formatted_date': '2019-12-11'}, {'date': 1576161000, 'high': 68.13999938964844, 'low': 66.83000183105469, 'open': 66.94499969482422, 'close': 67.86499786376953, 'volume': 137310400, 'adjclose': 67.40001678466797, 'formatted_date': '2019-12-12'}, {'date': 1576247400, 'high': 68.82499694824219, 'low': 67.73249816894531, 'open': 67.86499786376953, 'close': 68.7874984741211, 'volume': 133587600, 'adjclose': 68.31619262695312, 'formatted_date': '2019-12-13'}, {'date': 1576506600, 'high': 70.19750213623047, 'low': 69.24500274658203, 'open': 69.25, 'close': 69.96499633789062, 'volume': 128186000, 'adjclose': 69.4856185913086, 'formatted_date': '2019-12-16'}, {'date': 1576593000, 'high': 70.44249725341797, 'low': 69.69999694824219, 'open': 69.89250183105469, 'close': 70.10250091552734, 'volume': 114158400, 'adjclose': 69.6221923828125, 'formatted_date': '2019-12-17'}, {'date': 1576679400, 'high': 70.4749984741211, 'low': 69.77999877929688, 'open': 69.94999694824219, 'close': 69.93499755859375, 'volume': 116028400, 'adjclose': 69.4558334350586, 'formatted_date': '2019-12-18'}, {'date': 1576765800, 'high': 70.29499816894531, 'low': 69.73750305175781, 'open': 69.875, 'close': 70.00499725341797, 'volume': 98369200, 'adjclose': 69.52535247802734, 'formatted_date': '2019-12-19'}, {'date': 1576852200, 'high': 70.6624984741211, 'low': 69.63999938964844, 'open': 70.55750274658203, 'close': 69.86000061035156, 'volume': 275978000, 'adjclose': 69.38134765625, 'formatted_date': '2019-12-20'}, {'date': 1577111400, 'high': 71.0625, 'low': 70.09249877929688, 'open': 70.13249969482422, 'close': 71.0, 'volume': 98572000, 'adjclose': 70.51353454589844, 'formatted_date': '2019-12-23'}, {'date': 1577197800, 'high': 71.22250366210938, 'low': 70.7300033569336, 'open': 71.17250061035156, 'close': 71.06749725341797, 'volume': 48478800, 'adjclose': 70.58056640625, 'formatted_date': '2019-12-24'}, {'date': 1577370600, 'high': 72.49500274658203, 'low': 71.17500305175781, 'open': 71.20500183105469, 'close': 72.47750091552734, 'volume': 93121200, 'adjclose': 71.98091125488281, 'formatted_date': '2019-12-26'}, {'date': 1577457000, 'high': 73.49250030517578, 'low': 72.02999877929688, 'open': 72.77999877929688, 'close': 72.44999694824219, 'volume': 146266000, 'adjclose': 71.95359802246094, 'formatted_date': '2019-12-27'}, {'date': 1577716200, 'high': 73.17250061035156, 'low': 71.30500030517578, 'open': 72.36499786376953, 'close': 72.87999725341797, 'volume': 144114400, 'adjclose': 72.38065338134766, 'formatted_date': '2019-12-30'}, {'date': 1577802600, 'high': 73.41999816894531, 'low': 72.37999725341797, 'open': 72.48249816894531, 'close': 73.4124984741211, 'volume': 100805600, 'adjclose': 72.90950012207031, 'formatted_date': '2019-12-31'}, {'date': 1577975400, 'high': 75.1500015258789, 'low': 73.79750061035156, 'open': 74.05999755859375, 'close': 75.0875015258789, 'volume': 135480400, 'adjclose': 74.57303619384766, 'formatted_date': '2020-01-02'}, {'date': 1578061800, 'high': 75.1449966430664, 'low': 74.125, 'open': 74.2874984741211, 'close': 74.35749816894531, 'volume': 146322800, 'adjclose': 73.84803009033203, 'formatted_date': '2020-01-03'}, {'date': 1578321000, 'high': 74.98999786376953, 'low': 73.1875, 'open': 73.44750213623047, 'close': 74.94999694824219, 'volume': 118387200, 'adjclose': 74.43647003173828, 'formatted_date': '2020-01-06'}, {'date': 1578407400, 'high': 75.2249984741211, 'low': 74.37000274658203, 'open': 74.95999908447266, 'close': 74.59750366210938, 'volume': 108872000, 'adjclose': 74.08639526367188, 'formatted_date': '2020-01-07'}, {'date': 1578493800, 'high': 76.11000061035156, 'low': 74.29000091552734, 'open': 74.29000091552734, 'close': 75.79750061035156, 'volume': 132079200, 'adjclose': 75.27816009521484, 'formatted_date': '2020-01-08'}, {'date': 1578580200, 'high': 77.60749816894531, 'low': 76.55000305175781, 'open': 76.80999755859375, 'close': 77.40750122070312, 'volume': 170108400, 'adjclose': 76.87713623046875, 'formatted_date': '2020-01-09'}, {'date': 1578666600, 'high': 78.1675033569336, 'low': 77.0625, 'open': 77.6500015258789, 'close': 77.5824966430664, 'volume': 140644800, 'adjclose': 77.0509262084961, 'formatted_date': '2020-01-10'}, {'date': 1578925800, 'high': 79.26750183105469, 'low': 77.7874984741211, 'open': 77.91000366210938, 'close': 79.23999786376953, 'volume': 121532000, 'adjclose': 78.69707489013672, 'formatted_date': '2020-01-13'}, {'date': 1579012200, 'high': 79.39250183105469, 'low': 78.0425033569336, 'open': 79.17500305175781, 'close': 78.16999816894531, 'volume': 161954400, 'adjclose': 77.63440704345703, 'formatted_date': '2020-01-14'}, {'date': 1579098600, 'high': 78.875, 'low': 77.38749694824219, 'open': 77.9625015258789, 'close': 77.83499908447266, 'volume': 121923600, 'adjclose': 77.30170440673828, 'formatted_date': '2020-01-15'}, {'date': 1579185000, 'high': 78.92500305175781, 'low': 78.02249908447266, 'open': 78.39749908447266, 'close': 78.80999755859375, 'volume': 108829200, 'adjclose': 78.27001953125, 'formatted_date': '2020-01-16'}, {'date': 1579271400, 'high': 79.68499755859375, 'low': 78.75, 'open': 79.06749725341797, 'close': 79.68250274658203, 'volume': 137816400, 'adjclose': 79.13655090332031, 'formatted_date': '2020-01-17'}, {'date': 1579617000, 'high': 79.75499725341797, 'low': 79.0, 'open': 79.29750061035156, 'close': 79.14250183105469, 'volume': 110843200, 'adjclose': 78.60025024414062, 'formatted_date': '2020-01-21'}, {'date': 1579703400, 'high': 79.99749755859375, 'low': 79.32749938964844, 'open': 79.6449966430664, 'close': 79.42500305175781, 'volume': 101832400, 'adjclose': 78.88082122802734, 'formatted_date': '2020-01-22'}, {'date': 1579789800, 'high': 79.88999938964844, 'low': 78.9124984741211, 'open': 79.4800033569336, 'close': 79.80750274658203, 'volume': 104472000, 'adjclose': 79.26069641113281, 'formatted_date': '2020-01-23'}, {'date': 1579876200, 'high': 80.8324966430664, 'low': 79.37999725341797, 'open': 80.0625, 'close': 79.57749938964844, 'volume': 146537600, 'adjclose': 79.03226470947266, 'formatted_date': '2020-01-24'}, {'date': 1580135400, 'high': 77.94249725341797, 'low': 76.22000122070312, 'open': 77.51499938964844, 'close': 77.23750305175781, 'volume': 161940000, 'adjclose': 76.70829772949219, 'formatted_date': '2020-01-27'}, {'date': 1580221800, 'high': 79.5999984741211, 'low': 78.04750061035156, 'open': 78.1500015258789, 'close': 79.42250061035156, 'volume': 162234000, 'adjclose': 78.87832641601562, 'formatted_date': '2020-01-28'}, {'date': 1580308200, 'high': 81.9625015258789, 'low': 80.34500122070312, 'open': 81.11250305175781, 'close': 81.08499908447266, 'volume': 216229200, 'adjclose': 80.52943420410156, 'formatted_date': '2020-01-29'}, {'date': 1580394600, 'high': 81.02249908447266, 'low': 79.6875, 'open': 80.13500213623047, 'close': 80.96749877929688, 'volume': 126743200, 'adjclose': 80.4127426147461, 'formatted_date': '2020-01-30'}, {'date': 1580481000, 'high': 80.66999816894531, 'low': 77.07250213623047, 'open': 80.23249816894531, 'close': 77.37750244140625, 'volume': 199588400, 'adjclose': 76.84734344482422, 'formatted_date': '2020-01-31'}, {'date': 1580740200, 'high': 78.37249755859375, 'low': 75.55500030517578, 'open': 76.07499694824219, 'close': 77.16500091552734, 'volume': 173985600, 'adjclose': 76.63629913330078, 'formatted_date': '2020-02-03'}, {'date': 1580826600, 'high': 79.91000366210938, 'low': 78.40750122070312, 'open': 78.82749938964844, 'close': 79.7125015258789, 'volume': 136616400, 'adjclose': 79.16633605957031, 'formatted_date': '2020-02-04'}, {'date': 1580913000, 'high': 81.19000244140625, 'low': 79.73750305175781, 'open': 80.87999725341797, 'close': 80.36250305175781, 'volume': 118826800, 'adjclose': 79.81189727783203, 'formatted_date': '2020-02-05'}, {'date': 1580999400, 'high': 81.30500030517578, 'low': 80.06500244140625, 'open': 80.64250183105469, 'close': 81.30249786376953, 'volume': 105425600, 'adjclose': 80.74544525146484, 'formatted_date': '2020-02-06'}, {'date': 1581085800, 'high': 80.8499984741211, 'low': 79.5, 'open': 80.59249877929688, 'close': 80.00749969482422, 'volume': 117684000, 'adjclose': 79.64789581298828, 'formatted_date': '2020-02-07'}, {'date': 1581345000, 'high': 80.38749694824219, 'low': 78.4625015258789, 'open': 78.54499816894531, 'close': 80.38749694824219, 'volume': 109348800, 'adjclose': 80.02619171142578, 'formatted_date': '2020-02-10'}, {'date': 1581431400, 'high': 80.9749984741211, 'low': 79.67749786376953, 'open': 80.9000015258789, 'close': 79.90249633789062, 'volume': 94323200, 'adjclose': 79.54336547851562, 'formatted_date': '2020-02-11'}, {'date': 1581517800, 'high': 81.80500030517578, 'low': 80.36750030517578, 'open': 80.36750030517578, 'close': 81.80000305175781, 'volume': 113730400, 'adjclose': 81.4323501586914, 'formatted_date': '2020-02-12'}, {'date': 1581604200, 'high': 81.55500030517578, 'low': 80.8375015258789, 'open': 81.04750061035156, 'close': 81.21749877929688, 'volume': 94747600, 'adjclose': 80.85246276855469, 'formatted_date': '2020-02-13'}, {'date': 1581690600, 'high': 81.49500274658203, 'low': 80.7125015258789, 'open': 81.18499755859375, 'close': 81.23750305175781, 'volume': 80113600, 'adjclose': 80.87237548828125, 'formatted_date': '2020-02-14'}, {'date': 1582036200, 'high': 79.9375, 'low': 78.65249633789062, 'open': 78.83999633789062, 'close': 79.75, 'volume': 152531200, 'adjclose': 79.39155578613281, 'formatted_date': '2020-02-18'}, {'date': 1582122600, 'high': 81.14250183105469, 'low': 80.0, 'open': 80.0, 'close': 80.90499877929688, 'volume': 93984000, 'adjclose': 80.54136657714844, 'formatted_date': '2020-02-19'}, {'date': 1582209000, 'high': 81.1624984741211, 'low': 79.55249786376953, 'open': 80.65750122070312, 'close': 80.07499694824219, 'volume': 100566000, 'adjclose': 79.715087890625, 'formatted_date': '2020-02-20'}, {'date': 1582295400, 'high': 80.11250305175781, 'low': 77.625, 'open': 79.65499877929688, 'close': 78.26249694824219, 'volume': 129554000, 'adjclose': 77.9107437133789, 'formatted_date': '2020-02-21'}, {'date': 1582554600, 'high': 76.04499816894531, 'low': 72.30750274658203, 'open': 74.31500244140625, 'close': 74.54499816894531, 'volume': 222195200, 'adjclose': 74.20994567871094, 'formatted_date': '2020-02-24'}, {'date': 1582641000, 'high': 75.63249969482422, 'low': 71.53250122070312, 'open': 75.23750305175781, 'close': 72.0199966430664, 'volume': 230673600, 'adjclose': 71.69629669189453, 'formatted_date': '2020-02-25'}, {'date': 1582727400, 'high': 74.47000122070312, 'low': 71.625, 'open': 71.63249969482422, 'close': 73.1624984741211, 'volume': 198054800, 'adjclose': 72.83366394042969, 'formatted_date': '2020-02-26'}, {'date': 1582813800, 'high': 71.5, 'low': 68.23999786376953, 'open': 70.2750015258789, 'close': 68.37999725341797, 'volume': 320605600, 'adjclose': 68.07266235351562, 'formatted_date': '2020-02-27'}, {'date': 1582900200, 'high': 69.60250091552734, 'low': 64.09249877929688, 'open': 64.31500244140625, 'close': 68.33999633789062, 'volume': 426884800, 'adjclose': 68.0328369140625, 'formatted_date': '2020-02-28'}, {'date': 1583159400, 'high': 75.36000061035156, 'low': 69.43000030517578, 'open': 70.56999969482422, 'close': 74.70249938964844, 'volume': 341397200, 'adjclose': 74.36673736572266, 'formatted_date': '2020-03-02'}, {'date': 1583245800, 'high': 76.0, 'low': 71.44999694824219, 'open': 75.9175033569336, 'close': 72.33000183105469, 'volume': 319475600, 'adjclose': 72.00491333007812, 'formatted_date': '2020-03-03'}, {'date': 1583332200, 'high': 75.8499984741211, 'low': 73.28250122070312, 'open': 74.11000061035156, 'close': 75.68499755859375, 'volume': 219178400, 'adjclose': 75.3448257446289, 'formatted_date': '2020-03-04'}, {'date': 1583418600, 'high': 74.88749694824219, 'low': 72.85250091552734, 'open': 73.87999725341797, 'close': 73.2300033569336, 'volume': 187572800, 'adjclose': 72.90086364746094, 'formatted_date': '2020-03-05'}, {'date': 1583505000, 'high': 72.70500183105469, 'low': 70.30750274658203, 'open': 70.5, 'close': 72.25749969482422, 'volume': 226176800, 'adjclose': 71.9327392578125, 'formatted_date': '2020-03-06'}, {'date': 1583760600, 'high': 69.52249908447266, 'low': 65.75, 'open': 65.9375, 'close': 66.5425033569336, 'volume': 286744800, 'adjclose': 66.24342346191406, 'formatted_date': '2020-03-09'}, {'date': 1583847000, 'high': 71.61000061035156, 'low': 67.34249877929688, 'open': 69.28500366210938, 'close': 71.33499908447266, 'volume': 285290000, 'adjclose': 71.0143814086914, 'formatted_date': '2020-03-10'}, {'date': 1583933400, 'high': 70.30500030517578, 'low': 67.96499633789062, 'open': 69.34750366210938, 'close': 68.85749816894531, 'volume': 255598800, 'adjclose': 68.54801177978516, 'formatted_date': '2020-03-11'}, {'date': 1584019800, 'high': 67.5, 'low': 62.0, 'open': 63.98500061035156, 'close': 62.057498931884766, 'volume': 418474000, 'adjclose': 61.77857971191406, 'formatted_date': '2020-03-12'}, {'date': 1584106200, 'high': 69.9800033569336, 'low': 63.23749923706055, 'open': 66.22250366210938, 'close': 69.49250030517578, 'volume': 370732000, 'adjclose': 69.18016052246094, 'formatted_date': '2020-03-13'}, {'date': 1584365400, 'high': 64.7699966430664, 'low': 60.0, 'open': 60.48749923706055, 'close': 60.5525016784668, 'volume': 322423600, 'adjclose': 60.28034591674805, 'formatted_date': '2020-03-16'}, {'date': 1584451800, 'high': 64.40249633789062, 'low': 59.599998474121094, 'open': 61.877498626708984, 'close': 63.21500015258789, 'volume': 324056000, 'adjclose': 62.930877685546875, 'formatted_date': '2020-03-17'}, {'date': 1584538200, 'high': 62.5, 'low': 59.279998779296875, 'open': 59.942501068115234, 'close': 61.66749954223633, 'volume': 300233600, 'adjclose': 61.39033126831055, 'formatted_date': '2020-03-18'}, {'date': 1584624600, 'high': 63.209999084472656, 'low': 60.65250015258789, 'open': 61.84749984741211, 'close': 61.19499969482422, 'volume': 271857200, 'adjclose': 60.919952392578125, 'formatted_date': '2020-03-19'}, {'date': 1584711000, 'high': 62.95750045776367, 'low': 57.0, 'open': 61.79499816894531, 'close': 57.310001373291016, 'volume': 401693200, 'adjclose': 57.05241775512695, 'formatted_date': '2020-03-20'}, {'date': 1584970200, 'high': 57.125, 'low': 53.15250015258789, 'open': 57.02000045776367, 'close': 56.092498779296875, 'volume': 336752800, 'adjclose': 55.84038543701172, 'formatted_date': '2020-03-23'}, {'date': 1585056600, 'high': 61.92250061035156, 'low': 58.57500076293945, 'open': 59.09000015258789, 'close': 61.720001220703125, 'volume': 287531200, 'adjclose': 61.442596435546875, 'formatted_date': '2020-03-24'}, {'date': 1585143000, 'high': 64.5625, 'low': 61.07500076293945, 'open': 62.6875, 'close': 61.380001068115234, 'volume': 303602000, 'adjclose': 61.104122161865234, 'formatted_date': '2020-03-25'}, {'date': 1585229400, 'high': 64.66999816894531, 'low': 61.59000015258789, 'open': 61.630001068115234, 'close': 64.61000061035156, 'volume': 252087200, 'adjclose': 64.31961059570312, 'formatted_date': '2020-03-26'}, {'date': 1585315800, 'high': 63.967498779296875, 'low': 61.76250076293945, 'open': 63.1875, 'close': 61.935001373291016, 'volume': 204216800, 'adjclose': 61.6566276550293, 'formatted_date': '2020-03-27'}, {'date': 1585575000, 'high': 63.880001068115234, 'low': 62.349998474121094, 'open': 62.685001373291016, 'close': 63.70249938964844, 'volume': 167976400, 'adjclose': 63.41618347167969, 'formatted_date': '2020-03-30'}, {'date': 1585661400, 'high': 65.62249755859375, 'low': 63.0, 'open': 63.900001525878906, 'close': 63.5724983215332, 'volume': 197002000, 'adjclose': 63.28676986694336, 'formatted_date': '2020-03-31'}, {'date': 1585747800, 'high': 62.18000030517578, 'low': 59.782501220703125, 'open': 61.625, 'close': 60.227500915527344, 'volume': 176218400, 'adjclose': 59.95680618286133, 'formatted_date': '2020-04-01'}, {'date': 1585834200, 'high': 61.287498474121094, 'low': 59.224998474121094, 'open': 60.084999084472656, 'close': 61.23249816894531, 'volume': 165934000, 'adjclose': 60.9572868347168, 'formatted_date': '2020-04-02'}, {'date': 1585920600, 'high': 61.42499923706055, 'low': 59.74250030517578, 'open': 60.70000076293945, 'close': 60.352500915527344, 'volume': 32470000, 'adjclose': 60.081241607666016, 'formatted_date': '2020-04-03'}, {'date': 1586179800, 'high': 65.77749633789062, 'low': 62.345001220703125, 'open': 62.724998474121094, 'close': 65.61750030517578, 'volume': 50455100, 'adjclose': 65.32257843017578, 'formatted_date': '2020-04-06'}, {'date': 1586266200, 'high': 67.92500305175781, 'low': 64.75, 'open': 67.69999694824219, 'close': 64.85749816894531, 'volume': 50721800, 'adjclose': 64.56599426269531, 'formatted_date': '2020-04-07'}, {'date': 1586352600, 'high': 66.84249877929688, 'low': 65.30750274658203, 'open': 65.68499755859375, 'close': 66.51750183105469, 'volume': 42223800, 'adjclose': 66.21853637695312, 'formatted_date': '2020-04-08'}, {'date': 1586439000, 'high': 67.51750183105469, 'low': 66.17500305175781, 'open': 67.17500305175781, 'close': 66.99749755859375, 'volume': 40529100, 'adjclose': 66.69637298583984, 'formatted_date': '2020-04-09'}, {'date': 1586784600, 'high': 68.42500305175781, 'low': 66.4574966430664, 'open': 67.07749938964844, 'close': 68.3125, 'volume': 32755700, 'adjclose': 68.0054702758789, 'formatted_date': '2020-04-13'}, {'date': 1586871000, 'high': 72.0625, 'low': 69.51249694824219, 'open': 70.0, 'close': 71.76249694824219, 'volume': 48612900, 'adjclose': 71.43995666503906, 'formatted_date': '2020-04-14'}, {'date': 1586957400, 'high': 71.5824966430664, 'low': 70.15750122070312, 'open': 70.5999984741211, 'close': 71.10749816894531, 'volume': 131154400, 'adjclose': 70.78790283203125, 'formatted_date': '2020-04-15'}, {'date': 1587043800, 'high': 72.05000305175781, 'low': 70.5875015258789, 'open': 71.84500122070312, 'close': 71.67250061035156, 'volume': 157125200, 'adjclose': 71.3503646850586, 'formatted_date': '2020-04-16'}, {'date': 1587130200, 'high': 71.73750305175781, 'low': 69.21499633789062, 'open': 71.17250061035156, 'close': 70.69999694824219, 'volume': 215250000, 'adjclose': 70.38223266601562, 'formatted_date': '2020-04-17'}, {'date': 1587389400, 'high': 70.41999816894531, 'low': 69.2125015258789, 'open': 69.48750305175781, 'close': 69.23249816894531, 'volume': 130015200, 'adjclose': 68.92132568359375, 'formatted_date': '2020-04-20'}, {'date': 1587475800, 'high': 69.3125, 'low': 66.35749816894531, 'open': 69.06999969482422, 'close': 67.09249877929688, 'volume': 180991600, 'adjclose': 66.79094696044922, 'formatted_date': '2020-04-21'}, {'date': 1587562200, 'high': 69.4749984741211, 'low': 68.05000305175781, 'open': 68.40249633789062, 'close': 69.0250015258789, 'volume': 117057200, 'adjclose': 68.71475982666016, 'formatted_date': '2020-04-22'}, {'date': 1587648600, 'high': 70.4375, 'low': 68.71749877929688, 'open': 68.96749877929688, 'close': 68.75749969482422, 'volume': 124814400, 'adjclose': 68.4484634399414, 'formatted_date': '2020-04-23'}, {'date': 1587735000, 'high': 70.75250244140625, 'low': 69.25, 'open': 69.30000305175781, 'close': 70.74250030517578, 'volume': 126508800, 'adjclose': 70.42454528808594, 'formatted_date': '2020-04-24'}, {'date': 1587994200, 'high': 71.13500213623047, 'low': 69.98750305175781, 'open': 70.44999694824219, 'close': 70.7925033569336, 'volume': 117087600, 'adjclose': 70.47431945800781, 'formatted_date': '2020-04-27'}, {'date': 1588080600, 'high': 71.4574966430664, 'low': 69.55000305175781, 'open': 71.2699966430664, 'close': 69.6449966430664, 'volume': 112004800, 'adjclose': 69.33197021484375, 'formatted_date': '2020-04-28'}, {'date': 1588167000, 'high': 72.4175033569336, 'low': 70.97250366210938, 'open': 71.18250274658203, 'close': 71.93250274658203, 'volume': 137280800, 'adjclose': 71.60919952392578, 'formatted_date': '2020-04-29'}, {'date': 1588253400, 'high': 73.63249969482422, 'low': 72.0875015258789, 'open': 72.48999786376953, 'close': 73.44999694824219, 'volume': 183064000, 'adjclose': 73.119873046875, 'formatted_date': '2020-04-30'}, {'date': 1588339800, 'high': 74.75, 'low': 71.4625015258789, 'open': 71.5625, 'close': 72.26750183105469, 'volume': 240616800, 'adjclose': 71.94268798828125, 'formatted_date': '2020-05-01'}, {'date': 1588599000, 'high': 73.42250061035156, 'low': 71.58000183105469, 'open': 72.2925033569336, 'close': 73.29000091552734, 'volume': 133568000, 'adjclose': 72.9605941772461, 'formatted_date': '2020-05-04'}, {'date': 1588685400, 'high': 75.25, 'low': 73.61499786376953, 'open': 73.76499938964844, 'close': 74.38999938964844, 'volume': 147751200, 'adjclose': 74.05564880371094, 'formatted_date': '2020-05-05'}, {'date': 1588771800, 'high': 75.80999755859375, 'low': 74.71749877929688, 'open': 75.11499786376953, 'close': 75.15750122070312, 'volume': 142333600, 'adjclose': 74.81969451904297, 'formatted_date': '2020-05-06'}, {'date': 1588858200, 'high': 76.2925033569336, 'low': 75.49250030517578, 'open': 75.80500030517578, 'close': 75.93499755859375, 'volume': 115215200, 'adjclose': 75.59369659423828, 'formatted_date': '2020-05-07'}, {'date': 1588944600, 'high': 77.5875015258789, 'low': 76.07250213623047, 'open': 76.41000366210938, 'close': 77.53250122070312, 'volume': 134048000, 'adjclose': 77.39295959472656, 'formatted_date': '2020-05-08'}, {'date': 1589203800, 'high': 79.26249694824219, 'low': 76.80999755859375, 'open': 77.0250015258789, 'close': 78.75250244140625, 'volume': 145946400, 'adjclose': 78.61076354980469, 'formatted_date': '2020-05-11'}, {'date': 1589290200, 'high': 79.92250061035156, 'low': 77.72750091552734, 'open': 79.4574966430664, 'close': 77.85250091552734, 'volume': 162301200, 'adjclose': 77.71238708496094, 'formatted_date': '2020-05-12'}, {'date': 1589376600, 'high': 78.98750305175781, 'low': 75.80249786376953, 'open': 78.0374984741211, 'close': 76.9124984741211, 'volume': 200622400, 'adjclose': 76.7740707397461, 'formatted_date': '2020-05-13'}, {'date': 1589463000, 'high': 77.44750213623047, 'low': 75.38249969482422, 'open': 76.12750244140625, 'close': 77.38500213623047, 'volume': 158929200, 'adjclose': 77.2457275390625, 'formatted_date': '2020-05-14'}, {'date': 1589549400, 'high': 76.9749984741211, 'low': 75.05249786376953, 'open': 75.0875015258789, 'close': 76.92749786376953, 'volume': 166348400, 'adjclose': 76.78904724121094, 'formatted_date': '2020-05-15'}, {'date': 1589808600, 'high': 79.125, 'low': 77.58000183105469, 'open': 78.2925033569336, 'close': 78.73999786376953, 'volume': 135372400, 'adjclose': 78.59828186035156, 'formatted_date': '2020-05-18'}, {'date': 1589895000, 'high': 79.62999725341797, 'low': 78.25250244140625, 'open': 78.75749969482422, 'close': 78.28500366210938, 'volume': 101729600, 'adjclose': 78.14411163330078, 'formatted_date': '2020-05-19'}, {'date': 1589981400, 'high': 79.87999725341797, 'low': 79.12999725341797, 'open': 79.16999816894531, 'close': 79.80750274658203, 'volume': 111504800, 'adjclose': 79.66387176513672, 'formatted_date': '2020-05-20'}, {'date': 1590067800, 'high': 80.22250366210938, 'low': 78.96749877929688, 'open': 79.66500091552734, 'close': 79.2125015258789, 'volume': 102688800, 'adjclose': 79.06993865966797, 'formatted_date': '2020-05-21'}, {'date': 1590154200, 'high': 79.80750274658203, 'low': 78.8375015258789, 'open': 78.94249725341797, 'close': 79.72250366210938, 'volume': 81803200, 'adjclose': 79.57902526855469, 'formatted_date': '2020-05-22'}, {'date': 1590499800, 'high': 81.05999755859375, 'low': 79.125, 'open': 80.875, 'close': 79.18250274658203, 'volume': 125522000, 'adjclose': 79.03999328613281, 'formatted_date': '2020-05-26'}, {'date': 1590586200, 'high': 79.67749786376953, 'low': 78.27249908447266, 'open': 79.03500366210938, 'close': 79.52749633789062, 'volume': 112945200, 'adjclose': 79.38436889648438, 'formatted_date': '2020-05-27'}, {'date': 1590672600, 'high': 80.86000061035156, 'low': 78.90750122070312, 'open': 79.19249725341797, 'close': 79.5625, 'volume': 133560800, 'adjclose': 79.41930389404297, 'formatted_date': '2020-05-28'}, {'date': 1590759000, 'high': 80.2874984741211, 'low': 79.11750030517578, 'open': 79.8125, 'close': 79.48500061035156, 'volume': 153598000, 'adjclose': 79.34194946289062, 'formatted_date': '2020-05-29'}, {'date': 1591018200, 'high': 80.5875015258789, 'low': 79.30249786376953, 'open': 79.4375, 'close': 80.4625015258789, 'volume': 80791200, 'adjclose': 80.31768798828125, 'formatted_date': '2020-06-01'}, {'date': 1591104600, 'high': 80.86000061035156, 'low': 79.73249816894531, 'open': 80.1875, 'close': 80.83499908447266, 'volume': 87642800, 'adjclose': 80.68951416015625, 'formatted_date': '2020-06-02'}, {'date': 1591191000, 'high': 81.55000305175781, 'low': 80.57499694824219, 'open': 81.16500091552734, 'close': 81.27999877929688, 'volume': 104491200, 'adjclose': 81.13371276855469, 'formatted_date': '2020-06-03'}, {'date': 1591277400, 'high': 81.40499877929688, 'low': 80.19499969482422, 'open': 81.09750366210938, 'close': 80.58000183105469, 'volume': 87560400, 'adjclose': 80.43497467041016, 'formatted_date': '2020-06-04'}, {'date': 1591363800, 'high': 82.9375, 'low': 80.80750274658203, 'open': 80.8375015258789, 'close': 82.875, 'volume': 137250400, 'adjclose': 82.72584533691406, 'formatted_date': '2020-06-05'}, {'date': 1591623000, 'high': 83.4000015258789, 'low': 81.83000183105469, 'open': 82.5625, 'close': 83.36499786376953, 'volume': 95654400, 'adjclose': 83.21495819091797, 'formatted_date': '2020-06-08'}, {'date': 1591709400, 'high': 86.40249633789062, 'low': 83.00250244140625, 'open': 83.03500366210938, 'close': 85.99749755859375, 'volume': 147712400, 'adjclose': 85.84272003173828, 'formatted_date': '2020-06-09'}, {'date': 1591795800, 'high': 88.69249725341797, 'low': 86.52249908447266, 'open': 86.9749984741211, 'close': 88.20999908447266, 'volume': 166651600, 'adjclose': 88.05123901367188, 'formatted_date': '2020-06-10'}, {'date': 1591882200, 'high': 87.76499938964844, 'low': 83.87000274658203, 'open': 87.32749938964844, 'close': 83.9749984741211, 'volume': 201662400, 'adjclose': 83.82386016845703, 'formatted_date': '2020-06-11'}, {'date': 1591968600, 'high': 86.94999694824219, 'low': 83.55500030517578, 'open': 86.18000030517578, 'close': 84.69999694824219, 'volume': 200146000, 'adjclose': 84.54755401611328, 'formatted_date': '2020-06-12'}, {'date': 1592227800, 'high': 86.41999816894531, 'low': 83.1449966430664, 'open': 83.3125, 'close': 85.74749755859375, 'volume': 138808800, 'adjclose': 85.59317016601562, 'formatted_date': '2020-06-15'}, {'date': 1592314200, 'high': 88.30000305175781, 'low': 86.18000030517578, 'open': 87.86499786376953, 'close': 88.0199966430664, 'volume': 165428800, 'adjclose': 87.86157989501953, 'formatted_date': '2020-06-16'}, {'date': 1592400600, 'high': 88.8499984741211, 'low': 87.77249908447266, 'open': 88.7874984741211, 'close': 87.89749908447266, 'volume': 114406400, 'adjclose': 87.73930358886719, 'formatted_date': '2020-06-17'}, {'date': 1592487000, 'high': 88.36250305175781, 'low': 87.30500030517578, 'open': 87.85250091552734, 'close': 87.93250274658203, 'volume': 96820400, 'adjclose': 87.77424621582031, 'formatted_date': '2020-06-18'}, {'date': 1592573400, 'high': 89.13999938964844, 'low': 86.2874984741211, 'open': 88.66000366210938, 'close': 87.43000030517578, 'volume': 264476000, 'adjclose': 87.27264404296875, 'formatted_date': '2020-06-19'}, {'date': 1592832600, 'high': 89.86499786376953, 'low': 87.7874984741211, 'open': 87.83499908447266, 'close': 89.71749877929688, 'volume': 135445200, 'adjclose': 89.5560302734375, 'formatted_date': '2020-06-22'}, {'date': 1592919000, 'high': 93.09500122070312, 'low': 90.56749725341797, 'open': 91.0, 'close': 91.63249969482422, 'volume': 212155600, 'adjclose': 91.46758270263672, 'formatted_date': '2020-06-23'}, {'date': 1593005400, 'high': 92.19750213623047, 'low': 89.62999725341797, 'open': 91.25, 'close': 90.01499938964844, 'volume': 192623200, 'adjclose': 89.85299682617188, 'formatted_date': '2020-06-24'}, {'date': 1593091800, 'high': 91.25, 'low': 89.39250183105469, 'open': 90.17500305175781, 'close': 91.20999908447266, 'volume': 137522400, 'adjclose': 91.04584503173828, 'formatted_date': '2020-06-25'}, {'date': 1593178200, 'high': 91.33000183105469, 'low': 88.25499725341797, 'open': 91.10250091552734, 'close': 88.40750122070312, 'volume': 205256800, 'adjclose': 88.2483901977539, 'formatted_date': '2020-06-26'}, {'date': 1593437400, 'high': 90.5425033569336, 'low': 87.81999969482422, 'open': 88.3125, 'close': 90.44499969482422, 'volume': 130646000, 'adjclose': 90.28221893310547, 'formatted_date': '2020-06-29'}, {'date': 1593523800, 'high': 91.49500274658203, 'low': 90.0, 'open': 90.0199966430664, 'close': 91.19999694824219, 'volume': 140223200, 'adjclose': 91.03585815429688, 'formatted_date': '2020-06-30'}, {'date': 1593610200, 'high': 91.83999633789062, 'low': 90.97750091552734, 'open': 91.27999877929688, 'close': 91.02749633789062, 'volume': 110737200, 'adjclose': 90.8636703491211, 'formatted_date': '2020-07-01'}, {'date': 1593696600, 'high': 92.61750030517578, 'low': 90.91000366210938, 'open': 91.9625015258789, 'close': 91.02749633789062, 'volume': 114041600, 'adjclose': 90.8636703491211, 'formatted_date': '2020-07-02'}, {'date': 1594042200, 'high': 93.94499969482422, 'low': 92.46749877929688, 'open': 92.5, 'close': 93.4625015258789, 'volume': 118655600, 'adjclose': 93.2942886352539, 'formatted_date': '2020-07-06'}, {'date': 1594128600, 'high': 94.65499877929688, 'low': 93.05750274658203, 'open': 93.85250091552734, 'close': 93.17250061035156, 'volume': 112424400, 'adjclose': 93.00481414794922, 'formatted_date': '2020-07-07'}, {'date': 1594215000, 'high': 95.375, 'low': 94.08999633789062, 'open': 94.18000030517578, 'close': 95.34249877929688, 'volume': 117092000, 'adjclose': 95.17090606689453, 'formatted_date': '2020-07-08'}, {'date': 1594301400, 'high': 96.31749725341797, 'low': 94.67250061035156, 'open': 96.26249694824219, 'close': 95.75250244140625, 'volume': 125642800, 'adjclose': 95.58016967773438, 'formatted_date': '2020-07-09'}, {'date': 1594387800, 'high': 95.9800033569336, 'low': 94.70500183105469, 'open': 95.33499908447266, 'close': 95.91999816894531, 'volume': 90257200, 'adjclose': 95.74736785888672, 'formatted_date': '2020-07-10'}, {'date': 1594647000, 'high': 99.95500183105469, 'low': 95.25749969482422, 'open': 97.26499938964844, 'close': 95.47750091552734, 'volume': 191649200, 'adjclose': 95.3056640625, 'formatted_date': '2020-07-13'}, {'date': 1594733400, 'high': 97.25499725341797, 'low': 93.87750244140625, 'open': 94.83999633789062, 'close': 97.05750274658203, 'volume': 170989200, 'adjclose': 96.88282012939453, 'formatted_date': '2020-07-14'}, {'date': 1594819800, 'high': 99.24749755859375, 'low': 96.48999786376953, 'open': 98.98999786376953, 'close': 97.7249984741211, 'volume': 153198000, 'adjclose': 97.54911804199219, 'formatted_date': '2020-07-15'}, {'date': 1594906200, 'high': 97.40499877929688, 'low': 95.90499877929688, 'open': 96.5625, 'close': 96.52249908447266, 'volume': 110577600, 'adjclose': 96.3487777709961, 'formatted_date': '2020-07-16'}, {'date': 1594992600, 'high': 97.14749908447266, 'low': 95.83999633789062, 'open': 96.98750305175781, 'close': 96.32749938964844, 'volume': 92186800, 'adjclose': 96.15412902832031, 'formatted_date': '2020-07-17'}, {'date': 1595251800, 'high': 98.5, 'low': 96.0625, 'open': 96.4175033569336, 'close': 98.35749816894531, 'volume': 90318000, 'adjclose': 98.18048095703125, 'formatted_date': '2020-07-20'}, {'date': 1595338200, 'high': 99.25, 'low': 96.74250030517578, 'open': 99.17250061035156, 'close': 97.0, 'volume': 103646000, 'adjclose': 96.82542419433594, 'formatted_date': '2020-07-21'}, {'date': 1595424600, 'high': 97.9749984741211, 'low': 96.60250091552734, 'open': 96.69249725341797, 'close': 97.27249908447266, 'volume': 89001600, 'adjclose': 97.0974349975586, 'formatted_date': '2020-07-22'}, {'date': 1595511000, 'high': 97.07749938964844, 'low': 92.01000213623047, 'open': 96.99749755859375, 'close': 92.84500122070312, 'volume': 197004400, 'adjclose': 92.67790222167969, 'formatted_date': '2020-07-23'}, {'date': 1595597400, 'high': 92.97000122070312, 'low': 89.1449966430664, 'open': 90.98750305175781, 'close': 92.61499786376953, 'volume': 185438800, 'adjclose': 92.44831085205078, 'formatted_date': '2020-07-24'}, {'date': 1595856600, 'high': 94.90499877929688, 'low': 93.4800033569336, 'open': 93.70999908447266, 'close': 94.80999755859375, 'volume': 121214000, 'adjclose': 94.63935852050781, 'formatted_date': '2020-07-27'}, {'date': 1595943000, 'high': 94.55000305175781, 'low': 93.24749755859375, 'open': 94.36750030517578, 'close': 93.25250244140625, 'volume': 103625600, 'adjclose': 93.08467102050781, 'formatted_date': '2020-07-28'}, {'date': 1596029400, 'high': 95.2300033569336, 'low': 93.7125015258789, 'open': 93.75, 'close': 95.04000091552734, 'volume': 90329200, 'adjclose': 94.86894989013672, 'formatted_date': '2020-07-29'}, {'date': 1596115800, 'high': 96.29750061035156, 'low': 93.76750183105469, 'open': 94.1875, 'close': 96.19000244140625, 'volume': 158130000, 'adjclose': 96.01688385009766, 'formatted_date': '2020-07-30'}, {'date': 1596202200, 'high': 106.41500091552734, 'low': 100.82499694824219, 'open': 102.88500213623047, 'close': 106.26000213623047, 'volume': 374336800, 'adjclose': 106.06875610351562, 'formatted_date': '2020-07-31'}, {'date': 1596461400, 'high': 111.63749694824219, 'low': 107.89250183105469, 'open': 108.19999694824219, 'close': 108.9375, 'volume': 308151200, 'adjclose': 108.74143981933594, 'formatted_date': '2020-08-03'}, {'date': 1596547800, 'high': 110.79000091552734, 'low': 108.38749694824219, 'open': 109.13249969482422, 'close': 109.66500091552734, 'volume': 173071600, 'adjclose': 109.4676284790039, 'formatted_date': '2020-08-04'}, {'date': 1596634200, 'high': 110.39250183105469, 'low': 108.89749908447266, 'open': 109.37750244140625, 'close': 110.0625, 'volume': 121992000, 'adjclose': 109.86441040039062, 'formatted_date': '2020-08-05'}, {'date': 1596720600, 'high': 114.4124984741211, 'low': 109.79750061035156, 'open': 110.40499877929688, 'close': 113.90249633789062, 'volume': 202428800, 'adjclose': 113.69750213623047, 'formatted_date': '2020-08-06'}, {'date': 1596807000, 'high': 113.67500305175781, 'low': 110.2925033569336, 'open': 113.20500183105469, 'close': 111.11250305175781, 'volume': 198045600, 'adjclose': 111.11250305175781, 'formatted_date': '2020-08-07'}, {'date': 1597066200, 'high': 113.7750015258789, 'low': 110.0, 'open': 112.5999984741211, 'close': 112.72750091552734, 'volume': 212403600, 'adjclose': 112.72750091552734, 'formatted_date': '2020-08-10'}, {'date': 1597152600, 'high': 112.48249816894531, 'low': 109.10749816894531, 'open': 111.97000122070312, 'close': 109.375, 'volume': 187902400, 'adjclose': 109.375, 'formatted_date': '2020-08-11'}, {'date': 1597239000, 'high': 113.2750015258789, 'low': 110.29750061035156, 'open': 110.49749755859375, 'close': 113.01000213623047, 'volume': 165944800, 'adjclose': 113.01000213623047, 'formatted_date': '2020-08-12'}, {'date': 1597325400, 'high': 116.0425033569336, 'low': 113.92749786376953, 'open': 114.43000030517578, 'close': 115.01000213623047, 'volume': 210082000, 'adjclose': 115.01000213623047, 'formatted_date': '2020-08-13'}, {'date': 1597411800, 'high': 115.0, 'low': 113.04499816894531, 'open': 114.83000183105469, 'close': 114.90750122070312, 'volume': 165565200, 'adjclose': 114.90750122070312, 'formatted_date': '2020-08-14'}, {'date': 1597671000, 'high': 116.0875015258789, 'low': 113.9625015258789, 'open': 116.0625, 'close': 114.60749816894531, 'volume': 119561600, 'adjclose': 114.60749816894531, 'formatted_date': '2020-08-17'}, {'date': 1597757400, 'high': 116.0, 'low': 114.00749969482422, 'open': 114.35250091552734, 'close': 115.5625, 'volume': 105633600, 'adjclose': 115.5625, 'formatted_date': '2020-08-18'}, {'date': 1597843800, 'high': 117.1624984741211, 'low': 115.61000061035156, 'open': 115.98249816894531, 'close': 115.7074966430664, 'volume': 145538000, 'adjclose': 115.7074966430664, 'formatted_date': '2020-08-19'}, {'date': 1597930200, 'high': 118.39250183105469, 'low': 115.73249816894531, 'open': 115.75, 'close': 118.2750015258789, 'volume': 126907200, 'adjclose': 118.2750015258789, 'formatted_date': '2020-08-20'}, {'date': 1598016600, 'high': 124.86750030517578, 'low': 119.25, 'open': 119.26249694824219, 'close': 124.37000274658203, 'volume': 338054800, 'adjclose': 124.37000274658203, 'formatted_date': '2020-08-21'}, {'date': 1598275800, 'high': 128.78500366210938, 'low': 123.9375, 'open': 128.69749450683594, 'close': 125.85749816894531, 'volume': 345937600, 'adjclose': 125.85749816894531, 'formatted_date': '2020-08-24'}, {'date': 1598362200, 'high': 125.18000030517578, 'low': 123.05249786376953, 'open': 124.69750213623047, 'close': 124.82499694824219, 'volume': 211495600, 'adjclose': 124.82499694824219, 'formatted_date': '2020-08-25'}, {'date': 1598448600, 'high': 126.99250030517578, 'low': 125.0824966430664, 'open': 126.18000030517578, 'close': 126.52249908447266, 'volume': 163022400, 'adjclose': 126.52249908447266, 'formatted_date': '2020-08-26'}, {'date': 1598535000, 'high': 127.48500061035156, 'low': 123.8324966430664, 'open': 127.14250183105469, 'close': 125.01000213623047, 'volume': 155552400, 'adjclose': 125.01000213623047, 'formatted_date': '2020-08-27'}, {'date': 1598621400, 'high': 126.44249725341797, 'low': 124.57749938964844, 'open': 126.01249694824219, 'close': 124.80750274658203, 'volume': 187630000, 'adjclose': 124.80750274658203, 'formatted_date': '2020-08-28'}, {'date': 1598880600, 'high': 131.0, 'low': 126.0, 'open': 127.58000183105469, 'close': 129.0399932861328, 'volume': 225702700, 'adjclose': 129.0399932861328, 'formatted_date': '2020-08-31'}, {'date': 1598967000, 'high': 134.8000030517578, 'low': 130.52999877929688, 'open': 132.75999450683594, 'close': 134.17999267578125, 'volume': 152470100, 'adjclose': 134.17999267578125, 'formatted_date': '2020-09-01'}, {'date': 1599053400, 'high': 137.97999572753906, 'low': 127.0, 'open': 137.58999633789062, 'close': 131.39999389648438, 'volume': 200119000, 'adjclose': 131.39999389648438, 'formatted_date': '2020-09-02'}, {'date': 1599139800, 'high': 128.83999633789062, 'low': 120.5, 'open': 126.91000366210938, 'close': 120.87999725341797, 'volume': 257599600, 'adjclose': 120.87999725341797, 'formatted_date': '2020-09-03'}, {'date': 1599226200, 'high': 123.69999694824219, 'low': 110.88999938964844, 'open': 120.06999969482422, 'close': 120.95999908447266, 'volume': 332607200, 'adjclose': 120.95999908447266, 'formatted_date': '2020-09-04'}, {'date': 1599571800, 'high': 118.98999786376953, 'low': 112.68000030517578, 'open': 113.94999694824219, 'close': 112.81999969482422, 'volume': 231366600, 'adjclose': 112.81999969482422, 'formatted_date': '2020-09-08'}, {'date': 1599658200, 'high': 119.13999938964844, 'low': 115.26000213623047, 'open': 117.26000213623047, 'close': 117.31999969482422, 'volume': 176940500, 'adjclose': 117.31999969482422, 'formatted_date': '2020-09-09'}, {'date': 1599744600, 'high': 120.5, 'low': 112.5, 'open': 120.36000061035156, 'close': 113.48999786376953, 'volume': 182274400, 'adjclose': 113.48999786376953, 'formatted_date': '2020-09-10'}, {'date': 1599831000, 'high': 115.2300033569336, 'low': 110.0, 'open': 114.56999969482422, 'close': 112.0, 'volume': 180860300, 'adjclose': 112.0, 'formatted_date': '2020-09-11'}, {'date': 1600090200, 'high': 115.93000030517578, 'low': 112.80000305175781, 'open': 114.72000122070312, 'close': 115.36000061035156, 'volume': 140150100, 'adjclose': 115.36000061035156, 'formatted_date': '2020-09-14'}, {'date': 1600176600, 'high': 118.83000183105469, 'low': 113.61000061035156, 'open': 118.33000183105469, 'close': 115.54000091552734, 'volume': 184642000, 'adjclose': 115.54000091552734, 'formatted_date': '2020-09-15'}, {'date': 1600263000, 'high': 116.0, 'low': 112.04000091552734, 'open': 115.2300033569336, 'close': 112.12999725341797, 'volume': 154679000, 'adjclose': 112.12999725341797, 'formatted_date': '2020-09-16'}, {'date': 1600349400, 'high': 112.19999694824219, 'low': 108.70999908447266, 'open': 109.72000122070312, 'close': 110.33999633789062, 'volume': 178011000, 'adjclose': 110.33999633789062, 'formatted_date': '2020-09-17'}, {'date': 1600435800, 'high': 110.87999725341797, 'low': 106.08999633789062, 'open': 110.4000015258789, 'close': 106.83999633789062, 'volume': 287104900, 'adjclose': 106.83999633789062, 'formatted_date': '2020-09-18'}, {'date': 1600695000, 'high': 110.19000244140625, 'low': 103.0999984741211, 'open': 104.54000091552734, 'close': 110.08000183105469, 'volume': 195713800, 'adjclose': 110.08000183105469, 'formatted_date': '2020-09-21'}, {'date': 1600781400, 'high': 112.86000061035156, 'low': 109.16000366210938, 'open': 112.68000030517578, 'close': 111.80999755859375, 'volume': 183055400, 'adjclose': 111.80999755859375, 'formatted_date': '2020-09-22'}, {'date': 1600867800, 'high': 112.11000061035156, 'low': 106.7699966430664, 'open': 111.62000274658203, 'close': 107.12000274658203, 'volume': 150718700, 'adjclose': 107.12000274658203, 'formatted_date': '2020-09-23'}, {'date': 1600954200, 'high': 110.25, 'low': 105.0, 'open': 105.16999816894531, 'close': 108.22000122070312, 'volume': 167743300, 'adjclose': 108.22000122070312, 'formatted_date': '2020-09-24'}, {'date': 1601040600, 'high': 112.44000244140625, 'low': 107.66999816894531, 'open': 108.43000030517578, 'close': 112.27999877929688, 'volume': 149981400, 'adjclose': 112.27999877929688, 'formatted_date': '2020-09-25'}, {'date': 1601299800, 'high': 115.31999969482422, 'low': 112.77999877929688, 'open': 115.01000213623047, 'close': 114.95999908447266, 'volume': 137672400, 'adjclose': 114.95999908447266, 'formatted_date': '2020-09-28'}, {'date': 1601386200, 'high': 115.30999755859375, 'low': 113.56999969482422, 'open': 114.55000305175781, 'close': 114.08999633789062, 'volume': 99382200, 'adjclose': 114.08999633789062, 'formatted_date': '2020-09-29'}, {'date': 1601472600, 'high': 117.26000213623047, 'low': 113.62000274658203, 'open': 113.79000091552734, 'close': 115.80999755859375, 'volume': 142675200, 'adjclose': 115.80999755859375, 'formatted_date': '2020-09-30'}]}}\n"
     ]
    }
   ],
   "source": [
    "data = YF('AAPL').get_historical_price_data('2019-10-01','2020-10-01','daily')\n",
    "print(data) #download some apple data"
   ]
  },
  {
   "cell_type": "code",
   "execution_count": 44,
   "metadata": {},
   "outputs": [
    {
     "data": {
      "text/plain": [
       "dict_keys(['eventsData', 'firstTradeDate', 'currency', 'instrumentType', 'timeZone', 'prices'])"
      ]
     },
     "execution_count": 44,
     "metadata": {},
     "output_type": "execute_result"
    }
   ],
   "source": [
    "data['AAPL'].keys()"
   ]
  },
  {
   "cell_type": "code",
   "execution_count": 46,
   "metadata": {},
   "outputs": [],
   "source": [
    "df_prices = pd.DataFrame(data['AAPL']['prices'])"
   ]
  },
  {
   "cell_type": "code",
   "execution_count": 47,
   "metadata": {},
   "outputs": [
    {
     "data": {
      "text/html": [
       "<div>\n",
       "<style scoped>\n",
       "    .dataframe tbody tr th:only-of-type {\n",
       "        vertical-align: middle;\n",
       "    }\n",
       "\n",
       "    .dataframe tbody tr th {\n",
       "        vertical-align: top;\n",
       "    }\n",
       "\n",
       "    .dataframe thead th {\n",
       "        text-align: right;\n",
       "    }\n",
       "</style>\n",
       "<table border=\"1\" class=\"dataframe\">\n",
       "  <thead>\n",
       "    <tr style=\"text-align: right;\">\n",
       "      <th></th>\n",
       "      <th>date</th>\n",
       "      <th>high</th>\n",
       "      <th>low</th>\n",
       "      <th>open</th>\n",
       "      <th>close</th>\n",
       "      <th>volume</th>\n",
       "      <th>adjclose</th>\n",
       "      <th>formatted_date</th>\n",
       "    </tr>\n",
       "  </thead>\n",
       "  <tbody>\n",
       "    <tr>\n",
       "      <th>0</th>\n",
       "      <td>1569936600</td>\n",
       "      <td>57.055000</td>\n",
       "      <td>56.049999</td>\n",
       "      <td>56.267502</td>\n",
       "      <td>56.147499</td>\n",
       "      <td>139223200</td>\n",
       "      <td>55.595886</td>\n",
       "      <td>2019-10-01</td>\n",
       "    </tr>\n",
       "    <tr>\n",
       "      <th>1</th>\n",
       "      <td>1570023000</td>\n",
       "      <td>55.895000</td>\n",
       "      <td>54.482498</td>\n",
       "      <td>55.764999</td>\n",
       "      <td>54.740002</td>\n",
       "      <td>138449200</td>\n",
       "      <td>54.202213</td>\n",
       "      <td>2019-10-02</td>\n",
       "    </tr>\n",
       "    <tr>\n",
       "      <th>2</th>\n",
       "      <td>1570109400</td>\n",
       "      <td>55.240002</td>\n",
       "      <td>53.782501</td>\n",
       "      <td>54.607498</td>\n",
       "      <td>55.205002</td>\n",
       "      <td>114426000</td>\n",
       "      <td>54.662643</td>\n",
       "      <td>2019-10-03</td>\n",
       "    </tr>\n",
       "    <tr>\n",
       "      <th>3</th>\n",
       "      <td>1570195800</td>\n",
       "      <td>56.872501</td>\n",
       "      <td>55.972500</td>\n",
       "      <td>56.410000</td>\n",
       "      <td>56.752499</td>\n",
       "      <td>138478800</td>\n",
       "      <td>56.194942</td>\n",
       "      <td>2019-10-04</td>\n",
       "    </tr>\n",
       "    <tr>\n",
       "      <th>4</th>\n",
       "      <td>1570455000</td>\n",
       "      <td>57.482498</td>\n",
       "      <td>56.459999</td>\n",
       "      <td>56.567501</td>\n",
       "      <td>56.764999</td>\n",
       "      <td>122306000</td>\n",
       "      <td>56.207317</td>\n",
       "      <td>2019-10-07</td>\n",
       "    </tr>\n",
       "    <tr>\n",
       "      <th>...</th>\n",
       "      <td>...</td>\n",
       "      <td>...</td>\n",
       "      <td>...</td>\n",
       "      <td>...</td>\n",
       "      <td>...</td>\n",
       "      <td>...</td>\n",
       "      <td>...</td>\n",
       "      <td>...</td>\n",
       "    </tr>\n",
       "    <tr>\n",
       "      <th>248</th>\n",
       "      <td>1600954200</td>\n",
       "      <td>110.250000</td>\n",
       "      <td>105.000000</td>\n",
       "      <td>105.169998</td>\n",
       "      <td>108.220001</td>\n",
       "      <td>167743300</td>\n",
       "      <td>108.220001</td>\n",
       "      <td>2020-09-24</td>\n",
       "    </tr>\n",
       "    <tr>\n",
       "      <th>249</th>\n",
       "      <td>1601040600</td>\n",
       "      <td>112.440002</td>\n",
       "      <td>107.669998</td>\n",
       "      <td>108.430000</td>\n",
       "      <td>112.279999</td>\n",
       "      <td>149981400</td>\n",
       "      <td>112.279999</td>\n",
       "      <td>2020-09-25</td>\n",
       "    </tr>\n",
       "    <tr>\n",
       "      <th>250</th>\n",
       "      <td>1601299800</td>\n",
       "      <td>115.320000</td>\n",
       "      <td>112.779999</td>\n",
       "      <td>115.010002</td>\n",
       "      <td>114.959999</td>\n",
       "      <td>137672400</td>\n",
       "      <td>114.959999</td>\n",
       "      <td>2020-09-28</td>\n",
       "    </tr>\n",
       "    <tr>\n",
       "      <th>251</th>\n",
       "      <td>1601386200</td>\n",
       "      <td>115.309998</td>\n",
       "      <td>113.570000</td>\n",
       "      <td>114.550003</td>\n",
       "      <td>114.089996</td>\n",
       "      <td>99382200</td>\n",
       "      <td>114.089996</td>\n",
       "      <td>2020-09-29</td>\n",
       "    </tr>\n",
       "    <tr>\n",
       "      <th>252</th>\n",
       "      <td>1601472600</td>\n",
       "      <td>117.260002</td>\n",
       "      <td>113.620003</td>\n",
       "      <td>113.790001</td>\n",
       "      <td>115.809998</td>\n",
       "      <td>142675200</td>\n",
       "      <td>115.809998</td>\n",
       "      <td>2020-09-30</td>\n",
       "    </tr>\n",
       "  </tbody>\n",
       "</table>\n",
       "<p>253 rows × 8 columns</p>\n",
       "</div>"
      ],
      "text/plain": [
       "           date        high         low        open       close     volume  \\\n",
       "0    1569936600   57.055000   56.049999   56.267502   56.147499  139223200   \n",
       "1    1570023000   55.895000   54.482498   55.764999   54.740002  138449200   \n",
       "2    1570109400   55.240002   53.782501   54.607498   55.205002  114426000   \n",
       "3    1570195800   56.872501   55.972500   56.410000   56.752499  138478800   \n",
       "4    1570455000   57.482498   56.459999   56.567501   56.764999  122306000   \n",
       "..          ...         ...         ...         ...         ...        ...   \n",
       "248  1600954200  110.250000  105.000000  105.169998  108.220001  167743300   \n",
       "249  1601040600  112.440002  107.669998  108.430000  112.279999  149981400   \n",
       "250  1601299800  115.320000  112.779999  115.010002  114.959999  137672400   \n",
       "251  1601386200  115.309998  113.570000  114.550003  114.089996   99382200   \n",
       "252  1601472600  117.260002  113.620003  113.790001  115.809998  142675200   \n",
       "\n",
       "       adjclose formatted_date  \n",
       "0     55.595886     2019-10-01  \n",
       "1     54.202213     2019-10-02  \n",
       "2     54.662643     2019-10-03  \n",
       "3     56.194942     2019-10-04  \n",
       "4     56.207317     2019-10-07  \n",
       "..          ...            ...  \n",
       "248  108.220001     2020-09-24  \n",
       "249  112.279999     2020-09-25  \n",
       "250  114.959999     2020-09-28  \n",
       "251  114.089996     2020-09-29  \n",
       "252  115.809998     2020-09-30  \n",
       "\n",
       "[253 rows x 8 columns]"
      ]
     },
     "execution_count": 47,
     "metadata": {},
     "output_type": "execute_result"
    }
   ],
   "source": [
    "df_prices"
   ]
  },
  {
   "cell_type": "code",
   "execution_count": 48,
   "metadata": {},
   "outputs": [],
   "source": [
    "df_prices.drop(columns='date', inplace=True) #change the df"
   ]
  },
  {
   "cell_type": "code",
   "execution_count": 49,
   "metadata": {},
   "outputs": [
    {
     "data": {
      "text/html": [
       "<div>\n",
       "<style scoped>\n",
       "    .dataframe tbody tr th:only-of-type {\n",
       "        vertical-align: middle;\n",
       "    }\n",
       "\n",
       "    .dataframe tbody tr th {\n",
       "        vertical-align: top;\n",
       "    }\n",
       "\n",
       "    .dataframe thead th {\n",
       "        text-align: right;\n",
       "    }\n",
       "</style>\n",
       "<table border=\"1\" class=\"dataframe\">\n",
       "  <thead>\n",
       "    <tr style=\"text-align: right;\">\n",
       "      <th></th>\n",
       "      <th>high</th>\n",
       "      <th>low</th>\n",
       "      <th>open</th>\n",
       "      <th>close</th>\n",
       "      <th>volume</th>\n",
       "      <th>adjclose</th>\n",
       "      <th>formatted_date</th>\n",
       "    </tr>\n",
       "  </thead>\n",
       "  <tbody>\n",
       "    <tr>\n",
       "      <th>0</th>\n",
       "      <td>57.055000</td>\n",
       "      <td>56.049999</td>\n",
       "      <td>56.267502</td>\n",
       "      <td>56.147499</td>\n",
       "      <td>139223200</td>\n",
       "      <td>55.595886</td>\n",
       "      <td>2019-10-01</td>\n",
       "    </tr>\n",
       "    <tr>\n",
       "      <th>1</th>\n",
       "      <td>55.895000</td>\n",
       "      <td>54.482498</td>\n",
       "      <td>55.764999</td>\n",
       "      <td>54.740002</td>\n",
       "      <td>138449200</td>\n",
       "      <td>54.202213</td>\n",
       "      <td>2019-10-02</td>\n",
       "    </tr>\n",
       "    <tr>\n",
       "      <th>2</th>\n",
       "      <td>55.240002</td>\n",
       "      <td>53.782501</td>\n",
       "      <td>54.607498</td>\n",
       "      <td>55.205002</td>\n",
       "      <td>114426000</td>\n",
       "      <td>54.662643</td>\n",
       "      <td>2019-10-03</td>\n",
       "    </tr>\n",
       "    <tr>\n",
       "      <th>3</th>\n",
       "      <td>56.872501</td>\n",
       "      <td>55.972500</td>\n",
       "      <td>56.410000</td>\n",
       "      <td>56.752499</td>\n",
       "      <td>138478800</td>\n",
       "      <td>56.194942</td>\n",
       "      <td>2019-10-04</td>\n",
       "    </tr>\n",
       "    <tr>\n",
       "      <th>4</th>\n",
       "      <td>57.482498</td>\n",
       "      <td>56.459999</td>\n",
       "      <td>56.567501</td>\n",
       "      <td>56.764999</td>\n",
       "      <td>122306000</td>\n",
       "      <td>56.207317</td>\n",
       "      <td>2019-10-07</td>\n",
       "    </tr>\n",
       "    <tr>\n",
       "      <th>...</th>\n",
       "      <td>...</td>\n",
       "      <td>...</td>\n",
       "      <td>...</td>\n",
       "      <td>...</td>\n",
       "      <td>...</td>\n",
       "      <td>...</td>\n",
       "      <td>...</td>\n",
       "    </tr>\n",
       "    <tr>\n",
       "      <th>248</th>\n",
       "      <td>110.250000</td>\n",
       "      <td>105.000000</td>\n",
       "      <td>105.169998</td>\n",
       "      <td>108.220001</td>\n",
       "      <td>167743300</td>\n",
       "      <td>108.220001</td>\n",
       "      <td>2020-09-24</td>\n",
       "    </tr>\n",
       "    <tr>\n",
       "      <th>249</th>\n",
       "      <td>112.440002</td>\n",
       "      <td>107.669998</td>\n",
       "      <td>108.430000</td>\n",
       "      <td>112.279999</td>\n",
       "      <td>149981400</td>\n",
       "      <td>112.279999</td>\n",
       "      <td>2020-09-25</td>\n",
       "    </tr>\n",
       "    <tr>\n",
       "      <th>250</th>\n",
       "      <td>115.320000</td>\n",
       "      <td>112.779999</td>\n",
       "      <td>115.010002</td>\n",
       "      <td>114.959999</td>\n",
       "      <td>137672400</td>\n",
       "      <td>114.959999</td>\n",
       "      <td>2020-09-28</td>\n",
       "    </tr>\n",
       "    <tr>\n",
       "      <th>251</th>\n",
       "      <td>115.309998</td>\n",
       "      <td>113.570000</td>\n",
       "      <td>114.550003</td>\n",
       "      <td>114.089996</td>\n",
       "      <td>99382200</td>\n",
       "      <td>114.089996</td>\n",
       "      <td>2020-09-29</td>\n",
       "    </tr>\n",
       "    <tr>\n",
       "      <th>252</th>\n",
       "      <td>117.260002</td>\n",
       "      <td>113.620003</td>\n",
       "      <td>113.790001</td>\n",
       "      <td>115.809998</td>\n",
       "      <td>142675200</td>\n",
       "      <td>115.809998</td>\n",
       "      <td>2020-09-30</td>\n",
       "    </tr>\n",
       "  </tbody>\n",
       "</table>\n",
       "<p>253 rows × 7 columns</p>\n",
       "</div>"
      ],
      "text/plain": [
       "           high         low        open       close     volume    adjclose  \\\n",
       "0     57.055000   56.049999   56.267502   56.147499  139223200   55.595886   \n",
       "1     55.895000   54.482498   55.764999   54.740002  138449200   54.202213   \n",
       "2     55.240002   53.782501   54.607498   55.205002  114426000   54.662643   \n",
       "3     56.872501   55.972500   56.410000   56.752499  138478800   56.194942   \n",
       "4     57.482498   56.459999   56.567501   56.764999  122306000   56.207317   \n",
       "..          ...         ...         ...         ...        ...         ...   \n",
       "248  110.250000  105.000000  105.169998  108.220001  167743300  108.220001   \n",
       "249  112.440002  107.669998  108.430000  112.279999  149981400  112.279999   \n",
       "250  115.320000  112.779999  115.010002  114.959999  137672400  114.959999   \n",
       "251  115.309998  113.570000  114.550003  114.089996   99382200  114.089996   \n",
       "252  117.260002  113.620003  113.790001  115.809998  142675200  115.809998   \n",
       "\n",
       "    formatted_date  \n",
       "0       2019-10-01  \n",
       "1       2019-10-02  \n",
       "2       2019-10-03  \n",
       "3       2019-10-04  \n",
       "4       2019-10-07  \n",
       "..             ...  \n",
       "248     2020-09-24  \n",
       "249     2020-09-25  \n",
       "250     2020-09-28  \n",
       "251     2020-09-29  \n",
       "252     2020-09-30  \n",
       "\n",
       "[253 rows x 7 columns]"
      ]
     },
     "execution_count": 49,
     "metadata": {},
     "output_type": "execute_result"
    }
   ],
   "source": [
    "df_prices"
   ]
  },
  {
   "cell_type": "code",
   "execution_count": 50,
   "metadata": {},
   "outputs": [
    {
     "data": {
      "text/plain": [
       "high              float64\n",
       "low               float64\n",
       "open              float64\n",
       "close             float64\n",
       "volume              int64\n",
       "adjclose          float64\n",
       "formatted_date     object\n",
       "dtype: object"
      ]
     },
     "execution_count": 50,
     "metadata": {},
     "output_type": "execute_result"
    }
   ],
   "source": [
    "df_prices.dtypes #the date is like a string"
   ]
  },
  {
   "cell_type": "code",
   "execution_count": 51,
   "metadata": {},
   "outputs": [],
   "source": [
    "df_prices['formatted_date'] = pd.to_datetime(df_prices['formatted_date'])"
   ]
  },
  {
   "cell_type": "code",
   "execution_count": 53,
   "metadata": {},
   "outputs": [
    {
     "data": {
      "text/plain": [
       "high                     float64\n",
       "low                      float64\n",
       "open                     float64\n",
       "close                    float64\n",
       "volume                     int64\n",
       "adjclose                 float64\n",
       "formatted_date    datetime64[ns]\n",
       "dtype: object"
      ]
     },
     "execution_count": 53,
     "metadata": {},
     "output_type": "execute_result"
    }
   ],
   "source": [
    "df_prices.dtypes"
   ]
  },
  {
   "cell_type": "code",
   "execution_count": 54,
   "metadata": {},
   "outputs": [],
   "source": [
    "df_prices.set_index('formatted_date', inplace=True)"
   ]
  },
  {
   "cell_type": "code",
   "execution_count": 55,
   "metadata": {},
   "outputs": [
    {
     "data": {
      "text/html": [
       "<div>\n",
       "<style scoped>\n",
       "    .dataframe tbody tr th:only-of-type {\n",
       "        vertical-align: middle;\n",
       "    }\n",
       "\n",
       "    .dataframe tbody tr th {\n",
       "        vertical-align: top;\n",
       "    }\n",
       "\n",
       "    .dataframe thead th {\n",
       "        text-align: right;\n",
       "    }\n",
       "</style>\n",
       "<table border=\"1\" class=\"dataframe\">\n",
       "  <thead>\n",
       "    <tr style=\"text-align: right;\">\n",
       "      <th></th>\n",
       "      <th>high</th>\n",
       "      <th>low</th>\n",
       "      <th>open</th>\n",
       "      <th>close</th>\n",
       "      <th>volume</th>\n",
       "      <th>adjclose</th>\n",
       "    </tr>\n",
       "    <tr>\n",
       "      <th>formatted_date</th>\n",
       "      <th></th>\n",
       "      <th></th>\n",
       "      <th></th>\n",
       "      <th></th>\n",
       "      <th></th>\n",
       "      <th></th>\n",
       "    </tr>\n",
       "  </thead>\n",
       "  <tbody>\n",
       "    <tr>\n",
       "      <th>2019-10-01</th>\n",
       "      <td>57.055000</td>\n",
       "      <td>56.049999</td>\n",
       "      <td>56.267502</td>\n",
       "      <td>56.147499</td>\n",
       "      <td>139223200</td>\n",
       "      <td>55.595886</td>\n",
       "    </tr>\n",
       "    <tr>\n",
       "      <th>2019-10-02</th>\n",
       "      <td>55.895000</td>\n",
       "      <td>54.482498</td>\n",
       "      <td>55.764999</td>\n",
       "      <td>54.740002</td>\n",
       "      <td>138449200</td>\n",
       "      <td>54.202213</td>\n",
       "    </tr>\n",
       "    <tr>\n",
       "      <th>2019-10-03</th>\n",
       "      <td>55.240002</td>\n",
       "      <td>53.782501</td>\n",
       "      <td>54.607498</td>\n",
       "      <td>55.205002</td>\n",
       "      <td>114426000</td>\n",
       "      <td>54.662643</td>\n",
       "    </tr>\n",
       "    <tr>\n",
       "      <th>2019-10-04</th>\n",
       "      <td>56.872501</td>\n",
       "      <td>55.972500</td>\n",
       "      <td>56.410000</td>\n",
       "      <td>56.752499</td>\n",
       "      <td>138478800</td>\n",
       "      <td>56.194942</td>\n",
       "    </tr>\n",
       "    <tr>\n",
       "      <th>2019-10-07</th>\n",
       "      <td>57.482498</td>\n",
       "      <td>56.459999</td>\n",
       "      <td>56.567501</td>\n",
       "      <td>56.764999</td>\n",
       "      <td>122306000</td>\n",
       "      <td>56.207317</td>\n",
       "    </tr>\n",
       "  </tbody>\n",
       "</table>\n",
       "</div>"
      ],
      "text/plain": [
       "                     high        low       open      close     volume  \\\n",
       "formatted_date                                                          \n",
       "2019-10-01      57.055000  56.049999  56.267502  56.147499  139223200   \n",
       "2019-10-02      55.895000  54.482498  55.764999  54.740002  138449200   \n",
       "2019-10-03      55.240002  53.782501  54.607498  55.205002  114426000   \n",
       "2019-10-04      56.872501  55.972500  56.410000  56.752499  138478800   \n",
       "2019-10-07      57.482498  56.459999  56.567501  56.764999  122306000   \n",
       "\n",
       "                 adjclose  \n",
       "formatted_date             \n",
       "2019-10-01      55.595886  \n",
       "2019-10-02      54.202213  \n",
       "2019-10-03      54.662643  \n",
       "2019-10-04      56.194942  \n",
       "2019-10-07      56.207317  "
      ]
     },
     "execution_count": 55,
     "metadata": {},
     "output_type": "execute_result"
    }
   ],
   "source": [
    "df_prices.head()"
   ]
  },
  {
   "cell_type": "code",
   "execution_count": 57,
   "metadata": {},
   "outputs": [
    {
     "data": {
      "text/html": [
       "<div>\n",
       "<style scoped>\n",
       "    .dataframe tbody tr th:only-of-type {\n",
       "        vertical-align: middle;\n",
       "    }\n",
       "\n",
       "    .dataframe tbody tr th {\n",
       "        vertical-align: top;\n",
       "    }\n",
       "\n",
       "    .dataframe thead th {\n",
       "        text-align: right;\n",
       "    }\n",
       "</style>\n",
       "<table border=\"1\" class=\"dataframe\">\n",
       "  <thead>\n",
       "    <tr style=\"text-align: right;\">\n",
       "      <th></th>\n",
       "      <th>high</th>\n",
       "      <th>low</th>\n",
       "      <th>open</th>\n",
       "      <th>close</th>\n",
       "      <th>volume</th>\n",
       "      <th>adjclose</th>\n",
       "    </tr>\n",
       "    <tr>\n",
       "      <th>formatted_date</th>\n",
       "      <th></th>\n",
       "      <th></th>\n",
       "      <th></th>\n",
       "      <th></th>\n",
       "      <th></th>\n",
       "      <th></th>\n",
       "    </tr>\n",
       "  </thead>\n",
       "  <tbody>\n",
       "    <tr>\n",
       "      <th>2020-01-02</th>\n",
       "      <td>75.150002</td>\n",
       "      <td>73.797501</td>\n",
       "      <td>74.059998</td>\n",
       "      <td>75.087502</td>\n",
       "      <td>135480400</td>\n",
       "      <td>74.573036</td>\n",
       "    </tr>\n",
       "    <tr>\n",
       "      <th>2020-01-03</th>\n",
       "      <td>75.144997</td>\n",
       "      <td>74.125000</td>\n",
       "      <td>74.287498</td>\n",
       "      <td>74.357498</td>\n",
       "      <td>146322800</td>\n",
       "      <td>73.848030</td>\n",
       "    </tr>\n",
       "    <tr>\n",
       "      <th>2020-01-06</th>\n",
       "      <td>74.989998</td>\n",
       "      <td>73.187500</td>\n",
       "      <td>73.447502</td>\n",
       "      <td>74.949997</td>\n",
       "      <td>118387200</td>\n",
       "      <td>74.436470</td>\n",
       "    </tr>\n",
       "    <tr>\n",
       "      <th>2020-01-07</th>\n",
       "      <td>75.224998</td>\n",
       "      <td>74.370003</td>\n",
       "      <td>74.959999</td>\n",
       "      <td>74.597504</td>\n",
       "      <td>108872000</td>\n",
       "      <td>74.086395</td>\n",
       "    </tr>\n",
       "    <tr>\n",
       "      <th>2020-01-08</th>\n",
       "      <td>76.110001</td>\n",
       "      <td>74.290001</td>\n",
       "      <td>74.290001</td>\n",
       "      <td>75.797501</td>\n",
       "      <td>132079200</td>\n",
       "      <td>75.278160</td>\n",
       "    </tr>\n",
       "    <tr>\n",
       "      <th>2020-01-09</th>\n",
       "      <td>77.607498</td>\n",
       "      <td>76.550003</td>\n",
       "      <td>76.809998</td>\n",
       "      <td>77.407501</td>\n",
       "      <td>170108400</td>\n",
       "      <td>76.877136</td>\n",
       "    </tr>\n",
       "    <tr>\n",
       "      <th>2020-01-10</th>\n",
       "      <td>78.167503</td>\n",
       "      <td>77.062500</td>\n",
       "      <td>77.650002</td>\n",
       "      <td>77.582497</td>\n",
       "      <td>140644800</td>\n",
       "      <td>77.050926</td>\n",
       "    </tr>\n",
       "    <tr>\n",
       "      <th>2020-01-13</th>\n",
       "      <td>79.267502</td>\n",
       "      <td>77.787498</td>\n",
       "      <td>77.910004</td>\n",
       "      <td>79.239998</td>\n",
       "      <td>121532000</td>\n",
       "      <td>78.697075</td>\n",
       "    </tr>\n",
       "    <tr>\n",
       "      <th>2020-01-14</th>\n",
       "      <td>79.392502</td>\n",
       "      <td>78.042503</td>\n",
       "      <td>79.175003</td>\n",
       "      <td>78.169998</td>\n",
       "      <td>161954400</td>\n",
       "      <td>77.634407</td>\n",
       "    </tr>\n",
       "    <tr>\n",
       "      <th>2020-01-15</th>\n",
       "      <td>78.875000</td>\n",
       "      <td>77.387497</td>\n",
       "      <td>77.962502</td>\n",
       "      <td>77.834999</td>\n",
       "      <td>121923600</td>\n",
       "      <td>77.301704</td>\n",
       "    </tr>\n",
       "    <tr>\n",
       "      <th>2020-01-16</th>\n",
       "      <td>78.925003</td>\n",
       "      <td>78.022499</td>\n",
       "      <td>78.397499</td>\n",
       "      <td>78.809998</td>\n",
       "      <td>108829200</td>\n",
       "      <td>78.270020</td>\n",
       "    </tr>\n",
       "    <tr>\n",
       "      <th>2020-01-17</th>\n",
       "      <td>79.684998</td>\n",
       "      <td>78.750000</td>\n",
       "      <td>79.067497</td>\n",
       "      <td>79.682503</td>\n",
       "      <td>137816400</td>\n",
       "      <td>79.136551</td>\n",
       "    </tr>\n",
       "    <tr>\n",
       "      <th>2020-01-21</th>\n",
       "      <td>79.754997</td>\n",
       "      <td>79.000000</td>\n",
       "      <td>79.297501</td>\n",
       "      <td>79.142502</td>\n",
       "      <td>110843200</td>\n",
       "      <td>78.600250</td>\n",
       "    </tr>\n",
       "    <tr>\n",
       "      <th>2020-01-22</th>\n",
       "      <td>79.997498</td>\n",
       "      <td>79.327499</td>\n",
       "      <td>79.644997</td>\n",
       "      <td>79.425003</td>\n",
       "      <td>101832400</td>\n",
       "      <td>78.880821</td>\n",
       "    </tr>\n",
       "    <tr>\n",
       "      <th>2020-01-23</th>\n",
       "      <td>79.889999</td>\n",
       "      <td>78.912498</td>\n",
       "      <td>79.480003</td>\n",
       "      <td>79.807503</td>\n",
       "      <td>104472000</td>\n",
       "      <td>79.260696</td>\n",
       "    </tr>\n",
       "    <tr>\n",
       "      <th>2020-01-24</th>\n",
       "      <td>80.832497</td>\n",
       "      <td>79.379997</td>\n",
       "      <td>80.062500</td>\n",
       "      <td>79.577499</td>\n",
       "      <td>146537600</td>\n",
       "      <td>79.032265</td>\n",
       "    </tr>\n",
       "    <tr>\n",
       "      <th>2020-01-27</th>\n",
       "      <td>77.942497</td>\n",
       "      <td>76.220001</td>\n",
       "      <td>77.514999</td>\n",
       "      <td>77.237503</td>\n",
       "      <td>161940000</td>\n",
       "      <td>76.708298</td>\n",
       "    </tr>\n",
       "    <tr>\n",
       "      <th>2020-01-28</th>\n",
       "      <td>79.599998</td>\n",
       "      <td>78.047501</td>\n",
       "      <td>78.150002</td>\n",
       "      <td>79.422501</td>\n",
       "      <td>162234000</td>\n",
       "      <td>78.878326</td>\n",
       "    </tr>\n",
       "    <tr>\n",
       "      <th>2020-01-29</th>\n",
       "      <td>81.962502</td>\n",
       "      <td>80.345001</td>\n",
       "      <td>81.112503</td>\n",
       "      <td>81.084999</td>\n",
       "      <td>216229200</td>\n",
       "      <td>80.529434</td>\n",
       "    </tr>\n",
       "    <tr>\n",
       "      <th>2020-01-30</th>\n",
       "      <td>81.022499</td>\n",
       "      <td>79.687500</td>\n",
       "      <td>80.135002</td>\n",
       "      <td>80.967499</td>\n",
       "      <td>126743200</td>\n",
       "      <td>80.412743</td>\n",
       "    </tr>\n",
       "    <tr>\n",
       "      <th>2020-01-31</th>\n",
       "      <td>80.669998</td>\n",
       "      <td>77.072502</td>\n",
       "      <td>80.232498</td>\n",
       "      <td>77.377502</td>\n",
       "      <td>199588400</td>\n",
       "      <td>76.847343</td>\n",
       "    </tr>\n",
       "  </tbody>\n",
       "</table>\n",
       "</div>"
      ],
      "text/plain": [
       "                     high        low       open      close     volume  \\\n",
       "formatted_date                                                          \n",
       "2020-01-02      75.150002  73.797501  74.059998  75.087502  135480400   \n",
       "2020-01-03      75.144997  74.125000  74.287498  74.357498  146322800   \n",
       "2020-01-06      74.989998  73.187500  73.447502  74.949997  118387200   \n",
       "2020-01-07      75.224998  74.370003  74.959999  74.597504  108872000   \n",
       "2020-01-08      76.110001  74.290001  74.290001  75.797501  132079200   \n",
       "2020-01-09      77.607498  76.550003  76.809998  77.407501  170108400   \n",
       "2020-01-10      78.167503  77.062500  77.650002  77.582497  140644800   \n",
       "2020-01-13      79.267502  77.787498  77.910004  79.239998  121532000   \n",
       "2020-01-14      79.392502  78.042503  79.175003  78.169998  161954400   \n",
       "2020-01-15      78.875000  77.387497  77.962502  77.834999  121923600   \n",
       "2020-01-16      78.925003  78.022499  78.397499  78.809998  108829200   \n",
       "2020-01-17      79.684998  78.750000  79.067497  79.682503  137816400   \n",
       "2020-01-21      79.754997  79.000000  79.297501  79.142502  110843200   \n",
       "2020-01-22      79.997498  79.327499  79.644997  79.425003  101832400   \n",
       "2020-01-23      79.889999  78.912498  79.480003  79.807503  104472000   \n",
       "2020-01-24      80.832497  79.379997  80.062500  79.577499  146537600   \n",
       "2020-01-27      77.942497  76.220001  77.514999  77.237503  161940000   \n",
       "2020-01-28      79.599998  78.047501  78.150002  79.422501  162234000   \n",
       "2020-01-29      81.962502  80.345001  81.112503  81.084999  216229200   \n",
       "2020-01-30      81.022499  79.687500  80.135002  80.967499  126743200   \n",
       "2020-01-31      80.669998  77.072502  80.232498  77.377502  199588400   \n",
       "\n",
       "                 adjclose  \n",
       "formatted_date             \n",
       "2020-01-02      74.573036  \n",
       "2020-01-03      73.848030  \n",
       "2020-01-06      74.436470  \n",
       "2020-01-07      74.086395  \n",
       "2020-01-08      75.278160  \n",
       "2020-01-09      76.877136  \n",
       "2020-01-10      77.050926  \n",
       "2020-01-13      78.697075  \n",
       "2020-01-14      77.634407  \n",
       "2020-01-15      77.301704  \n",
       "2020-01-16      78.270020  \n",
       "2020-01-17      79.136551  \n",
       "2020-01-21      78.600250  \n",
       "2020-01-22      78.880821  \n",
       "2020-01-23      79.260696  \n",
       "2020-01-24      79.032265  \n",
       "2020-01-27      76.708298  \n",
       "2020-01-28      78.878326  \n",
       "2020-01-29      80.529434  \n",
       "2020-01-30      80.412743  \n",
       "2020-01-31      76.847343  "
      ]
     },
     "execution_count": 57,
     "metadata": {},
     "output_type": "execute_result"
    }
   ],
   "source": [
    "#having a datetime index is calm\n",
    "df_prices.loc['2020-01-01':'2020-02-01'] #slice\n",
    "#1st jan is a holiday\n",
    "#1st feb was a weekend"
   ]
  },
  {
   "cell_type": "markdown",
   "metadata": {},
   "source": [
    "#### Downsampling\n",
    "Taking daily data and making monthly/weekly etc data"
   ]
  },
  {
   "cell_type": "code",
   "execution_count": 59,
   "metadata": {},
   "outputs": [],
   "source": [
    "df_prices_m = df_prices.resample('M').mean() \n",
    "#needs a date time index to work\n",
    "#you need mean to aggregate\n",
    "#to do different summaries for variables, split apply then join"
   ]
  },
  {
   "cell_type": "markdown",
   "metadata": {},
   "source": [
    "#### Upsampling"
   ]
  },
  {
   "cell_type": "code",
   "execution_count": 60,
   "metadata": {},
   "outputs": [
    {
     "data": {
      "text/html": [
       "<div>\n",
       "<style scoped>\n",
       "    .dataframe tbody tr th:only-of-type {\n",
       "        vertical-align: middle;\n",
       "    }\n",
       "\n",
       "    .dataframe tbody tr th {\n",
       "        vertical-align: top;\n",
       "    }\n",
       "\n",
       "    .dataframe thead th {\n",
       "        text-align: right;\n",
       "    }\n",
       "</style>\n",
       "<table border=\"1\" class=\"dataframe\">\n",
       "  <thead>\n",
       "    <tr style=\"text-align: right;\">\n",
       "      <th></th>\n",
       "      <th>high</th>\n",
       "      <th>low</th>\n",
       "      <th>open</th>\n",
       "      <th>close</th>\n",
       "      <th>volume</th>\n",
       "      <th>adjclose</th>\n",
       "    </tr>\n",
       "    <tr>\n",
       "      <th>formatted_date</th>\n",
       "      <th></th>\n",
       "      <th></th>\n",
       "      <th></th>\n",
       "      <th></th>\n",
       "      <th></th>\n",
       "      <th></th>\n",
       "    </tr>\n",
       "  </thead>\n",
       "  <tbody>\n",
       "    <tr>\n",
       "      <th>2019-10-31</th>\n",
       "      <td>59.242283</td>\n",
       "      <td>58.236304</td>\n",
       "      <td>58.732391</td>\n",
       "      <td>58.821630</td>\n",
       "      <td>1.057918e+08</td>\n",
       "      <td>58.243743</td>\n",
       "    </tr>\n",
       "    <tr>\n",
       "      <th>2019-11-01</th>\n",
       "      <td>59.242283</td>\n",
       "      <td>58.236304</td>\n",
       "      <td>58.732391</td>\n",
       "      <td>58.821630</td>\n",
       "      <td>1.057918e+08</td>\n",
       "      <td>58.243743</td>\n",
       "    </tr>\n",
       "    <tr>\n",
       "      <th>2019-11-02</th>\n",
       "      <td>59.242283</td>\n",
       "      <td>58.236304</td>\n",
       "      <td>58.732391</td>\n",
       "      <td>58.821630</td>\n",
       "      <td>1.057918e+08</td>\n",
       "      <td>58.243743</td>\n",
       "    </tr>\n",
       "    <tr>\n",
       "      <th>2019-11-03</th>\n",
       "      <td>59.242283</td>\n",
       "      <td>58.236304</td>\n",
       "      <td>58.732391</td>\n",
       "      <td>58.821630</td>\n",
       "      <td>1.057918e+08</td>\n",
       "      <td>58.243743</td>\n",
       "    </tr>\n",
       "    <tr>\n",
       "      <th>2019-11-04</th>\n",
       "      <td>59.242283</td>\n",
       "      <td>58.236304</td>\n",
       "      <td>58.732391</td>\n",
       "      <td>58.821630</td>\n",
       "      <td>1.057918e+08</td>\n",
       "      <td>58.243743</td>\n",
       "    </tr>\n",
       "    <tr>\n",
       "      <th>...</th>\n",
       "      <td>...</td>\n",
       "      <td>...</td>\n",
       "      <td>...</td>\n",
       "      <td>...</td>\n",
       "      <td>...</td>\n",
       "      <td>...</td>\n",
       "    </tr>\n",
       "    <tr>\n",
       "      <th>2020-09-26</th>\n",
       "      <td>118.565596</td>\n",
       "      <td>115.556666</td>\n",
       "      <td>116.969881</td>\n",
       "      <td>117.299762</td>\n",
       "      <td>1.938392e+08</td>\n",
       "      <td>117.261832</td>\n",
       "    </tr>\n",
       "    <tr>\n",
       "      <th>2020-09-27</th>\n",
       "      <td>118.565596</td>\n",
       "      <td>115.556666</td>\n",
       "      <td>116.969881</td>\n",
       "      <td>117.299762</td>\n",
       "      <td>1.938392e+08</td>\n",
       "      <td>117.261832</td>\n",
       "    </tr>\n",
       "    <tr>\n",
       "      <th>2020-09-28</th>\n",
       "      <td>118.565596</td>\n",
       "      <td>115.556666</td>\n",
       "      <td>116.969881</td>\n",
       "      <td>117.299762</td>\n",
       "      <td>1.938392e+08</td>\n",
       "      <td>117.261832</td>\n",
       "    </tr>\n",
       "    <tr>\n",
       "      <th>2020-09-29</th>\n",
       "      <td>118.565596</td>\n",
       "      <td>115.556666</td>\n",
       "      <td>116.969881</td>\n",
       "      <td>117.299762</td>\n",
       "      <td>1.938392e+08</td>\n",
       "      <td>117.261832</td>\n",
       "    </tr>\n",
       "    <tr>\n",
       "      <th>2020-09-30</th>\n",
       "      <td>118.036190</td>\n",
       "      <td>112.584762</td>\n",
       "      <td>116.079048</td>\n",
       "      <td>115.125237</td>\n",
       "      <td>1.850365e+08</td>\n",
       "      <td>115.125237</td>\n",
       "    </tr>\n",
       "  </tbody>\n",
       "</table>\n",
       "<p>336 rows × 6 columns</p>\n",
       "</div>"
      ],
      "text/plain": [
       "                      high         low        open       close        volume  \\\n",
       "formatted_date                                                                 \n",
       "2019-10-31       59.242283   58.236304   58.732391   58.821630  1.057918e+08   \n",
       "2019-11-01       59.242283   58.236304   58.732391   58.821630  1.057918e+08   \n",
       "2019-11-02       59.242283   58.236304   58.732391   58.821630  1.057918e+08   \n",
       "2019-11-03       59.242283   58.236304   58.732391   58.821630  1.057918e+08   \n",
       "2019-11-04       59.242283   58.236304   58.732391   58.821630  1.057918e+08   \n",
       "...                    ...         ...         ...         ...           ...   \n",
       "2020-09-26      118.565596  115.556666  116.969881  117.299762  1.938392e+08   \n",
       "2020-09-27      118.565596  115.556666  116.969881  117.299762  1.938392e+08   \n",
       "2020-09-28      118.565596  115.556666  116.969881  117.299762  1.938392e+08   \n",
       "2020-09-29      118.565596  115.556666  116.969881  117.299762  1.938392e+08   \n",
       "2020-09-30      118.036190  112.584762  116.079048  115.125237  1.850365e+08   \n",
       "\n",
       "                  adjclose  \n",
       "formatted_date              \n",
       "2019-10-31       58.243743  \n",
       "2019-11-01       58.243743  \n",
       "2019-11-02       58.243743  \n",
       "2019-11-03       58.243743  \n",
       "2019-11-04       58.243743  \n",
       "...                    ...  \n",
       "2020-09-26      117.261832  \n",
       "2020-09-27      117.261832  \n",
       "2020-09-28      117.261832  \n",
       "2020-09-29      117.261832  \n",
       "2020-09-30      115.125237  \n",
       "\n",
       "[336 rows x 6 columns]"
      ]
     },
     "execution_count": 60,
     "metadata": {},
     "output_type": "execute_result"
    }
   ],
   "source": [
    "df_prices_m_d = df_prices_m.resample('D').mean() #get nans\n",
    "df_prices_m_d.ffill() #fill the nans"
   ]
  },
  {
   "cell_type": "code",
   "execution_count": 63,
   "metadata": {},
   "outputs": [
    {
     "data": {
      "text/plain": [
       "<matplotlib.axes._subplots.AxesSubplot at 0x21bfb211760>"
      ]
     },
     "execution_count": 63,
     "metadata": {},
     "output_type": "execute_result"
    },
    {
     "data": {
      "image/png": "[encoded data removed]",
      "text/plain": [
       "<Figure size 864x432 with 1 Axes>"
      ]
     },
     "metadata": {
      "needs_background": "light"
     },
     "output_type": "display_data"
    }
   ],
   "source": [
    "df_prices_m.plot(figsize=(12,6)) #volume is annoying"
   ]
  },
  {
   "cell_type": "code",
   "execution_count": 64,
   "metadata": {},
   "outputs": [
    {
     "data": {
      "text/plain": [
       "<matplotlib.axes._subplots.AxesSubplot at 0x21bfb211d90>"
      ]
     },
     "execution_count": 64,
     "metadata": {},
     "output_type": "execute_result"
    },
    {
     "data": {
      "image/png": "[encoded data removed]",
      "text/plain": [
       "<Figure size 864x432 with 1 Axes>"
      ]
     },
     "metadata": {
      "needs_background": "light"
     },
     "output_type": "display_data"
    }
   ],
   "source": [
    "df_prices_m.drop(columns='volume').plot(figsize=(12,6))"
   ]
  },
  {
   "cell_type": "markdown",
   "metadata": {},
   "source": [
    "### Rolling stats"
   ]
  },
  {
   "cell_type": "code",
   "execution_count": 65,
   "metadata": {},
   "outputs": [],
   "source": [
    "df_prices['adjclose_ma30'] = df_prices['adjclose'].rolling(30).mean()"
   ]
  },
  {
   "cell_type": "code",
   "execution_count": 66,
   "metadata": {},
   "outputs": [
    {
     "data": {
      "text/plain": [
       "<matplotlib.axes._subplots.AxesSubplot at 0x21bfb2dcc40>"
      ]
     },
     "execution_count": 66,
     "metadata": {},
     "output_type": "execute_result"
    },
    {
     "data": {
      "image/png": "[encoded data removed]",
      "text/plain": [
       "<Figure size 864x432 with 1 Axes>"
      ]
     },
     "metadata": {
      "needs_background": "light"
     },
     "output_type": "display_data"
    }
   ],
   "source": [
    "df_prices[['adjclose', 'adjclose_ma30']].plot(figsize=(12,6))"
   ]
  },
  {
   "cell_type": "markdown",
   "metadata": {},
   "source": [
    "### Other methods"
   ]
  },
  {
   "cell_type": "code",
   "execution_count": 67,
   "metadata": {},
   "outputs": [],
   "source": [
    "s = df_prices['adjclose'].head(10)"
   ]
  },
  {
   "cell_type": "code",
   "execution_count": 69,
   "metadata": {},
   "outputs": [
    {
     "name": "stdout",
     "output_type": "stream",
     "text": [
      "formatted_date\n",
      "2019-10-01          NaN\n",
      "2019-10-02    55.595886\n",
      "2019-10-03    54.202213\n",
      "2019-10-04    54.662643\n",
      "2019-10-07    56.194942\n",
      "2019-10-08    56.207317\n",
      "2019-10-09    55.548851\n",
      "2019-10-10    56.199894\n",
      "2019-10-11    56.957375\n",
      "2019-10-14    58.472343\n",
      "Name: adjclose, dtype: float64\n",
      "formatted_date\n",
      "2019-10-01    55.595886\n",
      "2019-10-02    54.202213\n",
      "2019-10-03    54.662643\n",
      "2019-10-04    56.194942\n",
      "2019-10-07    56.207317\n",
      "2019-10-08    55.548851\n",
      "2019-10-09    56.199894\n",
      "2019-10-10    56.957375\n",
      "2019-10-11    58.472343\n",
      "2019-10-14    58.388180\n",
      "Name: adjclose, dtype: float64\n"
     ]
    }
   ],
   "source": [
    "print(s.shift(1)) #1 day lag\n",
    "print(s)"
   ]
  },
  {
   "cell_type": "code",
   "execution_count": 70,
   "metadata": {},
   "outputs": [
    {
     "data": {
      "text/plain": [
       "formatted_date\n",
       "2019-10-01         NaN\n",
       "2019-10-02   -0.025068\n",
       "2019-10-03    0.008495\n",
       "2019-10-04    0.028032\n",
       "2019-10-07    0.000220\n",
       "2019-10-08   -0.011715\n",
       "2019-10-09    0.011720\n",
       "2019-10-10    0.013478\n",
       "2019-10-11    0.026598\n",
       "2019-10-14   -0.001439\n",
       "Name: adjclose, dtype: float64"
      ]
     },
     "execution_count": 70,
     "metadata": {},
     "output_type": "execute_result"
    }
   ],
   "source": [
    "s.pct_change() #nice inbuilt fct"
   ]
  },
  {
   "cell_type": "code",
   "execution_count": 72,
   "metadata": {},
   "outputs": [
    {
     "data": {
      "text/plain": [
       "<matplotlib.axes._subplots.AxesSubplot at 0x21bfb5761f0>"
      ]
     },
     "execution_count": 72,
     "metadata": {},
     "output_type": "execute_result"
    },
    {
     "data": {
      "image/png": "[encoded data removed]",
      "text/plain": [
       "<Figure size 432x288 with 1 Axes>"
      ]
     },
     "metadata": {
      "needs_background": "light"
     },
     "output_type": "display_data"
    }
   ],
   "source": [
    "s.pct_change().plot()"
   ]
  },
  {
   "cell_type": "code",
   "execution_count": 73,
   "metadata": {},
   "outputs": [
    {
     "data": {
      "text/plain": [
       "formatted_date\n",
       "2019-10-01         NaN\n",
       "2019-10-02   -1.393673\n",
       "2019-10-03    0.460430\n",
       "2019-10-04    1.532299\n",
       "2019-10-07    0.012375\n",
       "2019-10-08   -0.658466\n",
       "2019-10-09    0.651043\n",
       "2019-10-10    0.757481\n",
       "2019-10-11    1.514969\n",
       "2019-10-14   -0.084164\n",
       "Name: adjclose, dtype: float64"
      ]
     },
     "execution_count": 73,
     "metadata": {},
     "output_type": "execute_result"
    }
   ],
   "source": [
    "s.diff(1) #absolute level of change between each period"
   ]
  },
  {
   "cell_type": "code",
   "execution_count": 74,
   "metadata": {},
   "outputs": [
    {
     "data": {
      "text/plain": [
       "formatted_date\n",
       "2019-10-01         NaN\n",
       "2019-10-02         NaN\n",
       "2019-10-03   -0.933243\n",
       "2019-10-04    1.992729\n",
       "2019-10-07    1.544674\n",
       "2019-10-08   -0.646091\n",
       "2019-10-09   -0.007423\n",
       "2019-10-10    1.408524\n",
       "2019-10-11    2.272449\n",
       "2019-10-14    1.430805\n",
       "Name: adjclose, dtype: float64"
      ]
     },
     "execution_count": 74,
     "metadata": {},
     "output_type": "execute_result"
    }
   ],
   "source": [
    "s.diff(2)"
   ]
  },
  {
   "cell_type": "code",
   "execution_count": null,
   "metadata": {},
   "outputs": [],
   "source": []
  }
 ],
 "metadata": {
  "kernelspec": {
   "display_name": "Python 3 (ipykernel)",
   "language": "python",
   "name": "python3"
  },
  "language_info": {
   "codemirror_mode": {
    "name": "ipython",
    "version": 3
   },
   "file_extension": ".py",
   "mimetype": "text/x-python",
   "name": "python",
   "nbconvert_exporter": "python",
   "pygments_lexer": "ipython3",
   "version": "3.9.10"
  }
 },
 "nbformat": 4,
 "nbformat_minor": 4
}
