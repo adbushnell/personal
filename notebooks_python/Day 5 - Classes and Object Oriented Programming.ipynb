{
 "cells": [
  {
   "cell_type": "markdown",
   "metadata": {},
   "source": [
    "# Classes and object oriented programming\n"
   ]
  },
  {
   "cell_type": "markdown",
   "metadata": {},
   "source": [
    "## Classes\n",
    "These are used to create new types in python, you need to define both methods and attributes"
   ]
  },
  {
   "cell_type": "code",
   "execution_count": 9,
   "metadata": {},
   "outputs": [],
   "source": [
    "#self refers to the current instance\n",
    "#self is passed in implicitly when the methods are called\n",
    "class dog:\n",
    "    def __init__(self,colour,age): #double underscores indicate that it is special(called a dunder) \n",
    "        self.colour = colour #this is a colour attribute, the next is the age attribute\n",
    "        self.age = age #this dunder init will be run every time we create a new instance\n",
    "        \n",
    "    def bark(self):\n",
    "        print('Woof')\n",
    "        \n",
    "    def is_old(self):\n",
    "        return self.age>=15\n",
    "    \n",
    "    def in_dog_years(self):\n",
    "        return self.age*7"
   ]
  },
  {
   "cell_type": "code",
   "execution_count": 10,
   "metadata": {},
   "outputs": [],
   "source": [
    "#creating an instance\n",
    "\n",
    "my_dog=dog(colour='brown',age=5) #my_dog is an instance of the class dog"
   ]
  },
  {
   "cell_type": "code",
   "execution_count": 4,
   "metadata": {},
   "outputs": [
    {
     "data": {
      "text/plain": [
       "'brown'"
      ]
     },
     "execution_count": 4,
     "metadata": {},
     "output_type": "execute_result"
    }
   ],
   "source": [
    "#getting some attributes\n",
    "\n",
    "my_dog.colour #similarly with age"
   ]
  },
  {
   "cell_type": "code",
   "execution_count": 5,
   "metadata": {},
   "outputs": [
    {
     "name": "stdout",
     "output_type": "stream",
     "text": [
      "Woof\n"
     ]
    }
   ],
   "source": [
    "#calling a method\n",
    "#dont need to input anything b/c self is implicitly called in every instance\n",
    "my_dog.bark()"
   ]
  },
  {
   "cell_type": "code",
   "execution_count": 11,
   "metadata": {},
   "outputs": [
    {
     "data": {
      "text/plain": [
       "False"
      ]
     },
     "execution_count": 11,
     "metadata": {},
     "output_type": "execute_result"
    }
   ],
   "source": [
    "my_dog.is_old()"
   ]
  },
  {
   "cell_type": "code",
   "execution_count": 12,
   "metadata": {},
   "outputs": [
    {
     "data": {
      "text/plain": [
       "__main__.dog"
      ]
     },
     "execution_count": 12,
     "metadata": {},
     "output_type": "execute_result"
    }
   ],
   "source": [
    "type(my_dog)"
   ]
  },
  {
   "cell_type": "markdown",
   "metadata": {},
   "source": [
    "## Scoping rules for classes\n",
    "\n",
    "Classes don't create a scope for names inside their bodies and methods.\n",
    "\n",
    "When a method is called, the instance is passed back into the method as self."
   ]
  },
  {
   "cell_type": "code",
   "execution_count": 23,
   "metadata": {},
   "outputs": [],
   "source": [
    "class testclass:\n",
    "    def __init__(self,value):\n",
    "        self.value = value\n",
    "        \n",
    "    def method1(self):\n",
    "        print('method has been called')\n",
    "        \n",
    "    def method2(self):\n",
    "        method1() #this will not work because we have to be explicit with where method 1 is\n",
    "        \n",
    "    def method3(self):\n",
    "        self.method1() #this one works"
   ]
  },
  {
   "cell_type": "code",
   "execution_count": 24,
   "metadata": {},
   "outputs": [],
   "source": [
    "tc = testclass('MLE01')"
   ]
  },
  {
   "cell_type": "code",
   "execution_count": 19,
   "metadata": {},
   "outputs": [
    {
     "name": "stdout",
     "output_type": "stream",
     "text": [
      "method has been called\n"
     ]
    }
   ],
   "source": [
    "tc.method1()"
   ]
  },
  {
   "cell_type": "code",
   "execution_count": 25,
   "metadata": {},
   "outputs": [
    {
     "ename": "NameError",
     "evalue": "name 'method1' is not defined",
     "output_type": "error",
     "traceback": [
      "\u001b[1;31m---------------------------------------------------------------------------\u001b[0m",
      "\u001b[1;31mNameError\u001b[0m                                 Traceback (most recent call last)",
      "\u001b[1;32m<ipython-input-25-319634e6d01c>\u001b[0m in \u001b[0;36m<module>\u001b[1;34m\u001b[0m\n\u001b[1;32m----> 1\u001b[1;33m \u001b[0mtc\u001b[0m\u001b[1;33m.\u001b[0m\u001b[0mmethod2\u001b[0m\u001b[1;33m(\u001b[0m\u001b[1;33m)\u001b[0m\u001b[1;33m\u001b[0m\u001b[1;33m\u001b[0m\u001b[0m\n\u001b[0m",
      "\u001b[1;32m<ipython-input-23-2be355282e2d>\u001b[0m in \u001b[0;36mmethod2\u001b[1;34m(self)\u001b[0m\n\u001b[0;32m      7\u001b[0m \u001b[1;33m\u001b[0m\u001b[0m\n\u001b[0;32m      8\u001b[0m     \u001b[1;32mdef\u001b[0m \u001b[0mmethod2\u001b[0m\u001b[1;33m(\u001b[0m\u001b[0mself\u001b[0m\u001b[1;33m)\u001b[0m\u001b[1;33m:\u001b[0m\u001b[1;33m\u001b[0m\u001b[1;33m\u001b[0m\u001b[0m\n\u001b[1;32m----> 9\u001b[1;33m         \u001b[0mmethod1\u001b[0m\u001b[1;33m(\u001b[0m\u001b[1;33m)\u001b[0m\u001b[1;33m\u001b[0m\u001b[1;33m\u001b[0m\u001b[0m\n\u001b[0m\u001b[0;32m     10\u001b[0m \u001b[1;33m\u001b[0m\u001b[0m\n\u001b[0;32m     11\u001b[0m     \u001b[1;32mdef\u001b[0m \u001b[0mmethod3\u001b[0m\u001b[1;33m(\u001b[0m\u001b[0mself\u001b[0m\u001b[1;33m)\u001b[0m\u001b[1;33m:\u001b[0m\u001b[1;33m\u001b[0m\u001b[1;33m\u001b[0m\u001b[0m\n",
      "\u001b[1;31mNameError\u001b[0m: name 'method1' is not defined"
     ]
    }
   ],
   "source": [
    "tc.method2()"
   ]
  },
  {
   "cell_type": "code",
   "execution_count": 26,
   "metadata": {},
   "outputs": [
    {
     "name": "stdout",
     "output_type": "stream",
     "text": [
      "method has been called\n"
     ]
    }
   ],
   "source": [
    "tc.method3()"
   ]
  },
  {
   "cell_type": "markdown",
   "metadata": {},
   "source": [
    "Concept Check\n",
    "-------------\n",
    "- Create a class called Teacher. The teacher has attributes 'is_angry' and 'is_drunk' which are initialized to False.\n",
    "- Add the teach() method that prints out 'Python is great!'.\n",
    "  If the teacher is angry, then all words are capitalized.\n",
    "  If the teacher is drunk, then the phrase is scrambled.\n",
    "  The teacher becomes angry after teaching.\n",
    "- Add the drink_booze() method. Going drinking calms the teacher down and makes them not angry.\n",
    "  However, the teacher becomes drunk.\n",
    "- Add the drink_water() method. This sobers up the teacher."
   ]
  },
  {
   "cell_type": "code",
   "execution_count": 33,
   "metadata": {},
   "outputs": [],
   "source": [
    "class teacher:\n",
    "    def __init__(self, taught):\n",
    "        self.taught = taught\n",
    "    def drink_booze(self):\n",
    "        print('Pthyon is gerat!!')  \n",
    "    def drink_water(self):\n",
    "        print('Woah I need some water')\n",
    "        print('Okay guys just do exercises please')\n",
    "        \n",
    "    def teach(self):\n",
    "        d = 0\n",
    "        if self.taught == 0:\n",
    "            print('Python is great')\n",
    "        elif self.taught > 0:\n",
    "            while d<5:\n",
    "                print('I NEED A DRINK')\n",
    "                self.drink_booze()\n",
    "                print('Next class? Anthoer dirnk')\n",
    "                d += 1 \n",
    "            if d==5:\n",
    "                self.drink_water()\n",
    "#didn't finish        "
   ]
  },
  {
   "cell_type": "code",
   "execution_count": 34,
   "metadata": {},
   "outputs": [
    {
     "name": "stdout",
     "output_type": "stream",
     "text": [
      "Python is great\n"
     ]
    }
   ],
   "source": [
    "my_teacher = teacher(0)\n",
    "my_teacher.teach() #hasnt taught yet"
   ]
  },
  {
   "cell_type": "code",
   "execution_count": 35,
   "metadata": {},
   "outputs": [
    {
     "name": "stdout",
     "output_type": "stream",
     "text": [
      "I NEED A DRINK\n",
      "Pthyon is gerat!!\n",
      "Next class? Anthoer dirnk\n",
      "I NEED A DRINK\n",
      "Pthyon is gerat!!\n",
      "Next class? Anthoer dirnk\n",
      "I NEED A DRINK\n",
      "Pthyon is gerat!!\n",
      "Next class? Anthoer dirnk\n",
      "I NEED A DRINK\n",
      "Pthyon is gerat!!\n",
      "Next class? Anthoer dirnk\n",
      "I NEED A DRINK\n",
      "Pthyon is gerat!!\n",
      "Next class? Anthoer dirnk\n",
      "Woah I need some water\n",
      "Okay guys just do exercises please\n"
     ]
    }
   ],
   "source": [
    "my_teacher = teacher(1)\n",
    "my_teacher.teach() #goes mental after just one class"
   ]
  },
  {
   "cell_type": "code",
   "execution_count": 42,
   "metadata": {},
   "outputs": [],
   "source": [
    "#Alberts one\n",
    "import random\n",
    "\n",
    "def text_scramble(text):\n",
    "    text_list = list(text)\n",
    "    random.shuffle(text_list)\n",
    "    return ''.join(text_list)\n",
    "\n",
    "class Teacher:\n",
    "    def __init__(self):\n",
    "        self.is_angry = False\n",
    "        self.is_drunk = False\n",
    "    def teach(self):\n",
    "        message = 'Python is great'\n",
    "        if self.is_angry:\n",
    "            message = message.upper()\n",
    "        if self.is_drunk:\n",
    "            message = text_scramble(message)\n",
    "        print(message)\n",
    "        self.is_angry = True\n",
    "        \n",
    "    def drink_booze(self):\n",
    "        self.is_angry = False\n",
    "        self.is_drunk = True\n",
    "        \n",
    "    def drink_water(self):\n",
    "        self.is_drunk = False"
   ]
  },
  {
   "cell_type": "code",
   "execution_count": 43,
   "metadata": {},
   "outputs": [
    {
     "name": "stdout",
     "output_type": "stream",
     "text": [
      "Angry? False\n",
      "Drunk? False\n"
     ]
    }
   ],
   "source": [
    "albert_teacher = Teacher()\n",
    "\n",
    "print('Angry?', albert_teacher.is_angry)\n",
    "print('Drunk?', albert_teacher.is_drunk)"
   ]
  },
  {
   "cell_type": "code",
   "execution_count": 44,
   "metadata": {},
   "outputs": [
    {
     "name": "stdout",
     "output_type": "stream",
     "text": [
      "Python is great\n",
      "Angry? True\n",
      "Drunk? False\n"
     ]
    }
   ],
   "source": [
    "albert_teacher.teach()\n",
    "print('Angry?', albert_teacher.is_angry) #now he has taught hes angry\n",
    "print('Drunk?', albert_teacher.is_drunk)"
   ]
  },
  {
   "cell_type": "code",
   "execution_count": 45,
   "metadata": {},
   "outputs": [
    {
     "name": "stdout",
     "output_type": "stream",
     "text": [
      "PYTHON IS GREAT\n",
      "Angry? True\n",
      "Drunk? False\n"
     ]
    }
   ],
   "source": [
    "albert_teacher.teach()\n",
    "print('Angry?', albert_teacher.is_angry) #he was angry so now it is in caps\n",
    "print('Drunk?', albert_teacher.is_drunk)"
   ]
  },
  {
   "cell_type": "code",
   "execution_count": 47,
   "metadata": {},
   "outputs": [
    {
     "name": "stdout",
     "output_type": "stream",
     "text": [
      "erot igytsPa nh\n",
      "Angry? True\n",
      "Drunk? True\n"
     ]
    }
   ],
   "source": [
    "albert_teacher.drink_booze()\n",
    "albert_teacher.teach()\n",
    "print('Angry?', albert_teacher.is_angry) \n",
    "print('Drunk?', albert_teacher.is_drunk) #he drank so it makes no sense ut at least he isn't angry"
   ]
  },
  {
   "cell_type": "code",
   "execution_count": 48,
   "metadata": {},
   "outputs": [
    {
     "name": "stdout",
     "output_type": "stream",
     "text": [
      "OTN YHTP AISEGR\n",
      "Angry? True\n",
      "Drunk? True\n"
     ]
    }
   ],
   "source": [
    "albert_teacher.teach()\n",
    "print('Angry?', albert_teacher.is_angry) #he was angry so now it is in caps\n",
    "print('Drunk?', albert_teacher.is_drunk) #he is also drunk so it makes no sense"
   ]
  },
  {
   "cell_type": "code",
   "execution_count": 49,
   "metadata": {},
   "outputs": [
    {
     "name": "stdout",
     "output_type": "stream",
     "text": [
      "Angry? True\n",
      "Drunk? False\n"
     ]
    }
   ],
   "source": [
    "albert_teacher.drink_water()\n",
    "print('Angry?', albert_teacher.is_angry) #still angry because he had to teach\n",
    "print('Drunk?', albert_teacher.is_drunk) #not drunk anymore"
   ]
  },
  {
   "cell_type": "markdown",
   "metadata": {},
   "source": [
    "## OOP Idea 1 - Inheritance\n",
    "This allows us to create classes that inherit behaviours from existing classes\n",
    "~~~\n",
    "- parent class/super class: the class that the behaviour is inherited from\n",
    "- child class: the class that inherits the behaviour\n",
    "~~~"
   ]
  },
  {
   "cell_type": "code",
   "execution_count": 50,
   "metadata": {},
   "outputs": [],
   "source": [
    "class dog:\n",
    "    '''\n",
    "    Representation of a dog\n",
    "    '''\n",
    "    def __init__(self, colour, age):\n",
    "        self.colour = colour\n",
    "        self.age = age\n",
    "        self.is_full = False\n",
    "        if age <0:\n",
    "            raise Exception('Age cannot be less than 0.')\n",
    "    def bark(self):\n",
    "        print('Woof')\n",
    "    def roll_around(self):\n",
    "        print('Rolling in the mud...')\n",
    "        self.colour = 'Brown'\n",
    "    def eat(self):\n",
    "        print('eating...')\n",
    "        self.is_full = True"
   ]
  },
  {
   "cell_type": "code",
   "execution_count": 63,
   "metadata": {},
   "outputs": [],
   "source": [
    "class smalldog(dog): #means that smalldog inherits from dog\n",
    "    def __init__(self, colour, age, is_aggressive=True):\n",
    "        super().__init__(colour, age) #this initialises the colour and the age, inherited from dog\n",
    "        self.is_aggressive = is_aggressive\n",
    "        \n",
    "    def bark(self):\n",
    "        print('yip') #modifying the behaviour (the old method has been overwritten)\n",
    "        \n",
    "    def fit_in_bag(self):\n",
    "        print('Travelling in the gucci bag')"
   ]
  },
  {
   "cell_type": "code",
   "execution_count": 58,
   "metadata": {},
   "outputs": [],
   "source": [
    "sd = smalldog('White',5.5)"
   ]
  },
  {
   "cell_type": "code",
   "execution_count": 62,
   "metadata": {},
   "outputs": [
    {
     "name": "stdout",
     "output_type": "stream",
     "text": [
      "sd.colour       :  White\n",
      "sd.age          :  5.5\n",
      "sd.is_full      :  False\n",
      "sd.is_aggressive:  True\n"
     ]
    }
   ],
   "source": [
    "# Getting the attributes\n",
    "print('sd.colour       : ', sd.colour)\n",
    "print('sd.age          : ', sd.age)\n",
    "print('sd.is_full      : ', sd.is_full)\n",
    "print('sd.is_aggressive: ', sd.is_aggressive)"
   ]
  },
  {
   "cell_type": "code",
   "execution_count": 60,
   "metadata": {},
   "outputs": [
    {
     "data": {
      "text/plain": [
       "'White'"
      ]
     },
     "execution_count": 60,
     "metadata": {},
     "output_type": "execute_result"
    }
   ],
   "source": [
    "sd.colour"
   ]
  },
  {
   "cell_type": "code",
   "execution_count": 64,
   "metadata": {},
   "outputs": [
    {
     "name": "stdout",
     "output_type": "stream",
     "text": [
      "yip\n",
      "Rolling in the mud...\n",
      "eating...\n",
      "Travelling in the gucci bag\n"
     ]
    }
   ],
   "source": [
    "sd.bark() #these are the methods in the class, two inherited, one changed, one new\n",
    "\n",
    "sd.roll_around()\n",
    "sd.eat()\n",
    "sd.fit_in_bag()"
   ]
  },
  {
   "cell_type": "code",
   "execution_count": 61,
   "metadata": {},
   "outputs": [
    {
     "name": "stdout",
     "output_type": "stream",
     "text": [
      "Travelling in the gucci bag\n"
     ]
    }
   ],
   "source": []
  },
  {
   "cell_type": "markdown",
   "metadata": {},
   "source": [
    "## Muliple inheritance"
   ]
  },
  {
   "cell_type": "code",
   "execution_count": 65,
   "metadata": {},
   "outputs": [],
   "source": [
    "class robot:\n",
    "    def __init__(self):\n",
    "        self.energy = 50    \n",
    "    def electrocute(self):\n",
    "        if self.energy > 0:\n",
    "            print('zzzttt')\n",
    "            self.energy -= 25\n",
    "        else:\n",
    "            print('not enough energy')\n",
    "            "
   ]
  },
  {
   "cell_type": "code",
   "execution_count": 76,
   "metadata": {},
   "outputs": [],
   "source": [
    "class platypus:\n",
    "    def __init__(self, bill_length=4, colour='brown'):\n",
    "        self.bill_length = bill_length\n",
    "        self.colour = colour\n",
    "    def bite(self, specimen_length):\n",
    "        if specimen_length <= self.bill_length:\n",
    "            print('Successful bite')\n",
    "        else:\n",
    "            print('specimen is too large')"
   ]
  },
  {
   "cell_type": "code",
   "execution_count": 77,
   "metadata": {},
   "outputs": [],
   "source": [
    "class robotplatypus(robot,platypus):\n",
    "    def __init__(self):\n",
    "        robot.__init__(self)\n",
    "        platypus.__init__(self, 5, 'silver')\n",
    "        \n",
    "    def electric_bite(self):\n",
    "        if self.energy >= 5:\n",
    "            print('ELECTRIC BITE MOFO')\n",
    "            self.energy -= 5\n",
    "        else:\n",
    "            print('not enough energy')\n",
    "        "
   ]
  },
  {
   "cell_type": "code",
   "execution_count": 80,
   "metadata": {},
   "outputs": [
    {
     "name": "stdout",
     "output_type": "stream",
     "text": [
      "rp.energy ; 50\n",
      "rp.colour ; silver\n",
      "rp.bill_length ; 5\n"
     ]
    }
   ],
   "source": [
    "#create instance\n",
    "rp = robotplatypus()\n",
    "print('rp.energy ;', rp.energy)\n",
    "print('rp.colour ;', rp.colour)\n",
    "print('rp.bill_length ;', rp.bill_length)"
   ]
  },
  {
   "cell_type": "code",
   "execution_count": 82,
   "metadata": {},
   "outputs": [
    {
     "name": "stdout",
     "output_type": "stream",
     "text": [
      "zzzttt\n",
      "specimen is too large\n",
      "not enough energy\n"
     ]
    }
   ],
   "source": [
    "rp.electrocute()\n",
    "rp.bite(1000)\n",
    "rp.electric_bite()"
   ]
  },
  {
   "cell_type": "markdown",
   "metadata": {},
   "source": [
    "## OOP Idea 2: Polymorphism, Dynamic Binding and Duck Type\n",
    "The capability to use an instance without regard for its type as long as it has the right interface.\n",
    "\n",
    "When we look up an attribute in an object it is located by searching in the instance, class, parent classes in that order\n",
    "\n",
    "Duck Typing: 'If it looks like a duck, quacks like a duck then it is probably a duck'\n"
   ]
  },
  {
   "cell_type": "code",
   "execution_count": 83,
   "metadata": {},
   "outputs": [],
   "source": [
    "def make_electrocute(x):\n",
    "    x.electrocute()"
   ]
  },
  {
   "cell_type": "code",
   "execution_count": 84,
   "metadata": {},
   "outputs": [],
   "source": [
    "robo1 = robot()\n",
    "robo2 = robotplatypus()"
   ]
  },
  {
   "cell_type": "code",
   "execution_count": 87,
   "metadata": {},
   "outputs": [
    {
     "name": "stdout",
     "output_type": "stream",
     "text": [
      "not enough energy\n",
      "zzzttt\n"
     ]
    }
   ],
   "source": [
    "make_electrocute(robo1)\n",
    "make_electrocute(robo2)"
   ]
  },
  {
   "cell_type": "markdown",
   "metadata": {},
   "source": [
    "## Static methods and class methods\n",
    "In a class definition methods are assumed to operate on the class instance(self)\n",
    "\n",
    "Class and static methods are exceptions and do not do operate on the instance level.\n",
    "\n",
    "- Static methods are functions that live within a class\n",
    "- Class methods are those that operate on the class (as opposed to an instance)\n"
   ]
  },
  {
   "cell_type": "code",
   "execution_count": 97,
   "metadata": {},
   "outputs": [],
   "source": [
    "class alpaca:\n",
    "    def __init__(self):\n",
    "        self.colour = 'brown' #so this means that all alpacas will be created as brown\n",
    "        self.is_full = False #the init changes the instance\n",
    "        \n",
    "    def eat(self):\n",
    "        print('eating grass')\n",
    "        self.is_full = True #does depend on the instance\n",
    "    \n",
    "    @staticmethod #decorate it as a static method to avoid an error with omitting self\n",
    "    def hum(owner_name): #remove the self, but can have other arguments\n",
    "        print('hummmmm '+ owner_name) #doesn't depend on the instance - we don't need the self here\n",
    "        \n",
    "        #we need the decorator there so that we can omit the self from the brackets, else there will be an error"
   ]
  },
  {
   "cell_type": "code",
   "execution_count": 98,
   "metadata": {},
   "outputs": [
    {
     "name": "stdout",
     "output_type": "stream",
     "text": [
      "hummmmm Alex\n"
     ]
    }
   ],
   "source": [
    "my_alpaca = alpaca()\n",
    "alpaca.hum('Alex')"
   ]
  },
  {
   "cell_type": "code",
   "execution_count": 107,
   "metadata": {},
   "outputs": [],
   "source": [
    "class alpaca:\n",
    "    \n",
    "    counter = 0 #keep track of the amount of alpacas we are creating\n",
    "    \n",
    "    def __init__(self):\n",
    "        self.colour = 'brown' #so this means that all alpacas will be created as brown\n",
    "        self.is_full = False #the init changes the instance\n",
    "        self.increment_count()\n",
    "    def eat(self):\n",
    "        print('eating grass')\n",
    "        self.is_full = True #does depend on the instance\n",
    "    \n",
    "    @staticmethod #decorate it as a static method to avoid an error with omitting self\n",
    "    def hum(): #remove the self, but can have other arguments\n",
    "        print('hummmmm') #doesn't depend on the instance - we don't need the self here\n",
    "        \n",
    "        #we need the decorator there so that we can omit the self from the brackets, else there will be an error\n",
    "    \n",
    "    @classmethod\n",
    "    def increment_count(cls):\n",
    "        cls.counter += 1"
   ]
  },
  {
   "cell_type": "code",
   "execution_count": 108,
   "metadata": {},
   "outputs": [],
   "source": [
    "the_alpaca1 = alpaca()"
   ]
  },
  {
   "cell_type": "code",
   "execution_count": 109,
   "metadata": {},
   "outputs": [],
   "source": [
    "the_alpaca2 = alpaca()"
   ]
  },
  {
   "cell_type": "code",
   "execution_count": 110,
   "metadata": {},
   "outputs": [
    {
     "data": {
      "text/plain": [
       "2"
      ]
     },
     "execution_count": 110,
     "metadata": {},
     "output_type": "execute_result"
    }
   ],
   "source": [
    "the_alpaca1.counter\n",
    "the_alpaca2.counter"
   ]
  },
  {
   "cell_type": "code",
   "execution_count": 111,
   "metadata": {},
   "outputs": [
    {
     "name": "stdout",
     "output_type": "stream",
     "text": [
      "alpaca.counter : 2\n",
      "the_alpaca1.counter : 2\n",
      "the_alpaca2.counter : 2\n"
     ]
    }
   ],
   "source": [
    "print('alpaca.counter :', alpaca.counter)\n",
    "print('the_alpaca1.counter :', the_alpaca1.counter)\n",
    "print('the_alpaca2.counter :', the_alpaca2.counter) #the class method applies to all instances"
   ]
  },
  {
   "cell_type": "markdown",
   "metadata": {},
   "source": [
    "Concept Check\n",
    "-------------\n",
    "- Define a Student class.\n",
    "- The Student class has a class variables:\n",
    "  - counter (number of students created)\n",
    "  - class_intelligence (sum of intelligence of all students)\n",
    "- The student is initialized with an intelligence of 0.\n",
    "- The Student class has the following methods:\n",
    "  - go_boozing (Decreases intelligence by 10. Decreases class_intelligence by 10.)\n",
    "  - study (Increases intelligence by 5. Increases class_intelligence by 5.)"
   ]
  },
  {
   "cell_type": "code",
   "execution_count": 145,
   "metadata": {},
   "outputs": [],
   "source": [
    "class student:\n",
    "    counter = 0\n",
    "    class_intelligence = 0\n",
    "    \n",
    "    def __init__(self):\n",
    "        self.increment_count()\n",
    "        self.intelligence = 0\n",
    "        \n",
    "    def go_boozing(self):\n",
    "        self.intelligence -=10\n",
    "        student.class_intelligence -=10\n",
    "    def study(self):\n",
    "        self.intelligence +=5\n",
    "        student.class_intelligence +=5\n",
    "    @classmethod\n",
    "    def increment_count(cls):\n",
    "        cls.counter +=1"
   ]
  },
  {
   "cell_type": "code",
   "execution_count": 146,
   "metadata": {},
   "outputs": [],
   "source": [
    "student1 = student()\n",
    "student2 = student()\n",
    "student3 = student()"
   ]
  },
  {
   "cell_type": "code",
   "execution_count": 147,
   "metadata": {},
   "outputs": [
    {
     "name": "stdout",
     "output_type": "stream",
     "text": [
      "student1.counter:  3\n",
      "student2.counter:  3\n",
      "student3.counter:  3\n"
     ]
    }
   ],
   "source": [
    "print('student1.counter: ', student1.counter)\n",
    "print('student2.counter: ', student2.counter) #works\n",
    "print('student3.counter: ', student3.counter)"
   ]
  },
  {
   "cell_type": "code",
   "execution_count": 148,
   "metadata": {},
   "outputs": [
    {
     "name": "stdout",
     "output_type": "stream",
     "text": [
      "student1.intelligence:  -10\n",
      "student.class_intelligence:  -10\n"
     ]
    }
   ],
   "source": [
    "student1.go_boozing()\n",
    "print('student1.intelligence: ', student1.intelligence)\n",
    "print('student.class_intelligence: ', student.class_intelligence)"
   ]
  },
  {
   "cell_type": "code",
   "execution_count": 149,
   "metadata": {},
   "outputs": [
    {
     "name": "stdout",
     "output_type": "stream",
     "text": [
      "student1.intelligence:  -10\n",
      "student2.intelligence:  -10\n",
      "student.class_intelligence:  -20\n"
     ]
    }
   ],
   "source": [
    "student2.go_boozing()\n",
    "print('student1.intelligence: ', student1.intelligence)\n",
    "print('student2.intelligence: ', student2.intelligence)\n",
    "print('student.class_intelligence: ', student.class_intelligence)"
   ]
  },
  {
   "cell_type": "code",
   "execution_count": 150,
   "metadata": {},
   "outputs": [
    {
     "name": "stdout",
     "output_type": "stream",
     "text": [
      "student1.intelligence:  -10\n",
      "student2.intelligence:  -10\n",
      "student3.intelligence:  5\n",
      "student.class_intelligence:  -15\n"
     ]
    }
   ],
   "source": [
    "student3.study()\n",
    "print('student1.intelligence: ', student1.intelligence)\n",
    "print('student2.intelligence: ', student2.intelligence)\n",
    "print('student3.intelligence: ', student3.intelligence)\n",
    "print('student.class_intelligence: ', student.class_intelligence)"
   ]
  },
  {
   "cell_type": "code",
   "execution_count": 151,
   "metadata": {},
   "outputs": [
    {
     "name": "stdout",
     "output_type": "stream",
     "text": [
      "student1.counter:  4\n",
      "student4.counter:  4\n",
      "student.counter:  4\n",
      "student1.intelligence:  -30\n",
      "student2.intelligence:  -10\n",
      "student3.intelligence:  0\n",
      "student4.intelligence:  10\n",
      "student.class_intelligence:  -30\n"
     ]
    }
   ],
   "source": [
    "student4 = student()\n",
    "student4.study()\n",
    "student4.study()\n",
    "student1.go_boozing()\n",
    "student1.go_boozing()\n",
    "student2.study\n",
    "student3.go_boozing()\n",
    "student3.study()\n",
    "print('student1.counter: ', student1.counter)\n",
    "print('student4.counter: ', student4.counter) #works\n",
    "print('student.counter: ', student.counter)\n",
    "print('student1.intelligence: ', student1.intelligence)\n",
    "print('student2.intelligence: ', student2.intelligence)\n",
    "print('student3.intelligence: ', student3.intelligence)\n",
    "print('student4.intelligence: ', student4.intelligence)\n",
    "print('student.class_intelligence: ', student.class_intelligence)"
   ]
  },
  {
   "cell_type": "markdown",
   "metadata": {},
   "source": [
    "## OOP Idea 3: Data encapsulation and private attributes\n",
    "------\n",
    "Private attributes are those you dont want to expose to the wider world\n",
    "\n",
    "These start with a double underscore\n",
    "\n",
    "------"
   ]
  },
  {
   "cell_type": "code",
   "execution_count": 152,
   "metadata": {},
   "outputs": [],
   "source": [
    "class bankaccount:\n",
    "    def __init__(self, password):\n",
    "        self.__password = password #intended as a private attribute\n",
    "        self.balance = 0\n",
    "        \n",
    "    def deposit(self, amount):\n",
    "        self.balance += amount\n",
    "        \n",
    "    def withdraw(self, amount, password):\n",
    "        if self.__password == password:\n",
    "            print('Withdrawal successful')\n",
    "            self.balance -= amount\n",
    "            return amount"
   ]
  },
  {
   "cell_type": "code",
   "execution_count": 153,
   "metadata": {},
   "outputs": [],
   "source": [
    "ba = bankaccount('abc123')"
   ]
  },
  {
   "cell_type": "code",
   "execution_count": 154,
   "metadata": {},
   "outputs": [
    {
     "name": "stdout",
     "output_type": "stream",
     "text": [
      "Withdrawal successful\n"
     ]
    },
    {
     "data": {
      "text/plain": [
       "100"
      ]
     },
     "execution_count": 154,
     "metadata": {},
     "output_type": "execute_result"
    }
   ],
   "source": [
    "ba.deposit(1000)\n",
    "ba.withdraw(100,'abc123')"
   ]
  },
  {
   "cell_type": "code",
   "execution_count": 155,
   "metadata": {},
   "outputs": [
    {
     "data": {
      "text/plain": [
       "'abc123'"
      ]
     },
     "execution_count": 155,
     "metadata": {},
     "output_type": "execute_result"
    }
   ],
   "source": [
    "ba._bankaccount__password #even though its private you can still access it"
   ]
  },
  {
   "cell_type": "code",
   "execution_count": 156,
   "metadata": {},
   "outputs": [
    {
     "data": {
      "text/plain": [
       "900"
      ]
     },
     "execution_count": 156,
     "metadata": {},
     "output_type": "execute_result"
    }
   ],
   "source": [
    "ba.balance"
   ]
  },
  {
   "cell_type": "markdown",
   "metadata": {},
   "source": [
    "## Properties\n",
    "These are special attributes that compute their values when they are accessed\n",
    "\n",
    "You use the @property decorator"
   ]
  },
  {
   "cell_type": "code",
   "execution_count": 157,
   "metadata": {},
   "outputs": [],
   "source": [
    "class circle:\n",
    "    def __init__(self, radius):\n",
    "        self.radius = radius\n",
    "        self.area = 3.141592 * radius**2"
   ]
  },
  {
   "cell_type": "code",
   "execution_count": 158,
   "metadata": {},
   "outputs": [],
   "source": [
    "my_circle=circle(2)"
   ]
  },
  {
   "cell_type": "code",
   "execution_count": 159,
   "metadata": {},
   "outputs": [
    {
     "name": "stdout",
     "output_type": "stream",
     "text": [
      "my_circle.radius : 2\n",
      "my_circle.area : 12.566368\n"
     ]
    }
   ],
   "source": [
    "print('my_circle.radius :', my_circle.radius)\n",
    "print('my_circle.area :', my_circle.area)"
   ]
  },
  {
   "cell_type": "code",
   "execution_count": 160,
   "metadata": {},
   "outputs": [
    {
     "name": "stdout",
     "output_type": "stream",
     "text": [
      "my_circle.radius : 1\n",
      "my_circle.area : 12.566368\n"
     ]
    }
   ],
   "source": [
    "my_circle.radius = 1\n",
    "print('my_circle.radius :', my_circle.radius)\n",
    "print('my_circle.area :', my_circle.area) #now the area hasn't updated itself\n",
    "#there is nothing in our function to say that it should also update the area when we change the radius like that"
   ]
  },
  {
   "cell_type": "code",
   "execution_count": 164,
   "metadata": {},
   "outputs": [],
   "source": [
    "class circle:\n",
    "    def __init__(self, radius):\n",
    "        self.radius = radius\n",
    "    def area(self):\n",
    "        a = 3.141592 * self.radius**2\n",
    "        return a"
   ]
  },
  {
   "cell_type": "code",
   "execution_count": 165,
   "metadata": {},
   "outputs": [
    {
     "name": "stdout",
     "output_type": "stream",
     "text": [
      "my_circle.radius : 1\n",
      "my_circle.area : 3.141592\n"
     ]
    }
   ],
   "source": [
    "my_circle=circle(1)\n",
    "print('my_circle.radius :', my_circle.radius)\n",
    "print('my_circle.area :', my_circle.area()) "
   ]
  },
  {
   "cell_type": "code",
   "execution_count": 167,
   "metadata": {},
   "outputs": [
    {
     "name": "stdout",
     "output_type": "stream",
     "text": [
      "my_circle.radius : 2\n",
      "my_circle.area : 12.566368\n"
     ]
    }
   ],
   "source": [
    "my_circle.radius = 2\n",
    "print('my_circle.radius :', my_circle.radius)\n",
    "print('my_circle.area :', my_circle.area())  #updates now but have to have extra brackets"
   ]
  },
  {
   "cell_type": "code",
   "execution_count": 168,
   "metadata": {},
   "outputs": [],
   "source": [
    "class circle:\n",
    "    def __init__(self, radius):\n",
    "        self.radius = radius\n",
    "        \n",
    "    @property #decorate as a property\n",
    "    def area(self):\n",
    "        a = 3.141592 * self.radius**2\n",
    "        return a"
   ]
  },
  {
   "cell_type": "code",
   "execution_count": 169,
   "metadata": {},
   "outputs": [
    {
     "name": "stdout",
     "output_type": "stream",
     "text": [
      "my_circle.radius : 1\n",
      "my_circle.area : 3.141592\n"
     ]
    }
   ],
   "source": [
    "my_circle=circle(1)\n",
    "print('my_circle.radius :', my_circle.radius)\n",
    "print('my_circle.area :', my_circle.area) "
   ]
  },
  {
   "cell_type": "code",
   "execution_count": 170,
   "metadata": {},
   "outputs": [
    {
     "name": "stdout",
     "output_type": "stream",
     "text": [
      "my_circle.radius : 2\n",
      "my_circle.area : 12.566368\n"
     ]
    }
   ],
   "source": [
    "my_circle.radius = 2\n",
    "print('my_circle.radius :', my_circle.radius)\n",
    "print('my_circle.area :', my_circle.area) #perfect"
   ]
  },
  {
   "cell_type": "markdown",
   "metadata": {},
   "source": [
    "### Harder circle example\n",
    "We want the radius and the area to both depend on each other"
   ]
  },
  {
   "cell_type": "code",
   "execution_count": 173,
   "metadata": {},
   "outputs": [],
   "source": [
    "class circle:\n",
    "    pi = 3.141592\n",
    "    def __init__(self, radius):\n",
    "        self.__radius = radius\n",
    "        self.__area = circle.pi*radius**2 #we are making these private for now because we dont want them to be changed directly\n",
    "        \n",
    "    @property\n",
    "    def radius(self):\n",
    "        return self.__radius\n",
    "    \n",
    "    @property\n",
    "    def area(self):\n",
    "        return self.__area\n",
    "    \n",
    "    @radius.setter\n",
    "    def radius(self, value): #this method is used when a user tries to update the radius\n",
    "        if value < 0:\n",
    "            raise ValueError('Radius needs to be greater than zero')\n",
    "        self.__radius = value\n",
    "        self.__area = circle.pi*value**2\n",
    "        \n",
    "    @area.setter\n",
    "    def area(self,value):\n",
    "        if value < 0:\n",
    "            raise ValueError('Area needs to be greater than zero')\n",
    "        self.__area = value\n",
    "        self.__radius = (value/circle.pi)**0.5\n",
    "        \n",
    "        "
   ]
  },
  {
   "cell_type": "code",
   "execution_count": 174,
   "metadata": {},
   "outputs": [
    {
     "name": "stdout",
     "output_type": "stream",
     "text": [
      "my_circle.radius : 1\n",
      "my_circle.area : 3.141592\n"
     ]
    }
   ],
   "source": [
    "my_circle=circle(1)\n",
    "print('my_circle.radius :', my_circle.radius)\n",
    "print('my_circle.area :', my_circle.area) "
   ]
  },
  {
   "cell_type": "code",
   "execution_count": 175,
   "metadata": {},
   "outputs": [
    {
     "name": "stdout",
     "output_type": "stream",
     "text": [
      "my_circle.radius : 2\n",
      "my_circle.area : 12.566368\n"
     ]
    }
   ],
   "source": [
    "my_circle.radius = 2\n",
    "print('my_circle.radius :', my_circle.radius)\n",
    "print('my_circle.area :', my_circle.area) "
   ]
  },
  {
   "cell_type": "code",
   "execution_count": 176,
   "metadata": {},
   "outputs": [
    {
     "name": "stdout",
     "output_type": "stream",
     "text": [
      "my_circle.radius : 1.0\n",
      "my_circle.area : 3.141592\n"
     ]
    }
   ],
   "source": [
    "my_circle.area = circle.pi\n",
    "print('my_circle.radius :', my_circle.radius)\n",
    "print('my_circle.area :', my_circle.area) "
   ]
  },
  {
   "cell_type": "code",
   "execution_count": 177,
   "metadata": {},
   "outputs": [
    {
     "ename": "ValueError",
     "evalue": "Area needs to be greater than zero",
     "output_type": "error",
     "traceback": [
      "\u001b[1;31m---------------------------------------------------------------------------\u001b[0m",
      "\u001b[1;31mValueError\u001b[0m                                Traceback (most recent call last)",
      "\u001b[1;32m<ipython-input-177-525b07e02e99>\u001b[0m in \u001b[0;36m<module>\u001b[1;34m\u001b[0m\n\u001b[1;32m----> 1\u001b[1;33m \u001b[0mmy_circle\u001b[0m\u001b[1;33m.\u001b[0m\u001b[0marea\u001b[0m \u001b[1;33m=\u001b[0m \u001b[1;33m-\u001b[0m\u001b[1;36m2\u001b[0m\u001b[1;33m\u001b[0m\u001b[1;33m\u001b[0m\u001b[0m\n\u001b[0m\u001b[0;32m      2\u001b[0m \u001b[0mprint\u001b[0m\u001b[1;33m(\u001b[0m\u001b[1;34m'my_circle.radius :'\u001b[0m\u001b[1;33m,\u001b[0m \u001b[0mmy_circle\u001b[0m\u001b[1;33m.\u001b[0m\u001b[0mradius\u001b[0m\u001b[1;33m)\u001b[0m\u001b[1;33m\u001b[0m\u001b[1;33m\u001b[0m\u001b[0m\n\u001b[0;32m      3\u001b[0m \u001b[0mprint\u001b[0m\u001b[1;33m(\u001b[0m\u001b[1;34m'my_circle.area :'\u001b[0m\u001b[1;33m,\u001b[0m \u001b[0mmy_circle\u001b[0m\u001b[1;33m.\u001b[0m\u001b[0marea\u001b[0m\u001b[1;33m)\u001b[0m\u001b[1;33m\u001b[0m\u001b[1;33m\u001b[0m\u001b[0m\n",
      "\u001b[1;32m<ipython-input-173-271292ea0f4a>\u001b[0m in \u001b[0;36marea\u001b[1;34m(self, value)\u001b[0m\n\u001b[0;32m     23\u001b[0m     \u001b[1;32mdef\u001b[0m \u001b[0marea\u001b[0m\u001b[1;33m(\u001b[0m\u001b[0mself\u001b[0m\u001b[1;33m,\u001b[0m\u001b[0mvalue\u001b[0m\u001b[1;33m)\u001b[0m\u001b[1;33m:\u001b[0m\u001b[1;33m\u001b[0m\u001b[1;33m\u001b[0m\u001b[0m\n\u001b[0;32m     24\u001b[0m         \u001b[1;32mif\u001b[0m \u001b[0mvalue\u001b[0m \u001b[1;33m<\u001b[0m \u001b[1;36m0\u001b[0m\u001b[1;33m:\u001b[0m\u001b[1;33m\u001b[0m\u001b[1;33m\u001b[0m\u001b[0m\n\u001b[1;32m---> 25\u001b[1;33m             \u001b[1;32mraise\u001b[0m \u001b[0mValueError\u001b[0m\u001b[1;33m(\u001b[0m\u001b[1;34m'Area needs to be greater than zero'\u001b[0m\u001b[1;33m)\u001b[0m\u001b[1;33m\u001b[0m\u001b[1;33m\u001b[0m\u001b[0m\n\u001b[0m\u001b[0;32m     26\u001b[0m         \u001b[0mself\u001b[0m\u001b[1;33m.\u001b[0m\u001b[0m__area\u001b[0m \u001b[1;33m=\u001b[0m \u001b[0mvalue\u001b[0m\u001b[1;33m\u001b[0m\u001b[1;33m\u001b[0m\u001b[0m\n\u001b[0;32m     27\u001b[0m         \u001b[0mself\u001b[0m\u001b[1;33m.\u001b[0m\u001b[0m__radius\u001b[0m \u001b[1;33m=\u001b[0m \u001b[1;33m(\u001b[0m\u001b[0mvalue\u001b[0m\u001b[1;33m/\u001b[0m\u001b[0mcircle\u001b[0m\u001b[1;33m.\u001b[0m\u001b[0mpi\u001b[0m\u001b[1;33m)\u001b[0m\u001b[1;33m**\u001b[0m\u001b[1;36m0.5\u001b[0m\u001b[1;33m\u001b[0m\u001b[1;33m\u001b[0m\u001b[0m\n",
      "\u001b[1;31mValueError\u001b[0m: Area needs to be greater than zero"
     ]
    }
   ],
   "source": [
    "my_circle.area = -2\n",
    "print('my_circle.radius :', my_circle.radius)\n",
    "print('my_circle.area :', my_circle.area) "
   ]
  },
  {
   "cell_type": "code",
   "execution_count": null,
   "metadata": {},
   "outputs": [],
   "source": []
  }
 ],
 "metadata": {
  "kernelspec": {
   "display_name": "Python 3 (ipykernel)",
   "language": "python",
   "name": "python3"
  },
  "language_info": {
   "codemirror_mode": {
    "name": "ipython",
    "version": 3
   },
   "file_extension": ".py",
   "mimetype": "text/x-python",
   "name": "python",
   "nbconvert_exporter": "python",
   "pygments_lexer": "ipython3",
   "version": "3.9.10"
  }
 },
 "nbformat": 4,
 "nbformat_minor": 4
}
